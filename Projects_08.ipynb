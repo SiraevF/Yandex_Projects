{
 "cells": [
  {
   "cell_type": "markdown",
   "metadata": {
    "toc": true
   },
   "source": [
    "<h1>Содержание<span class=\"tocSkip\"></span></h1>\n",
    "<div class=\"toc\"><ul class=\"toc-item\"><li><span><a href=\"#Загрузка-данных\" data-toc-modified-id=\"Загрузка-данных-1\"><span class=\"toc-item-num\">1&nbsp;&nbsp;</span>Загрузка данных</a></span><ul class=\"toc-item\"><li><span><a href=\"#Загрузка-модулей\" data-toc-modified-id=\"Загрузка-модулей-1.1\"><span class=\"toc-item-num\">1.1&nbsp;&nbsp;</span>Загрузка модулей</a></span></li><li><span><a href=\"#Настройки\" data-toc-modified-id=\"Настройки-1.2\"><span class=\"toc-item-num\">1.2&nbsp;&nbsp;</span>Настройки</a></span></li><li><span><a href=\"#Загрузка-данных\" data-toc-modified-id=\"Загрузка-данных-1.3\"><span class=\"toc-item-num\">1.3&nbsp;&nbsp;</span>Загрузка данных</a></span></li><li><span><a href=\"#Вывод-этапа\" data-toc-modified-id=\"Вывод-этапа-1.4\"><span class=\"toc-item-num\">1.4&nbsp;&nbsp;</span>Вывод этапа</a></span></li></ul></li><li><span><a href=\"#Предобработка-данных\" data-toc-modified-id=\"Предобработка-данных-2\"><span class=\"toc-item-num\">2&nbsp;&nbsp;</span>Предобработка данных</a></span><ul class=\"toc-item\"><li><span><a href=\"#Изменение-данных\" data-toc-modified-id=\"Изменение-данных-2.1\"><span class=\"toc-item-num\">2.1&nbsp;&nbsp;</span>Изменение данных</a></span></li><li><span><a href=\"#Изучение-данных\" data-toc-modified-id=\"Изучение-данных-2.2\"><span class=\"toc-item-num\">2.2&nbsp;&nbsp;</span>Изучение данных</a></span></li><li><span><a href=\"#Вывод-этапа\" data-toc-modified-id=\"Вывод-этапа-2.3\"><span class=\"toc-item-num\">2.3&nbsp;&nbsp;</span>Вывод этапа</a></span></li></ul></li><li><span><a href=\"#Умножение-матриц\" data-toc-modified-id=\"Умножение-матриц-3\"><span class=\"toc-item-num\">3&nbsp;&nbsp;</span>Умножение матриц</a></span></li><li><span><a href=\"#Алгоритм-преобразования\" data-toc-modified-id=\"Алгоритм-преобразования-4\"><span class=\"toc-item-num\">4&nbsp;&nbsp;</span>Алгоритм преобразования</a></span></li><li><span><a href=\"#Проверка-алгоритма\" data-toc-modified-id=\"Проверка-алгоритма-5\"><span class=\"toc-item-num\">5&nbsp;&nbsp;</span>Проверка алгоритма</a></span><ul class=\"toc-item\"><li><span><a href=\"#Подготовка-данных\" data-toc-modified-id=\"Подготовка-данных-5.1\"><span class=\"toc-item-num\">5.1&nbsp;&nbsp;</span>Подготовка данных</a></span></li><li><span><a href=\"#Составление-матрицы-$P$,-проверка-на-обратимость-и-преобразование\" data-toc-modified-id=\"Составление-матрицы-$P$,-проверка-на-обратимость-и-преобразование-5.2\"><span class=\"toc-item-num\">5.2&nbsp;&nbsp;</span>Составление матрицы $P$, проверка на обратимость и преобразование</a></span></li><li><span><a href=\"#Обучение-и-проверка-качества\" data-toc-modified-id=\"Обучение-и-проверка-качества-5.3\"><span class=\"toc-item-num\">5.3&nbsp;&nbsp;</span>Обучение и проверка качества</a></span></li><li><span><a href=\"#Вывод-этапа\" data-toc-modified-id=\"Вывод-этапа-5.4\"><span class=\"toc-item-num\">5.4&nbsp;&nbsp;</span>Вывод этапа</a></span></li></ul></li><li><span><a href=\"#Общий-вывод\" data-toc-modified-id=\"Общий-вывод-6\"><span class=\"toc-item-num\">6&nbsp;&nbsp;</span>Общий вывод</a></span></li><li><span><a href=\"#Чек-лист-проверки\" data-toc-modified-id=\"Чек-лист-проверки-7\"><span class=\"toc-item-num\">7&nbsp;&nbsp;</span>Чек-лист проверки</a></span></li></ul></div>"
   ]
  },
  {
   "cell_type": "markdown",
   "metadata": {},
   "source": [
    "# Защита персональных данных клиентов"
   ]
  },
  {
   "cell_type": "markdown",
   "metadata": {},
   "source": [
    "Вам нужно защитить данные клиентов страховой компании «Хоть потоп». Разработайте такой метод преобразования данных, чтобы по ним было сложно восстановить персональную информацию. Обоснуйте корректность его работы.\n",
    "\n",
    "Нужно защитить данные, чтобы при преобразовании качество моделей машинного обучения не ухудшилось. Подбирать наилучшую модель не требуется."
   ]
  },
  {
   "cell_type": "markdown",
   "metadata": {},
   "source": [
    "## Загрузка данных"
   ]
  },
  {
   "cell_type": "markdown",
   "metadata": {},
   "source": [
    "### Загрузка модулей"
   ]
  },
  {
   "cell_type": "code",
   "execution_count": 1,
   "metadata": {},
   "outputs": [],
   "source": [
    "import pandas as pd\n",
    "import matplotlib.pyplot as plt\n",
    "import seaborn as sns\n",
    "import numpy as np\n",
    "import random\n",
    "\n",
    "\n",
    "from sklearn.model_selection import train_test_split\n",
    "from sklearn.linear_model import LinearRegression\n",
    "from sklearn.metrics import r2_score"
   ]
  },
  {
   "cell_type": "markdown",
   "metadata": {},
   "source": [
    "### Настройки"
   ]
  },
  {
   "cell_type": "code",
   "execution_count": 2,
   "metadata": {},
   "outputs": [],
   "source": [
    "RANDOM_STATE = 12345\n",
    "state = np.random.RandomState(RANDOM_STATE)\n",
    "# Цветовая палитра документа\n",
    "cm = 'crest'\n",
    "mec = 'gray'\n",
    "alpha = 0.7\n",
    "fontsize = 20\n",
    "figsize_base = 5\n",
    "\n",
    "def new_color(x='r'):\n",
    "    '''Цвет графиков, по умолчанию случайный из заданной цветовой палитры. Принимает в качестве аргумента число, \\\n",
    "    соответствующее цвету в палитре.'''\n",
    "    if x == 'r':\n",
    "        return list(sns.color_palette(cm, 20)[random.randint(0,19)])\n",
    "    return list(sns.color_palette(cm, 20)[x])\n",
    "# Размеры\n",
    "\n",
    "def figsize(width = 1, height=1):\n",
    "    '''Задание размеров окна отрисовки.'''\n",
    "    return (width*figsize_base, height*figsize_base)\n",
    "\n",
    "# Отрисовка \n",
    "def plot_set(ax,title='',xlabel='',ylabel='',fontsize=fontsize,xrot=True,figsize=figsize()):\n",
    "    '''Функция для отрисовки дополнительных параметров графиков. Подписьи осей и названия, размер шрифта и размер окна, \n",
    "    включение сетки.'''\n",
    "    plt.xticks(rotation=90*int(xrot), fontsize=fontsize)\n",
    "    plt.yticks(fontsize=fontsize)\n",
    "    plt.title(title+'\\n', fontsize=fontsize)\n",
    "    plt.xlabel('\\n'+xlabel, fontsize=fontsize)\n",
    "    plt.ylabel(ylabel+'\\n', fontsize=fontsize)\n",
    "    plt.grid(True)\n",
    "    None\n",
    "    \n",
    "def mean_percent(x):\n",
    "    '''Функция для форматирования значений. Округление до сотых и знак процента.'''\n",
    "    try:\n",
    "        return \"{0:.2%}\".format(x)\n",
    "    except:\n",
    "        return x"
   ]
  },
  {
   "cell_type": "markdown",
   "metadata": {},
   "source": [
    "### Загрузка данных"
   ]
  },
  {
   "cell_type": "code",
   "execution_count": 3,
   "metadata": {},
   "outputs": [],
   "source": [
    "df = pd.read_csv('insurance.csv')"
   ]
  },
  {
   "cell_type": "code",
   "execution_count": 4,
   "metadata": {
    "scrolled": true
   },
   "outputs": [
    {
     "data": {
      "text/html": [
       "<div>\n",
       "<style scoped>\n",
       "    .dataframe tbody tr th:only-of-type {\n",
       "        vertical-align: middle;\n",
       "    }\n",
       "\n",
       "    .dataframe tbody tr th {\n",
       "        vertical-align: top;\n",
       "    }\n",
       "\n",
       "    .dataframe thead th {\n",
       "        text-align: right;\n",
       "    }\n",
       "</style>\n",
       "<table border=\"1\" class=\"dataframe\">\n",
       "  <thead>\n",
       "    <tr style=\"text-align: right;\">\n",
       "      <th></th>\n",
       "      <th>Пол</th>\n",
       "      <th>Возраст</th>\n",
       "      <th>Зарплата</th>\n",
       "      <th>Члены семьи</th>\n",
       "      <th>Страховые выплаты</th>\n",
       "    </tr>\n",
       "  </thead>\n",
       "  <tbody>\n",
       "    <tr>\n",
       "      <th>0</th>\n",
       "      <td>1</td>\n",
       "      <td>41.0</td>\n",
       "      <td>49600.0</td>\n",
       "      <td>1</td>\n",
       "      <td>0</td>\n",
       "    </tr>\n",
       "    <tr>\n",
       "      <th>1</th>\n",
       "      <td>0</td>\n",
       "      <td>46.0</td>\n",
       "      <td>38000.0</td>\n",
       "      <td>1</td>\n",
       "      <td>1</td>\n",
       "    </tr>\n",
       "    <tr>\n",
       "      <th>2</th>\n",
       "      <td>0</td>\n",
       "      <td>29.0</td>\n",
       "      <td>21000.0</td>\n",
       "      <td>0</td>\n",
       "      <td>0</td>\n",
       "    </tr>\n",
       "    <tr>\n",
       "      <th>3</th>\n",
       "      <td>0</td>\n",
       "      <td>21.0</td>\n",
       "      <td>41700.0</td>\n",
       "      <td>2</td>\n",
       "      <td>0</td>\n",
       "    </tr>\n",
       "    <tr>\n",
       "      <th>4</th>\n",
       "      <td>1</td>\n",
       "      <td>28.0</td>\n",
       "      <td>26100.0</td>\n",
       "      <td>0</td>\n",
       "      <td>0</td>\n",
       "    </tr>\n",
       "    <tr>\n",
       "      <th>5</th>\n",
       "      <td>1</td>\n",
       "      <td>43.0</td>\n",
       "      <td>41000.0</td>\n",
       "      <td>2</td>\n",
       "      <td>1</td>\n",
       "    </tr>\n",
       "    <tr>\n",
       "      <th>6</th>\n",
       "      <td>1</td>\n",
       "      <td>39.0</td>\n",
       "      <td>39700.0</td>\n",
       "      <td>2</td>\n",
       "      <td>0</td>\n",
       "    </tr>\n",
       "    <tr>\n",
       "      <th>7</th>\n",
       "      <td>1</td>\n",
       "      <td>25.0</td>\n",
       "      <td>38600.0</td>\n",
       "      <td>4</td>\n",
       "      <td>0</td>\n",
       "    </tr>\n",
       "    <tr>\n",
       "      <th>8</th>\n",
       "      <td>1</td>\n",
       "      <td>36.0</td>\n",
       "      <td>49700.0</td>\n",
       "      <td>1</td>\n",
       "      <td>0</td>\n",
       "    </tr>\n",
       "    <tr>\n",
       "      <th>9</th>\n",
       "      <td>1</td>\n",
       "      <td>32.0</td>\n",
       "      <td>51700.0</td>\n",
       "      <td>1</td>\n",
       "      <td>0</td>\n",
       "    </tr>\n",
       "    <tr>\n",
       "      <th>10</th>\n",
       "      <td>1</td>\n",
       "      <td>25.0</td>\n",
       "      <td>36600.0</td>\n",
       "      <td>1</td>\n",
       "      <td>0</td>\n",
       "    </tr>\n",
       "    <tr>\n",
       "      <th>11</th>\n",
       "      <td>1</td>\n",
       "      <td>38.0</td>\n",
       "      <td>29300.0</td>\n",
       "      <td>0</td>\n",
       "      <td>0</td>\n",
       "    </tr>\n",
       "    <tr>\n",
       "      <th>12</th>\n",
       "      <td>0</td>\n",
       "      <td>23.0</td>\n",
       "      <td>39500.0</td>\n",
       "      <td>3</td>\n",
       "      <td>0</td>\n",
       "    </tr>\n",
       "    <tr>\n",
       "      <th>13</th>\n",
       "      <td>0</td>\n",
       "      <td>21.0</td>\n",
       "      <td>55000.0</td>\n",
       "      <td>0</td>\n",
       "      <td>0</td>\n",
       "    </tr>\n",
       "    <tr>\n",
       "      <th>14</th>\n",
       "      <td>0</td>\n",
       "      <td>40.0</td>\n",
       "      <td>43700.0</td>\n",
       "      <td>1</td>\n",
       "      <td>0</td>\n",
       "    </tr>\n",
       "    <tr>\n",
       "      <th>15</th>\n",
       "      <td>1</td>\n",
       "      <td>34.0</td>\n",
       "      <td>23300.0</td>\n",
       "      <td>0</td>\n",
       "      <td>0</td>\n",
       "    </tr>\n",
       "    <tr>\n",
       "      <th>16</th>\n",
       "      <td>1</td>\n",
       "      <td>26.0</td>\n",
       "      <td>48900.0</td>\n",
       "      <td>2</td>\n",
       "      <td>0</td>\n",
       "    </tr>\n",
       "    <tr>\n",
       "      <th>17</th>\n",
       "      <td>1</td>\n",
       "      <td>41.0</td>\n",
       "      <td>33200.0</td>\n",
       "      <td>2</td>\n",
       "      <td>0</td>\n",
       "    </tr>\n",
       "    <tr>\n",
       "      <th>18</th>\n",
       "      <td>1</td>\n",
       "      <td>42.0</td>\n",
       "      <td>49700.0</td>\n",
       "      <td>0</td>\n",
       "      <td>1</td>\n",
       "    </tr>\n",
       "    <tr>\n",
       "      <th>19</th>\n",
       "      <td>1</td>\n",
       "      <td>27.0</td>\n",
       "      <td>36900.0</td>\n",
       "      <td>0</td>\n",
       "      <td>0</td>\n",
       "    </tr>\n",
       "    <tr>\n",
       "      <th>20</th>\n",
       "      <td>1</td>\n",
       "      <td>38.0</td>\n",
       "      <td>43500.0</td>\n",
       "      <td>1</td>\n",
       "      <td>0</td>\n",
       "    </tr>\n",
       "    <tr>\n",
       "      <th>21</th>\n",
       "      <td>1</td>\n",
       "      <td>36.0</td>\n",
       "      <td>36100.0</td>\n",
       "      <td>1</td>\n",
       "      <td>0</td>\n",
       "    </tr>\n",
       "    <tr>\n",
       "      <th>22</th>\n",
       "      <td>0</td>\n",
       "      <td>41.0</td>\n",
       "      <td>26600.0</td>\n",
       "      <td>0</td>\n",
       "      <td>0</td>\n",
       "    </tr>\n",
       "    <tr>\n",
       "      <th>23</th>\n",
       "      <td>0</td>\n",
       "      <td>33.0</td>\n",
       "      <td>48700.0</td>\n",
       "      <td>2</td>\n",
       "      <td>0</td>\n",
       "    </tr>\n",
       "    <tr>\n",
       "      <th>24</th>\n",
       "      <td>0</td>\n",
       "      <td>21.0</td>\n",
       "      <td>40400.0</td>\n",
       "      <td>3</td>\n",
       "      <td>0</td>\n",
       "    </tr>\n",
       "  </tbody>\n",
       "</table>\n",
       "</div>"
      ],
      "text/plain": [
       "    Пол  Возраст  Зарплата  Члены семьи  Страховые выплаты\n",
       "0     1     41.0   49600.0            1                  0\n",
       "1     0     46.0   38000.0            1                  1\n",
       "2     0     29.0   21000.0            0                  0\n",
       "3     0     21.0   41700.0            2                  0\n",
       "4     1     28.0   26100.0            0                  0\n",
       "5     1     43.0   41000.0            2                  1\n",
       "6     1     39.0   39700.0            2                  0\n",
       "7     1     25.0   38600.0            4                  0\n",
       "8     1     36.0   49700.0            1                  0\n",
       "9     1     32.0   51700.0            1                  0\n",
       "10    1     25.0   36600.0            1                  0\n",
       "11    1     38.0   29300.0            0                  0\n",
       "12    0     23.0   39500.0            3                  0\n",
       "13    0     21.0   55000.0            0                  0\n",
       "14    0     40.0   43700.0            1                  0\n",
       "15    1     34.0   23300.0            0                  0\n",
       "16    1     26.0   48900.0            2                  0\n",
       "17    1     41.0   33200.0            2                  0\n",
       "18    1     42.0   49700.0            0                  1\n",
       "19    1     27.0   36900.0            0                  0\n",
       "20    1     38.0   43500.0            1                  0\n",
       "21    1     36.0   36100.0            1                  0\n",
       "22    0     41.0   26600.0            0                  0\n",
       "23    0     33.0   48700.0            2                  0\n",
       "24    0     21.0   40400.0            3                  0"
      ]
     },
     "execution_count": 4,
     "metadata": {},
     "output_type": "execute_result"
    }
   ],
   "source": [
    "df.head(25)"
   ]
  },
  {
   "cell_type": "code",
   "execution_count": 5,
   "metadata": {
    "scrolled": true
   },
   "outputs": [
    {
     "name": "stdout",
     "output_type": "stream",
     "text": [
      "<class 'pandas.core.frame.DataFrame'>\n",
      "RangeIndex: 5000 entries, 0 to 4999\n",
      "Data columns (total 5 columns):\n",
      " #   Column             Non-Null Count  Dtype  \n",
      "---  ------             --------------  -----  \n",
      " 0   Пол                5000 non-null   int64  \n",
      " 1   Возраст            5000 non-null   float64\n",
      " 2   Зарплата           5000 non-null   float64\n",
      " 3   Члены семьи        5000 non-null   int64  \n",
      " 4   Страховые выплаты  5000 non-null   int64  \n",
      "dtypes: float64(2), int64(3)\n",
      "memory usage: 195.4 KB\n"
     ]
    }
   ],
   "source": [
    "df.info()"
   ]
  },
  {
   "cell_type": "code",
   "execution_count": 6,
   "metadata": {},
   "outputs": [
    {
     "data": {
      "text/html": [
       "<div>\n",
       "<style scoped>\n",
       "    .dataframe tbody tr th:only-of-type {\n",
       "        vertical-align: middle;\n",
       "    }\n",
       "\n",
       "    .dataframe tbody tr th {\n",
       "        vertical-align: top;\n",
       "    }\n",
       "\n",
       "    .dataframe thead th {\n",
       "        text-align: right;\n",
       "    }\n",
       "</style>\n",
       "<table border=\"1\" class=\"dataframe\">\n",
       "  <thead>\n",
       "    <tr style=\"text-align: right;\">\n",
       "      <th></th>\n",
       "      <th>Пол</th>\n",
       "      <th>Возраст</th>\n",
       "      <th>Зарплата</th>\n",
       "      <th>Члены семьи</th>\n",
       "      <th>Страховые выплаты</th>\n",
       "    </tr>\n",
       "  </thead>\n",
       "  <tbody>\n",
       "    <tr>\n",
       "      <th>count</th>\n",
       "      <td>5000.000000</td>\n",
       "      <td>5000.000000</td>\n",
       "      <td>5000.000000</td>\n",
       "      <td>5000.000000</td>\n",
       "      <td>5000.000000</td>\n",
       "    </tr>\n",
       "    <tr>\n",
       "      <th>mean</th>\n",
       "      <td>0.499000</td>\n",
       "      <td>30.952800</td>\n",
       "      <td>39916.360000</td>\n",
       "      <td>1.194200</td>\n",
       "      <td>0.148000</td>\n",
       "    </tr>\n",
       "    <tr>\n",
       "      <th>std</th>\n",
       "      <td>0.500049</td>\n",
       "      <td>8.440807</td>\n",
       "      <td>9900.083569</td>\n",
       "      <td>1.091387</td>\n",
       "      <td>0.463183</td>\n",
       "    </tr>\n",
       "    <tr>\n",
       "      <th>min</th>\n",
       "      <td>0.000000</td>\n",
       "      <td>18.000000</td>\n",
       "      <td>5300.000000</td>\n",
       "      <td>0.000000</td>\n",
       "      <td>0.000000</td>\n",
       "    </tr>\n",
       "    <tr>\n",
       "      <th>25%</th>\n",
       "      <td>0.000000</td>\n",
       "      <td>24.000000</td>\n",
       "      <td>33300.000000</td>\n",
       "      <td>0.000000</td>\n",
       "      <td>0.000000</td>\n",
       "    </tr>\n",
       "    <tr>\n",
       "      <th>50%</th>\n",
       "      <td>0.000000</td>\n",
       "      <td>30.000000</td>\n",
       "      <td>40200.000000</td>\n",
       "      <td>1.000000</td>\n",
       "      <td>0.000000</td>\n",
       "    </tr>\n",
       "    <tr>\n",
       "      <th>75%</th>\n",
       "      <td>1.000000</td>\n",
       "      <td>37.000000</td>\n",
       "      <td>46600.000000</td>\n",
       "      <td>2.000000</td>\n",
       "      <td>0.000000</td>\n",
       "    </tr>\n",
       "    <tr>\n",
       "      <th>max</th>\n",
       "      <td>1.000000</td>\n",
       "      <td>65.000000</td>\n",
       "      <td>79000.000000</td>\n",
       "      <td>6.000000</td>\n",
       "      <td>5.000000</td>\n",
       "    </tr>\n",
       "  </tbody>\n",
       "</table>\n",
       "</div>"
      ],
      "text/plain": [
       "               Пол      Возраст      Зарплата  Члены семьи  Страховые выплаты\n",
       "count  5000.000000  5000.000000   5000.000000  5000.000000        5000.000000\n",
       "mean      0.499000    30.952800  39916.360000     1.194200           0.148000\n",
       "std       0.500049     8.440807   9900.083569     1.091387           0.463183\n",
       "min       0.000000    18.000000   5300.000000     0.000000           0.000000\n",
       "25%       0.000000    24.000000  33300.000000     0.000000           0.000000\n",
       "50%       0.000000    30.000000  40200.000000     1.000000           0.000000\n",
       "75%       1.000000    37.000000  46600.000000     2.000000           0.000000\n",
       "max       1.000000    65.000000  79000.000000     6.000000           5.000000"
      ]
     },
     "execution_count": 6,
     "metadata": {},
     "output_type": "execute_result"
    }
   ],
   "source": [
    "df.describe()"
   ]
  },
  {
   "cell_type": "code",
   "execution_count": 7,
   "metadata": {},
   "outputs": [
    {
     "data": {
      "text/plain": [
       "Пол                  0.00%\n",
       "Возраст              0.00%\n",
       "Зарплата             0.00%\n",
       "Члены семьи          0.00%\n",
       "Страховые выплаты    0.00%\n",
       "dtype: object"
      ]
     },
     "execution_count": 7,
     "metadata": {},
     "output_type": "execute_result"
    }
   ],
   "source": [
    "df.isna().mean().sort_values().apply(mean_percent)"
   ]
  },
  {
   "cell_type": "code",
   "execution_count": 8,
   "metadata": {},
   "outputs": [
    {
     "data": {
      "text/plain": [
       "153"
      ]
     },
     "execution_count": 8,
     "metadata": {},
     "output_type": "execute_result"
    }
   ],
   "source": [
    "df.duplicated().sum()"
   ]
  },
  {
   "cell_type": "markdown",
   "metadata": {},
   "source": [
    "### Вывод этапа"
   ]
  },
  {
   "cell_type": "markdown",
   "metadata": {},
   "source": [
    "Изучен датафрейм `insurance.csv`:\n",
    "- 5 столбцов:\n",
    "    - `Пол`\n",
    "    - `Возраст`\n",
    "    - `Зарплата`\n",
    "    - `Члены семьи`\n",
    "    - `Страховые выплаты`\n",
    "- 5 000 строк\n",
    "- Пропусков нет \n",
    "- 153 дубликата\n",
    "- Типы столбцов `Возраст` и `Зарплата`необходимо поменять на `int`."
   ]
  },
  {
   "cell_type": "markdown",
   "metadata": {},
   "source": [
    "## Предобработка данных"
   ]
  },
  {
   "cell_type": "markdown",
   "metadata": {},
   "source": [
    "### Изменение данных"
   ]
  },
  {
   "cell_type": "markdown",
   "metadata": {},
   "source": [
    "Удалим дубликаты"
   ]
  },
  {
   "cell_type": "code",
   "execution_count": 9,
   "metadata": {},
   "outputs": [],
   "source": [
    "df = df.drop_duplicates()"
   ]
  },
  {
   "cell_type": "markdown",
   "metadata": {},
   "source": [
    "Изменим типы данных"
   ]
  },
  {
   "cell_type": "code",
   "execution_count": 10,
   "metadata": {},
   "outputs": [],
   "source": [
    "df = df.astype('int')"
   ]
  },
  {
   "cell_type": "markdown",
   "metadata": {},
   "source": [
    "### Изучение данных"
   ]
  },
  {
   "cell_type": "markdown",
   "metadata": {},
   "source": [
    "Рассмотрим распределение зарплат и возрастов."
   ]
  },
  {
   "cell_type": "code",
   "execution_count": 11,
   "metadata": {},
   "outputs": [
    {
     "data": {
      "image/png": "[encoded data removed]",
      "text/plain": [
       "<Figure size 1000x500 with 2 Axes>"
      ]
     },
     "metadata": {},
     "output_type": "display_data"
    }
   ],
   "source": [
    "plt.figure(figsize=figsize(2))\n",
    "plt.subplot(1,2,1)\n",
    "sns.boxplot(df['Зарплата'],notch=True,color = new_color())\n",
    "plt.title('График распределения зарплат')\n",
    "plt.grid(True)\n",
    "plt.subplot(1,2,2)\n",
    "sns.boxplot(df['Возраст'],notch=True,color = new_color())\n",
    "plt.title('График распределения возрастов')\n",
    "plt.grid(True)\n",
    "None"
   ]
  },
  {
   "cell_type": "markdown",
   "metadata": {},
   "source": [
    "Наблюдаются выбросы в распределении зарплат: есть слишком малые и слишко высокие.\n",
    "Наблюдаются выбросы в распределении возрастов: есть слишком возрастные."
   ]
  },
  {
   "cell_type": "code",
   "execution_count": 12,
   "metadata": {},
   "outputs": [
    {
     "data": {
      "image/png": "[encoded data removed]",
      "text/plain": [
       "<Figure size 1000x500 with 2 Axes>"
      ]
     },
     "metadata": {},
     "output_type": "display_data"
    }
   ],
   "source": [
    "plt.figure(figsize=figsize(2))\n",
    "plt.subplot(1,2,1)\n",
    "ax = sns.histplot(df['Зарплата']/1000,color=new_color(),alpha=alpha)\n",
    "plot_set(ax,title='Распределение по зарплатам', xlabel='Зарплата, тыс.',ylabel='Количество',xrot=False)\n",
    "plt.subplot(1,2,2)\n",
    "ax = sns.histplot(df['Возраст'],color=new_color(),alpha=alpha)\n",
    "plot_set(ax,title='Распределение по возрастам', xlabel='Возраст',xrot=False)"
   ]
  },
  {
   "cell_type": "markdown",
   "metadata": {},
   "source": [
    "Распределение по зарплатам близко к нормальному.\n",
    "В распределении по возрастам наблюдается особенность: сильное различие между соседними значениями. Скорее всего связано с особенностями измерения или округления."
   ]
  },
  {
   "cell_type": "code",
   "execution_count": 13,
   "metadata": {},
   "outputs": [
    {
     "data": {
      "image/png": "[encoded data removed]",
      "text/plain": [
       "<Figure size 500x500 with 1 Axes>"
      ]
     },
     "metadata": {},
     "output_type": "display_data"
    }
   ],
   "source": [
    "df['Пол'].value_counts().plot(\n",
    "    kind = 'pie',\n",
    "    autopct = '%1.0f%%',\n",
    "    figsize=figsize(), \n",
    "    title = 'Распределение пользователей по полу',\n",
    "    colors=[new_color(3),new_color(13)],explode = (0.05,0), shadow=True);\n",
    "plt.ylabel('')\n",
    "None"
   ]
  },
  {
   "cell_type": "markdown",
   "metadata": {},
   "source": [
    "Оба пола представлены в равной мере."
   ]
  },
  {
   "cell_type": "code",
   "execution_count": 14,
   "metadata": {},
   "outputs": [
    {
     "data": {
      "image/png": "[encoded data removed]",
      "text/plain": [
       "<Figure size 500x500 with 1 Axes>"
      ]
     },
     "metadata": {},
     "output_type": "display_data"
    }
   ],
   "source": [
    "plt.figure(figsize=figsize())\n",
    "ax = sns.histplot(df['Члены семьи'],color=new_color(),alpha=alpha)\n",
    "plot_set(ax,title='Распределение по количеству членов семьи', xlabel='Число членов семьи',ylabel='Количество',xrot=False)"
   ]
  },
  {
   "cell_type": "markdown",
   "metadata": {},
   "source": [
    "Распределение количества членов семьи (судя по всему без учёта самого клиента) говорит о том что большенство клиентов либо с 1-2 членами семьи, либо одиноки. 3-6 встречаются редко, более - не представлены. "
   ]
  },
  {
   "cell_type": "code",
   "execution_count": 15,
   "metadata": {},
   "outputs": [
    {
     "data": {
      "image/png": "[encoded data removed]",
      "text/plain": [
       "<Figure size 500x500 with 1 Axes>"
      ]
     },
     "metadata": {},
     "output_type": "display_data"
    }
   ],
   "source": [
    "plt.figure(figsize=figsize())\n",
    "ax = sns.histplot(df['Страховые выплаты'],color=new_color(),alpha=alpha)\n",
    "plot_set(ax,title='Распределение по количеству страховых выплат', xlabel='Число выплат',ylabel='Количество',xrot=False)"
   ]
  },
  {
   "cell_type": "markdown",
   "metadata": {},
   "source": [
    "Большиноство клиентов не получало страховые выплаты. "
   ]
  },
  {
   "cell_type": "code",
   "execution_count": 16,
   "metadata": {},
   "outputs": [
    {
     "data": {
      "image/png": "[encoded data removed]",
      "text/plain": [
       "<Figure size 500x500 with 2 Axes>"
      ]
     },
     "metadata": {},
     "output_type": "display_data"
    }
   ],
   "source": [
    "plt.figure(figsize=figsize())\n",
    "sns.heatmap(df.corr(), annot=True, cmap=cm, fmt='.2f')\n",
    "None"
   ]
  },
  {
   "cell_type": "markdown",
   "metadata": {},
   "source": [
    "Наблюдаются корреляция страховых выплат только с возрастом."
   ]
  },
  {
   "cell_type": "markdown",
   "metadata": {},
   "source": [
    "### Вывод этапа"
   ]
  },
  {
   "cell_type": "markdown",
   "metadata": {},
   "source": [
    "- Проведена предобработка данных:\n",
    "    - Удалены дубликаты\n",
    "    - Изменены типы данных\n",
    "- Исследованы данные:\n",
    "    - Наблюдаются выбросы в распределении зарплат: есть слишком малые и слишко высокие. \n",
    "    - Наблюдаются выбросы в распределении возрастов: есть слишком возрастные.\n",
    "    - Распределение по зарплатам близко к нормальному. \n",
    "    - В распределении по возрастам наблюдается особенность: сильное различие между соседними значениями. Скорее всего связано с особенностями измерения или округления.\n",
    "    - Распределение количества членов семьи (судя по всему без учёта самого клиента) говорит о том что большенство клиентов либо с 1-2 членами семьи, либо одиноки. 3-6 встречаются редко, более - не представлены.\n",
    "    - Оба пола представлены в равной мере\n",
    "    - Большиноство клиентов не получало страховые выплаты. \n",
    "    - Наблюдаются корреляция страховых выплат только с возрастом."
   ]
  },
  {
   "cell_type": "markdown",
   "metadata": {},
   "source": [
    "## Умножение матриц"
   ]
  },
  {
   "cell_type": "markdown",
   "metadata": {},
   "source": [
    "Обозначения:\n",
    "\n",
    "- $X$ — матрица признаков (нулевой столбец состоит из единиц)\n",
    "\n",
    "- $y$ — вектор целевого признака\n",
    "\n",
    "- $P$ — матрица, на которую умножаются признаки\n",
    "\n",
    "- $w$ — вектор весов линейной регрессии (нулевой элемент равен сдвигу)"
   ]
  },
  {
   "cell_type": "markdown",
   "metadata": {},
   "source": [
    "Предсказания:\n",
    "\n",
    "$$\n",
    "a = Xw\n",
    "$$\n",
    "\n",
    "Задача обучения:\n",
    "\n",
    "$$\n",
    "w = \\arg\\min_w \\text{MSE}(Xw, y)\n",
    "$$\n",
    "\n",
    "Формула обучения:\n",
    "\n",
    "$$\n",
    "w = (X^T X)^{-1} X^T y\n",
    "$$"
   ]
  },
  {
   "cell_type": "markdown",
   "metadata": {},
   "source": [
    "**Вопрос:** Признаки умножают на обратимую матрицу. Изменится ли качество линейной регрессии?\n",
    "\n",
    "**Ответ:** Не изменится\n",
    "\n",
    "**Обоснование:** \n",
    "\n",
    "Пусть $X' = X P$ - преобразованная матрица признаков. Тогда новое предсказание \n",
    "\n",
    "$$a' = X' w',$$ \n",
    "\n",
    "где $w'$ новый вектор весов линейной регрессии. $w'$ можно найти как:\n",
    "\n",
    "$$\n",
    "w' = (X'^T X')^{-1} X'^T y = ((XP)^T XP)^{-1} (XP)^T y \n",
    "$$\n",
    "\n",
    "Воспользуемся свойством\n",
    "$$\n",
    "(XP)^T= P^T X^T.\n",
    "$$\n",
    " \n",
    "Тогда:\n",
    "$$\n",
    "w' = (P^T X^T X P)^{-1} P^T X^T y \n",
    "$$\n",
    "\n",
    "Далее воспользуемся тем, что для квадратных матриц $(A B)^{-1} = B^{-1} A^{-1}$. Тогда:\n",
    "\n",
    "$$\n",
    "w' = P^{-1} (X^T X)^{-1} (P^T)^{-1} P^T X^T y. \n",
    "$$\n",
    "\n",
    "Так как $(P^T)^{-1} P^T = \\hat{1}$ - единичная матрица.\n",
    "\n",
    "$$\n",
    "w' = P^{-1} (X^T X)^{-1} X^T y. \n",
    "$$\n",
    "\n",
    "Вспомнив, что\n",
    "$$\n",
    "w = (X^T X)^{-1} X^T y. \n",
    "$$\n",
    "\n",
    "Сравнивая $w$ и $w'$.\n",
    "\n",
    "$$\n",
    "w' = P^{-1} w\n",
    "$$\n",
    "\n",
    "Вернёмся к  $a' = X' w'$:\n",
    "\n",
    "$$\n",
    "a' = XPP^{-1} (X^T X)^{-1} X^T y = X (X^T X)^{-1} X^T y\n",
    "$$\n",
    "\n",
    "В то же время, для непреобразованных $a$:\n",
    "\n",
    "$$\n",
    "a = Xw = X (X^T X)^{-1} X^T y\n",
    "$$\n",
    "\n",
    "Сравнивая $a$ и $a'$:\n",
    "\n",
    "$$\n",
    "a = a'\n",
    "$$\n",
    "\n",
    "Таким образом, предсказания модели не меняются, соответственно и качество линейной регрессии не изменяется.\n",
    "\n",
    "Связь параметров линейной регрессии в преобразованной и в исходной задаче:\n",
    "\n",
    "$$\n",
    "w' = P^{-1} w\n",
    "$$"
   ]
  },
  {
   "cell_type": "markdown",
   "metadata": {},
   "source": [
    "## Алгоритм преобразования"
   ]
  },
  {
   "cell_type": "markdown",
   "metadata": {},
   "source": [
    "**Алгоритм**\n",
    "\n",
    "Для защиты информации на этапе поиска коэффициентов регрессии и предсказаний регрессии будем умножать матрицу признаков на обратимую матрицу $P$\n",
    ", которая будет генерироваться случайным образом.\n",
    "\n",
    "Этапы алгоритма:\n",
    "\n",
    "- Составление матрицы $P$.\n",
    "\n",
    "- Проверка матрицы на обратимость. Вычисление детерминанта матрицы $ P $. В случае нулевого детерминанта генерировать матрицы, пока определитель будет ненулевым.\n",
    "\n",
    "- Получение матрицы преобразованных признаков $X'=XP$.\n",
    "\n",
    "- Обучение модели на преобразованных признаках $X'$."
   ]
  },
  {
   "cell_type": "markdown",
   "metadata": {},
   "source": [
    "**Обоснование**\n",
    "\n",
    "- Матрица $P$ должна иметь размерность $n \\times n $, где $n$ - количество признаков для регрессии. \n",
    "\n",
    "- Матрица $P$ должна быть обратимой. Обратная матрица $P^{-1}$ существует только для невырожденных матриц ($\\det{P}\\ne0$).\n",
    "\n",
    "- В результате умножения матрицы $X$ на квадратную матрицу $P$ получится матрица $X'$ той же размерности, что и исходная $X$ \n",
    "\n",
    "- В результате обучения модели на новых признаках, качество предсказаний не изменится. Это было доказано выше."
   ]
  },
  {
   "cell_type": "markdown",
   "metadata": {},
   "source": [
    "## Проверка алгоритма"
   ]
  },
  {
   "cell_type": "markdown",
   "metadata": {},
   "source": [
    "### Подготовка данных"
   ]
  },
  {
   "cell_type": "markdown",
   "metadata": {},
   "source": [
    "Выделим целевой признак:"
   ]
  },
  {
   "cell_type": "code",
   "execution_count": 17,
   "metadata": {},
   "outputs": [],
   "source": [
    "features = df.drop('Страховые выплаты',axis=1)\n",
    "target = df['Страховые выплаты']"
   ]
  },
  {
   "cell_type": "markdown",
   "metadata": {},
   "source": [
    "Разделим выбоку на обучающую и тестовую:"
   ]
  },
  {
   "cell_type": "code",
   "execution_count": 18,
   "metadata": {},
   "outputs": [],
   "source": [
    "features_train, features_test, target_train, target_test = train_test_split(\n",
    "    features, target, test_size=0.25, random_state=RANDOM_STATE)"
   ]
  },
  {
   "cell_type": "markdown",
   "metadata": {},
   "source": [
    "### Составление матрицы $P$, проверка на обратимость и преобразование"
   ]
  },
  {
   "cell_type": "markdown",
   "metadata": {},
   "source": [
    "Составим случайную квадратную матрицу $P$ размерности числа признаков. Матрица заполнена случайными числами, выбранными из одномерного нормального распределения со средним значением 0 и дисперсией 1."
   ]
  },
  {
   "cell_type": "code",
   "execution_count": 19,
   "metadata": {},
   "outputs": [],
   "source": [
    "P = np.random.randn(features_train.shape[1],features_train.shape[1])"
   ]
  },
  {
   "cell_type": "markdown",
   "metadata": {},
   "source": [
    "Проверим матрицу на вырожденность:"
   ]
  },
  {
   "cell_type": "code",
   "execution_count": 20,
   "metadata": {},
   "outputs": [
    {
     "name": "stdout",
     "output_type": "stream",
     "text": [
      "\n",
      "Матрица не вырождена\n"
     ]
    }
   ],
   "source": [
    "while np.linalg.det(P) == 0:\n",
    "    P = np.random.randn(features_train.shape[1],features_train.shape[1])\n",
    "    print('\\nМатрица вырождена, новая генерация')\n",
    "print('\\nМатрица не вырождена')\n",
    "    "
   ]
  },
  {
   "cell_type": "markdown",
   "metadata": {},
   "source": [
    "Преобразуем матрицу признаков путём умножения на матрицу $P$:"
   ]
  },
  {
   "cell_type": "code",
   "execution_count": 21,
   "metadata": {},
   "outputs": [],
   "source": [
    "features_train_encrypted = features_train @ P\n",
    "features_test_encrypted = features_test @ P"
   ]
  },
  {
   "cell_type": "markdown",
   "metadata": {},
   "source": [
    "### Обучение и проверка качества"
   ]
  },
  {
   "cell_type": "markdown",
   "metadata": {},
   "source": [
    "Обучим модель на исходных признаках:"
   ]
  },
  {
   "cell_type": "code",
   "execution_count": 22,
   "metadata": {},
   "outputs": [],
   "source": [
    "model = LinearRegression()\n",
    "model.fit(features_train, target_train)\n",
    "predict_test = model.predict(features_test)"
   ]
  },
  {
   "cell_type": "markdown",
   "metadata": {},
   "source": [
    "Получим вектор коэффициентов:"
   ]
  },
  {
   "cell_type": "code",
   "execution_count": 23,
   "metadata": {},
   "outputs": [
    {
     "data": {
      "text/plain": [
       "-0.9767095463754674"
      ]
     },
     "execution_count": 23,
     "metadata": {},
     "output_type": "execute_result"
    }
   ],
   "source": [
    "model.intercept_"
   ]
  },
  {
   "cell_type": "code",
   "execution_count": 24,
   "metadata": {},
   "outputs": [
    {
     "data": {
      "text/plain": [
       "array([ 1.45766006e-02,  3.64782925e-02,  1.79476487e-07, -1.23345017e-02])"
      ]
     },
     "execution_count": 24,
     "metadata": {},
     "output_type": "execute_result"
    }
   ],
   "source": [
    "w = model.coef_\n",
    "w"
   ]
  },
  {
   "cell_type": "markdown",
   "metadata": {},
   "source": [
    "Оценим качество исходной модели:"
   ]
  },
  {
   "cell_type": "code",
   "execution_count": 25,
   "metadata": {},
   "outputs": [
    {
     "data": {
      "text/plain": [
       "0.4230772761583639"
      ]
     },
     "execution_count": 25,
     "metadata": {},
     "output_type": "execute_result"
    }
   ],
   "source": [
    "R2 = r2_score(target_test, predict_test)\n",
    "R2"
   ]
  },
  {
   "cell_type": "markdown",
   "metadata": {},
   "source": [
    "Обучим модель на преобразованных признаках:"
   ]
  },
  {
   "cell_type": "code",
   "execution_count": 26,
   "metadata": {},
   "outputs": [],
   "source": [
    "model_encrypted = LinearRegression()\n",
    "model_encrypted.fit(features_train_encrypted, target_train)\n",
    "predict_test_encrypted = model_encrypted.predict(features_test_encrypted)"
   ]
  },
  {
   "cell_type": "markdown",
   "metadata": {},
   "source": [
    "Получм новый вектор коэффициентов:"
   ]
  },
  {
   "cell_type": "code",
   "execution_count": 27,
   "metadata": {},
   "outputs": [
    {
     "data": {
      "text/plain": [
       "-0.9767095463774462"
      ]
     },
     "execution_count": 27,
     "metadata": {},
     "output_type": "execute_result"
    }
   ],
   "source": [
    "model_encrypted.intercept_"
   ]
  },
  {
   "cell_type": "code",
   "execution_count": 28,
   "metadata": {},
   "outputs": [
    {
     "data": {
      "text/plain": [
       "array([ 0.0236586 , -0.00880276, -0.00359845, -0.0293828 ])"
      ]
     },
     "execution_count": 28,
     "metadata": {},
     "output_type": "execute_result"
    }
   ],
   "source": [
    "w_encrypted = model_encrypted.coef_\n",
    "w_encrypted"
   ]
  },
  {
   "cell_type": "markdown",
   "metadata": {},
   "source": [
    "Оценим качество новой модели:"
   ]
  },
  {
   "cell_type": "code",
   "execution_count": 29,
   "metadata": {},
   "outputs": [
    {
     "data": {
      "text/plain": [
       "0.42307727615860913"
      ]
     },
     "execution_count": 29,
     "metadata": {},
     "output_type": "execute_result"
    }
   ],
   "source": [
    "R2_encrypted = r2_score(target_test, predict_test_encrypted)\n",
    "R2_encrypted"
   ]
  },
  {
   "cell_type": "markdown",
   "metadata": {},
   "source": [
    "Сравним коэффициенты новой модели и преобразованные коэффициенты старой модели:"
   ]
  },
  {
   "cell_type": "code",
   "execution_count": 30,
   "metadata": {},
   "outputs": [
    {
     "data": {
      "text/plain": [
       "array([-2.60803878e-12,  3.67646885e-12,  7.27805316e-12,  1.17535738e-11])"
      ]
     },
     "execution_count": 30,
     "metadata": {},
     "output_type": "execute_result"
    }
   ],
   "source": [
    "w_encrypted - np.linalg.inv(P) @ w"
   ]
  },
  {
   "cell_type": "markdown",
   "metadata": {},
   "source": [
    "Совпадают с точностью до 14 знака - в пределах машинной точности."
   ]
  },
  {
   "cell_type": "markdown",
   "metadata": {},
   "source": [
    "Сравним качество моделей:"
   ]
  },
  {
   "cell_type": "code",
   "execution_count": 31,
   "metadata": {},
   "outputs": [
    {
     "name": "stdout",
     "output_type": "stream",
     "text": [
      "Качество линейной регрессии не меняется\n"
     ]
    }
   ],
   "source": [
    "if np.abs(R2 - R2_encrypted) < 1e10:\n",
    "    print('Качество линейной регрессии не меняется')\n",
    "else:\n",
    "    print('Качество линейной регрессии меняется')"
   ]
  },
  {
   "cell_type": "markdown",
   "metadata": {},
   "source": [
    "Зашифрованные данные позволяют получить то же качество обучения, что и исходные данные."
   ]
  },
  {
   "cell_type": "markdown",
   "metadata": {},
   "source": [
    "Дешифровка данных"
   ]
  },
  {
   "cell_type": "code",
   "execution_count": 32,
   "metadata": {},
   "outputs": [
    {
     "data": {
      "text/html": [
       "<div>\n",
       "<style scoped>\n",
       "    .dataframe tbody tr th:only-of-type {\n",
       "        vertical-align: middle;\n",
       "    }\n",
       "\n",
       "    .dataframe tbody tr th {\n",
       "        vertical-align: top;\n",
       "    }\n",
       "\n",
       "    .dataframe thead th {\n",
       "        text-align: right;\n",
       "    }\n",
       "</style>\n",
       "<table border=\"1\" class=\"dataframe\">\n",
       "  <thead>\n",
       "    <tr style=\"text-align: right;\">\n",
       "      <th></th>\n",
       "      <th>0</th>\n",
       "      <th>1</th>\n",
       "      <th>2</th>\n",
       "      <th>3</th>\n",
       "    </tr>\n",
       "  </thead>\n",
       "  <tbody>\n",
       "    <tr>\n",
       "      <th>4599</th>\n",
       "      <td>0</td>\n",
       "      <td>27</td>\n",
       "      <td>54499</td>\n",
       "      <td>1</td>\n",
       "    </tr>\n",
       "    <tr>\n",
       "      <th>3882</th>\n",
       "      <td>1</td>\n",
       "      <td>37</td>\n",
       "      <td>50699</td>\n",
       "      <td>0</td>\n",
       "    </tr>\n",
       "    <tr>\n",
       "      <th>4705</th>\n",
       "      <td>0</td>\n",
       "      <td>23</td>\n",
       "      <td>28000</td>\n",
       "      <td>0</td>\n",
       "    </tr>\n",
       "    <tr>\n",
       "      <th>1400</th>\n",
       "      <td>0</td>\n",
       "      <td>46</td>\n",
       "      <td>38799</td>\n",
       "      <td>0</td>\n",
       "    </tr>\n",
       "    <tr>\n",
       "      <th>728</th>\n",
       "      <td>0</td>\n",
       "      <td>39</td>\n",
       "      <td>32499</td>\n",
       "      <td>0</td>\n",
       "    </tr>\n",
       "    <tr>\n",
       "      <th>...</th>\n",
       "      <td>...</td>\n",
       "      <td>...</td>\n",
       "      <td>...</td>\n",
       "      <td>...</td>\n",
       "    </tr>\n",
       "    <tr>\n",
       "      <th>3592</th>\n",
       "      <td>0</td>\n",
       "      <td>22</td>\n",
       "      <td>28199</td>\n",
       "      <td>0</td>\n",
       "    </tr>\n",
       "    <tr>\n",
       "      <th>3586</th>\n",
       "      <td>0</td>\n",
       "      <td>29</td>\n",
       "      <td>33699</td>\n",
       "      <td>0</td>\n",
       "    </tr>\n",
       "    <tr>\n",
       "      <th>2211</th>\n",
       "      <td>0</td>\n",
       "      <td>19</td>\n",
       "      <td>28899</td>\n",
       "      <td>0</td>\n",
       "    </tr>\n",
       "    <tr>\n",
       "      <th>3653</th>\n",
       "      <td>0</td>\n",
       "      <td>33</td>\n",
       "      <td>38799</td>\n",
       "      <td>0</td>\n",
       "    </tr>\n",
       "    <tr>\n",
       "      <th>4722</th>\n",
       "      <td>0</td>\n",
       "      <td>40</td>\n",
       "      <td>47299</td>\n",
       "      <td>1</td>\n",
       "    </tr>\n",
       "  </tbody>\n",
       "</table>\n",
       "<p>3635 rows × 4 columns</p>\n",
       "</div>"
      ],
      "text/plain": [
       "      0   1      2  3\n",
       "4599  0  27  54499  1\n",
       "3882  1  37  50699  0\n",
       "4705  0  23  28000  0\n",
       "1400  0  46  38799  0\n",
       "728   0  39  32499  0\n",
       "...  ..  ..    ... ..\n",
       "3592  0  22  28199  0\n",
       "3586  0  29  33699  0\n",
       "2211  0  19  28899  0\n",
       "3653  0  33  38799  0\n",
       "4722  0  40  47299  1\n",
       "\n",
       "[3635 rows x 4 columns]"
      ]
     },
     "execution_count": 32,
     "metadata": {},
     "output_type": "execute_result"
    }
   ],
   "source": [
    "(features_train_encrypted @ np.linalg.inv(P)).astype('int')"
   ]
  },
  {
   "cell_type": "code",
   "execution_count": 33,
   "metadata": {},
   "outputs": [
    {
     "data": {
      "text/html": [
       "<div>\n",
       "<style scoped>\n",
       "    .dataframe tbody tr th:only-of-type {\n",
       "        vertical-align: middle;\n",
       "    }\n",
       "\n",
       "    .dataframe tbody tr th {\n",
       "        vertical-align: top;\n",
       "    }\n",
       "\n",
       "    .dataframe thead th {\n",
       "        text-align: right;\n",
       "    }\n",
       "</style>\n",
       "<table border=\"1\" class=\"dataframe\">\n",
       "  <thead>\n",
       "    <tr style=\"text-align: right;\">\n",
       "      <th></th>\n",
       "      <th>0</th>\n",
       "      <th>1</th>\n",
       "      <th>2</th>\n",
       "      <th>3</th>\n",
       "    </tr>\n",
       "  </thead>\n",
       "  <tbody>\n",
       "    <tr>\n",
       "      <th>1335</th>\n",
       "      <td>0</td>\n",
       "      <td>23</td>\n",
       "      <td>47199</td>\n",
       "      <td>0</td>\n",
       "    </tr>\n",
       "    <tr>\n",
       "      <th>3875</th>\n",
       "      <td>0</td>\n",
       "      <td>32</td>\n",
       "      <td>65899</td>\n",
       "      <td>0</td>\n",
       "    </tr>\n",
       "    <tr>\n",
       "      <th>166</th>\n",
       "      <td>0</td>\n",
       "      <td>32</td>\n",
       "      <td>33899</td>\n",
       "      <td>1</td>\n",
       "    </tr>\n",
       "    <tr>\n",
       "      <th>3003</th>\n",
       "      <td>0</td>\n",
       "      <td>38</td>\n",
       "      <td>19299</td>\n",
       "      <td>2</td>\n",
       "    </tr>\n",
       "    <tr>\n",
       "      <th>424</th>\n",
       "      <td>0</td>\n",
       "      <td>45</td>\n",
       "      <td>27500</td>\n",
       "      <td>1</td>\n",
       "    </tr>\n",
       "    <tr>\n",
       "      <th>...</th>\n",
       "      <td>...</td>\n",
       "      <td>...</td>\n",
       "      <td>...</td>\n",
       "      <td>...</td>\n",
       "    </tr>\n",
       "    <tr>\n",
       "      <th>1589</th>\n",
       "      <td>0</td>\n",
       "      <td>34</td>\n",
       "      <td>22999</td>\n",
       "      <td>0</td>\n",
       "    </tr>\n",
       "    <tr>\n",
       "      <th>32</th>\n",
       "      <td>0</td>\n",
       "      <td>29</td>\n",
       "      <td>50999</td>\n",
       "      <td>1</td>\n",
       "    </tr>\n",
       "    <tr>\n",
       "      <th>360</th>\n",
       "      <td>0</td>\n",
       "      <td>25</td>\n",
       "      <td>33499</td>\n",
       "      <td>2</td>\n",
       "    </tr>\n",
       "    <tr>\n",
       "      <th>2862</th>\n",
       "      <td>0</td>\n",
       "      <td>25</td>\n",
       "      <td>33099</td>\n",
       "      <td>0</td>\n",
       "    </tr>\n",
       "    <tr>\n",
       "      <th>646</th>\n",
       "      <td>1</td>\n",
       "      <td>50</td>\n",
       "      <td>32800</td>\n",
       "      <td>1</td>\n",
       "    </tr>\n",
       "  </tbody>\n",
       "</table>\n",
       "<p>1212 rows × 4 columns</p>\n",
       "</div>"
      ],
      "text/plain": [
       "      0   1      2  3\n",
       "1335  0  23  47199  0\n",
       "3875  0  32  65899  0\n",
       "166   0  32  33899  1\n",
       "3003  0  38  19299  2\n",
       "424   0  45  27500  1\n",
       "...  ..  ..    ... ..\n",
       "1589  0  34  22999  0\n",
       "32    0  29  50999  1\n",
       "360   0  25  33499  2\n",
       "2862  0  25  33099  0\n",
       "646   1  50  32800  1\n",
       "\n",
       "[1212 rows x 4 columns]"
      ]
     },
     "execution_count": 33,
     "metadata": {},
     "output_type": "execute_result"
    }
   ],
   "source": [
    "(features_test_encrypted @ np.linalg.inv(P)).astype('int')"
   ]
  },
  {
   "cell_type": "markdown",
   "metadata": {},
   "source": [
    "### Вывод этапа"
   ]
  },
  {
   "cell_type": "markdown",
   "metadata": {},
   "source": [
    "- Выделен целевой признак ` Страховые выплаты`.\n",
    "- Выборка разделена на обучающую (`75%`) и тестовую (`25%`).\n",
    "- Составлена случайная квадратная матрица $P$ размерности числа признаков. Матрица заполнена случайными числами, выбранными из одномерного нормального распределения со средним значением 0 и дисперсией 1.\n",
    "- Матрица проверена на вырожденность.\n",
    "- Проведено обучение модели `LinearRegression` на исходных и преобразованных признаках\n",
    "    - Качество линейной регрессии не меняется\n",
    "    - Коэффициенты новой модели и преобразованные коэффициенты старой модели совпадают с точностью до 14 знака - в пределах машинной точности.\n",
    "    - Зашифрованные данные позволяют получить то же качество обучения, что и исходные данные."
   ]
  },
  {
   "cell_type": "markdown",
   "metadata": {},
   "source": [
    "## Общий вывод"
   ]
  },
  {
   "cell_type": "markdown",
   "metadata": {},
   "source": [
    "- Изучен датафрейм `insurance.csv`:\n",
    "    - 5 столбцов:\n",
    "        - `Пол`\n",
    "        - `Возраст`\n",
    "        - `Зарплата`\n",
    "        - `Члены семьи`\n",
    "        - `Страховые выплаты`\n",
    "    - 5 000 строк\n",
    "    - Пропусков нет \n",
    "    - 153 дубликата\n",
    "    - Типы столбцов `Возраст` и `Зарплата`необходимо поменять на `int`.\n",
    "- Проведена предобработка данных:\n",
    "    - Удалены дубликаты\n",
    "    - Изменены типы данных\n",
    "- Исследованы данные:\n",
    "    - Наблюдаются выбросы в распределении зарплат: есть слишком малые и слишко высокие. \n",
    "    - Наблюдаются выбросы в распределении возрастов: есть слишком возрастные.\n",
    "    - Распределение по зарплатам близко к нормальному. \n",
    "    - В распределении по возрастам наблюдается особенность: сильное различие между соседними значениями. Скорее всего связано с особенностями измерения или округления.\n",
    "    - Распределение количества членов семьи (судя по всему без учёта самого клиента) говорит о том что большенство клиентов либо с 1-2 членами семьи, либо одиноки. 3-6 встречаются редко, более - не представлены.\n",
    "    - Оба пола представлены в равной мере\n",
    "    - Большиноство клиентов не получало страховые выплаты. \n",
    "    - Наблюдаются корреляция страховых выплат только с возрастом.\n",
    "    \n",
    "- Теоретически обосновано что при умножении признаков на обратимую матрицу качество линейной регрессии не изменяется.\n",
    "- Теория проверена на практике: \n",
    "    - Выделен целевой признак ` Страховые выплаты`.\n",
    "    - Выборка разделена на обучающую (`75%`) и тестовую (`25%`).\n",
    "    - Составлена случайная квадратная матрица $P$ размерности числа признаков. Матрица заполнена случайными числами, выбранными из одномерного нормального распределения со средним значением 0 и дисперсией 1.\n",
    "    - Матрица проверена на вырожденность.\n",
    "    - Проведено обучение модели `LinearRegression` на исходных и преобразованных признаках\n",
    "        - Качество линейной регрессии не меняется\n",
    "        - Коэффициенты новой модели и преобразованные коэффициенты старой модели совпадают с точностью до 14 знака - в пределах машинной точности.\n",
    "- Зашифрованные данные позволяют получить то же качество обучения, что и исходные данные.        "
   ]
  }
 ],
 "metadata": {
  "ExecuteTimeLog": [
   {
    "duration": 51,
    "start_time": "2023-11-06T16:00:42.515Z"
   },
   {
    "duration": 1201,
    "start_time": "2023-11-06T16:00:47.348Z"
   },
   {
    "duration": 6,
    "start_time": "2023-11-06T16:00:49.922Z"
   },
   {
    "duration": 85,
    "start_time": "2023-11-06T16:00:51.639Z"
   },
   {
    "duration": 19,
    "start_time": "2023-11-06T16:00:52.542Z"
   },
   {
    "duration": 11,
    "start_time": "2023-11-06T16:01:52.954Z"
   },
   {
    "duration": 62,
    "start_time": "2023-11-06T16:01:58.386Z"
   },
   {
    "duration": 7,
    "start_time": "2023-11-06T16:02:02.543Z"
   },
   {
    "duration": 6,
    "start_time": "2023-11-06T16:02:07.679Z"
   },
   {
    "duration": 22,
    "start_time": "2023-11-06T16:03:57.485Z"
   },
   {
    "duration": 10,
    "start_time": "2023-11-06T16:06:02.694Z"
   },
   {
    "duration": 77,
    "start_time": "2023-11-06T16:07:35.014Z"
   },
   {
    "duration": 11,
    "start_time": "2023-11-06T16:07:39.239Z"
   },
   {
    "duration": 375,
    "start_time": "2023-11-06T16:07:52.592Z"
   },
   {
    "duration": 138,
    "start_time": "2023-11-06T16:07:57.008Z"
   },
   {
    "duration": 128,
    "start_time": "2023-11-06T16:08:29.094Z"
   },
   {
    "duration": 107,
    "start_time": "2023-11-06T16:08:48.648Z"
   },
   {
    "duration": 122,
    "start_time": "2023-11-06T16:09:50.710Z"
   },
   {
    "duration": 175,
    "start_time": "2023-11-06T16:10:27.685Z"
   },
   {
    "duration": 209,
    "start_time": "2023-11-06T16:10:58.926Z"
   },
   {
    "duration": 294,
    "start_time": "2023-11-06T16:11:08.645Z"
   },
   {
    "duration": 15,
    "start_time": "2023-11-06T16:13:20.905Z"
   },
   {
    "duration": 59,
    "start_time": "2023-11-06T16:14:17.588Z"
   },
   {
    "duration": 6,
    "start_time": "2023-11-06T16:14:19.248Z"
   },
   {
    "duration": 115,
    "start_time": "2023-11-06T16:14:23.797Z"
   },
   {
    "duration": 167,
    "start_time": "2023-11-06T16:15:01.823Z"
   },
   {
    "duration": 156,
    "start_time": "2023-11-06T16:15:15.401Z"
   },
   {
    "duration": 162,
    "start_time": "2023-11-06T16:16:01.197Z"
   },
   {
    "duration": 161,
    "start_time": "2023-11-06T16:16:11.282Z"
   },
   {
    "duration": 177,
    "start_time": "2023-11-06T16:18:02.420Z"
   },
   {
    "duration": 172,
    "start_time": "2023-11-06T16:18:17.884Z"
   },
   {
    "duration": 174,
    "start_time": "2023-11-06T16:18:31.496Z"
   },
   {
    "duration": 185,
    "start_time": "2023-11-06T16:18:55.686Z"
   },
   {
    "duration": 249,
    "start_time": "2023-11-06T16:19:26.228Z"
   },
   {
    "duration": 164,
    "start_time": "2023-11-06T16:19:36.713Z"
   },
   {
    "duration": 137,
    "start_time": "2023-11-06T16:20:00.832Z"
   },
   {
    "duration": 171,
    "start_time": "2023-11-06T16:20:35.559Z"
   },
   {
    "duration": 173,
    "start_time": "2023-11-06T16:20:42.493Z"
   },
   {
    "duration": 176,
    "start_time": "2023-11-06T16:20:59.692Z"
   },
   {
    "duration": 173,
    "start_time": "2023-11-06T16:21:00.905Z"
   },
   {
    "duration": 180,
    "start_time": "2023-11-06T16:21:03.533Z"
   },
   {
    "duration": 152,
    "start_time": "2023-11-06T16:21:07.137Z"
   },
   {
    "duration": 406,
    "start_time": "2023-11-06T16:21:47.377Z"
   },
   {
    "duration": 195,
    "start_time": "2023-11-06T16:29:46.422Z"
   },
   {
    "duration": 310,
    "start_time": "2023-11-06T16:30:38.718Z"
   },
   {
    "duration": 256,
    "start_time": "2023-11-06T16:31:24.061Z"
   },
   {
    "duration": 233,
    "start_time": "2023-11-06T16:31:38.941Z"
   },
   {
    "duration": 203,
    "start_time": "2023-11-06T16:31:46.858Z"
   },
   {
    "duration": 178,
    "start_time": "2023-11-06T16:32:49.722Z"
   },
   {
    "duration": 5,
    "start_time": "2023-11-06T16:35:34.737Z"
   },
   {
    "duration": 6,
    "start_time": "2023-11-06T16:35:41.368Z"
   },
   {
    "duration": 11,
    "start_time": "2023-11-06T16:37:25.051Z"
   },
   {
    "duration": 3,
    "start_time": "2023-11-06T16:37:31.668Z"
   },
   {
    "duration": 1462,
    "start_time": "2023-11-06T16:37:40.286Z"
   },
   {
    "duration": 10,
    "start_time": "2023-11-06T16:37:41.753Z"
   },
   {
    "duration": 32,
    "start_time": "2023-11-06T16:37:41.765Z"
   },
   {
    "duration": 19,
    "start_time": "2023-11-06T16:37:41.799Z"
   },
   {
    "duration": 15,
    "start_time": "2023-11-06T16:37:41.820Z"
   },
   {
    "duration": 9,
    "start_time": "2023-11-06T16:37:41.837Z"
   },
   {
    "duration": 20,
    "start_time": "2023-11-06T16:37:41.849Z"
   },
   {
    "duration": 6,
    "start_time": "2023-11-06T16:37:41.871Z"
   },
   {
    "duration": 18,
    "start_time": "2023-11-06T16:37:41.878Z"
   },
   {
    "duration": 225,
    "start_time": "2023-11-06T16:37:41.900Z"
   },
   {
    "duration": 120,
    "start_time": "2023-11-06T16:37:42.127Z"
   },
   {
    "duration": 220,
    "start_time": "2023-11-06T16:37:42.249Z"
   },
   {
    "duration": 201,
    "start_time": "2023-11-06T16:37:42.470Z"
   },
   {
    "duration": 270,
    "start_time": "2023-11-06T16:37:42.672Z"
   },
   {
    "duration": 448,
    "start_time": "2023-11-06T16:37:42.943Z"
   },
   {
    "duration": 7,
    "start_time": "2023-11-07T08:25:47.294Z"
   },
   {
    "duration": 6,
    "start_time": "2023-11-07T08:25:49.064Z"
   },
   {
    "duration": 105,
    "start_time": "2023-11-07T08:29:00.227Z"
   },
   {
    "duration": 3,
    "start_time": "2023-11-07T08:29:42.552Z"
   },
   {
    "duration": 4,
    "start_time": "2023-11-07T08:29:47.675Z"
   },
   {
    "duration": 3,
    "start_time": "2023-11-07T08:30:26.100Z"
   },
   {
    "duration": 4,
    "start_time": "2023-11-07T08:31:51.624Z"
   },
   {
    "duration": 4,
    "start_time": "2023-11-07T08:32:31.162Z"
   },
   {
    "duration": 3,
    "start_time": "2023-11-07T08:32:45.374Z"
   },
   {
    "duration": 4,
    "start_time": "2023-11-07T08:33:18.361Z"
   },
   {
    "duration": 3,
    "start_time": "2023-11-07T08:42:22.554Z"
   },
   {
    "duration": 10,
    "start_time": "2023-11-07T08:42:28.170Z"
   },
   {
    "duration": 3,
    "start_time": "2023-11-07T08:42:57.653Z"
   },
   {
    "duration": 4,
    "start_time": "2023-11-07T08:42:59.113Z"
   },
   {
    "duration": 3,
    "start_time": "2023-11-07T08:43:00.059Z"
   },
   {
    "duration": 8,
    "start_time": "2023-11-07T08:43:01.051Z"
   },
   {
    "duration": 5,
    "start_time": "2023-11-07T08:43:10.172Z"
   },
   {
    "duration": 1337,
    "start_time": "2023-11-07T08:43:30.850Z"
   },
   {
    "duration": 1399,
    "start_time": "2023-11-07T08:43:40.864Z"
   },
   {
    "duration": 3,
    "start_time": "2023-11-07T08:44:24.635Z"
   },
   {
    "duration": 4,
    "start_time": "2023-11-07T08:44:31.347Z"
   },
   {
    "duration": 4,
    "start_time": "2023-11-07T08:44:35.274Z"
   },
   {
    "duration": 3,
    "start_time": "2023-11-07T08:44:36.079Z"
   },
   {
    "duration": 10,
    "start_time": "2023-11-07T08:44:36.942Z"
   },
   {
    "duration": 1493,
    "start_time": "2023-11-07T08:44:46.144Z"
   },
   {
    "duration": 7,
    "start_time": "2023-11-07T08:44:47.640Z"
   },
   {
    "duration": 84,
    "start_time": "2023-11-07T08:44:47.648Z"
   },
   {
    "duration": 37,
    "start_time": "2023-11-07T08:44:47.734Z"
   },
   {
    "duration": 49,
    "start_time": "2023-11-07T08:44:47.772Z"
   },
   {
    "duration": 14,
    "start_time": "2023-11-07T08:44:47.823Z"
   },
   {
    "duration": 27,
    "start_time": "2023-11-07T08:44:47.839Z"
   },
   {
    "duration": 34,
    "start_time": "2023-11-07T08:44:47.867Z"
   },
   {
    "duration": 11,
    "start_time": "2023-11-07T08:44:47.903Z"
   },
   {
    "duration": 217,
    "start_time": "2023-11-07T08:44:47.916Z"
   },
   {
    "duration": 112,
    "start_time": "2023-11-07T08:44:48.135Z"
   },
   {
    "duration": 209,
    "start_time": "2023-11-07T08:44:48.248Z"
   },
   {
    "duration": 213,
    "start_time": "2023-11-07T08:44:48.458Z"
   },
   {
    "duration": 261,
    "start_time": "2023-11-07T08:44:48.672Z"
   },
   {
    "duration": 393,
    "start_time": "2023-11-07T08:44:48.935Z"
   },
   {
    "duration": 4,
    "start_time": "2023-11-07T08:44:49.329Z"
   },
   {
    "duration": 90,
    "start_time": "2023-11-07T08:44:49.335Z"
   },
   {
    "duration": 35,
    "start_time": "2023-11-07T08:44:49.426Z"
   },
   {
    "duration": 89,
    "start_time": "2023-11-07T08:44:49.463Z"
   },
   {
    "duration": 74,
    "start_time": "2023-11-07T08:44:49.554Z"
   },
   {
    "duration": 76,
    "start_time": "2023-11-07T08:44:49.630Z"
   },
   {
    "duration": 99,
    "start_time": "2023-11-07T08:44:49.708Z"
   },
   {
    "duration": 1451,
    "start_time": "2023-11-07T08:44:51.367Z"
   },
   {
    "duration": 6,
    "start_time": "2023-11-07T08:44:52.821Z"
   },
   {
    "duration": 125,
    "start_time": "2023-11-07T08:44:52.828Z"
   },
   {
    "duration": 15,
    "start_time": "2023-11-07T08:44:52.955Z"
   },
   {
    "duration": 43,
    "start_time": "2023-11-07T08:44:52.972Z"
   },
   {
    "duration": 68,
    "start_time": "2023-11-07T08:44:53.017Z"
   },
   {
    "duration": 53,
    "start_time": "2023-11-07T08:44:53.086Z"
   },
   {
    "duration": 33,
    "start_time": "2023-11-07T08:44:53.140Z"
   },
   {
    "duration": 5,
    "start_time": "2023-11-07T08:44:53.174Z"
   },
   {
    "duration": 238,
    "start_time": "2023-11-07T08:44:53.182Z"
   },
   {
    "duration": 112,
    "start_time": "2023-11-07T08:44:53.421Z"
   },
   {
    "duration": 212,
    "start_time": "2023-11-07T08:44:53.534Z"
   },
   {
    "duration": 210,
    "start_time": "2023-11-07T08:44:53.747Z"
   },
   {
    "duration": 267,
    "start_time": "2023-11-07T08:44:53.958Z"
   },
   {
    "duration": 381,
    "start_time": "2023-11-07T08:44:54.226Z"
   },
   {
    "duration": 4,
    "start_time": "2023-11-07T08:44:54.609Z"
   },
   {
    "duration": 36,
    "start_time": "2023-11-07T08:44:54.615Z"
   },
   {
    "duration": 21,
    "start_time": "2023-11-07T08:44:54.653Z"
   },
   {
    "duration": 61,
    "start_time": "2023-11-07T08:44:54.676Z"
   },
   {
    "duration": 25,
    "start_time": "2023-11-07T08:44:54.738Z"
   },
   {
    "duration": 46,
    "start_time": "2023-11-07T08:44:54.764Z"
   },
   {
    "duration": 70,
    "start_time": "2023-11-07T08:44:54.812Z"
   },
   {
    "duration": 108,
    "start_time": "2023-11-07T08:45:30.008Z"
   },
   {
    "duration": 3,
    "start_time": "2023-11-07T08:45:38.973Z"
   },
   {
    "duration": 3,
    "start_time": "2023-11-07T08:45:39.698Z"
   },
   {
    "duration": 3,
    "start_time": "2023-11-07T08:45:43.877Z"
   },
   {
    "duration": 4,
    "start_time": "2023-11-07T08:45:44.404Z"
   },
   {
    "duration": 4,
    "start_time": "2023-11-07T08:45:48.715Z"
   },
   {
    "duration": 3,
    "start_time": "2023-11-07T08:45:49.419Z"
   },
   {
    "duration": 10,
    "start_time": "2023-11-07T08:45:49.979Z"
   },
   {
    "duration": 13,
    "start_time": "2023-11-07T08:47:03.173Z"
   },
   {
    "duration": 11,
    "start_time": "2023-11-07T08:48:08.498Z"
   },
   {
    "duration": 5,
    "start_time": "2023-11-07T08:48:47.256Z"
   },
   {
    "duration": 3,
    "start_time": "2023-11-07T08:49:38.123Z"
   },
   {
    "duration": 10,
    "start_time": "2023-11-07T08:49:50.418Z"
   },
   {
    "duration": 9,
    "start_time": "2023-11-07T08:59:36.358Z"
   },
   {
    "duration": 7,
    "start_time": "2023-11-07T09:00:37.991Z"
   },
   {
    "duration": 6,
    "start_time": "2023-11-07T09:01:17.476Z"
   },
   {
    "duration": 4,
    "start_time": "2023-11-07T09:01:24.957Z"
   },
   {
    "duration": 9,
    "start_time": "2023-11-07T09:02:19.024Z"
   },
   {
    "duration": 10,
    "start_time": "2023-11-07T09:08:40.891Z"
   },
   {
    "duration": 3,
    "start_time": "2023-11-07T09:08:51.236Z"
   },
   {
    "duration": 4,
    "start_time": "2023-11-07T09:11:11.268Z"
   },
   {
    "duration": 9,
    "start_time": "2023-11-07T09:13:27.632Z"
   },
   {
    "duration": 4,
    "start_time": "2023-11-07T09:13:35.190Z"
   },
   {
    "duration": 5,
    "start_time": "2023-11-07T09:13:59.943Z"
   },
   {
    "duration": 4,
    "start_time": "2023-11-07T09:14:18.811Z"
   },
   {
    "duration": 4,
    "start_time": "2023-11-07T09:15:10.390Z"
   },
   {
    "duration": 9,
    "start_time": "2023-11-07T09:15:22.700Z"
   },
   {
    "duration": 4,
    "start_time": "2023-11-07T09:15:28.772Z"
   },
   {
    "duration": 5,
    "start_time": "2023-11-07T09:15:31.913Z"
   },
   {
    "duration": 5,
    "start_time": "2023-11-07T09:16:31.638Z"
   },
   {
    "duration": 5,
    "start_time": "2023-11-07T09:17:11.071Z"
   },
   {
    "duration": 410,
    "start_time": "2023-11-07T09:50:08.419Z"
   },
   {
    "duration": 426,
    "start_time": "2023-11-07T09:50:17.304Z"
   },
   {
    "duration": 482,
    "start_time": "2023-11-07T09:50:31.688Z"
   },
   {
    "duration": 407,
    "start_time": "2023-11-07T09:51:12.155Z"
   },
   {
    "duration": 393,
    "start_time": "2023-11-07T09:51:24.472Z"
   },
   {
    "duration": 14,
    "start_time": "2023-11-07T10:28:18.479Z"
   },
   {
    "duration": 4,
    "start_time": "2023-11-07T10:33:34.856Z"
   },
   {
    "duration": 7,
    "start_time": "2023-11-07T10:48:45.532Z"
   },
   {
    "duration": 5,
    "start_time": "2023-11-07T10:48:48.778Z"
   },
   {
    "duration": 11,
    "start_time": "2023-11-07T10:48:53.626Z"
   },
   {
    "duration": 12,
    "start_time": "2023-11-07T10:52:32.636Z"
   },
   {
    "duration": 10,
    "start_time": "2023-11-07T10:52:36.447Z"
   },
   {
    "duration": 5,
    "start_time": "2023-11-07T10:52:46.504Z"
   },
   {
    "duration": 3,
    "start_time": "2023-11-07T10:52:47.815Z"
   },
   {
    "duration": 1440,
    "start_time": "2023-11-07T10:52:52.891Z"
   },
   {
    "duration": 7,
    "start_time": "2023-11-07T10:52:54.335Z"
   },
   {
    "duration": 78,
    "start_time": "2023-11-07T10:52:54.344Z"
   },
   {
    "duration": 16,
    "start_time": "2023-11-07T10:52:54.424Z"
   },
   {
    "duration": 30,
    "start_time": "2023-11-07T10:52:54.442Z"
   },
   {
    "duration": 13,
    "start_time": "2023-11-07T10:52:54.473Z"
   },
   {
    "duration": 38,
    "start_time": "2023-11-07T10:52:54.488Z"
   },
   {
    "duration": 29,
    "start_time": "2023-11-07T10:52:54.528Z"
   },
   {
    "duration": 33,
    "start_time": "2023-11-07T10:52:54.559Z"
   },
   {
    "duration": 223,
    "start_time": "2023-11-07T10:52:54.594Z"
   },
   {
    "duration": 423,
    "start_time": "2023-11-07T10:52:54.818Z"
   },
   {
    "duration": 111,
    "start_time": "2023-11-07T10:52:55.243Z"
   },
   {
    "duration": 302,
    "start_time": "2023-11-07T10:52:55.356Z"
   },
   {
    "duration": 195,
    "start_time": "2023-11-07T10:52:55.660Z"
   },
   {
    "duration": 375,
    "start_time": "2023-11-07T10:52:55.857Z"
   },
   {
    "duration": 4,
    "start_time": "2023-11-07T10:52:56.234Z"
   },
   {
    "duration": 6,
    "start_time": "2023-11-07T10:52:56.240Z"
   },
   {
    "duration": 3,
    "start_time": "2023-11-07T10:52:56.248Z"
   },
   {
    "duration": 3,
    "start_time": "2023-11-07T10:52:56.270Z"
   },
   {
    "duration": 4,
    "start_time": "2023-11-07T10:52:56.275Z"
   },
   {
    "duration": 9,
    "start_time": "2023-11-07T10:52:56.281Z"
   },
   {
    "duration": 4,
    "start_time": "2023-11-07T10:52:56.292Z"
   },
   {
    "duration": 16,
    "start_time": "2023-11-07T10:52:56.297Z"
   },
   {
    "duration": 9,
    "start_time": "2023-11-07T10:52:56.314Z"
   },
   {
    "duration": 5,
    "start_time": "2023-11-07T10:52:56.324Z"
   },
   {
    "duration": 43,
    "start_time": "2023-11-07T10:52:56.330Z"
   },
   {
    "duration": 16,
    "start_time": "2023-11-07T10:52:56.374Z"
   },
   {
    "duration": 10,
    "start_time": "2023-11-07T10:52:56.393Z"
   },
   {
    "duration": 1465,
    "start_time": "2023-11-07T10:54:10.710Z"
   },
   {
    "duration": 8,
    "start_time": "2023-11-07T10:54:12.176Z"
   },
   {
    "duration": 51,
    "start_time": "2023-11-07T10:54:12.185Z"
   },
   {
    "duration": 14,
    "start_time": "2023-11-07T10:54:12.238Z"
   },
   {
    "duration": 10,
    "start_time": "2023-11-07T10:54:12.253Z"
   },
   {
    "duration": 24,
    "start_time": "2023-11-07T10:54:12.265Z"
   },
   {
    "duration": 9,
    "start_time": "2023-11-07T10:54:12.290Z"
   },
   {
    "duration": 12,
    "start_time": "2023-11-07T10:54:12.301Z"
   },
   {
    "duration": 8,
    "start_time": "2023-11-07T10:54:12.315Z"
   },
   {
    "duration": 211,
    "start_time": "2023-11-07T10:54:12.326Z"
   },
   {
    "duration": 406,
    "start_time": "2023-11-07T10:54:12.538Z"
   },
   {
    "duration": 112,
    "start_time": "2023-11-07T10:54:12.946Z"
   },
   {
    "duration": 285,
    "start_time": "2023-11-07T10:54:13.068Z"
   },
   {
    "duration": 191,
    "start_time": "2023-11-07T10:54:13.355Z"
   },
   {
    "duration": 363,
    "start_time": "2023-11-07T10:54:13.547Z"
   },
   {
    "duration": 4,
    "start_time": "2023-11-07T10:54:13.912Z"
   },
   {
    "duration": 20,
    "start_time": "2023-11-07T10:54:13.917Z"
   },
   {
    "duration": 18,
    "start_time": "2023-11-07T10:54:13.938Z"
   },
   {
    "duration": 19,
    "start_time": "2023-11-07T10:54:13.957Z"
   },
   {
    "duration": 19,
    "start_time": "2023-11-07T10:54:13.978Z"
   },
   {
    "duration": 31,
    "start_time": "2023-11-07T10:54:13.999Z"
   },
   {
    "duration": 26,
    "start_time": "2023-11-07T10:54:14.032Z"
   },
   {
    "duration": 28,
    "start_time": "2023-11-07T10:54:14.060Z"
   },
   {
    "duration": 39,
    "start_time": "2023-11-07T10:54:14.090Z"
   },
   {
    "duration": 13,
    "start_time": "2023-11-07T10:54:14.131Z"
   },
   {
    "duration": 22,
    "start_time": "2023-11-07T10:54:14.145Z"
   },
   {
    "duration": 35,
    "start_time": "2023-11-07T10:54:14.168Z"
   },
   {
    "duration": 74,
    "start_time": "2023-11-07T10:54:14.207Z"
   },
   {
    "duration": 3443,
    "start_time": "2023-11-07T11:12:36.307Z"
   },
   {
    "duration": 8,
    "start_time": "2023-11-07T11:12:39.756Z"
   },
   {
    "duration": 172,
    "start_time": "2023-11-07T11:12:39.766Z"
   },
   {
    "duration": 89,
    "start_time": "2023-11-07T11:12:39.941Z"
   },
   {
    "duration": 39,
    "start_time": "2023-11-07T11:12:40.031Z"
   },
   {
    "duration": 29,
    "start_time": "2023-11-07T11:12:40.072Z"
   },
   {
    "duration": 39,
    "start_time": "2023-11-07T11:12:40.103Z"
   },
   {
    "duration": 28,
    "start_time": "2023-11-07T11:12:40.144Z"
   },
   {
    "duration": 29,
    "start_time": "2023-11-07T11:12:40.174Z"
   },
   {
    "duration": 242,
    "start_time": "2023-11-07T11:12:40.207Z"
   },
   {
    "duration": 441,
    "start_time": "2023-11-07T11:12:40.452Z"
   },
   {
    "duration": 121,
    "start_time": "2023-11-07T11:12:40.895Z"
   },
   {
    "duration": 226,
    "start_time": "2023-11-07T11:12:41.018Z"
   },
   {
    "duration": 223,
    "start_time": "2023-11-07T11:12:41.246Z"
   },
   {
    "duration": 409,
    "start_time": "2023-11-07T11:12:41.471Z"
   },
   {
    "duration": 4,
    "start_time": "2023-11-07T11:12:41.881Z"
   },
   {
    "duration": 29,
    "start_time": "2023-11-07T11:12:41.887Z"
   },
   {
    "duration": 21,
    "start_time": "2023-11-07T11:12:41.918Z"
   },
   {
    "duration": 15,
    "start_time": "2023-11-07T11:12:41.940Z"
   },
   {
    "duration": 17,
    "start_time": "2023-11-07T11:12:41.957Z"
   },
   {
    "duration": 20,
    "start_time": "2023-11-07T11:12:41.976Z"
   },
   {
    "duration": 21,
    "start_time": "2023-11-07T11:12:41.998Z"
   },
   {
    "duration": 8,
    "start_time": "2023-11-07T11:12:42.021Z"
   },
   {
    "duration": 20,
    "start_time": "2023-11-07T11:12:42.031Z"
   },
   {
    "duration": 11,
    "start_time": "2023-11-07T11:12:42.053Z"
   },
   {
    "duration": 17,
    "start_time": "2023-11-07T11:12:42.065Z"
   },
   {
    "duration": 10,
    "start_time": "2023-11-07T11:12:42.084Z"
   },
   {
    "duration": 47,
    "start_time": "2023-11-07T11:12:42.099Z"
   },
   {
    "duration": 30,
    "start_time": "2023-11-07T11:40:04.252Z"
   },
   {
    "duration": 5,
    "start_time": "2023-11-07T11:49:19.930Z"
   },
   {
    "duration": 4,
    "start_time": "2023-11-07T11:49:43.099Z"
   },
   {
    "duration": 11,
    "start_time": "2023-11-07T11:57:33.980Z"
   },
   {
    "duration": 7,
    "start_time": "2023-11-07T11:58:26.175Z"
   },
   {
    "duration": 117,
    "start_time": "2023-11-07T12:09:23.450Z"
   },
   {
    "duration": 4,
    "start_time": "2023-11-07T12:09:26.960Z"
   },
   {
    "duration": 8,
    "start_time": "2023-11-07T12:10:15.571Z"
   },
   {
    "duration": 5,
    "start_time": "2023-11-07T12:10:19.423Z"
   },
   {
    "duration": 24,
    "start_time": "2023-11-07T12:13:15.909Z"
   },
   {
    "duration": 13,
    "start_time": "2023-11-07T12:13:41.867Z"
   },
   {
    "duration": 12,
    "start_time": "2023-11-07T12:13:57.509Z"
   },
   {
    "duration": 10,
    "start_time": "2023-11-07T12:14:03.748Z"
   },
   {
    "duration": 29,
    "start_time": "2023-11-07T12:18:58.848Z"
   },
   {
    "duration": 28,
    "start_time": "2023-11-07T12:19:06.020Z"
   },
   {
    "duration": 11,
    "start_time": "2023-11-07T12:19:06.736Z"
   },
   {
    "duration": 1388,
    "start_time": "2023-11-07T12:19:42.970Z"
   },
   {
    "duration": 8,
    "start_time": "2023-11-07T12:19:44.360Z"
   },
   {
    "duration": 34,
    "start_time": "2023-11-07T12:19:44.370Z"
   },
   {
    "duration": 15,
    "start_time": "2023-11-07T12:19:44.406Z"
   },
   {
    "duration": 10,
    "start_time": "2023-11-07T12:19:44.423Z"
   },
   {
    "duration": 26,
    "start_time": "2023-11-07T12:19:44.434Z"
   },
   {
    "duration": 7,
    "start_time": "2023-11-07T12:19:44.461Z"
   },
   {
    "duration": 10,
    "start_time": "2023-11-07T12:19:44.469Z"
   },
   {
    "duration": 13,
    "start_time": "2023-11-07T12:19:44.481Z"
   },
   {
    "duration": 9,
    "start_time": "2023-11-07T12:19:44.496Z"
   },
   {
    "duration": 204,
    "start_time": "2023-11-07T12:19:44.507Z"
   },
   {
    "duration": 392,
    "start_time": "2023-11-07T12:19:44.713Z"
   },
   {
    "duration": 114,
    "start_time": "2023-11-07T12:19:45.106Z"
   },
   {
    "duration": 266,
    "start_time": "2023-11-07T12:19:45.222Z"
   },
   {
    "duration": 185,
    "start_time": "2023-11-07T12:19:45.489Z"
   },
   {
    "duration": 344,
    "start_time": "2023-11-07T12:19:45.675Z"
   },
   {
    "duration": 4,
    "start_time": "2023-11-07T12:19:46.021Z"
   },
   {
    "duration": 12,
    "start_time": "2023-11-07T12:19:46.026Z"
   },
   {
    "duration": 8,
    "start_time": "2023-11-07T12:19:46.040Z"
   },
   {
    "duration": 7,
    "start_time": "2023-11-07T12:19:46.050Z"
   },
   {
    "duration": 17,
    "start_time": "2023-11-07T12:19:46.058Z"
   },
   {
    "duration": 7,
    "start_time": "2023-11-07T12:19:46.076Z"
   },
   {
    "duration": 6,
    "start_time": "2023-11-07T12:19:46.085Z"
   },
   {
    "duration": 10,
    "start_time": "2023-11-07T12:19:46.092Z"
   },
   {
    "duration": 7,
    "start_time": "2023-11-07T12:19:46.103Z"
   },
   {
    "duration": 9,
    "start_time": "2023-11-07T12:19:46.111Z"
   },
   {
    "duration": 18,
    "start_time": "2023-11-07T12:19:46.122Z"
   },
   {
    "duration": 7,
    "start_time": "2023-11-07T12:19:46.143Z"
   },
   {
    "duration": 6,
    "start_time": "2023-11-07T12:19:46.151Z"
   },
   {
    "duration": 17,
    "start_time": "2023-11-07T12:19:46.159Z"
   },
   {
    "duration": 5,
    "start_time": "2023-11-07T12:19:46.178Z"
   },
   {
    "duration": 97,
    "start_time": "2023-11-07T12:19:46.185Z"
   },
   {
    "duration": 95,
    "start_time": "2023-11-07T12:19:46.284Z"
   }
  ],
  "kernelspec": {
   "display_name": "Python 3 (ipykernel)",
   "language": "python",
   "name": "python3"
  },
  "language_info": {
   "codemirror_mode": {
    "name": "ipython",
    "version": 3
   },
   "file_extension": ".py",
   "mimetype": "text/x-python",
   "name": "python",
   "nbconvert_exporter": "python",
   "pygments_lexer": "ipython3",
   "version": "3.11.0"
  },
  "toc": {
   "base_numbering": 1,
   "nav_menu": {},
   "number_sections": true,
   "sideBar": true,
   "skip_h1_title": true,
   "title_cell": "Содержание",
   "title_sidebar": "Contents",
   "toc_cell": true,
   "toc_position": {},
   "toc_section_display": true,
   "toc_window_display": false
  }
 },
 "nbformat": 4,
 "nbformat_minor": 4
}
