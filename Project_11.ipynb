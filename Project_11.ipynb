{
 "cells": [
  {
   "cell_type": "markdown",
   "metadata": {
    "toc": true
   },
   "source": [
    "<h1>Содержание<span class=\"tocSkip\"></span></h1>\n",
    "<div class=\"toc\"><ul class=\"toc-item\"><li><span><a href=\"#Подготовка\" data-toc-modified-id=\"Подготовка-1\"><span class=\"toc-item-num\">1&nbsp;&nbsp;</span>Подготовка</a></span><ul class=\"toc-item\"><li><span><a href=\"#Загрузка-модулей\" data-toc-modified-id=\"Загрузка-модулей-1.1\"><span class=\"toc-item-num\">1.1&nbsp;&nbsp;</span>Загрузка модулей</a></span></li><li><span><a href=\"#Настройки\" data-toc-modified-id=\"Настройки-1.2\"><span class=\"toc-item-num\">1.2&nbsp;&nbsp;</span>Настройки</a></span></li><li><span><a href=\"#Загрузка-данных\" data-toc-modified-id=\"Загрузка-данных-1.3\"><span class=\"toc-item-num\">1.3&nbsp;&nbsp;</span>Загрузка данных</a></span></li><li><span><a href=\"#Вывод-этапа\" data-toc-modified-id=\"Вывод-этапа-1.4\"><span class=\"toc-item-num\">1.4&nbsp;&nbsp;</span>Вывод этапа</a></span></li></ul></li><li><span><a href=\"#Обработка\" data-toc-modified-id=\"Обработка-2\"><span class=\"toc-item-num\">2&nbsp;&nbsp;</span>Обработка</a></span><ul class=\"toc-item\"><li><span><a href=\"#Вывод-этапа\" data-toc-modified-id=\"Вывод-этапа-2.1\"><span class=\"toc-item-num\">2.1&nbsp;&nbsp;</span>Вывод этапа</a></span></li></ul></li><li><span><a href=\"#Обучение\" data-toc-modified-id=\"Обучение-3\"><span class=\"toc-item-num\">3&nbsp;&nbsp;</span>Обучение</a></span><ul class=\"toc-item\"><li><span><a href=\"#Без-балансировки\" data-toc-modified-id=\"Без-балансировки-3.1\"><span class=\"toc-item-num\">3.1&nbsp;&nbsp;</span>Без балансировки</a></span></li><li><span><a href=\"#Уменьшение-выборки\" data-toc-modified-id=\"Уменьшение-выборки-3.2\"><span class=\"toc-item-num\">3.2&nbsp;&nbsp;</span>Уменьшение выборки</a></span></li><li><span><a href=\"#Вывод-этапа\" data-toc-modified-id=\"Вывод-этапа-3.3\"><span class=\"toc-item-num\">3.3&nbsp;&nbsp;</span>Вывод этапа</a></span></li></ul></li><li><span><a href=\"#Тестирование-модели\" data-toc-modified-id=\"Тестирование-модели-4\"><span class=\"toc-item-num\">4&nbsp;&nbsp;</span>Тестирование модели</a></span></li><li><span><a href=\"#Выводы\" data-toc-modified-id=\"Выводы-5\"><span class=\"toc-item-num\">5&nbsp;&nbsp;</span>Выводы</a></span></li><li><span><a href=\"#Чек-лист-проверки\" data-toc-modified-id=\"Чек-лист-проверки-6\"><span class=\"toc-item-num\">6&nbsp;&nbsp;</span>Чек-лист проверки</a></span></li></ul></div>"
   ]
  },
  {
   "cell_type": "markdown",
   "metadata": {},
   "source": [
    "# Проект для «Викишоп» без BERT"
   ]
  },
  {
   "cell_type": "markdown",
   "metadata": {},
   "source": [
    "Интернет-магазин «Викишоп» запускает новый сервис. Теперь пользователи могут редактировать и дополнять описания товаров, как в вики-сообществах. То есть клиенты предлагают свои правки и комментируют изменения других. Магазину нужен инструмент, который будет искать токсичные комментарии и отправлять их на модерацию. \n",
    "\n",
    "Обучите модель классифицировать комментарии на позитивные и негативные. В вашем распоряжении набор данных с разметкой о токсичности правок.\n",
    "\n",
    "Постройте модель со значением метрики качества *F1* не меньше 0.75. \n",
    "\n",
    "**Инструкция по выполнению проекта**\n",
    "\n",
    "1. Загрузите и подготовьте данные.\n",
    "2. Обучите разные модели. \n",
    "3. Сделайте выводы.\n",
    "   \n",
    "**Описание данных**\n",
    "\n",
    "Данные находятся в файле `toxic_comments.csv`. Столбец *text* в нём содержит текст комментария, а *toxic* — целевой признак."
   ]
  },
  {
   "cell_type": "markdown",
   "metadata": {},
   "source": [
    "## Подготовка"
   ]
  },
  {
   "cell_type": "code",
   "execution_count": 1,
   "metadata": {},
   "outputs": [],
   "source": [
    "#!pip install optuna\n",
    "#!pip install optuna-dashboard\n",
    "#!pip install hyperopt\n",
    "#!pip install sweetviz\n",
    "#!pip3 install pandas-profiling==3.0.0"
   ]
  },
  {
   "cell_type": "markdown",
   "metadata": {},
   "source": [
    "### Загрузка модулей"
   ]
  },
  {
   "cell_type": "code",
   "execution_count": 2,
   "metadata": {},
   "outputs": [],
   "source": [
    "import time\n",
    "import pandas as pd\n",
    "import optuna\n",
    "\n",
    "from sklearn.model_selection import train_test_split, cross_val_score\n",
    "from sklearn.metrics import f1_score, precision_score, recall_score, accuracy_score, roc_auc_score, roc_curve, ConfusionMatrixDisplay, confusion_matrix\n",
    "from sklearn.utils import shuffle\n",
    "from sklearn.pipeline import Pipeline\n",
    "\n",
    "import xgboost as xgb\n",
    "from sklearn.linear_model import LogisticRegression\n",
    "from lightgbm import LGBMClassifier\n",
    "\n",
    "import nltk\n",
    "from tqdm import tqdm\n",
    "from sklearn.feature_extraction.text import TfidfVectorizer\n",
    "from pymystem3 import Mystem\n",
    "from nltk.corpus import stopwords\n",
    "from nltk.stem import WordNetLemmatizer\n",
    "\n",
    "import matplotlib.pyplot as plt\n",
    "import seaborn as sns\n",
    "import numpy as np\n",
    "import random\n",
    "import re\n",
    "\n",
    "import warnings\n",
    "warnings.filterwarnings(\"ignore\")"
   ]
  },
  {
   "cell_type": "markdown",
   "metadata": {},
   "source": [
    "### Настройки"
   ]
  },
  {
   "cell_type": "code",
   "execution_count": 3,
   "metadata": {},
   "outputs": [],
   "source": [
    "RANDOM_STATE = 853973\n",
    "state = np.random.RandomState(RANDOM_STATE)\n",
    "# Цветовая палитра документа\n",
    "cm = 'crest'\n",
    "mec = 'gray'\n",
    "alpha = 0.7\n",
    "fontsize = 16\n",
    "figsize_base = 5\n",
    "\n",
    "def new_color(x='r'):\n",
    "    '''Цвет графиков, по умолчанию случайный из заданной цветовой палитры. Принимает в качестве аргумента число, \\\n",
    "    соответствующее цвету в палитре.'''\n",
    "    if x == 'r':\n",
    "        return list(sns.color_palette(cm, 20)[random.randint(0,19)])\n",
    "    return list(sns.color_palette(cm, 20)[x])\n",
    "# Размеры\n",
    "\n",
    "def figsize(width = 1, height=1):\n",
    "    '''Задание размеров окна отрисовки.'''\n",
    "    return (width*figsize_base, height*figsize_base)\n",
    "\n",
    "# Отрисовка \n",
    "def plot_set(ax,title='',xlabel='',ylabel='',fontsize=fontsize,xrot=1,figsize=figsize(),theme = 'darkgrid'):\n",
    "    '''Функция для отрисовки дополнительных параметров графиков. Подписьи осей и названия, размер шрифта и размер окна, \n",
    "    включение сетки.'''\n",
    "    sns.set_style(theme)\n",
    "    plt.xticks(rotation=45*int(xrot), fontsize=fontsize)\n",
    "    plt.yticks(fontsize=fontsize)\n",
    "    plt.title(title+'\\n', fontsize=fontsize)\n",
    "    plt.xlabel('\\n'+xlabel, fontsize=fontsize)\n",
    "    plt.ylabel(ylabel+'\\n', fontsize=fontsize)\n",
    "    plt.grid(visible=True, which='both')\n",
    "    None\n",
    "    \n",
    "def mean_percent(x):\n",
    "    '''Функция для форматирования значений. Округление до сотых и знак процента.'''\n",
    "    try:\n",
    "        return \"{0:.2%}\".format(x)\n",
    "    except:\n",
    "        return x"
   ]
  },
  {
   "cell_type": "markdown",
   "metadata": {},
   "source": [
    "### Загрузка данных"
   ]
  },
  {
   "cell_type": "code",
   "execution_count": 4,
   "metadata": {},
   "outputs": [],
   "source": [
    "try:\n",
    "    df = pd.read_csv('/datasets/toxic_comments.csv')\n",
    "except:\n",
    "    df = pd.read_csv('toxic_comments.csv')"
   ]
  },
  {
   "cell_type": "code",
   "execution_count": 5,
   "metadata": {},
   "outputs": [
    {
     "data": {
      "text/html": [
       "<div>\n",
       "<style scoped>\n",
       "    .dataframe tbody tr th:only-of-type {\n",
       "        vertical-align: middle;\n",
       "    }\n",
       "\n",
       "    .dataframe tbody tr th {\n",
       "        vertical-align: top;\n",
       "    }\n",
       "\n",
       "    .dataframe thead th {\n",
       "        text-align: right;\n",
       "    }\n",
       "</style>\n",
       "<table border=\"1\" class=\"dataframe\">\n",
       "  <thead>\n",
       "    <tr style=\"text-align: right;\">\n",
       "      <th></th>\n",
       "      <th>Unnamed: 0</th>\n",
       "      <th>text</th>\n",
       "      <th>toxic</th>\n",
       "    </tr>\n",
       "  </thead>\n",
       "  <tbody>\n",
       "    <tr>\n",
       "      <th>0</th>\n",
       "      <td>0</td>\n",
       "      <td>Explanation\\nWhy the edits made under my usern...</td>\n",
       "      <td>0</td>\n",
       "    </tr>\n",
       "    <tr>\n",
       "      <th>1</th>\n",
       "      <td>1</td>\n",
       "      <td>D'aww! He matches this background colour I'm s...</td>\n",
       "      <td>0</td>\n",
       "    </tr>\n",
       "    <tr>\n",
       "      <th>2</th>\n",
       "      <td>2</td>\n",
       "      <td>Hey man, I'm really not trying to edit war. It...</td>\n",
       "      <td>0</td>\n",
       "    </tr>\n",
       "    <tr>\n",
       "      <th>3</th>\n",
       "      <td>3</td>\n",
       "      <td>\"\\nMore\\nI can't make any real suggestions on ...</td>\n",
       "      <td>0</td>\n",
       "    </tr>\n",
       "    <tr>\n",
       "      <th>4</th>\n",
       "      <td>4</td>\n",
       "      <td>You, sir, are my hero. Any chance you remember...</td>\n",
       "      <td>0</td>\n",
       "    </tr>\n",
       "    <tr>\n",
       "      <th>5</th>\n",
       "      <td>5</td>\n",
       "      <td>\"\\n\\nCongratulations from me as well, use the ...</td>\n",
       "      <td>0</td>\n",
       "    </tr>\n",
       "    <tr>\n",
       "      <th>6</th>\n",
       "      <td>6</td>\n",
       "      <td>COCKSUCKER BEFORE YOU PISS AROUND ON MY WORK</td>\n",
       "      <td>1</td>\n",
       "    </tr>\n",
       "    <tr>\n",
       "      <th>7</th>\n",
       "      <td>7</td>\n",
       "      <td>Your vandalism to the Matt Shirvington article...</td>\n",
       "      <td>0</td>\n",
       "    </tr>\n",
       "    <tr>\n",
       "      <th>8</th>\n",
       "      <td>8</td>\n",
       "      <td>Sorry if the word 'nonsense' was offensive to ...</td>\n",
       "      <td>0</td>\n",
       "    </tr>\n",
       "    <tr>\n",
       "      <th>9</th>\n",
       "      <td>9</td>\n",
       "      <td>alignment on this subject and which are contra...</td>\n",
       "      <td>0</td>\n",
       "    </tr>\n",
       "    <tr>\n",
       "      <th>10</th>\n",
       "      <td>10</td>\n",
       "      <td>\"\\nFair use rationale for Image:Wonju.jpg\\n\\nT...</td>\n",
       "      <td>0</td>\n",
       "    </tr>\n",
       "    <tr>\n",
       "      <th>11</th>\n",
       "      <td>11</td>\n",
       "      <td>bbq \\n\\nbe a man and lets discuss it-maybe ove...</td>\n",
       "      <td>0</td>\n",
       "    </tr>\n",
       "    <tr>\n",
       "      <th>12</th>\n",
       "      <td>12</td>\n",
       "      <td>Hey... what is it..\\n@ | talk .\\nWhat is it......</td>\n",
       "      <td>1</td>\n",
       "    </tr>\n",
       "    <tr>\n",
       "      <th>13</th>\n",
       "      <td>13</td>\n",
       "      <td>Before you start throwing accusations and warn...</td>\n",
       "      <td>0</td>\n",
       "    </tr>\n",
       "    <tr>\n",
       "      <th>14</th>\n",
       "      <td>14</td>\n",
       "      <td>Oh, and the girl above started her arguments w...</td>\n",
       "      <td>0</td>\n",
       "    </tr>\n",
       "    <tr>\n",
       "      <th>15</th>\n",
       "      <td>15</td>\n",
       "      <td>\"\\n\\nJuelz Santanas Age\\n\\nIn 2002, Juelz Sant...</td>\n",
       "      <td>0</td>\n",
       "    </tr>\n",
       "    <tr>\n",
       "      <th>16</th>\n",
       "      <td>16</td>\n",
       "      <td>Bye! \\n\\nDon't look, come or think of comming ...</td>\n",
       "      <td>1</td>\n",
       "    </tr>\n",
       "    <tr>\n",
       "      <th>17</th>\n",
       "      <td>17</td>\n",
       "      <td>REDIRECT Talk:Voydan Pop Georgiev- Chernodrinski</td>\n",
       "      <td>0</td>\n",
       "    </tr>\n",
       "    <tr>\n",
       "      <th>18</th>\n",
       "      <td>18</td>\n",
       "      <td>The Mitsurugi point made no sense - why not ar...</td>\n",
       "      <td>0</td>\n",
       "    </tr>\n",
       "    <tr>\n",
       "      <th>19</th>\n",
       "      <td>19</td>\n",
       "      <td>Don't mean to bother you \\n\\nI see that you're...</td>\n",
       "      <td>0</td>\n",
       "    </tr>\n",
       "    <tr>\n",
       "      <th>20</th>\n",
       "      <td>20</td>\n",
       "      <td>\"\\n\\n Regarding your recent edits \\n\\nOnce aga...</td>\n",
       "      <td>0</td>\n",
       "    </tr>\n",
       "    <tr>\n",
       "      <th>21</th>\n",
       "      <td>21</td>\n",
       "      <td>\"\\nGood to know. About me, yeah, I'm studying ...</td>\n",
       "      <td>0</td>\n",
       "    </tr>\n",
       "    <tr>\n",
       "      <th>22</th>\n",
       "      <td>22</td>\n",
       "      <td>\"\\n\\n Snowflakes are NOT always symmetrical! \\...</td>\n",
       "      <td>0</td>\n",
       "    </tr>\n",
       "    <tr>\n",
       "      <th>23</th>\n",
       "      <td>23</td>\n",
       "      <td>\"\\n\\n The Signpost: 24 September 2012 \\n\\n Rea...</td>\n",
       "      <td>0</td>\n",
       "    </tr>\n",
       "    <tr>\n",
       "      <th>24</th>\n",
       "      <td>24</td>\n",
       "      <td>\"\\n\\nRe-considering 1st paragraph edit?\\nI don...</td>\n",
       "      <td>0</td>\n",
       "    </tr>\n",
       "  </tbody>\n",
       "</table>\n",
       "</div>"
      ],
      "text/plain": [
       "    Unnamed: 0                                               text  toxic\n",
       "0            0  Explanation\\nWhy the edits made under my usern...      0\n",
       "1            1  D'aww! He matches this background colour I'm s...      0\n",
       "2            2  Hey man, I'm really not trying to edit war. It...      0\n",
       "3            3  \"\\nMore\\nI can't make any real suggestions on ...      0\n",
       "4            4  You, sir, are my hero. Any chance you remember...      0\n",
       "5            5  \"\\n\\nCongratulations from me as well, use the ...      0\n",
       "6            6       COCKSUCKER BEFORE YOU PISS AROUND ON MY WORK      1\n",
       "7            7  Your vandalism to the Matt Shirvington article...      0\n",
       "8            8  Sorry if the word 'nonsense' was offensive to ...      0\n",
       "9            9  alignment on this subject and which are contra...      0\n",
       "10          10  \"\\nFair use rationale for Image:Wonju.jpg\\n\\nT...      0\n",
       "11          11  bbq \\n\\nbe a man and lets discuss it-maybe ove...      0\n",
       "12          12  Hey... what is it..\\n@ | talk .\\nWhat is it......      1\n",
       "13          13  Before you start throwing accusations and warn...      0\n",
       "14          14  Oh, and the girl above started her arguments w...      0\n",
       "15          15  \"\\n\\nJuelz Santanas Age\\n\\nIn 2002, Juelz Sant...      0\n",
       "16          16  Bye! \\n\\nDon't look, come or think of comming ...      1\n",
       "17          17   REDIRECT Talk:Voydan Pop Georgiev- Chernodrinski      0\n",
       "18          18  The Mitsurugi point made no sense - why not ar...      0\n",
       "19          19  Don't mean to bother you \\n\\nI see that you're...      0\n",
       "20          20  \"\\n\\n Regarding your recent edits \\n\\nOnce aga...      0\n",
       "21          21  \"\\nGood to know. About me, yeah, I'm studying ...      0\n",
       "22          22  \"\\n\\n Snowflakes are NOT always symmetrical! \\...      0\n",
       "23          23  \"\\n\\n The Signpost: 24 September 2012 \\n\\n Rea...      0\n",
       "24          24  \"\\n\\nRe-considering 1st paragraph edit?\\nI don...      0"
      ]
     },
     "execution_count": 5,
     "metadata": {},
     "output_type": "execute_result"
    }
   ],
   "source": [
    "df.head(25)"
   ]
  },
  {
   "cell_type": "code",
   "execution_count": 6,
   "metadata": {},
   "outputs": [
    {
     "name": "stdout",
     "output_type": "stream",
     "text": [
      "<class 'pandas.core.frame.DataFrame'>\n",
      "RangeIndex: 159292 entries, 0 to 159291\n",
      "Data columns (total 3 columns):\n",
      " #   Column      Non-Null Count   Dtype \n",
      "---  ------      --------------   ----- \n",
      " 0   Unnamed: 0  159292 non-null  int64 \n",
      " 1   text        159292 non-null  object\n",
      " 2   toxic       159292 non-null  int64 \n",
      "dtypes: int64(2), object(1)\n",
      "memory usage: 3.6+ MB\n"
     ]
    }
   ],
   "source": [
    "df.info()"
   ]
  },
  {
   "cell_type": "code",
   "execution_count": 7,
   "metadata": {},
   "outputs": [
    {
     "data": {
      "text/html": [
       "<div>\n",
       "<style scoped>\n",
       "    .dataframe tbody tr th:only-of-type {\n",
       "        vertical-align: middle;\n",
       "    }\n",
       "\n",
       "    .dataframe tbody tr th {\n",
       "        vertical-align: top;\n",
       "    }\n",
       "\n",
       "    .dataframe thead th {\n",
       "        text-align: right;\n",
       "    }\n",
       "</style>\n",
       "<table border=\"1\" class=\"dataframe\">\n",
       "  <thead>\n",
       "    <tr style=\"text-align: right;\">\n",
       "      <th></th>\n",
       "      <th>Unnamed: 0</th>\n",
       "      <th>toxic</th>\n",
       "    </tr>\n",
       "  </thead>\n",
       "  <tbody>\n",
       "    <tr>\n",
       "      <th>count</th>\n",
       "      <td>159292.000000</td>\n",
       "      <td>159292.000000</td>\n",
       "    </tr>\n",
       "    <tr>\n",
       "      <th>mean</th>\n",
       "      <td>79725.697242</td>\n",
       "      <td>0.101612</td>\n",
       "    </tr>\n",
       "    <tr>\n",
       "      <th>std</th>\n",
       "      <td>46028.837471</td>\n",
       "      <td>0.302139</td>\n",
       "    </tr>\n",
       "    <tr>\n",
       "      <th>min</th>\n",
       "      <td>0.000000</td>\n",
       "      <td>0.000000</td>\n",
       "    </tr>\n",
       "    <tr>\n",
       "      <th>25%</th>\n",
       "      <td>39872.750000</td>\n",
       "      <td>0.000000</td>\n",
       "    </tr>\n",
       "    <tr>\n",
       "      <th>50%</th>\n",
       "      <td>79721.500000</td>\n",
       "      <td>0.000000</td>\n",
       "    </tr>\n",
       "    <tr>\n",
       "      <th>75%</th>\n",
       "      <td>119573.250000</td>\n",
       "      <td>0.000000</td>\n",
       "    </tr>\n",
       "    <tr>\n",
       "      <th>max</th>\n",
       "      <td>159450.000000</td>\n",
       "      <td>1.000000</td>\n",
       "    </tr>\n",
       "  </tbody>\n",
       "</table>\n",
       "</div>"
      ],
      "text/plain": [
       "          Unnamed: 0          toxic\n",
       "count  159292.000000  159292.000000\n",
       "mean    79725.697242       0.101612\n",
       "std     46028.837471       0.302139\n",
       "min         0.000000       0.000000\n",
       "25%     39872.750000       0.000000\n",
       "50%     79721.500000       0.000000\n",
       "75%    119573.250000       0.000000\n",
       "max    159450.000000       1.000000"
      ]
     },
     "execution_count": 7,
     "metadata": {},
     "output_type": "execute_result"
    }
   ],
   "source": [
    "df.describe()"
   ]
  },
  {
   "cell_type": "code",
   "execution_count": 8,
   "metadata": {},
   "outputs": [
    {
     "data": {
      "text/plain": [
       "Unnamed: 0    0.00%\n",
       "text          0.00%\n",
       "toxic         0.00%\n",
       "dtype: object"
      ]
     },
     "execution_count": 8,
     "metadata": {},
     "output_type": "execute_result"
    }
   ],
   "source": [
    "df.isna().mean().sort_values().apply(mean_percent)"
   ]
  },
  {
   "cell_type": "markdown",
   "metadata": {},
   "source": [
    "### Вывод этапа"
   ]
  },
  {
   "cell_type": "markdown",
   "metadata": {},
   "source": [
    "Изучен датафрейм `toxic_comments.csv`:\n",
    "- 3 столбца:\n",
    "    - `Unnamed: 0` — индекс строки в данных\n",
    "    - `text` — текст комментария\n",
    "    - `toxic` — токсичность комментария\n",
    "\n",
    "- 159292 строк\n",
    "- Пропусков нет\n",
    "- Дубликатов не наблюдается"
   ]
  },
  {
   "cell_type": "markdown",
   "metadata": {},
   "source": [
    "## Обработка"
   ]
  },
  {
   "cell_type": "markdown",
   "metadata": {},
   "source": [
    "В данных присутствуют разделители строки, заглавные символы. Очистим."
   ]
  },
  {
   "cell_type": "code",
   "execution_count": 9,
   "metadata": {},
   "outputs": [],
   "source": [
    "def cleaning(text):\n",
    "    text = re.sub(r\"(?:\\n|\\r)\", \" \", text)\n",
    "    text = re.sub(r\"[^a-zA-Z ]+\", \"\", text).strip()\n",
    "    text = text.lower()\n",
    "    return text\n",
    "\n",
    "df['text'] = df['text'].apply(cleaning)"
   ]
  },
  {
   "cell_type": "markdown",
   "metadata": {},
   "source": [
    "Проведём лемматизацию."
   ]
  },
  {
   "cell_type": "code",
   "execution_count": 10,
   "metadata": {},
   "outputs": [],
   "source": [
    "corpus = df['text'].values"
   ]
  },
  {
   "cell_type": "code",
   "execution_count": 11,
   "metadata": {},
   "outputs": [
    {
     "name": "stderr",
     "output_type": "stream",
     "text": [
      "[nltk_data] Downloading package wordnet to\n",
      "[nltk_data]     C:\\Users\\Фаиль\\AppData\\Roaming\\nltk_data...\n",
      "[nltk_data]   Package wordnet is already up-to-date!\n"
     ]
    },
    {
     "data": {
      "text/plain": [
       "True"
      ]
     },
     "execution_count": 11,
     "metadata": {},
     "output_type": "execute_result"
    }
   ],
   "source": [
    "nltk.download('wordnet')"
   ]
  },
  {
   "cell_type": "code",
   "execution_count": 12,
   "metadata": {},
   "outputs": [],
   "source": [
    "lemmatizer = WordNetLemmatizer()"
   ]
  },
  {
   "cell_type": "code",
   "execution_count": 13,
   "metadata": {},
   "outputs": [],
   "source": [
    "def lemmatize(text):\n",
    "    token = nltk.word_tokenize(text)\n",
    "    text = [word for word in token]\n",
    "    text = [lemmatizer.lemmatize(word,pos='v') for word in text]\n",
    "    text = ' '.join(text)\n",
    "    return text"
   ]
  },
  {
   "cell_type": "code",
   "execution_count": 14,
   "metadata": {},
   "outputs": [
    {
     "name": "stderr",
     "output_type": "stream",
     "text": [
      "100%|████████████████████████████████████████████████████████████████████████| 159292/159292 [01:11<00:00, 2234.31it/s]\n"
     ]
    }
   ],
   "source": [
    "tqdm.pandas()\n",
    "df['lemm_text'] = df['text'].progress_apply(lemmatize)"
   ]
  },
  {
   "cell_type": "code",
   "execution_count": 15,
   "metadata": {},
   "outputs": [
    {
     "name": "stdout",
     "output_type": "stream",
     "text": [
      "                                                text\n",
      "0  The striped bats are hanging on their feet for...\n",
      "1      you should be ashamed of yourself went worked\n",
      "0    The strip bat be hang on their feet for best\n",
      "1       you should be ashamed of yourself go work\n",
      "Name: text, dtype: object\n"
     ]
    }
   ],
   "source": [
    "sentence1 = \"The striped bats are hanging on their feet for best\" \n",
    "sentence2 = \"you should be ashamed of yourself went worked\" \n",
    "df_my = pd.DataFrame([sentence1, sentence2], columns = ['text']) \n",
    "print(df_my)\n",
    "\n",
    "print(df_my['text'].apply(lemmatize))"
   ]
  },
  {
   "cell_type": "markdown",
   "metadata": {},
   "source": [
    "Разделим выборку на обучающую, валидационную и тестовую в пропорции 70% : 15% : 15%"
   ]
  },
  {
   "cell_type": "code",
   "execution_count": 16,
   "metadata": {},
   "outputs": [
    {
     "data": {
      "text/plain": [
       "(111504, 23894)"
      ]
     },
     "execution_count": 16,
     "metadata": {},
     "output_type": "execute_result"
    }
   ],
   "source": [
    "Y = df['toxic']\n",
    "X = df['text']\n",
    "X_train, X_test, Y_train, Y_test = train_test_split(X, Y, test_size = .3, random_state = RANDOM_STATE,stratify=Y)\n",
    "X_valid, X_test, Y_valid, Y_test = train_test_split(X_test, Y_test, test_size = .5, random_state = RANDOM_STATE,stratify=Y_test)\n",
    "X_train.shape[0], X_test.shape[0]"
   ]
  },
  {
   "cell_type": "markdown",
   "metadata": {},
   "source": [
    "Очистим от стоп-слов."
   ]
  },
  {
   "cell_type": "code",
   "execution_count": 17,
   "metadata": {},
   "outputs": [
    {
     "name": "stderr",
     "output_type": "stream",
     "text": [
      "[nltk_data] Downloading package stopwords to\n",
      "[nltk_data]     C:\\Users\\Фаиль\\AppData\\Roaming\\nltk_data...\n",
      "[nltk_data]   Package stopwords is already up-to-date!\n"
     ]
    },
    {
     "data": {
      "text/plain": [
       "True"
      ]
     },
     "execution_count": 17,
     "metadata": {},
     "output_type": "execute_result"
    }
   ],
   "source": [
    "nltk.download('stopwords')"
   ]
  },
  {
   "cell_type": "code",
   "execution_count": 18,
   "metadata": {},
   "outputs": [],
   "source": [
    "count_tf_idf = TfidfVectorizer(stop_words='english')"
   ]
  },
  {
   "cell_type": "markdown",
   "metadata": {},
   "source": [
    "Проведём векторизацию."
   ]
  },
  {
   "cell_type": "code",
   "execution_count": 19,
   "metadata": {},
   "outputs": [],
   "source": [
    "X_train_tfd = count_tf_idf.fit_transform(X_train)\n",
    "X_valid_tfd = count_tf_idf.transform(X_valid)\n",
    "X_test_tfd = count_tf_idf.transform(X_test)"
   ]
  },
  {
   "cell_type": "markdown",
   "metadata": {},
   "source": [
    "Оценим баланс классов"
   ]
  },
  {
   "cell_type": "code",
   "execution_count": 20,
   "metadata": {},
   "outputs": [
    {
     "data": {
      "image/png": "[encoded data removed]",
      "text/plain": [
       "<Figure size 500x500 with 1 Axes>"
      ]
     },
     "metadata": {},
     "output_type": "display_data"
    }
   ],
   "source": [
    "Y.value_counts().plot(\n",
    "    kind = 'pie',\n",
    "    autopct = '%0.01f%%',\n",
    "    figsize=figsize(), \n",
    "    title = 'Распределение комментариев',\n",
    "    colors=[new_color(2),new_color(14)],explode = (0.05,0), shadow=True);\n",
    "plt.ylabel('')\n",
    "None"
   ]
  },
  {
   "cell_type": "markdown",
   "metadata": {},
   "source": [
    "### Вывод этапа"
   ]
  },
  {
   "cell_type": "markdown",
   "metadata": {},
   "source": [
    "- Данные очищены от лишних символов;\n",
    "- Проведена лемматизация;\n",
    "- Проведена векторизация с удалением стоп-слов;\n",
    "- Число нетоксичных комментариев почти в девять раз превышает число токсичных;\n",
    "- Выборка разделена на обучающую, валидационную и тестовую в пропорции 70% : 15% : 15%."
   ]
  },
  {
   "cell_type": "markdown",
   "metadata": {},
   "source": [
    "## Обучение"
   ]
  },
  {
   "cell_type": "markdown",
   "metadata": {},
   "source": [
    "Зададим функцию для оценки качества модели. В качестве моделей рассмотрим `LogisticRegression`, `XGBClassifier` и `LGBMClassifier`."
   ]
  },
  {
   "cell_type": "code",
   "execution_count": 21,
   "metadata": {},
   "outputs": [],
   "source": [
    "def score_and_plot(model_name, X_train_tfd, Y_train, X_valid_tfd, Y_valid):\n",
    "    if model_name == 'line':\n",
    "         model = LogisticRegression(**params_line, random_state=RANDOM_STATE)\n",
    "    elif model_name == 'xg_boost':\n",
    "            model = xgb.XGBClassifier(**params_xg_boost, random_state=RANDOM_STATE)\n",
    "    elif model_name == 'light_GBM':\n",
    "            model = LGBMClassifier(**params_light_GBM, random_state=RANDOM_STATE, verbose=0)\n",
    "    model.fit(X_train_tfd, Y_train)\n",
    "    predictions_valid = model.predict(X_valid_tfd)\n",
    "    probabilities_one_valid = model.predict_proba(X_valid_tfd)[:, 1]\n",
    "    \n",
    "    print('Метрики на валидационной выборке:')\n",
    "    print('ROC-AUC:', roc_auc_score(Y_valid, probabilities_one_valid))\n",
    "    print('F1:', f1_score(Y_valid, predictions_valid))\n",
    "    print('Precision:', precision_score(Y_valid, predictions_valid))\n",
    "    print('Recall:', recall_score(Y_valid, predictions_valid))\n",
    "    print('Accuracy:', accuracy_score(Y_valid, predictions_valid))\n",
    "    print()\n",
    "    \n",
    "    plt.figure(figsize=figsize(2))\n",
    "    ax1 = plt.subplot(1,2,1)\n",
    "    c_mat = confusion_matrix(y_pred = predictions_valid, y_true=Y_valid,\n",
    "                          normalize='true')\n",
    "    \n",
    "    ConfusionMatrixDisplay(confusion_matrix=c_mat).plot(ax=ax1,cmap=cm)\n",
    "    ax2 = plt.subplot(1,2,2)\n",
    "    fpr, tpr, thresholds = roc_curve(Y_valid, probabilities_one_valid) \n",
    "    plt.plot(fpr, tpr, linestyle='solid', color=new_color(3))\n",
    "    plt.plot([0, 1], [0, 1], linestyle='--',color=new_color(14))\n",
    "    plt.xlim([0.0, 1.0])\n",
    "    plt.ylim([0.0, 1.0])\n",
    "    plt.xlabel('False Positive Rate')\n",
    "    plt.ylabel('True Positive Rate')\n",
    "    plt.title('ROC-кривая')"
   ]
  },
  {
   "cell_type": "markdown",
   "metadata": {},
   "source": [
    "### Подбор параметров"
   ]
  },
  {
   "cell_type": "markdown",
   "metadata": {},
   "source": [
    "Оценим модели без учёта дисбаланса классов."
   ]
  },
  {
   "cell_type": "code",
   "execution_count": 22,
   "metadata": {},
   "outputs": [],
   "source": [
    "def objective(trial,features=X_train,target=Y_train):\n",
    "    if model_type == 'line':\n",
    "        param = {\n",
    "            'solver': trial.suggest_categorical('solver', ['liblinear']),\n",
    "            'penalty': trial.suggest_categorical('penalty', ['l1', 'l2']),\n",
    "            'C': trial.suggest_float('C', 5, 15),\n",
    "        }\n",
    "        model = LogisticRegression(**param, random_state=RANDOM_STATE)\n",
    "    elif model_type == 'xg_boost':\n",
    "        param = {\n",
    "            'n_estimators': trial.suggest_int('n_estimators', 50, 150),\n",
    "            'max_depth': trial.suggest_int('max_depth', 2, 10),\n",
    "        }\n",
    "        model = xgb.XGBClassifier(**param, random_state=RANDOM_STATE)\n",
    "\n",
    "    \n",
    "    elif model_type == 'light_GBM':\n",
    "        \n",
    "        param = {\n",
    "            'num_leaves': trial.suggest_int('num_leaves', 20, 150), \n",
    "            'learning_rate': trial.suggest_float('learning_rate', .05, .5),\n",
    "            'n_estimators': trial.suggest_int('n_estimators', 50, 150)\n",
    "        }\n",
    "            \n",
    "        model = LGBMClassifier(**param, random_state=RANDOM_STATE)\n",
    "    \n",
    "    count_tf_idf = TfidfVectorizer(stop_words='english')\n",
    "    \n",
    "    pipeline = Pipeline([('transformer', count_tf_idf), ('estimator', model)])\n",
    "    \n",
    "    score = cross_val_score(pipeline, features, target, cv = 3, scoring='f1', n_jobs = 2).mean()\n",
    "    \n",
    "    return score"
   ]
  },
  {
   "cell_type": "code",
   "execution_count": 23,
   "metadata": {},
   "outputs": [
    {
     "name": "stdout",
     "output_type": "stream",
     "text": [
      "F1 кросс-валидации: 0.77\n",
      "\n",
      "Метрики на валидационной выборке:\n",
      "ROC-AUC: 0.9618097355904458\n",
      "F1: 0.7825506343200533\n",
      "Precision: 0.8513317191283293\n",
      "Recall: 0.7240527182866557\n",
      "Accuracy: 0.9591110739097681\n",
      "\n",
      "CPU times: total: 6.88 s\n",
      "Wall time: 2min 15s\n"
     ]
    },
    {
     "data": {
      "image/png": "[encoded data removed]",
      "text/plain": [
       "<Figure size 1000x500 with 3 Axes>"
      ]
     },
     "metadata": {},
     "output_type": "display_data"
    }
   ],
   "source": [
    "%%time\n",
    "sampler = optuna.samplers.TPESampler(seed=RANDOM_STATE)\n",
    "optuna.logging.set_verbosity(optuna.logging.WARNING)\n",
    "model_type = 'line'\n",
    "study_line = optuna.create_study(study_name=\"line\",\n",
    "                                   direction=\"maximize\",\n",
    "                                   sampler=sampler\n",
    "                                   )\n",
    "# ищем лучшую комбинацию гиперпараметров n_trials раз\n",
    "study_line.optimize(objective, n_trials=10)\n",
    "\n",
    "# выводим результаты на обучающей выборке\n",
    "#print(\"Наилучшие значения гиперпараметров {}\".format(study_xg_boost.best_params))\n",
    "print(\"F1 кросс-валидации: {:.2f}\".format(study_line.best_value))\n",
    "print()\n",
    "params_line = study_line.best_params\n",
    "score_line = study_line.best_value\n",
    "\n",
    "score_and_plot(model_type, X_train_tfd, Y_train, X_valid_tfd, Y_valid)"
   ]
  },
  {
   "cell_type": "code",
   "execution_count": 24,
   "metadata": {},
   "outputs": [
    {
     "name": "stdout",
     "output_type": "stream",
     "text": [
      "F1 кросс-валидации: 0.73\n",
      "\n",
      "Метрики на валидационной выборке:\n",
      "ROC-AUC: 0.9494528798539846\n",
      "F1: 0.7299950908198332\n",
      "Precision: 0.9034021871202916\n",
      "Recall: 0.6124382207578254\n",
      "Accuracy: 0.9539633380765046\n",
      "\n",
      "CPU times: total: 9min 21s\n",
      "Wall time: 11min 8s\n"
     ]
    },
    {
     "data": {
      "image/png": "[encoded data removed]",
      "text/plain": [
       "<Figure size 1000x500 with 3 Axes>"
      ]
     },
     "metadata": {},
     "output_type": "display_data"
    }
   ],
   "source": [
    "%%time\n",
    "sampler = optuna.samplers.TPESampler(seed=RANDOM_STATE)\n",
    "optuna.logging.set_verbosity(optuna.logging.WARNING)\n",
    "model_type = 'xg_boost'\n",
    "study_xg_boost = optuna.create_study(study_name=\"xg_boost\",\n",
    "                                   direction=\"maximize\",\n",
    "                                   sampler=sampler\n",
    "                                   )\n",
    "# ищем лучшую комбинацию гиперпараметров n_trials раз\n",
    "study_xg_boost.optimize(objective, n_trials=10)\n",
    "\n",
    "# выводим результаты на обучающей выборке\n",
    "#print(\"Наилучшие значения гиперпараметров {}\".format(study_xg_boost.best_params))\n",
    "print(\"F1 кросс-валидации: {:.2f}\".format(study_xg_boost.best_value))\n",
    "print()\n",
    "params_xg_boost = study_xg_boost.best_params\n",
    "score_xg_boost = study_xg_boost.best_value\n",
    "\n",
    "\n",
    "score_and_plot(model_type, X_train_tfd, Y_train, X_valid_tfd, Y_valid)"
   ]
  },
  {
   "cell_type": "code",
   "execution_count": 25,
   "metadata": {},
   "outputs": [
    {
     "name": "stdout",
     "output_type": "stream",
     "text": [
      "F1 кросс-валидации: 0.76\n",
      "\n",
      "Метрики на валидационной выборке:\n",
      "ROC-AUC: 0.9625659024631266\n",
      "F1: 0.7751615881809787\n",
      "Precision: 0.881827731092437\n",
      "Recall: 0.6915156507413509\n",
      "Accuracy: 0.9592366284422867\n",
      "\n",
      "CPU times: total: 5min 41s\n",
      "Wall time: 11min 30s\n"
     ]
    },
    {
     "data": {
      "image/png": "[encoded data removed]",
      "text/plain": [
       "<Figure size 1000x500 with 3 Axes>"
      ]
     },
     "metadata": {},
     "output_type": "display_data"
    }
   ],
   "source": [
    "%%time\n",
    "model_type = 'light_GBM'\n",
    "sampler = optuna.samplers.TPESampler(seed=RANDOM_STATE)\n",
    "optuna.logging.set_verbosity(optuna.logging.WARNING)\n",
    "study_light_GBM = optuna.create_study(study_name=\"light_GBM\",\n",
    "                                   direction=\"maximize\",\n",
    "                                      sampler=sampler\n",
    "                                   )\n",
    "# ищем лучшую комбинацию гиперпараметров n_trials раз\n",
    "study_light_GBM.optimize(objective, n_trials=10)\n",
    "\n",
    "# выводим результаты на обучающей выборке\n",
    "#print(\"Наилучшие значения гиперпараметров {}\".format(study_light_GBM.best_params))\n",
    "print(\"F1 кросс-валидации: {:.2f}\".format(study_light_GBM.best_value))\n",
    "print()\n",
    "params_light_GBM = study_light_GBM.best_params\n",
    "score_light_GBM = study_light_GBM.best_value\n",
    "\n",
    "score_and_plot(model_type, X_train_tfd, Y_train, X_valid_tfd, Y_valid)"
   ]
  },
  {
   "cell_type": "markdown",
   "metadata": {},
   "source": [
    "Лучшие показатели у модели `LGBMClassifier` с F1 = 0.78"
   ]
  },
  {
   "cell_type": "markdown",
   "metadata": {},
   "source": [
    "### Вывод этапа"
   ]
  },
  {
   "cell_type": "markdown",
   "metadata": {},
   "source": [
    "- Рассмотрены модели `LogisticRegression`, `XGBClassifier` и `LGBMClassifier`\n",
    "- Лучшей моделью оказалась `LogisticRegression` с F1 = 0.78"
   ]
  },
  {
   "cell_type": "markdown",
   "metadata": {},
   "source": [
    "## Тестирование модели"
   ]
  },
  {
   "cell_type": "markdown",
   "metadata": {},
   "source": [
    "В качестве итоговой модели выберем `LogisticRegression`."
   ]
  },
  {
   "cell_type": "code",
   "execution_count": 28,
   "metadata": {},
   "outputs": [],
   "source": [
    "best_model = 'line'"
   ]
  },
  {
   "cell_type": "code",
   "execution_count": 29,
   "metadata": {},
   "outputs": [
    {
     "name": "stdout",
     "output_type": "stream",
     "text": [
      "Метрики на валидационной выборке:\n",
      "ROC-AUC: 0.9628005077874195\n",
      "F1: 0.7782186948853614\n",
      "Precision: 0.8372865275142315\n",
      "Recall: 0.7269357495881383\n",
      "Accuracy: 0.9578973800954215\n",
      "\n"
     ]
    },
    {
     "data": {
      "image/png": "[encoded data removed]",
      "text/plain": [
       "<Figure size 1000x500 with 3 Axes>"
      ]
     },
     "metadata": {},
     "output_type": "display_data"
    }
   ],
   "source": [
    "score_and_plot(best_model, X_train_tfd, Y_train, X_test_tfd, Y_test)"
   ]
  },
  {
   "cell_type": "markdown",
   "metadata": {},
   "source": [
    "F1 на тестовой выборке 0.78, что больше требуемых 0.75."
   ]
  },
  {
   "cell_type": "markdown",
   "metadata": {},
   "source": [
    "## Выводы"
   ]
  },
  {
   "cell_type": "markdown",
   "metadata": {},
   "source": [
    "- Изучен датафрейм `toxic_comments.csv`:\n",
    "    - 3 столбца:\n",
    "        - `Unnamed: 0` — индекс строки в данных\n",
    "        - `text` — текст комментария\n",
    "        - `toxic` — токсичность комментария\n",
    "    - 159292 строк\n",
    "    - Пропусков нет\n",
    "    - Дубликатов не наблюдается\n",
    "    - Число нетоксичных комментариев почти в девять раз превышает число токсичных;\n",
    "- Данные обработаны: \n",
    "    - Данные очищены от лишних символов;\n",
    "    - Проведена лемматизация;\n",
    "    - Проведена векторизация с удалением стоп-слов;\n",
    "- Обучены модели:\n",
    "    - Выборка разделена на обучающую, валидационную и тестовую в пропорции 70% : 15% : 15%.\n",
    "    - Рассмотрены модели `LogisticRegression`, `XGBClassifier` и `LGBMClassifier`\n",
    "    - Лучшей моделью оказалась `LogisticRegression` с F1 = 0.78\n",
    "- F1 на тестовой выборке 0.78, что больше требуемых 0.75."
   ]
  }
 ],
 "metadata": {
  "ExecuteTimeLog": [
   {
    "duration": 3,
    "start_time": "2023-11-28T13:03:45.414Z"
   },
   {
    "duration": 2274,
    "start_time": "2023-11-28T13:04:03.861Z"
   },
   {
    "duration": 9,
    "start_time": "2023-11-28T13:04:06.137Z"
   },
   {
    "duration": 2406,
    "start_time": "2023-11-28T13:04:42.657Z"
   },
   {
    "duration": 13,
    "start_time": "2023-11-28T13:04:45.065Z"
   },
   {
    "duration": 30,
    "start_time": "2023-11-28T13:04:48.338Z"
   },
   {
    "duration": 20,
    "start_time": "2023-11-28T13:04:49.106Z"
   },
   {
    "duration": 496,
    "start_time": "2023-11-28T13:31:37.454Z"
   },
   {
    "duration": 337,
    "start_time": "2023-11-28T13:32:03.017Z"
   },
   {
    "duration": 2546,
    "start_time": "2023-11-28T13:32:07.225Z"
   },
   {
    "duration": 6,
    "start_time": "2023-11-28T13:40:48.642Z"
   },
   {
    "duration": 2321,
    "start_time": "2023-11-28T13:42:02.075Z"
   },
   {
    "duration": 3,
    "start_time": "2023-11-28T13:42:57.610Z"
   },
   {
    "duration": 335,
    "start_time": "2023-11-28T13:43:18.509Z"
   },
   {
    "duration": 10,
    "start_time": "2023-11-28T13:43:39.287Z"
   },
   {
    "duration": 5,
    "start_time": "2023-11-28T13:43:53.648Z"
   },
   {
    "duration": 9,
    "start_time": "2023-11-28T13:43:55.073Z"
   },
   {
    "duration": 7,
    "start_time": "2023-11-28T13:44:30.423Z"
   },
   {
    "duration": 3,
    "start_time": "2023-11-28T13:44:34.423Z"
   },
   {
    "duration": 4,
    "start_time": "2023-11-28T13:44:34.846Z"
   },
   {
    "duration": 3,
    "start_time": "2023-11-28T13:44:36.247Z"
   },
   {
    "duration": 491,
    "start_time": "2023-11-28T13:44:37.903Z"
   },
   {
    "duration": 8,
    "start_time": "2023-11-28T13:45:06.754Z"
   },
   {
    "duration": 5,
    "start_time": "2023-11-28T13:45:59.236Z"
   },
   {
    "duration": 4,
    "start_time": "2023-11-28T13:46:04.120Z"
   },
   {
    "duration": 65381,
    "start_time": "2023-11-28T13:46:06.026Z"
   },
   {
    "duration": 12,
    "start_time": "2023-11-28T13:47:49.559Z"
   },
   {
    "duration": 48,
    "start_time": "2023-11-29T18:16:08.542Z"
   },
   {
    "duration": 2,
    "start_time": "2023-11-29T18:16:15.628Z"
   },
   {
    "duration": 2093,
    "start_time": "2023-11-29T18:16:16.309Z"
   },
   {
    "duration": 11,
    "start_time": "2023-11-29T18:16:18.404Z"
   },
   {
    "duration": 3409,
    "start_time": "2023-11-29T18:16:18.416Z"
   },
   {
    "duration": 14,
    "start_time": "2023-11-29T18:16:21.828Z"
   },
   {
    "duration": 36,
    "start_time": "2023-11-29T18:16:21.844Z"
   },
   {
    "duration": 25,
    "start_time": "2023-11-29T18:16:21.882Z"
   },
   {
    "duration": 29,
    "start_time": "2023-11-29T18:16:21.914Z"
   },
   {
    "duration": 16,
    "start_time": "2023-11-29T18:16:21.945Z"
   },
   {
    "duration": 273,
    "start_time": "2023-11-29T18:16:21.963Z"
   },
   {
    "duration": 3,
    "start_time": "2023-11-29T18:16:22.239Z"
   },
   {
    "duration": 25,
    "start_time": "2023-11-29T18:16:22.244Z"
   },
   {
    "duration": 73734,
    "start_time": "2023-11-29T18:16:22.271Z"
   },
   {
    "duration": 11,
    "start_time": "2023-11-29T18:17:36.006Z"
   },
   {
    "duration": 4,
    "start_time": "2023-11-29T18:53:56.536Z"
   },
   {
    "duration": 32,
    "start_time": "2023-11-29T18:54:53.066Z"
   },
   {
    "duration": 103,
    "start_time": "2023-11-29T18:55:17.701Z"
   },
   {
    "duration": 6,
    "start_time": "2023-11-29T18:55:43.301Z"
   },
   {
    "duration": 3,
    "start_time": "2023-11-29T18:55:49.904Z"
   },
   {
    "duration": 912,
    "start_time": "2023-11-29T18:56:31.270Z"
   },
   {
    "duration": 909,
    "start_time": "2023-11-29T18:56:44.832Z"
   },
   {
    "duration": 1825,
    "start_time": "2023-11-29T18:56:55.065Z"
   },
   {
    "duration": 49,
    "start_time": "2023-11-29T18:58:09.827Z"
   },
   {
    "duration": 3,
    "start_time": "2023-11-29T18:58:16.073Z"
   },
   {
    "duration": 1935,
    "start_time": "2023-11-29T18:58:16.078Z"
   },
   {
    "duration": 8,
    "start_time": "2023-11-29T18:58:18.015Z"
   },
   {
    "duration": 3404,
    "start_time": "2023-11-29T18:58:18.025Z"
   },
   {
    "duration": 12,
    "start_time": "2023-11-29T18:58:21.432Z"
   },
   {
    "duration": 31,
    "start_time": "2023-11-29T18:58:21.445Z"
   },
   {
    "duration": 20,
    "start_time": "2023-11-29T18:58:21.478Z"
   },
   {
    "duration": 35,
    "start_time": "2023-11-29T18:58:21.500Z"
   },
   {
    "duration": 4,
    "start_time": "2023-11-29T18:58:21.536Z"
   },
   {
    "duration": 223,
    "start_time": "2023-11-29T18:58:21.542Z"
   },
   {
    "duration": 3,
    "start_time": "2023-11-29T18:58:21.766Z"
   },
   {
    "duration": 9,
    "start_time": "2023-11-29T18:58:21.770Z"
   },
   {
    "duration": 73410,
    "start_time": "2023-11-29T18:58:21.781Z"
   },
   {
    "duration": 9,
    "start_time": "2023-11-29T18:59:35.194Z"
   },
   {
    "duration": 9,
    "start_time": "2023-11-29T18:59:35.205Z"
   },
   {
    "duration": 31,
    "start_time": "2023-11-29T18:59:35.216Z"
   },
   {
    "duration": 3,
    "start_time": "2023-11-29T18:59:35.249Z"
   },
   {
    "duration": 1715,
    "start_time": "2023-11-29T18:59:35.253Z"
   },
   {
    "duration": 147,
    "start_time": "2023-11-29T18:59:36.970Z"
   },
   {
    "duration": 3,
    "start_time": "2023-11-29T19:01:56.893Z"
   },
   {
    "duration": 1912,
    "start_time": "2023-11-29T19:01:56.898Z"
   },
   {
    "duration": 8,
    "start_time": "2023-11-29T19:01:58.812Z"
   },
   {
    "duration": 3437,
    "start_time": "2023-11-29T19:01:58.822Z"
   },
   {
    "duration": 14,
    "start_time": "2023-11-29T19:02:02.261Z"
   },
   {
    "duration": 76,
    "start_time": "2023-11-29T19:02:02.277Z"
   },
   {
    "duration": 22,
    "start_time": "2023-11-29T19:02:02.355Z"
   },
   {
    "duration": 27,
    "start_time": "2023-11-29T19:02:02.379Z"
   },
   {
    "duration": 12,
    "start_time": "2023-11-29T19:02:02.407Z"
   },
   {
    "duration": 265,
    "start_time": "2023-11-29T19:02:02.420Z"
   },
   {
    "duration": 3,
    "start_time": "2023-11-29T19:02:02.686Z"
   },
   {
    "duration": 16,
    "start_time": "2023-11-29T19:02:02.690Z"
   },
   {
    "duration": 73684,
    "start_time": "2023-11-29T19:02:02.707Z"
   },
   {
    "duration": 10,
    "start_time": "2023-11-29T19:03:16.393Z"
   },
   {
    "duration": 10,
    "start_time": "2023-11-29T19:03:16.404Z"
   },
   {
    "duration": 31,
    "start_time": "2023-11-29T19:03:16.416Z"
   },
   {
    "duration": 3,
    "start_time": "2023-11-29T19:03:16.449Z"
   },
   {
    "duration": 165,
    "start_time": "2023-11-29T19:03:16.453Z"
   },
   {
    "duration": 4,
    "start_time": "2023-11-30T09:15:41.354Z"
   },
   {
    "duration": 2133,
    "start_time": "2023-11-30T09:15:42.158Z"
   },
   {
    "duration": 9,
    "start_time": "2023-11-30T09:15:44.293Z"
   },
   {
    "duration": 2331,
    "start_time": "2023-11-30T09:15:44.303Z"
   },
   {
    "duration": 14,
    "start_time": "2023-11-30T09:15:46.636Z"
   },
   {
    "duration": 28,
    "start_time": "2023-11-30T09:15:46.652Z"
   },
   {
    "duration": 20,
    "start_time": "2023-11-30T09:15:46.681Z"
   },
   {
    "duration": 26,
    "start_time": "2023-11-30T09:15:47.580Z"
   },
   {
    "duration": 2657,
    "start_time": "2023-11-30T09:16:18.565Z"
   },
   {
    "duration": 2753,
    "start_time": "2023-11-30T09:16:33.702Z"
   },
   {
    "duration": 4,
    "start_time": "2023-11-30T09:16:56.270Z"
   },
   {
    "duration": 4,
    "start_time": "2023-11-30T09:17:09.801Z"
   },
   {
    "duration": 2013,
    "start_time": "2023-11-30T09:17:10.768Z"
   },
   {
    "duration": 9,
    "start_time": "2023-11-30T09:17:12.782Z"
   },
   {
    "duration": 2315,
    "start_time": "2023-11-30T09:17:12.793Z"
   },
   {
    "duration": 12,
    "start_time": "2023-11-30T09:17:15.110Z"
   },
   {
    "duration": 51,
    "start_time": "2023-11-30T09:17:15.124Z"
   },
   {
    "duration": 31,
    "start_time": "2023-11-30T09:17:15.176Z"
   },
   {
    "duration": 26,
    "start_time": "2023-11-30T09:17:15.209Z"
   },
   {
    "duration": 2664,
    "start_time": "2023-11-30T09:17:15.237Z"
   },
   {
    "duration": 6,
    "start_time": "2023-11-30T09:17:17.903Z"
   },
   {
    "duration": 2995,
    "start_time": "2023-11-30T09:17:17.912Z"
   },
   {
    "duration": 140,
    "start_time": "2023-11-30T09:17:48.787Z"
   },
   {
    "duration": 209,
    "start_time": "2023-11-30T09:18:09.872Z"
   },
   {
    "duration": 11,
    "start_time": "2023-11-30T09:18:11.647Z"
   },
   {
    "duration": 4,
    "start_time": "2023-11-30T09:18:56.695Z"
   },
   {
    "duration": 67,
    "start_time": "2023-11-30T09:19:07.888Z"
   },
   {
    "duration": 7199,
    "start_time": "2023-11-30T09:19:22.470Z"
   },
   {
    "duration": 102,
    "start_time": "2023-11-30T09:36:48.100Z"
   },
   {
    "duration": 7734,
    "start_time": "2023-11-30T09:37:24.759Z"
   },
   {
    "duration": 5,
    "start_time": "2023-11-30T09:37:38.068Z"
   },
   {
    "duration": 6,
    "start_time": "2023-11-30T09:40:37.490Z"
   },
   {
    "duration": 10,
    "start_time": "2023-11-30T09:40:42.178Z"
   },
   {
    "duration": 207,
    "start_time": "2023-11-30T09:41:00.364Z"
   },
   {
    "duration": 3,
    "start_time": "2023-11-30T09:41:07.188Z"
   },
   {
    "duration": 1897,
    "start_time": "2023-11-30T09:41:07.193Z"
   },
   {
    "duration": 13,
    "start_time": "2023-11-30T09:41:09.092Z"
   },
   {
    "duration": 2281,
    "start_time": "2023-11-30T09:41:09.108Z"
   },
   {
    "duration": 13,
    "start_time": "2023-11-30T09:41:11.391Z"
   },
   {
    "duration": 51,
    "start_time": "2023-11-30T09:41:11.405Z"
   },
   {
    "duration": 19,
    "start_time": "2023-11-30T09:41:11.458Z"
   },
   {
    "duration": 26,
    "start_time": "2023-11-30T09:41:11.479Z"
   },
   {
    "duration": 2631,
    "start_time": "2023-11-30T09:41:11.507Z"
   },
   {
    "duration": 4,
    "start_time": "2023-11-30T09:41:14.141Z"
   },
   {
    "duration": 3217,
    "start_time": "2023-11-30T09:41:14.146Z"
   },
   {
    "duration": 132,
    "start_time": "2023-11-30T09:41:17.366Z"
   },
   {
    "duration": 4,
    "start_time": "2023-11-30T09:41:17.500Z"
   },
   {
    "duration": 103,
    "start_time": "2023-11-30T09:41:17.505Z"
   },
   {
    "duration": 7293,
    "start_time": "2023-11-30T09:41:17.609Z"
   },
   {
    "duration": 4,
    "start_time": "2023-11-30T09:41:38.436Z"
   },
   {
    "duration": 2329,
    "start_time": "2023-11-30T09:41:38.442Z"
   },
   {
    "duration": 9,
    "start_time": "2023-11-30T09:41:40.773Z"
   },
   {
    "duration": 2256,
    "start_time": "2023-11-30T09:41:40.784Z"
   },
   {
    "duration": 12,
    "start_time": "2023-11-30T09:41:43.043Z"
   },
   {
    "duration": 45,
    "start_time": "2023-11-30T09:41:43.056Z"
   },
   {
    "duration": 28,
    "start_time": "2023-11-30T09:41:43.103Z"
   },
   {
    "duration": 36,
    "start_time": "2023-11-30T09:41:43.133Z"
   },
   {
    "duration": 2666,
    "start_time": "2023-11-30T09:41:43.171Z"
   },
   {
    "duration": 5,
    "start_time": "2023-11-30T09:41:45.839Z"
   },
   {
    "duration": 2928,
    "start_time": "2023-11-30T09:41:45.845Z"
   },
   {
    "duration": 217,
    "start_time": "2023-11-30T09:41:48.775Z"
   },
   {
    "duration": 5,
    "start_time": "2023-11-30T09:41:48.994Z"
   },
   {
    "duration": 89,
    "start_time": "2023-11-30T09:41:49.001Z"
   },
   {
    "duration": 3,
    "start_time": "2023-11-30T09:42:18.553Z"
   },
   {
    "duration": 1953,
    "start_time": "2023-11-30T09:42:18.558Z"
   },
   {
    "duration": 8,
    "start_time": "2023-11-30T09:42:20.513Z"
   },
   {
    "duration": 2465,
    "start_time": "2023-11-30T09:42:20.523Z"
   },
   {
    "duration": 12,
    "start_time": "2023-11-30T09:42:22.990Z"
   },
   {
    "duration": 51,
    "start_time": "2023-11-30T09:42:23.004Z"
   },
   {
    "duration": 44,
    "start_time": "2023-11-30T09:42:23.056Z"
   },
   {
    "duration": 43,
    "start_time": "2023-11-30T09:42:23.102Z"
   },
   {
    "duration": 2610,
    "start_time": "2023-11-30T09:42:23.147Z"
   },
   {
    "duration": 8,
    "start_time": "2023-11-30T09:42:25.758Z"
   },
   {
    "duration": 2959,
    "start_time": "2023-11-30T09:42:25.769Z"
   },
   {
    "duration": 209,
    "start_time": "2023-11-30T09:42:28.730Z"
   },
   {
    "duration": 5,
    "start_time": "2023-11-30T09:42:28.940Z"
   },
   {
    "duration": 144,
    "start_time": "2023-11-30T09:42:28.947Z"
   },
   {
    "duration": 4,
    "start_time": "2023-11-30T09:43:28.257Z"
   },
   {
    "duration": 1844,
    "start_time": "2023-11-30T09:43:28.527Z"
   },
   {
    "duration": 8,
    "start_time": "2023-11-30T09:43:30.372Z"
   },
   {
    "duration": 2312,
    "start_time": "2023-11-30T09:43:30.381Z"
   },
   {
    "duration": 12,
    "start_time": "2023-11-30T09:43:32.695Z"
   },
   {
    "duration": 29,
    "start_time": "2023-11-30T09:43:32.708Z"
   },
   {
    "duration": 33,
    "start_time": "2023-11-30T09:43:32.739Z"
   },
   {
    "duration": 33,
    "start_time": "2023-11-30T09:43:32.774Z"
   },
   {
    "duration": 2521,
    "start_time": "2023-11-30T09:43:32.808Z"
   },
   {
    "duration": 5,
    "start_time": "2023-11-30T09:43:35.331Z"
   },
   {
    "duration": 2980,
    "start_time": "2023-11-30T09:43:35.338Z"
   },
   {
    "duration": 208,
    "start_time": "2023-11-30T09:43:38.320Z"
   },
   {
    "duration": 4,
    "start_time": "2023-11-30T09:43:38.530Z"
   },
   {
    "duration": 111,
    "start_time": "2023-11-30T09:43:38.536Z"
   },
   {
    "duration": 3,
    "start_time": "2023-11-30T09:44:02.328Z"
   },
   {
    "duration": 4,
    "start_time": "2023-11-30T09:44:05.188Z"
   },
   {
    "duration": 1831,
    "start_time": "2023-11-30T09:44:05.194Z"
   },
   {
    "duration": 8,
    "start_time": "2023-11-30T09:44:07.027Z"
   },
   {
    "duration": 2277,
    "start_time": "2023-11-30T09:44:07.037Z"
   },
   {
    "duration": 12,
    "start_time": "2023-11-30T09:44:09.316Z"
   },
   {
    "duration": 70,
    "start_time": "2023-11-30T09:44:09.330Z"
   },
   {
    "duration": 21,
    "start_time": "2023-11-30T09:44:09.402Z"
   },
   {
    "duration": 26,
    "start_time": "2023-11-30T09:44:09.424Z"
   },
   {
    "duration": 2661,
    "start_time": "2023-11-30T09:44:09.453Z"
   },
   {
    "duration": 5,
    "start_time": "2023-11-30T09:44:12.116Z"
   },
   {
    "duration": 2926,
    "start_time": "2023-11-30T09:44:12.122Z"
   },
   {
    "duration": 133,
    "start_time": "2023-11-30T09:44:15.050Z"
   },
   {
    "duration": 5,
    "start_time": "2023-11-30T09:44:15.185Z"
   },
   {
    "duration": 98,
    "start_time": "2023-11-30T09:44:15.191Z"
   },
   {
    "duration": 3,
    "start_time": "2023-11-30T09:44:27.403Z"
   },
   {
    "duration": 1870,
    "start_time": "2023-11-30T09:44:27.408Z"
   },
   {
    "duration": 8,
    "start_time": "2023-11-30T09:44:29.279Z"
   },
   {
    "duration": 2246,
    "start_time": "2023-11-30T09:44:29.289Z"
   },
   {
    "duration": 13,
    "start_time": "2023-11-30T09:44:31.536Z"
   },
   {
    "duration": 43,
    "start_time": "2023-11-30T09:44:31.551Z"
   },
   {
    "duration": 27,
    "start_time": "2023-11-30T09:44:31.596Z"
   },
   {
    "duration": 29,
    "start_time": "2023-11-30T09:44:31.625Z"
   },
   {
    "duration": 2690,
    "start_time": "2023-11-30T09:44:31.666Z"
   },
   {
    "duration": 8,
    "start_time": "2023-11-30T09:44:34.357Z"
   },
   {
    "duration": 2965,
    "start_time": "2023-11-30T09:44:34.367Z"
   },
   {
    "duration": 128,
    "start_time": "2023-11-30T09:44:37.335Z"
   },
   {
    "duration": 5,
    "start_time": "2023-11-30T09:44:37.464Z"
   },
   {
    "duration": 88,
    "start_time": "2023-11-30T09:44:37.470Z"
   },
   {
    "duration": 3,
    "start_time": "2023-11-30T09:47:12.930Z"
   },
   {
    "duration": 1968,
    "start_time": "2023-11-30T09:47:13.666Z"
   },
   {
    "duration": 9,
    "start_time": "2023-11-30T09:47:15.636Z"
   },
   {
    "duration": 2434,
    "start_time": "2023-11-30T09:47:15.647Z"
   },
   {
    "duration": 13,
    "start_time": "2023-11-30T09:47:18.083Z"
   },
   {
    "duration": 59,
    "start_time": "2023-11-30T09:47:18.097Z"
   },
   {
    "duration": 35,
    "start_time": "2023-11-30T09:47:18.158Z"
   },
   {
    "duration": 27,
    "start_time": "2023-11-30T09:47:18.195Z"
   },
   {
    "duration": 2787,
    "start_time": "2023-11-30T09:47:18.223Z"
   },
   {
    "duration": 5,
    "start_time": "2023-11-30T09:47:21.012Z"
   },
   {
    "duration": 3049,
    "start_time": "2023-11-30T09:47:21.019Z"
   },
   {
    "duration": 150,
    "start_time": "2023-11-30T09:47:24.071Z"
   },
   {
    "duration": 6,
    "start_time": "2023-11-30T09:47:24.223Z"
   },
   {
    "duration": 106,
    "start_time": "2023-11-30T09:47:24.230Z"
   },
   {
    "duration": 4,
    "start_time": "2023-11-30T11:45:18.851Z"
   },
   {
    "duration": 2214,
    "start_time": "2023-11-30T11:45:18.931Z"
   },
   {
    "duration": 8,
    "start_time": "2023-11-30T11:45:21.147Z"
   },
   {
    "duration": 2303,
    "start_time": "2023-11-30T11:45:21.156Z"
   },
   {
    "duration": 11,
    "start_time": "2023-11-30T11:45:23.462Z"
   },
   {
    "duration": 30,
    "start_time": "2023-11-30T11:45:23.475Z"
   },
   {
    "duration": 18,
    "start_time": "2023-11-30T11:45:23.506Z"
   },
   {
    "duration": 45,
    "start_time": "2023-11-30T11:45:23.526Z"
   },
   {
    "duration": 2595,
    "start_time": "2023-11-30T11:45:23.572Z"
   },
   {
    "duration": 4,
    "start_time": "2023-11-30T11:45:26.169Z"
   },
   {
    "duration": 3174,
    "start_time": "2023-11-30T11:45:26.175Z"
   },
   {
    "duration": 134,
    "start_time": "2023-11-30T11:45:29.351Z"
   },
   {
    "duration": 4,
    "start_time": "2023-11-30T11:45:29.487Z"
   },
   {
    "duration": 103,
    "start_time": "2023-11-30T11:45:29.492Z"
   }
  ],
  "kernelspec": {
   "display_name": "Python 3 (ipykernel)",
   "language": "python",
   "name": "python3"
  },
  "language_info": {
   "codemirror_mode": {
    "name": "ipython",
    "version": 3
   },
   "file_extension": ".py",
   "mimetype": "text/x-python",
   "name": "python",
   "nbconvert_exporter": "python",
   "pygments_lexer": "ipython3",
   "version": "3.11.0"
  },
  "toc": {
   "base_numbering": 1,
   "nav_menu": {},
   "number_sections": true,
   "sideBar": true,
   "skip_h1_title": true,
   "title_cell": "Содержание",
   "title_sidebar": "Contents",
   "toc_cell": true,
   "toc_position": {
    "height": "calc(100% - 180px)",
    "left": "10px",
    "top": "150px",
    "width": "302.391px"
   },
   "toc_section_display": true,
   "toc_window_display": true
  }
 },
 "nbformat": 4,
 "nbformat_minor": 4
}
