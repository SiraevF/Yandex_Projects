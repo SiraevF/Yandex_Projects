{
 "cells": [
  {
   "cell_type": "markdown",
   "metadata": {},
   "source": [
    "# Выбор локации для скважины"
   ]
  },
  {
   "cell_type": "markdown",
   "metadata": {},
   "source": [
    "Допустим, вы работаете в добывающей компании «ГлавРосГосНефть». Нужно решить, где бурить новую скважину.\n",
    "\n",
    "Вам предоставлены пробы нефти в трёх регионах: в каждом 10 000 месторождений, где измерили качество нефти и объём её запасов. Постройте модель машинного обучения, которая поможет определить регион, где добыча принесёт наибольшую прибыль. Проанализируйте возможную прибыль и риски техникой *Bootstrap.*\n",
    "\n",
    "Шаги для выбора локации:\n",
    "\n",
    "- В избранном регионе ищут месторождения, для каждого определяют значения признаков;\n",
    "- Строят модель и оценивают объём запасов;\n",
    "- Выбирают месторождения с самым высокими оценками значений. Количество месторождений зависит от бюджета компании и стоимости разработки одной скважины;\n",
    "- Прибыль равна суммарной прибыли отобранных месторождений."
   ]
  },
  {
   "cell_type": "markdown",
   "metadata": {},
   "source": [
    "## Загрузка и подготовка данных"
   ]
  },
  {
   "cell_type": "markdown",
   "metadata": {},
   "source": [
    "### Загрузка модулей"
   ]
  },
  {
   "cell_type": "code",
   "execution_count": 1,
   "metadata": {},
   "outputs": [],
   "source": [
    "import pandas as pd\n",
    "#from pandas_profiling import ProfileReport\n",
    "import sweetviz as sv\n",
    "\n",
    "from sklearn.model_selection import train_test_split\n",
    "\n",
    "from sklearn.tree import DecisionTreeClassifier, plot_tree\n",
    "\n",
    "from sklearn.linear_model import LinearRegression\n",
    "from sklearn.preprocessing import StandardScaler, OrdinalEncoder\n",
    "\n",
    "\n",
    "from sklearn.metrics import mean_squared_error\n",
    "\n",
    "import matplotlib.pyplot as plt\n",
    "import seaborn as sns\n",
    "import numpy as np\n",
    "import random"
   ]
  },
  {
   "cell_type": "markdown",
   "metadata": {},
   "source": [
    "### Настройки"
   ]
  },
  {
   "cell_type": "code",
   "execution_count": 2,
   "metadata": {},
   "outputs": [],
   "source": [
    "RANDOM_STATE = 12345\n",
    "state = np.random.RandomState(RANDOM_STATE)\n",
    "# Цветовая палитра документа\n",
    "cm = 'crest'\n",
    "mec = 'gray'\n",
    "alpha = 0.7\n",
    "fontsize = 14\n",
    "figsize_base = 5\n",
    "\n",
    "def new_color(x='r'):\n",
    "    '''Цвет графиков, по умолчанию случайный из заданной цветовой палитры. Принимает в качестве аргумента число, \\\n",
    "    соответствующее цвету в палитре.'''\n",
    "    if x == 'r':\n",
    "        return list(sns.color_palette(cm, 20)[random.randint(0,19)])\n",
    "    return list(sns.color_palette(cm, 20)[x])\n",
    "# Размеры\n",
    "\n",
    "def figsize(width = 1, height=1):\n",
    "    '''Задание размеров окна отрисовки.'''\n",
    "    return (width*figsize_base, height*figsize_base)\n",
    "\n",
    "# Отрисовка \n",
    "def plot_set(ax,title='',xlabel='',ylabel='',fontsize=fontsize,xrot=True,figsize=figsize()):\n",
    "    '''Функция для отрисовки дополнительных параметров графиков. Подписьи осей и названия, размер шрифта и размер окна, \n",
    "    включение сетки.'''\n",
    "    plt.xticks(rotation=90*int(xrot), fontsize=fontsize)\n",
    "    plt.yticks(fontsize=fontsize)\n",
    "    plt.title(title+'\\n', fontsize=fontsize)\n",
    "    plt.xlabel('\\n'+xlabel, fontsize=fontsize)\n",
    "    plt.ylabel(ylabel+'\\n', fontsize=fontsize)\n",
    "    plt.grid(True)\n",
    "    None\n",
    "    \n",
    "def mean_percent(x):\n",
    "    '''Функция для форматирования значений. Округление до сотых и знак процента.'''\n",
    "    try:\n",
    "        return \"{0:.2%}\".format(x)\n",
    "    except:\n",
    "        return x"
   ]
  },
  {
   "cell_type": "markdown",
   "metadata": {},
   "source": [
    "### Загрузка данных"
   ]
  },
  {
   "cell_type": "markdown",
   "metadata": {},
   "source": [
    "#### Первый регион"
   ]
  },
  {
   "cell_type": "code",
   "execution_count": 3,
   "metadata": {},
   "outputs": [],
   "source": [
    "df_0 = pd.read_csv('geo_data_0.csv')"
   ]
  },
  {
   "cell_type": "code",
   "execution_count": 4,
   "metadata": {
    "scrolled": true
   },
   "outputs": [
    {
     "data": {
      "text/html": [
       "<div>\n",
       "<style scoped>\n",
       "    .dataframe tbody tr th:only-of-type {\n",
       "        vertical-align: middle;\n",
       "    }\n",
       "\n",
       "    .dataframe tbody tr th {\n",
       "        vertical-align: top;\n",
       "    }\n",
       "\n",
       "    .dataframe thead th {\n",
       "        text-align: right;\n",
       "    }\n",
       "</style>\n",
       "<table border=\"1\" class=\"dataframe\">\n",
       "  <thead>\n",
       "    <tr style=\"text-align: right;\">\n",
       "      <th></th>\n",
       "      <th>id</th>\n",
       "      <th>f0</th>\n",
       "      <th>f1</th>\n",
       "      <th>f2</th>\n",
       "      <th>product</th>\n",
       "    </tr>\n",
       "  </thead>\n",
       "  <tbody>\n",
       "    <tr>\n",
       "      <th>0</th>\n",
       "      <td>txEyH</td>\n",
       "      <td>0.705745</td>\n",
       "      <td>-0.497823</td>\n",
       "      <td>1.221170</td>\n",
       "      <td>105.280062</td>\n",
       "    </tr>\n",
       "    <tr>\n",
       "      <th>1</th>\n",
       "      <td>2acmU</td>\n",
       "      <td>1.334711</td>\n",
       "      <td>-0.340164</td>\n",
       "      <td>4.365080</td>\n",
       "      <td>73.037750</td>\n",
       "    </tr>\n",
       "    <tr>\n",
       "      <th>2</th>\n",
       "      <td>409Wp</td>\n",
       "      <td>1.022732</td>\n",
       "      <td>0.151990</td>\n",
       "      <td>1.419926</td>\n",
       "      <td>85.265647</td>\n",
       "    </tr>\n",
       "    <tr>\n",
       "      <th>3</th>\n",
       "      <td>iJLyR</td>\n",
       "      <td>-0.032172</td>\n",
       "      <td>0.139033</td>\n",
       "      <td>2.978566</td>\n",
       "      <td>168.620776</td>\n",
       "    </tr>\n",
       "    <tr>\n",
       "      <th>4</th>\n",
       "      <td>Xdl7t</td>\n",
       "      <td>1.988431</td>\n",
       "      <td>0.155413</td>\n",
       "      <td>4.751769</td>\n",
       "      <td>154.036647</td>\n",
       "    </tr>\n",
       "    <tr>\n",
       "      <th>5</th>\n",
       "      <td>wX4Hy</td>\n",
       "      <td>0.969570</td>\n",
       "      <td>0.489775</td>\n",
       "      <td>-0.735383</td>\n",
       "      <td>64.741541</td>\n",
       "    </tr>\n",
       "    <tr>\n",
       "      <th>6</th>\n",
       "      <td>tL6pL</td>\n",
       "      <td>0.645075</td>\n",
       "      <td>0.530656</td>\n",
       "      <td>1.780266</td>\n",
       "      <td>49.055285</td>\n",
       "    </tr>\n",
       "    <tr>\n",
       "      <th>7</th>\n",
       "      <td>BYPU6</td>\n",
       "      <td>-0.400648</td>\n",
       "      <td>0.808337</td>\n",
       "      <td>-5.624670</td>\n",
       "      <td>72.943292</td>\n",
       "    </tr>\n",
       "    <tr>\n",
       "      <th>8</th>\n",
       "      <td>j9Oui</td>\n",
       "      <td>0.643105</td>\n",
       "      <td>-0.551583</td>\n",
       "      <td>2.372141</td>\n",
       "      <td>113.356160</td>\n",
       "    </tr>\n",
       "    <tr>\n",
       "      <th>9</th>\n",
       "      <td>OLuZU</td>\n",
       "      <td>2.173381</td>\n",
       "      <td>0.563698</td>\n",
       "      <td>9.441852</td>\n",
       "      <td>127.910945</td>\n",
       "    </tr>\n",
       "    <tr>\n",
       "      <th>10</th>\n",
       "      <td>b8WQ6</td>\n",
       "      <td>0.371066</td>\n",
       "      <td>-0.036585</td>\n",
       "      <td>0.009208</td>\n",
       "      <td>70.326617</td>\n",
       "    </tr>\n",
       "    <tr>\n",
       "      <th>11</th>\n",
       "      <td>1YYm1</td>\n",
       "      <td>0.015920</td>\n",
       "      <td>1.062729</td>\n",
       "      <td>-0.722248</td>\n",
       "      <td>45.110381</td>\n",
       "    </tr>\n",
       "    <tr>\n",
       "      <th>12</th>\n",
       "      <td>zIYPq</td>\n",
       "      <td>-0.276476</td>\n",
       "      <td>0.924865</td>\n",
       "      <td>0.095584</td>\n",
       "      <td>89.158678</td>\n",
       "    </tr>\n",
       "    <tr>\n",
       "      <th>13</th>\n",
       "      <td>iqTqq</td>\n",
       "      <td>0.212696</td>\n",
       "      <td>-0.111147</td>\n",
       "      <td>5.770095</td>\n",
       "      <td>164.298520</td>\n",
       "    </tr>\n",
       "    <tr>\n",
       "      <th>14</th>\n",
       "      <td>Ct5yY</td>\n",
       "      <td>-0.018578</td>\n",
       "      <td>0.187516</td>\n",
       "      <td>2.944683</td>\n",
       "      <td>158.633720</td>\n",
       "    </tr>\n",
       "    <tr>\n",
       "      <th>15</th>\n",
       "      <td>Q77WQ</td>\n",
       "      <td>1.324566</td>\n",
       "      <td>-0.419149</td>\n",
       "      <td>-4.097429</td>\n",
       "      <td>60.677876</td>\n",
       "    </tr>\n",
       "    <tr>\n",
       "      <th>16</th>\n",
       "      <td>6vJcD</td>\n",
       "      <td>-0.000247</td>\n",
       "      <td>0.360146</td>\n",
       "      <td>0.794115</td>\n",
       "      <td>163.143987</td>\n",
       "    </tr>\n",
       "    <tr>\n",
       "      <th>17</th>\n",
       "      <td>AgRR6</td>\n",
       "      <td>0.380913</td>\n",
       "      <td>1.114558</td>\n",
       "      <td>0.992377</td>\n",
       "      <td>125.942543</td>\n",
       "    </tr>\n",
       "    <tr>\n",
       "      <th>18</th>\n",
       "      <td>tgSSC</td>\n",
       "      <td>0.160021</td>\n",
       "      <td>0.788151</td>\n",
       "      <td>7.629164</td>\n",
       "      <td>113.793566</td>\n",
       "    </tr>\n",
       "    <tr>\n",
       "      <th>19</th>\n",
       "      <td>s2g8E</td>\n",
       "      <td>0.593078</td>\n",
       "      <td>-0.414964</td>\n",
       "      <td>-0.715774</td>\n",
       "      <td>28.207978</td>\n",
       "    </tr>\n",
       "    <tr>\n",
       "      <th>20</th>\n",
       "      <td>94tLD</td>\n",
       "      <td>-1.115733</td>\n",
       "      <td>0.153296</td>\n",
       "      <td>4.068513</td>\n",
       "      <td>117.306360</td>\n",
       "    </tr>\n",
       "    <tr>\n",
       "      <th>21</th>\n",
       "      <td>x4axC</td>\n",
       "      <td>0.995960</td>\n",
       "      <td>-0.555728</td>\n",
       "      <td>6.539601</td>\n",
       "      <td>78.268877</td>\n",
       "    </tr>\n",
       "    <tr>\n",
       "      <th>22</th>\n",
       "      <td>MlCYx</td>\n",
       "      <td>0.876967</td>\n",
       "      <td>-0.524380</td>\n",
       "      <td>7.769194</td>\n",
       "      <td>94.959824</td>\n",
       "    </tr>\n",
       "    <tr>\n",
       "      <th>23</th>\n",
       "      <td>vYLce</td>\n",
       "      <td>1.827189</td>\n",
       "      <td>-0.131038</td>\n",
       "      <td>-0.214082</td>\n",
       "      <td>87.280632</td>\n",
       "    </tr>\n",
       "    <tr>\n",
       "      <th>24</th>\n",
       "      <td>RyD7G</td>\n",
       "      <td>0.279035</td>\n",
       "      <td>-0.161439</td>\n",
       "      <td>9.234609</td>\n",
       "      <td>123.126030</td>\n",
       "    </tr>\n",
       "  </tbody>\n",
       "</table>\n",
       "</div>"
      ],
      "text/plain": [
       "       id        f0        f1        f2     product\n",
       "0   txEyH  0.705745 -0.497823  1.221170  105.280062\n",
       "1   2acmU  1.334711 -0.340164  4.365080   73.037750\n",
       "2   409Wp  1.022732  0.151990  1.419926   85.265647\n",
       "3   iJLyR -0.032172  0.139033  2.978566  168.620776\n",
       "4   Xdl7t  1.988431  0.155413  4.751769  154.036647\n",
       "5   wX4Hy  0.969570  0.489775 -0.735383   64.741541\n",
       "6   tL6pL  0.645075  0.530656  1.780266   49.055285\n",
       "7   BYPU6 -0.400648  0.808337 -5.624670   72.943292\n",
       "8   j9Oui  0.643105 -0.551583  2.372141  113.356160\n",
       "9   OLuZU  2.173381  0.563698  9.441852  127.910945\n",
       "10  b8WQ6  0.371066 -0.036585  0.009208   70.326617\n",
       "11  1YYm1  0.015920  1.062729 -0.722248   45.110381\n",
       "12  zIYPq -0.276476  0.924865  0.095584   89.158678\n",
       "13  iqTqq  0.212696 -0.111147  5.770095  164.298520\n",
       "14  Ct5yY -0.018578  0.187516  2.944683  158.633720\n",
       "15  Q77WQ  1.324566 -0.419149 -4.097429   60.677876\n",
       "16  6vJcD -0.000247  0.360146  0.794115  163.143987\n",
       "17  AgRR6  0.380913  1.114558  0.992377  125.942543\n",
       "18  tgSSC  0.160021  0.788151  7.629164  113.793566\n",
       "19  s2g8E  0.593078 -0.414964 -0.715774   28.207978\n",
       "20  94tLD -1.115733  0.153296  4.068513  117.306360\n",
       "21  x4axC  0.995960 -0.555728  6.539601   78.268877\n",
       "22  MlCYx  0.876967 -0.524380  7.769194   94.959824\n",
       "23  vYLce  1.827189 -0.131038 -0.214082   87.280632\n",
       "24  RyD7G  0.279035 -0.161439  9.234609  123.126030"
      ]
     },
     "execution_count": 4,
     "metadata": {},
     "output_type": "execute_result"
    }
   ],
   "source": [
    "df_0.head(25)"
   ]
  },
  {
   "cell_type": "code",
   "execution_count": 5,
   "metadata": {
    "scrolled": true
   },
   "outputs": [],
   "source": [
    "#profile = ProfileReport(df_0)\n",
    "#profile.to_widgets()"
   ]
  },
  {
   "cell_type": "code",
   "execution_count": 6,
   "metadata": {},
   "outputs": [
    {
     "name": "stdout",
     "output_type": "stream",
     "text": [
      "<class 'pandas.core.frame.DataFrame'>\n",
      "RangeIndex: 100000 entries, 0 to 99999\n",
      "Data columns (total 5 columns):\n",
      " #   Column   Non-Null Count   Dtype  \n",
      "---  ------   --------------   -----  \n",
      " 0   id       100000 non-null  object \n",
      " 1   f0       100000 non-null  float64\n",
      " 2   f1       100000 non-null  float64\n",
      " 3   f2       100000 non-null  float64\n",
      " 4   product  100000 non-null  float64\n",
      "dtypes: float64(4), object(1)\n",
      "memory usage: 3.8+ MB\n"
     ]
    }
   ],
   "source": [
    "df_0.info()"
   ]
  },
  {
   "cell_type": "code",
   "execution_count": 7,
   "metadata": {},
   "outputs": [],
   "source": [
    "#report = sv.analyze([df_0, 'Unique ids and roles'])\n",
    "#report.show_notebook()"
   ]
  },
  {
   "cell_type": "code",
   "execution_count": 8,
   "metadata": {},
   "outputs": [
    {
     "data": {
      "text/plain": [
       "0"
      ]
     },
     "execution_count": 8,
     "metadata": {},
     "output_type": "execute_result"
    }
   ],
   "source": [
    "df_0.duplicated().sum()"
   ]
  },
  {
   "cell_type": "code",
   "execution_count": 9,
   "metadata": {},
   "outputs": [
    {
     "data": {
      "text/html": [
       "<div>\n",
       "<style scoped>\n",
       "    .dataframe tbody tr th:only-of-type {\n",
       "        vertical-align: middle;\n",
       "    }\n",
       "\n",
       "    .dataframe tbody tr th {\n",
       "        vertical-align: top;\n",
       "    }\n",
       "\n",
       "    .dataframe thead th {\n",
       "        text-align: right;\n",
       "    }\n",
       "</style>\n",
       "<table border=\"1\" class=\"dataframe\">\n",
       "  <thead>\n",
       "    <tr style=\"text-align: right;\">\n",
       "      <th></th>\n",
       "      <th>f0</th>\n",
       "      <th>f1</th>\n",
       "      <th>f2</th>\n",
       "      <th>product</th>\n",
       "    </tr>\n",
       "  </thead>\n",
       "  <tbody>\n",
       "    <tr>\n",
       "      <th>count</th>\n",
       "      <td>100000.000000</td>\n",
       "      <td>100000.000000</td>\n",
       "      <td>100000.000000</td>\n",
       "      <td>100000.000000</td>\n",
       "    </tr>\n",
       "    <tr>\n",
       "      <th>mean</th>\n",
       "      <td>0.500419</td>\n",
       "      <td>0.250143</td>\n",
       "      <td>2.502647</td>\n",
       "      <td>92.500000</td>\n",
       "    </tr>\n",
       "    <tr>\n",
       "      <th>std</th>\n",
       "      <td>0.871832</td>\n",
       "      <td>0.504433</td>\n",
       "      <td>3.248248</td>\n",
       "      <td>44.288691</td>\n",
       "    </tr>\n",
       "    <tr>\n",
       "      <th>min</th>\n",
       "      <td>-1.408605</td>\n",
       "      <td>-0.848218</td>\n",
       "      <td>-12.088328</td>\n",
       "      <td>0.000000</td>\n",
       "    </tr>\n",
       "    <tr>\n",
       "      <th>25%</th>\n",
       "      <td>-0.072580</td>\n",
       "      <td>-0.200881</td>\n",
       "      <td>0.287748</td>\n",
       "      <td>56.497507</td>\n",
       "    </tr>\n",
       "    <tr>\n",
       "      <th>50%</th>\n",
       "      <td>0.502360</td>\n",
       "      <td>0.250252</td>\n",
       "      <td>2.515969</td>\n",
       "      <td>91.849972</td>\n",
       "    </tr>\n",
       "    <tr>\n",
       "      <th>75%</th>\n",
       "      <td>1.073581</td>\n",
       "      <td>0.700646</td>\n",
       "      <td>4.715088</td>\n",
       "      <td>128.564089</td>\n",
       "    </tr>\n",
       "    <tr>\n",
       "      <th>max</th>\n",
       "      <td>2.362331</td>\n",
       "      <td>1.343769</td>\n",
       "      <td>16.003790</td>\n",
       "      <td>185.364347</td>\n",
       "    </tr>\n",
       "  </tbody>\n",
       "</table>\n",
       "</div>"
      ],
      "text/plain": [
       "                  f0             f1             f2        product\n",
       "count  100000.000000  100000.000000  100000.000000  100000.000000\n",
       "mean        0.500419       0.250143       2.502647      92.500000\n",
       "std         0.871832       0.504433       3.248248      44.288691\n",
       "min        -1.408605      -0.848218     -12.088328       0.000000\n",
       "25%        -0.072580      -0.200881       0.287748      56.497507\n",
       "50%         0.502360       0.250252       2.515969      91.849972\n",
       "75%         1.073581       0.700646       4.715088     128.564089\n",
       "max         2.362331       1.343769      16.003790     185.364347"
      ]
     },
     "execution_count": 9,
     "metadata": {},
     "output_type": "execute_result"
    }
   ],
   "source": [
    "df_0.describe()"
   ]
  },
  {
   "cell_type": "code",
   "execution_count": 10,
   "metadata": {},
   "outputs": [
    {
     "data": {
      "image/png": "[encoded data removed]",
      "text/plain": [
       "<Figure size 500x500 with 2 Axes>"
      ]
     },
     "metadata": {},
     "output_type": "display_data"
    }
   ],
   "source": [
    "plt.figure(figsize=figsize())\n",
    "sns.heatmap(df_0[['f0', 'f1', 'f2', 'product']].corr(), annot=True, cmap=cm, fmt='.2f')\n",
    "None"
   ]
  },
  {
   "cell_type": "code",
   "execution_count": 11,
   "metadata": {},
   "outputs": [
    {
     "data": {
      "image/png": "[encoded data removed]",
      "text/plain": [
       "<Figure size 1500x500 with 3 Axes>"
      ]
     },
     "metadata": {},
     "output_type": "display_data"
    }
   ],
   "source": [
    "plt.figure(figsize=figsize(3))\n",
    "ax1 = plt.subplot(1,3,1)\n",
    "sns.histplot(df_0['f0'],color=new_color(),alpha=alpha)\n",
    "plot_set(ax1,title='Распределение признака f0 в первом регионе',xlabel='Признак f0',ylabel='Количество',fontsize=10)\n",
    "ax1 = plt.subplot(1,3,2)\n",
    "sns.histplot(df_0['f1'],color=new_color(),alpha=alpha)\n",
    "plot_set(ax1,title='Распределение признака f1 в первом регионе',xlabel='Признак f1',fontsize=10)\n",
    "ax1 = plt.subplot(1,3,3)\n",
    "sns.histplot(df_0['f2'],color=new_color(),alpha=alpha)\n",
    "plot_set(ax1,title='Распределение признака f0 в первом регионе',xlabel='Признак f2',fontsize=10)"
   ]
  },
  {
   "cell_type": "code",
   "execution_count": 12,
   "metadata": {},
   "outputs": [
    {
     "data": {
      "image/png": "[encoded data removed]",
      "text/plain": [
       "<Figure size 500x500 with 1 Axes>"
      ]
     },
     "metadata": {},
     "output_type": "display_data"
    }
   ],
   "source": [
    "plt.figure(figsize=figsize())\n",
    "sns.histplot(df_0['product'],color=new_color(),alpha=alpha)\n",
    "plot_set(ax1,title='Распределение product в первом регионе',xlabel='product',ylabel='Количество',fontsize=10)"
   ]
  },
  {
   "cell_type": "markdown",
   "metadata": {},
   "source": [
    "#### Второй регион"
   ]
  },
  {
   "cell_type": "code",
   "execution_count": 13,
   "metadata": {},
   "outputs": [],
   "source": [
    "df_1 = pd.read_csv('geo_data_1.csv')"
   ]
  },
  {
   "cell_type": "code",
   "execution_count": 14,
   "metadata": {
    "scrolled": true
   },
   "outputs": [],
   "source": [
    "#profile = ProfileReport(df_1)\n",
    "#profile.to_widgets()"
   ]
  },
  {
   "cell_type": "code",
   "execution_count": 15,
   "metadata": {
    "scrolled": true
   },
   "outputs": [
    {
     "data": {
      "text/html": [
       "<div>\n",
       "<style scoped>\n",
       "    .dataframe tbody tr th:only-of-type {\n",
       "        vertical-align: middle;\n",
       "    }\n",
       "\n",
       "    .dataframe tbody tr th {\n",
       "        vertical-align: top;\n",
       "    }\n",
       "\n",
       "    .dataframe thead th {\n",
       "        text-align: right;\n",
       "    }\n",
       "</style>\n",
       "<table border=\"1\" class=\"dataframe\">\n",
       "  <thead>\n",
       "    <tr style=\"text-align: right;\">\n",
       "      <th></th>\n",
       "      <th>id</th>\n",
       "      <th>f0</th>\n",
       "      <th>f1</th>\n",
       "      <th>f2</th>\n",
       "      <th>product</th>\n",
       "    </tr>\n",
       "  </thead>\n",
       "  <tbody>\n",
       "    <tr>\n",
       "      <th>0</th>\n",
       "      <td>kBEdx</td>\n",
       "      <td>-15.001348</td>\n",
       "      <td>-8.276000</td>\n",
       "      <td>-0.005876</td>\n",
       "      <td>3.179103</td>\n",
       "    </tr>\n",
       "    <tr>\n",
       "      <th>1</th>\n",
       "      <td>62mP7</td>\n",
       "      <td>14.272088</td>\n",
       "      <td>-3.475083</td>\n",
       "      <td>0.999183</td>\n",
       "      <td>26.953261</td>\n",
       "    </tr>\n",
       "    <tr>\n",
       "      <th>2</th>\n",
       "      <td>vyE1P</td>\n",
       "      <td>6.263187</td>\n",
       "      <td>-5.948386</td>\n",
       "      <td>5.001160</td>\n",
       "      <td>134.766305</td>\n",
       "    </tr>\n",
       "    <tr>\n",
       "      <th>3</th>\n",
       "      <td>KcrkZ</td>\n",
       "      <td>-13.081196</td>\n",
       "      <td>-11.506057</td>\n",
       "      <td>4.999415</td>\n",
       "      <td>137.945408</td>\n",
       "    </tr>\n",
       "    <tr>\n",
       "      <th>4</th>\n",
       "      <td>AHL4O</td>\n",
       "      <td>12.702195</td>\n",
       "      <td>-8.147433</td>\n",
       "      <td>5.004363</td>\n",
       "      <td>134.766305</td>\n",
       "    </tr>\n",
       "    <tr>\n",
       "      <th>5</th>\n",
       "      <td>HHckp</td>\n",
       "      <td>-3.327590</td>\n",
       "      <td>-2.205276</td>\n",
       "      <td>3.003647</td>\n",
       "      <td>84.038886</td>\n",
       "    </tr>\n",
       "    <tr>\n",
       "      <th>6</th>\n",
       "      <td>h5Ujo</td>\n",
       "      <td>-11.142655</td>\n",
       "      <td>-10.133399</td>\n",
       "      <td>4.002382</td>\n",
       "      <td>110.992147</td>\n",
       "    </tr>\n",
       "    <tr>\n",
       "      <th>7</th>\n",
       "      <td>muH9x</td>\n",
       "      <td>4.234715</td>\n",
       "      <td>-0.001354</td>\n",
       "      <td>2.004588</td>\n",
       "      <td>53.906522</td>\n",
       "    </tr>\n",
       "    <tr>\n",
       "      <th>8</th>\n",
       "      <td>YiRkx</td>\n",
       "      <td>13.355129</td>\n",
       "      <td>-0.332068</td>\n",
       "      <td>4.998647</td>\n",
       "      <td>134.766305</td>\n",
       "    </tr>\n",
       "    <tr>\n",
       "      <th>9</th>\n",
       "      <td>jG6Gi</td>\n",
       "      <td>1.069227</td>\n",
       "      <td>-11.025667</td>\n",
       "      <td>4.997844</td>\n",
       "      <td>137.945408</td>\n",
       "    </tr>\n",
       "    <tr>\n",
       "      <th>10</th>\n",
       "      <td>7uHUe</td>\n",
       "      <td>11.777049</td>\n",
       "      <td>-5.334084</td>\n",
       "      <td>2.003033</td>\n",
       "      <td>53.906522</td>\n",
       "    </tr>\n",
       "    <tr>\n",
       "      <th>11</th>\n",
       "      <td>OXyvW</td>\n",
       "      <td>16.320755</td>\n",
       "      <td>-0.562946</td>\n",
       "      <td>-0.001783</td>\n",
       "      <td>0.000000</td>\n",
       "    </tr>\n",
       "    <tr>\n",
       "      <th>12</th>\n",
       "      <td>cB8re</td>\n",
       "      <td>7.736313</td>\n",
       "      <td>-6.093374</td>\n",
       "      <td>3.982531</td>\n",
       "      <td>107.813044</td>\n",
       "    </tr>\n",
       "    <tr>\n",
       "      <th>13</th>\n",
       "      <td>igmai</td>\n",
       "      <td>6.695604</td>\n",
       "      <td>-0.749449</td>\n",
       "      <td>-0.007630</td>\n",
       "      <td>0.000000</td>\n",
       "    </tr>\n",
       "    <tr>\n",
       "      <th>14</th>\n",
       "      <td>3OdkE</td>\n",
       "      <td>-10.985487</td>\n",
       "      <td>-5.605994</td>\n",
       "      <td>2.991130</td>\n",
       "      <td>84.038886</td>\n",
       "    </tr>\n",
       "    <tr>\n",
       "      <th>15</th>\n",
       "      <td>3tVUO</td>\n",
       "      <td>-0.347599</td>\n",
       "      <td>-6.275884</td>\n",
       "      <td>-0.003448</td>\n",
       "      <td>3.179103</td>\n",
       "    </tr>\n",
       "    <tr>\n",
       "      <th>16</th>\n",
       "      <td>siveY</td>\n",
       "      <td>12.300570</td>\n",
       "      <td>2.944454</td>\n",
       "      <td>2.005541</td>\n",
       "      <td>53.906522</td>\n",
       "    </tr>\n",
       "    <tr>\n",
       "      <th>17</th>\n",
       "      <td>gIqzq</td>\n",
       "      <td>8.900460</td>\n",
       "      <td>-5.632857</td>\n",
       "      <td>4.994324</td>\n",
       "      <td>134.766305</td>\n",
       "    </tr>\n",
       "    <tr>\n",
       "      <th>18</th>\n",
       "      <td>zO5EU</td>\n",
       "      <td>-13.412826</td>\n",
       "      <td>-4.729495</td>\n",
       "      <td>2.998590</td>\n",
       "      <td>84.038886</td>\n",
       "    </tr>\n",
       "    <tr>\n",
       "      <th>19</th>\n",
       "      <td>dkcEb</td>\n",
       "      <td>-4.373526</td>\n",
       "      <td>-8.590017</td>\n",
       "      <td>2.995379</td>\n",
       "      <td>84.038886</td>\n",
       "    </tr>\n",
       "    <tr>\n",
       "      <th>20</th>\n",
       "      <td>X1FZJ</td>\n",
       "      <td>-5.729511</td>\n",
       "      <td>-1.861370</td>\n",
       "      <td>3.993732</td>\n",
       "      <td>110.992147</td>\n",
       "    </tr>\n",
       "    <tr>\n",
       "      <th>21</th>\n",
       "      <td>eVFPS</td>\n",
       "      <td>2.195392</td>\n",
       "      <td>-3.829295</td>\n",
       "      <td>4.993895</td>\n",
       "      <td>134.766305</td>\n",
       "    </tr>\n",
       "    <tr>\n",
       "      <th>22</th>\n",
       "      <td>TovFu</td>\n",
       "      <td>9.391662</td>\n",
       "      <td>2.386681</td>\n",
       "      <td>5.002290</td>\n",
       "      <td>134.766305</td>\n",
       "    </tr>\n",
       "    <tr>\n",
       "      <th>23</th>\n",
       "      <td>KQxAV</td>\n",
       "      <td>10.852199</td>\n",
       "      <td>-3.412277</td>\n",
       "      <td>4.996318</td>\n",
       "      <td>134.766305</td>\n",
       "    </tr>\n",
       "    <tr>\n",
       "      <th>24</th>\n",
       "      <td>II0xj</td>\n",
       "      <td>2.581392</td>\n",
       "      <td>-2.691426</td>\n",
       "      <td>2.004898</td>\n",
       "      <td>53.906522</td>\n",
       "    </tr>\n",
       "  </tbody>\n",
       "</table>\n",
       "</div>"
      ],
      "text/plain": [
       "       id         f0         f1        f2     product\n",
       "0   kBEdx -15.001348  -8.276000 -0.005876    3.179103\n",
       "1   62mP7  14.272088  -3.475083  0.999183   26.953261\n",
       "2   vyE1P   6.263187  -5.948386  5.001160  134.766305\n",
       "3   KcrkZ -13.081196 -11.506057  4.999415  137.945408\n",
       "4   AHL4O  12.702195  -8.147433  5.004363  134.766305\n",
       "5   HHckp  -3.327590  -2.205276  3.003647   84.038886\n",
       "6   h5Ujo -11.142655 -10.133399  4.002382  110.992147\n",
       "7   muH9x   4.234715  -0.001354  2.004588   53.906522\n",
       "8   YiRkx  13.355129  -0.332068  4.998647  134.766305\n",
       "9   jG6Gi   1.069227 -11.025667  4.997844  137.945408\n",
       "10  7uHUe  11.777049  -5.334084  2.003033   53.906522\n",
       "11  OXyvW  16.320755  -0.562946 -0.001783    0.000000\n",
       "12  cB8re   7.736313  -6.093374  3.982531  107.813044\n",
       "13  igmai   6.695604  -0.749449 -0.007630    0.000000\n",
       "14  3OdkE -10.985487  -5.605994  2.991130   84.038886\n",
       "15  3tVUO  -0.347599  -6.275884 -0.003448    3.179103\n",
       "16  siveY  12.300570   2.944454  2.005541   53.906522\n",
       "17  gIqzq   8.900460  -5.632857  4.994324  134.766305\n",
       "18  zO5EU -13.412826  -4.729495  2.998590   84.038886\n",
       "19  dkcEb  -4.373526  -8.590017  2.995379   84.038886\n",
       "20  X1FZJ  -5.729511  -1.861370  3.993732  110.992147\n",
       "21  eVFPS   2.195392  -3.829295  4.993895  134.766305\n",
       "22  TovFu   9.391662   2.386681  5.002290  134.766305\n",
       "23  KQxAV  10.852199  -3.412277  4.996318  134.766305\n",
       "24  II0xj   2.581392  -2.691426  2.004898   53.906522"
      ]
     },
     "execution_count": 15,
     "metadata": {},
     "output_type": "execute_result"
    }
   ],
   "source": [
    "df_1.head(25)"
   ]
  },
  {
   "cell_type": "code",
   "execution_count": 16,
   "metadata": {},
   "outputs": [
    {
     "name": "stdout",
     "output_type": "stream",
     "text": [
      "<class 'pandas.core.frame.DataFrame'>\n",
      "RangeIndex: 100000 entries, 0 to 99999\n",
      "Data columns (total 5 columns):\n",
      " #   Column   Non-Null Count   Dtype  \n",
      "---  ------   --------------   -----  \n",
      " 0   id       100000 non-null  object \n",
      " 1   f0       100000 non-null  float64\n",
      " 2   f1       100000 non-null  float64\n",
      " 3   f2       100000 non-null  float64\n",
      " 4   product  100000 non-null  float64\n",
      "dtypes: float64(4), object(1)\n",
      "memory usage: 3.8+ MB\n"
     ]
    }
   ],
   "source": [
    "df_1.info()"
   ]
  },
  {
   "cell_type": "code",
   "execution_count": 17,
   "metadata": {},
   "outputs": [
    {
     "data": {
      "text/plain": [
       "0"
      ]
     },
     "execution_count": 17,
     "metadata": {},
     "output_type": "execute_result"
    }
   ],
   "source": [
    "df_1.duplicated().sum()"
   ]
  },
  {
   "cell_type": "code",
   "execution_count": 18,
   "metadata": {},
   "outputs": [
    {
     "data": {
      "text/html": [
       "<div>\n",
       "<style scoped>\n",
       "    .dataframe tbody tr th:only-of-type {\n",
       "        vertical-align: middle;\n",
       "    }\n",
       "\n",
       "    .dataframe tbody tr th {\n",
       "        vertical-align: top;\n",
       "    }\n",
       "\n",
       "    .dataframe thead th {\n",
       "        text-align: right;\n",
       "    }\n",
       "</style>\n",
       "<table border=\"1\" class=\"dataframe\">\n",
       "  <thead>\n",
       "    <tr style=\"text-align: right;\">\n",
       "      <th></th>\n",
       "      <th>f0</th>\n",
       "      <th>f1</th>\n",
       "      <th>f2</th>\n",
       "      <th>product</th>\n",
       "    </tr>\n",
       "  </thead>\n",
       "  <tbody>\n",
       "    <tr>\n",
       "      <th>count</th>\n",
       "      <td>100000.000000</td>\n",
       "      <td>100000.000000</td>\n",
       "      <td>100000.000000</td>\n",
       "      <td>100000.000000</td>\n",
       "    </tr>\n",
       "    <tr>\n",
       "      <th>mean</th>\n",
       "      <td>1.141296</td>\n",
       "      <td>-4.796579</td>\n",
       "      <td>2.494541</td>\n",
       "      <td>68.825000</td>\n",
       "    </tr>\n",
       "    <tr>\n",
       "      <th>std</th>\n",
       "      <td>8.965932</td>\n",
       "      <td>5.119872</td>\n",
       "      <td>1.703572</td>\n",
       "      <td>45.944423</td>\n",
       "    </tr>\n",
       "    <tr>\n",
       "      <th>min</th>\n",
       "      <td>-31.609576</td>\n",
       "      <td>-26.358598</td>\n",
       "      <td>-0.018144</td>\n",
       "      <td>0.000000</td>\n",
       "    </tr>\n",
       "    <tr>\n",
       "      <th>25%</th>\n",
       "      <td>-6.298551</td>\n",
       "      <td>-8.267985</td>\n",
       "      <td>1.000021</td>\n",
       "      <td>26.953261</td>\n",
       "    </tr>\n",
       "    <tr>\n",
       "      <th>50%</th>\n",
       "      <td>1.153055</td>\n",
       "      <td>-4.813172</td>\n",
       "      <td>2.011479</td>\n",
       "      <td>57.085625</td>\n",
       "    </tr>\n",
       "    <tr>\n",
       "      <th>75%</th>\n",
       "      <td>8.621015</td>\n",
       "      <td>-1.332816</td>\n",
       "      <td>3.999904</td>\n",
       "      <td>107.813044</td>\n",
       "    </tr>\n",
       "    <tr>\n",
       "      <th>max</th>\n",
       "      <td>29.421755</td>\n",
       "      <td>18.734063</td>\n",
       "      <td>5.019721</td>\n",
       "      <td>137.945408</td>\n",
       "    </tr>\n",
       "  </tbody>\n",
       "</table>\n",
       "</div>"
      ],
      "text/plain": [
       "                  f0             f1             f2        product\n",
       "count  100000.000000  100000.000000  100000.000000  100000.000000\n",
       "mean        1.141296      -4.796579       2.494541      68.825000\n",
       "std         8.965932       5.119872       1.703572      45.944423\n",
       "min       -31.609576     -26.358598      -0.018144       0.000000\n",
       "25%        -6.298551      -8.267985       1.000021      26.953261\n",
       "50%         1.153055      -4.813172       2.011479      57.085625\n",
       "75%         8.621015      -1.332816       3.999904     107.813044\n",
       "max        29.421755      18.734063       5.019721     137.945408"
      ]
     },
     "execution_count": 18,
     "metadata": {},
     "output_type": "execute_result"
    }
   ],
   "source": [
    "df_1.describe()"
   ]
  },
  {
   "cell_type": "code",
   "execution_count": 19,
   "metadata": {},
   "outputs": [
    {
     "data": {
      "image/png": "[encoded data removed]",
      "text/plain": [
       "<Figure size 500x500 with 2 Axes>"
      ]
     },
     "metadata": {},
     "output_type": "display_data"
    }
   ],
   "source": [
    "plt.figure(figsize=figsize())\n",
    "sns.heatmap(df_1[['f0', 'f1', 'f2', 'product']].corr(), annot=True, cmap=cm, fmt='.2f')\n",
    "None"
   ]
  },
  {
   "cell_type": "code",
   "execution_count": 20,
   "metadata": {},
   "outputs": [
    {
     "data": {
      "image/png": "[encoded data removed]",
      "text/plain": [
       "<Figure size 1500x500 with 3 Axes>"
      ]
     },
     "metadata": {},
     "output_type": "display_data"
    }
   ],
   "source": [
    "plt.figure(figsize=figsize(3))\n",
    "ax1 = plt.subplot(1,3,1)\n",
    "sns.histplot(df_1['f0'],color=new_color(),alpha=alpha)\n",
    "plot_set(ax1,title='Распределение признака f0 во втором регионе',xlabel='Признак f0',ylabel='Количество',fontsize=10)\n",
    "ax1 = plt.subplot(1,3,2)\n",
    "sns.histplot(df_1['f1'],color=new_color(),alpha=alpha)\n",
    "plot_set(ax1,title='Распределение признака f1 во втором регионе',xlabel='Признак f1',fontsize=10)\n",
    "ax1 = plt.subplot(1,3,3)\n",
    "sns.histplot(df_1['f2'],color=new_color(),alpha=alpha)\n",
    "plot_set(ax1,title='Распределение признака f0 во втором регионе',xlabel='Признак f2',fontsize=10)"
   ]
  },
  {
   "cell_type": "code",
   "execution_count": 21,
   "metadata": {},
   "outputs": [
    {
     "data": {
      "image/png": "[encoded data removed]",
      "text/plain": [
       "<Figure size 500x500 with 1 Axes>"
      ]
     },
     "metadata": {},
     "output_type": "display_data"
    }
   ],
   "source": [
    "plt.figure(figsize=figsize())\n",
    "sns.histplot(df_1['product'],color=new_color(),alpha=alpha)\n",
    "plot_set(ax1,title='Распределение product во втором регионе',xlabel='product',ylabel='Количество',fontsize=10)"
   ]
  },
  {
   "cell_type": "markdown",
   "metadata": {},
   "source": [
    "#### Третий регион"
   ]
  },
  {
   "cell_type": "code",
   "execution_count": 22,
   "metadata": {},
   "outputs": [],
   "source": [
    "df_2 = pd.read_csv('geo_data_2.csv')"
   ]
  },
  {
   "cell_type": "code",
   "execution_count": 23,
   "metadata": {},
   "outputs": [],
   "source": [
    "#profile = ProfileReport(df_2)\n",
    "#profile.to_widgets()"
   ]
  },
  {
   "cell_type": "code",
   "execution_count": 24,
   "metadata": {
    "scrolled": true
   },
   "outputs": [
    {
     "data": {
      "text/html": [
       "<div>\n",
       "<style scoped>\n",
       "    .dataframe tbody tr th:only-of-type {\n",
       "        vertical-align: middle;\n",
       "    }\n",
       "\n",
       "    .dataframe tbody tr th {\n",
       "        vertical-align: top;\n",
       "    }\n",
       "\n",
       "    .dataframe thead th {\n",
       "        text-align: right;\n",
       "    }\n",
       "</style>\n",
       "<table border=\"1\" class=\"dataframe\">\n",
       "  <thead>\n",
       "    <tr style=\"text-align: right;\">\n",
       "      <th></th>\n",
       "      <th>id</th>\n",
       "      <th>f0</th>\n",
       "      <th>f1</th>\n",
       "      <th>f2</th>\n",
       "      <th>product</th>\n",
       "    </tr>\n",
       "  </thead>\n",
       "  <tbody>\n",
       "    <tr>\n",
       "      <th>0</th>\n",
       "      <td>fwXo0</td>\n",
       "      <td>-1.146987</td>\n",
       "      <td>0.963328</td>\n",
       "      <td>-0.828965</td>\n",
       "      <td>27.758673</td>\n",
       "    </tr>\n",
       "    <tr>\n",
       "      <th>1</th>\n",
       "      <td>WJtFt</td>\n",
       "      <td>0.262778</td>\n",
       "      <td>0.269839</td>\n",
       "      <td>-2.530187</td>\n",
       "      <td>56.069697</td>\n",
       "    </tr>\n",
       "    <tr>\n",
       "      <th>2</th>\n",
       "      <td>ovLUW</td>\n",
       "      <td>0.194587</td>\n",
       "      <td>0.289035</td>\n",
       "      <td>-5.586433</td>\n",
       "      <td>62.871910</td>\n",
       "    </tr>\n",
       "    <tr>\n",
       "      <th>3</th>\n",
       "      <td>q6cA6</td>\n",
       "      <td>2.236060</td>\n",
       "      <td>-0.553760</td>\n",
       "      <td>0.930038</td>\n",
       "      <td>114.572842</td>\n",
       "    </tr>\n",
       "    <tr>\n",
       "      <th>4</th>\n",
       "      <td>WPMUX</td>\n",
       "      <td>-0.515993</td>\n",
       "      <td>1.716266</td>\n",
       "      <td>5.899011</td>\n",
       "      <td>149.600746</td>\n",
       "    </tr>\n",
       "    <tr>\n",
       "      <th>5</th>\n",
       "      <td>LzZXx</td>\n",
       "      <td>-0.758092</td>\n",
       "      <td>0.710691</td>\n",
       "      <td>2.585887</td>\n",
       "      <td>90.222465</td>\n",
       "    </tr>\n",
       "    <tr>\n",
       "      <th>6</th>\n",
       "      <td>WBHRv</td>\n",
       "      <td>-0.574891</td>\n",
       "      <td>0.317727</td>\n",
       "      <td>1.773745</td>\n",
       "      <td>45.641478</td>\n",
       "    </tr>\n",
       "    <tr>\n",
       "      <th>7</th>\n",
       "      <td>XO8fn</td>\n",
       "      <td>-1.906649</td>\n",
       "      <td>-2.458350</td>\n",
       "      <td>-0.177097</td>\n",
       "      <td>72.480640</td>\n",
       "    </tr>\n",
       "    <tr>\n",
       "      <th>8</th>\n",
       "      <td>ybmQ5</td>\n",
       "      <td>1.776292</td>\n",
       "      <td>-0.279356</td>\n",
       "      <td>3.004156</td>\n",
       "      <td>106.616832</td>\n",
       "    </tr>\n",
       "    <tr>\n",
       "      <th>9</th>\n",
       "      <td>OilcN</td>\n",
       "      <td>-1.214452</td>\n",
       "      <td>-0.439314</td>\n",
       "      <td>5.922514</td>\n",
       "      <td>52.954532</td>\n",
       "    </tr>\n",
       "    <tr>\n",
       "      <th>10</th>\n",
       "      <td>myq2g</td>\n",
       "      <td>0.628659</td>\n",
       "      <td>-2.120049</td>\n",
       "      <td>5.362437</td>\n",
       "      <td>166.799132</td>\n",
       "    </tr>\n",
       "    <tr>\n",
       "      <th>11</th>\n",
       "      <td>V9R1y</td>\n",
       "      <td>-0.544565</td>\n",
       "      <td>0.039088</td>\n",
       "      <td>8.635293</td>\n",
       "      <td>150.859435</td>\n",
       "    </tr>\n",
       "    <tr>\n",
       "      <th>12</th>\n",
       "      <td>bKDo0</td>\n",
       "      <td>-0.960453</td>\n",
       "      <td>-0.127113</td>\n",
       "      <td>7.764734</td>\n",
       "      <td>96.910855</td>\n",
       "    </tr>\n",
       "    <tr>\n",
       "      <th>13</th>\n",
       "      <td>eXvhs</td>\n",
       "      <td>1.432891</td>\n",
       "      <td>-1.242074</td>\n",
       "      <td>3.557168</td>\n",
       "      <td>8.704162</td>\n",
       "    </tr>\n",
       "    <tr>\n",
       "      <th>14</th>\n",
       "      <td>wI4j3</td>\n",
       "      <td>-0.935464</td>\n",
       "      <td>2.420523</td>\n",
       "      <td>1.150536</td>\n",
       "      <td>116.829811</td>\n",
       "    </tr>\n",
       "    <tr>\n",
       "      <th>15</th>\n",
       "      <td>XOWTx</td>\n",
       "      <td>-2.628353</td>\n",
       "      <td>0.937303</td>\n",
       "      <td>0.057847</td>\n",
       "      <td>68.655498</td>\n",
       "    </tr>\n",
       "    <tr>\n",
       "      <th>16</th>\n",
       "      <td>2oVFv</td>\n",
       "      <td>-0.428050</td>\n",
       "      <td>-2.246556</td>\n",
       "      <td>6.970420</td>\n",
       "      <td>84.500464</td>\n",
       "    </tr>\n",
       "    <tr>\n",
       "      <th>17</th>\n",
       "      <td>0wbDA</td>\n",
       "      <td>0.735307</td>\n",
       "      <td>0.913124</td>\n",
       "      <td>7.899539</td>\n",
       "      <td>96.284701</td>\n",
       "    </tr>\n",
       "    <tr>\n",
       "      <th>18</th>\n",
       "      <td>NhHaR</td>\n",
       "      <td>0.706261</td>\n",
       "      <td>-0.993553</td>\n",
       "      <td>3.155582</td>\n",
       "      <td>48.052268</td>\n",
       "    </tr>\n",
       "    <tr>\n",
       "      <th>19</th>\n",
       "      <td>DMNMZ</td>\n",
       "      <td>-1.867846</td>\n",
       "      <td>2.744144</td>\n",
       "      <td>5.918278</td>\n",
       "      <td>153.815137</td>\n",
       "    </tr>\n",
       "    <tr>\n",
       "      <th>20</th>\n",
       "      <td>3mCRf</td>\n",
       "      <td>-1.250704</td>\n",
       "      <td>0.540611</td>\n",
       "      <td>3.438567</td>\n",
       "      <td>65.774963</td>\n",
       "    </tr>\n",
       "    <tr>\n",
       "      <th>21</th>\n",
       "      <td>fRllb</td>\n",
       "      <td>-0.307564</td>\n",
       "      <td>-0.942793</td>\n",
       "      <td>1.571509</td>\n",
       "      <td>113.080584</td>\n",
       "    </tr>\n",
       "    <tr>\n",
       "      <th>22</th>\n",
       "      <td>6GvzI</td>\n",
       "      <td>-1.221304</td>\n",
       "      <td>1.262642</td>\n",
       "      <td>5.198435</td>\n",
       "      <td>105.207088</td>\n",
       "    </tr>\n",
       "    <tr>\n",
       "      <th>23</th>\n",
       "      <td>JwbXn</td>\n",
       "      <td>0.426604</td>\n",
       "      <td>1.142824</td>\n",
       "      <td>6.360318</td>\n",
       "      <td>108.375984</td>\n",
       "    </tr>\n",
       "    <tr>\n",
       "      <th>24</th>\n",
       "      <td>urwUC</td>\n",
       "      <td>2.378418</td>\n",
       "      <td>0.665386</td>\n",
       "      <td>1.282287</td>\n",
       "      <td>56.478241</td>\n",
       "    </tr>\n",
       "  </tbody>\n",
       "</table>\n",
       "</div>"
      ],
      "text/plain": [
       "       id        f0        f1        f2     product\n",
       "0   fwXo0 -1.146987  0.963328 -0.828965   27.758673\n",
       "1   WJtFt  0.262778  0.269839 -2.530187   56.069697\n",
       "2   ovLUW  0.194587  0.289035 -5.586433   62.871910\n",
       "3   q6cA6  2.236060 -0.553760  0.930038  114.572842\n",
       "4   WPMUX -0.515993  1.716266  5.899011  149.600746\n",
       "5   LzZXx -0.758092  0.710691  2.585887   90.222465\n",
       "6   WBHRv -0.574891  0.317727  1.773745   45.641478\n",
       "7   XO8fn -1.906649 -2.458350 -0.177097   72.480640\n",
       "8   ybmQ5  1.776292 -0.279356  3.004156  106.616832\n",
       "9   OilcN -1.214452 -0.439314  5.922514   52.954532\n",
       "10  myq2g  0.628659 -2.120049  5.362437  166.799132\n",
       "11  V9R1y -0.544565  0.039088  8.635293  150.859435\n",
       "12  bKDo0 -0.960453 -0.127113  7.764734   96.910855\n",
       "13  eXvhs  1.432891 -1.242074  3.557168    8.704162\n",
       "14  wI4j3 -0.935464  2.420523  1.150536  116.829811\n",
       "15  XOWTx -2.628353  0.937303  0.057847   68.655498\n",
       "16  2oVFv -0.428050 -2.246556  6.970420   84.500464\n",
       "17  0wbDA  0.735307  0.913124  7.899539   96.284701\n",
       "18  NhHaR  0.706261 -0.993553  3.155582   48.052268\n",
       "19  DMNMZ -1.867846  2.744144  5.918278  153.815137\n",
       "20  3mCRf -1.250704  0.540611  3.438567   65.774963\n",
       "21  fRllb -0.307564 -0.942793  1.571509  113.080584\n",
       "22  6GvzI -1.221304  1.262642  5.198435  105.207088\n",
       "23  JwbXn  0.426604  1.142824  6.360318  108.375984\n",
       "24  urwUC  2.378418  0.665386  1.282287   56.478241"
      ]
     },
     "execution_count": 24,
     "metadata": {},
     "output_type": "execute_result"
    }
   ],
   "source": [
    "df_2.head(25)"
   ]
  },
  {
   "cell_type": "code",
   "execution_count": 25,
   "metadata": {},
   "outputs": [
    {
     "name": "stdout",
     "output_type": "stream",
     "text": [
      "<class 'pandas.core.frame.DataFrame'>\n",
      "RangeIndex: 100000 entries, 0 to 99999\n",
      "Data columns (total 5 columns):\n",
      " #   Column   Non-Null Count   Dtype  \n",
      "---  ------   --------------   -----  \n",
      " 0   id       100000 non-null  object \n",
      " 1   f0       100000 non-null  float64\n",
      " 2   f1       100000 non-null  float64\n",
      " 3   f2       100000 non-null  float64\n",
      " 4   product  100000 non-null  float64\n",
      "dtypes: float64(4), object(1)\n",
      "memory usage: 3.8+ MB\n"
     ]
    }
   ],
   "source": [
    "df_2.info()"
   ]
  },
  {
   "cell_type": "code",
   "execution_count": 26,
   "metadata": {},
   "outputs": [
    {
     "data": {
      "text/plain": [
       "0"
      ]
     },
     "execution_count": 26,
     "metadata": {},
     "output_type": "execute_result"
    }
   ],
   "source": [
    "df_2.duplicated().sum()"
   ]
  },
  {
   "cell_type": "code",
   "execution_count": 27,
   "metadata": {},
   "outputs": [
    {
     "data": {
      "text/html": [
       "<div>\n",
       "<style scoped>\n",
       "    .dataframe tbody tr th:only-of-type {\n",
       "        vertical-align: middle;\n",
       "    }\n",
       "\n",
       "    .dataframe tbody tr th {\n",
       "        vertical-align: top;\n",
       "    }\n",
       "\n",
       "    .dataframe thead th {\n",
       "        text-align: right;\n",
       "    }\n",
       "</style>\n",
       "<table border=\"1\" class=\"dataframe\">\n",
       "  <thead>\n",
       "    <tr style=\"text-align: right;\">\n",
       "      <th></th>\n",
       "      <th>f0</th>\n",
       "      <th>f1</th>\n",
       "      <th>f2</th>\n",
       "      <th>product</th>\n",
       "    </tr>\n",
       "  </thead>\n",
       "  <tbody>\n",
       "    <tr>\n",
       "      <th>count</th>\n",
       "      <td>100000.000000</td>\n",
       "      <td>100000.000000</td>\n",
       "      <td>100000.000000</td>\n",
       "      <td>100000.000000</td>\n",
       "    </tr>\n",
       "    <tr>\n",
       "      <th>mean</th>\n",
       "      <td>0.002023</td>\n",
       "      <td>-0.002081</td>\n",
       "      <td>2.495128</td>\n",
       "      <td>95.000000</td>\n",
       "    </tr>\n",
       "    <tr>\n",
       "      <th>std</th>\n",
       "      <td>1.732045</td>\n",
       "      <td>1.730417</td>\n",
       "      <td>3.473445</td>\n",
       "      <td>44.749921</td>\n",
       "    </tr>\n",
       "    <tr>\n",
       "      <th>min</th>\n",
       "      <td>-8.760004</td>\n",
       "      <td>-7.084020</td>\n",
       "      <td>-11.970335</td>\n",
       "      <td>0.000000</td>\n",
       "    </tr>\n",
       "    <tr>\n",
       "      <th>25%</th>\n",
       "      <td>-1.162288</td>\n",
       "      <td>-1.174820</td>\n",
       "      <td>0.130359</td>\n",
       "      <td>59.450441</td>\n",
       "    </tr>\n",
       "    <tr>\n",
       "      <th>50%</th>\n",
       "      <td>0.009424</td>\n",
       "      <td>-0.009482</td>\n",
       "      <td>2.484236</td>\n",
       "      <td>94.925613</td>\n",
       "    </tr>\n",
       "    <tr>\n",
       "      <th>75%</th>\n",
       "      <td>1.158535</td>\n",
       "      <td>1.163678</td>\n",
       "      <td>4.858794</td>\n",
       "      <td>130.595027</td>\n",
       "    </tr>\n",
       "    <tr>\n",
       "      <th>max</th>\n",
       "      <td>7.238262</td>\n",
       "      <td>7.844801</td>\n",
       "      <td>16.739402</td>\n",
       "      <td>190.029838</td>\n",
       "    </tr>\n",
       "  </tbody>\n",
       "</table>\n",
       "</div>"
      ],
      "text/plain": [
       "                  f0             f1             f2        product\n",
       "count  100000.000000  100000.000000  100000.000000  100000.000000\n",
       "mean        0.002023      -0.002081       2.495128      95.000000\n",
       "std         1.732045       1.730417       3.473445      44.749921\n",
       "min        -8.760004      -7.084020     -11.970335       0.000000\n",
       "25%        -1.162288      -1.174820       0.130359      59.450441\n",
       "50%         0.009424      -0.009482       2.484236      94.925613\n",
       "75%         1.158535       1.163678       4.858794     130.595027\n",
       "max         7.238262       7.844801      16.739402     190.029838"
      ]
     },
     "execution_count": 27,
     "metadata": {},
     "output_type": "execute_result"
    }
   ],
   "source": [
    "df_2.describe()"
   ]
  },
  {
   "cell_type": "code",
   "execution_count": 28,
   "metadata": {},
   "outputs": [
    {
     "data": {
      "image/png": "[encoded data removed]",
      "text/plain": [
       "<Figure size 500x500 with 2 Axes>"
      ]
     },
     "metadata": {},
     "output_type": "display_data"
    }
   ],
   "source": [
    "plt.figure(figsize=figsize())\n",
    "sns.heatmap(df_2[['f0', 'f1', 'f2', 'product']].corr(), annot=True, cmap=cm, fmt='.2f')\n",
    "None"
   ]
  },
  {
   "cell_type": "code",
   "execution_count": 29,
   "metadata": {},
   "outputs": [
    {
     "data": {
      "image/png": "[encoded data removed]",
      "text/plain": [
       "<Figure size 1500x500 with 3 Axes>"
      ]
     },
     "metadata": {},
     "output_type": "display_data"
    }
   ],
   "source": [
    "plt.figure(figsize=figsize(3))\n",
    "ax1 = plt.subplot(1,3,1)\n",
    "sns.histplot(df_2['f0'],color=new_color(),alpha=alpha)\n",
    "plot_set(ax1,title='Распределение признака f0 в третьем регионе',xlabel='Признак f0',ylabel='Количество',fontsize=10)\n",
    "ax1 = plt.subplot(1,3,2)\n",
    "sns.histplot(df_2['f1'],color=new_color(),alpha=alpha)\n",
    "plot_set(ax1,title='Распределение признака f1 в третьем регионе',xlabel='Признак f1',fontsize=10)\n",
    "ax1 = plt.subplot(1,3,3)\n",
    "sns.histplot(df_2['f2'],color=new_color(),alpha=alpha)\n",
    "plot_set(ax1,title='Распределение признака f0 в третьем регионе',xlabel='Признак f2',fontsize=10)"
   ]
  },
  {
   "cell_type": "code",
   "execution_count": 30,
   "metadata": {},
   "outputs": [
    {
     "data": {
      "image/png": "[encoded data removed]",
      "text/plain": [
       "<Figure size 500x500 with 1 Axes>"
      ]
     },
     "metadata": {},
     "output_type": "display_data"
    }
   ],
   "source": [
    "plt.figure(figsize=figsize())\n",
    "sns.histplot(df_2['product'],color=new_color(),alpha=alpha)\n",
    "plot_set(ax1,title='Распределение product в третьем регионе',xlabel='product',ylabel='Количество',fontsize=10)"
   ]
  },
  {
   "cell_type": "code",
   "execution_count": 31,
   "metadata": {},
   "outputs": [],
   "source": [
    "df_0.drop(columns='id', inplace=True)\n",
    "df_1.drop(columns='id', inplace=True)\n",
    "df_2.drop(columns='id', inplace=True)"
   ]
  },
  {
   "cell_type": "markdown",
   "metadata": {},
   "source": [
    "Загружены и исследованы данные датафреймов `geo_data_0.csv` `geo_data_1.csv` `geo_data_2.csv`. Данные хорошо подготовлены, нет пропусков, дубликатов.\n",
    "\n",
    "Удалён столбец с названием скважины `id`.\n",
    "\n",
    "Матрицы корреляции Пирсона показывают высокую зависимость показателя объёма запасов нефти от признака `f2` для первого и третьего региона. Для второго региона зависимость прямая и линейная. Для остальных признаков корреляции с объёмами запасов не наблюдается."
   ]
  },
  {
   "cell_type": "markdown",
   "metadata": {},
   "source": [
    "## Обучение и проверка модели"
   ]
  },
  {
   "cell_type": "code",
   "execution_count": 32,
   "metadata": {},
   "outputs": [],
   "source": [
    "def ml_for_geo_datas(df):\n",
    "    target = df['product']\n",
    "    features = df.drop('product', axis=1)\n",
    "    features_train, features_valid, target_train, target_valid = train_test_split(\n",
    "        features, target,\n",
    "        test_size=0.25,\n",
    "        random_state=RANDOM_STATE)\n",
    "    scaler = StandardScaler()\n",
    "    scaler.fit(features_train)\n",
    "    features_train = scaler.transform(features_train)\n",
    "    features_valid = scaler.transform(features_valid)\n",
    "    model = LinearRegression()\n",
    "    model.fit(features_train, target_train)\n",
    "    predict_valid = pd.Series(model.predict(features_valid), index=target_valid.index)\n",
    "    print(f'Средний запас фактического сырья = {target_valid.mean():.2f} тыс. баррелей')\n",
    "    print(f'Средний запас предсказанного сырья = {predict_valid.mean():.2f} тыс. баррелей')\n",
    "    print(f'Разница = {(1-predict_valid.mean()/target_valid.mean()):.2%}')\n",
    "    print(f'RMSE модели = {(mean_squared_error(predict_valid, target_valid)**0.5):.2f} тыс. баррелей')\n",
    "    return target_valid, predict_valid"
   ]
  },
  {
   "cell_type": "code",
   "execution_count": 33,
   "metadata": {},
   "outputs": [
    {
     "name": "stdout",
     "output_type": "stream",
     "text": [
      "Первый регион:\n",
      "Средний запас фактического сырья = 92.08 тыс. баррелей\n",
      "Средний запас предсказанного сырья = 92.59 тыс. баррелей\n",
      "Разница = -0.56%\n",
      "RMSE модели = 37.58 тыс. баррелей\n"
     ]
    }
   ],
   "source": [
    "print('Первый регион:')\n",
    "target_valid_0, predict_valid_0 = ml_for_geo_datas(df_0)"
   ]
  },
  {
   "cell_type": "code",
   "execution_count": 34,
   "metadata": {},
   "outputs": [
    {
     "name": "stdout",
     "output_type": "stream",
     "text": [
      "Второй регион:\n",
      "Средний запас фактического сырья = 68.72 тыс. баррелей\n",
      "Средний запас предсказанного сырья = 68.73 тыс. баррелей\n",
      "Разница = -0.01%\n",
      "RMSE модели = 0.89 тыс. баррелей\n"
     ]
    }
   ],
   "source": [
    "print('Второй регион:')\n",
    "target_valid_1, predict_valid_1 = ml_for_geo_datas(df_1)"
   ]
  },
  {
   "cell_type": "code",
   "execution_count": 35,
   "metadata": {},
   "outputs": [
    {
     "name": "stdout",
     "output_type": "stream",
     "text": [
      "Третий регион:\n",
      "Средний запас фактического сырья = 94.88 тыс. баррелей\n",
      "Средний запас предсказанного сырья = 94.97 тыс. баррелей\n",
      "Разница = -0.09%\n",
      "RMSE модели = 40.03 тыс. баррелей\n"
     ]
    }
   ],
   "source": [
    "print('Третий регион:')\n",
    "target_valid_2, predict_valid_2 = ml_for_geo_datas(df_2)"
   ]
  },
  {
   "cell_type": "markdown",
   "metadata": {},
   "source": [
    "Предсказания несколько завышены. Наибольшая точность достигается для второго региона."
   ]
  },
  {
   "cell_type": "markdown",
   "metadata": {},
   "source": [
    "## Подготовка к расчёту прибыли"
   ]
  },
  {
   "cell_type": "code",
   "execution_count": 36,
   "metadata": {},
   "outputs": [],
   "source": [
    "POINTS_TO_EST = 500\n",
    "BEST_FOR_DEV = 200\n",
    "BUDGET = 10e9\n",
    "BARREL_PRICE = 450e3"
   ]
  },
  {
   "cell_type": "code",
   "execution_count": 37,
   "metadata": {},
   "outputs": [
    {
     "name": "stdout",
     "output_type": "stream",
     "text": [
      "Граница окупаемости 111.11 тыс. баррелей c каждой скважины.\n"
     ]
    }
   ],
   "source": [
    "edge = BUDGET/(BARREL_PRICE*BEST_FOR_DEV)\n",
    "print(f'Граница окупаемости {edge:.2f} тыс. баррелей c каждой скважины.')"
   ]
  },
  {
   "cell_type": "code",
   "execution_count": 38,
   "metadata": {},
   "outputs": [],
   "source": [
    "def mean_geo_datas(df):\n",
    "    plt.figure(figsize=figsize())\n",
    "    ax1 = sns.histplot(df['product'],color=new_color(),alpha=alpha)\n",
    "    plot_set(ax1,title='Распределение объёмов',xlabel='объём, тыс. баррелей',ylabel='Количество',fontsize=10) \n",
    "    plt.axvline(x = edge, color = 'b',linewidth=3)\n",
    "    print(f'Средний запас {df[\"product\"].mean():.2f} тыс. баррелей.')\n",
    "    print(f'Процент скважин с объёмом больше чем порог = {len(df[df[\"product\"]>edge])/len(df):.2%}')\n",
    "    print(f'Количество скважин в объёмом больше чем порог = {len(df[df[\"product\"]>edge])}')"
   ]
  },
  {
   "cell_type": "code",
   "execution_count": 39,
   "metadata": {},
   "outputs": [
    {
     "name": "stdout",
     "output_type": "stream",
     "text": [
      "Первый регион:\n",
      "Средний запас 92.50 тыс. баррелей.\n",
      "Процент скважин с объёмом больше чем порог = 36.58%\n",
      "Количество скважин в объёмом больше чем порог = 36583\n"
     ]
    },
    {
     "data": {
      "image/png": "[encoded data removed]",
      "text/plain": [
       "<Figure size 500x500 with 1 Axes>"
      ]
     },
     "metadata": {},
     "output_type": "display_data"
    }
   ],
   "source": [
    "print('Первый регион:')\n",
    "mean_geo_datas(df_0)"
   ]
  },
  {
   "cell_type": "code",
   "execution_count": 40,
   "metadata": {},
   "outputs": [
    {
     "name": "stdout",
     "output_type": "stream",
     "text": [
      "Второй регион:\n",
      "Средний запас 68.83 тыс. баррелей.\n",
      "Процент скважин с объёмом больше чем порог = 16.54%\n",
      "Количество скважин в объёмом больше чем порог = 16537\n"
     ]
    },
    {
     "data": {
      "image/png": "[encoded data removed]",
      "text/plain": [
       "<Figure size 500x500 with 1 Axes>"
      ]
     },
     "metadata": {},
     "output_type": "display_data"
    }
   ],
   "source": [
    "print('Второй регион:')\n",
    "mean_geo_datas(df_1)"
   ]
  },
  {
   "cell_type": "code",
   "execution_count": 41,
   "metadata": {},
   "outputs": [
    {
     "name": "stdout",
     "output_type": "stream",
     "text": [
      "Третий регион:\n",
      "Средний запас 95.00 тыс. баррелей.\n",
      "Процент скважин с объёмом больше чем порог = 38.18%\n",
      "Количество скважин в объёмом больше чем порог = 38178\n"
     ]
    },
    {
     "data": {
      "image/png": "[encoded data removed]",
      "text/plain": [
       "<Figure size 500x500 with 1 Axes>"
      ]
     },
     "metadata": {},
     "output_type": "display_data"
    }
   ],
   "source": [
    "print('Третий регион:')\n",
    "mean_geo_datas(df_2)"
   ]
  },
  {
   "cell_type": "markdown",
   "metadata": {},
   "source": [
    "При текущих макропараметрах точка безубыточности составляет в среднем 111.11 тыс. баррелей на скважину, при этом средний запас в регионах лежит в промежутке 68-95 тыс. баррелей.\n",
    "\n",
    "`200` из `500` скважин это `40%`. Процент скважин во всех регионах с запасами больше порога не доходит до `40%`.\n",
    "\n",
    "Таким образом можно сделать вывод о том что для того чтобы вложения в разработку окупились, отобранные моделью скважины должны позволять добывать ощутимо больше порогового значения."
   ]
  },
  {
   "cell_type": "markdown",
   "metadata": {},
   "source": [
    "## Расчёт прибыли и рисков "
   ]
  },
  {
   "cell_type": "code",
   "execution_count": 42,
   "metadata": {},
   "outputs": [],
   "source": [
    "def revenue(target, probabilities, count):\n",
    "    target = target.reset_index(drop=True)\n",
    "    probabilities = probabilities.reset_index(drop=True)\n",
    "    probs_sorted = probabilities.sort_values(ascending=False)[:count]\n",
    "    selected = target[probs_sorted.index]\n",
    "    return selected.sum() * BARREL_PRICE"
   ]
  },
  {
   "cell_type": "code",
   "execution_count": 43,
   "metadata": {},
   "outputs": [],
   "source": [
    "def risk_geo_datas(target_valid, predict_valid):\n",
    "    values = []\n",
    "    risk = [0] * 5\n",
    "    for _ in range(1000):\n",
    "        target_subsample = target_valid.sample(POINTS_TO_EST, replace=True, random_state=state)\n",
    "        probs_subsample = predict_valid[target_subsample.index]\n",
    "        values.append(revenue(target_subsample, probs_subsample, BEST_FOR_DEV) - BUDGET)\n",
    "        \n",
    "    values = pd.Series(values)\n",
    "    plt.figure(figsize=figsize(2))\n",
    "    ax1 = sns.histplot(values/1e9,color=new_color(),alpha=alpha,kde=True)\n",
    "    plot_set(ax1,title='Распределение прибыли',xlabel='Прибыль, млрд',ylabel='Количество',fontsize=10) \n",
    "    plt.axvline(x = values.mean() / 1e9, color = 'b',linewidth=3)\n",
    "    risk[0] = values.mean() / 1e9\n",
    "    risk[1] = (values.mean() + BUDGET) / BEST_FOR_DEV / BARREL_PRICE\n",
    "    risk[2] = values.quantile(.025) / 1e9\n",
    "    risk[3] = values.quantile(.975) / 1e9\n",
    "    \n",
    "    risk[4] = len(values[values<0]) / len(values)\n",
    "\n",
    "    print(f'Средняя валовая прибыль  {risk[0]:.3f} млрд. рублей.')\n",
    "    print(f'Средний объём добычи с одной скважины {risk[1]:.3f} тыс. баррелей.')\n",
    "    print(f'Доверительный интервал лежит между {risk[2]:.3f} - {risk[3]:.3f} млрд. рублей.')\n",
    "    print(f'Риск убытков составляет = {risk[4]:.2%}')\n",
    "    return risk"
   ]
  },
  {
   "cell_type": "code",
   "execution_count": 44,
   "metadata": {},
   "outputs": [],
   "source": [
    "target_valid, predict_valid = target_valid_0, predict_valid_0\n",
    "target_subsample = target_valid.sample(POINTS_TO_EST, replace=True, random_state=state)\n",
    "probs_subsample = predict_valid[target_subsample.index]"
   ]
  },
  {
   "cell_type": "code",
   "execution_count": 45,
   "metadata": {},
   "outputs": [
    {
     "name": "stdout",
     "output_type": "stream",
     "text": [
      "Первый регион:\n",
      "Средняя валовая прибыль  0.396 млрд. рублей.\n",
      "Средний объём добычи с одной скважины 115.506 тыс. баррелей.\n",
      "Доверительный интервал лежит между -0.111 - 0.910 млрд. рублей.\n",
      "Риск убытков составляет = 7.00%\n"
     ]
    },
    {
     "data": {
      "image/png": "[encoded data removed]",
      "text/plain": [
       "<Figure size 1000x500 with 1 Axes>"
      ]
     },
     "metadata": {},
     "output_type": "display_data"
    }
   ],
   "source": [
    "print('Первый регион:')\n",
    "risk_0 = risk_geo_datas(target_valid_0, predict_valid_0)"
   ]
  },
  {
   "cell_type": "code",
   "execution_count": 46,
   "metadata": {},
   "outputs": [
    {
     "name": "stdout",
     "output_type": "stream",
     "text": [
      "Второй регион:\n",
      "Средняя валовая прибыль  0.461 млрд. рублей.\n",
      "Средний объём добычи с одной скважины 116.235 тыс. баррелей.\n",
      "Доверительный интервал лежит между 0.078 - 0.863 млрд. рублей.\n",
      "Риск убытков составляет = 0.70%\n"
     ]
    },
    {
     "data": {
      "image/png": "[encoded data removed]",
      "text/plain": [
       "<Figure size 1000x500 with 1 Axes>"
      ]
     },
     "metadata": {},
     "output_type": "display_data"
    }
   ],
   "source": [
    "print('Второй регион:')\n",
    "risk_1 = risk_geo_datas(target_valid_1, predict_valid_1)"
   ]
  },
  {
   "cell_type": "code",
   "execution_count": 47,
   "metadata": {},
   "outputs": [
    {
     "name": "stdout",
     "output_type": "stream",
     "text": [
      "Третий регион:\n",
      "Средняя валовая прибыль  0.393 млрд. рублей.\n",
      "Средний объём добычи с одной скважины 115.473 тыс. баррелей.\n",
      "Доверительный интервал лежит между -0.112 - 0.935 млрд. рублей.\n",
      "Риск убытков составляет = 6.50%\n"
     ]
    },
    {
     "data": {
      "image/png": "[encoded data removed]",
      "text/plain": [
       "<Figure size 1000x500 with 1 Axes>"
      ]
     },
     "metadata": {},
     "output_type": "display_data"
    }
   ],
   "source": [
    "print('Третий регион:')\n",
    "risk_2 = risk_geo_datas(target_valid_2, predict_valid_2)"
   ]
  },
  {
   "cell_type": "code",
   "execution_count": 48,
   "metadata": {},
   "outputs": [
    {
     "data": {
      "text/html": [
       "<style type=\"text/css\">\n",
       "#T_798f9_row0_col0, #T_798f9_row0_col1 {\n",
       "  background-color: #9ac791;\n",
       "  color: #000000;\n",
       "}\n",
       "#T_798f9_row0_col2 {\n",
       "  background-color: #a4cc90;\n",
       "  color: #000000;\n",
       "}\n",
       "#T_798f9_row0_col3 {\n",
       "  background-color: #1e6d8a;\n",
       "  color: #f1f1f1;\n",
       "}\n",
       "#T_798f9_row0_col4, #T_798f9_row1_col0, #T_798f9_row1_col1, #T_798f9_row1_col2, #T_798f9_row2_col3 {\n",
       "  background-color: #2c3172;\n",
       "  color: #f1f1f1;\n",
       "}\n",
       "#T_798f9_row1_col3, #T_798f9_row1_col4, #T_798f9_row2_col0, #T_798f9_row2_col1, #T_798f9_row2_col2 {\n",
       "  background-color: #a5cd90;\n",
       "  color: #000000;\n",
       "}\n",
       "#T_798f9_row2_col4 {\n",
       "  background-color: #294079;\n",
       "  color: #f1f1f1;\n",
       "}\n",
       "</style>\n",
       "<table id=\"T_798f9\">\n",
       "  <thead>\n",
       "    <tr>\n",
       "      <th class=\"blank level0\" >&nbsp;</th>\n",
       "      <th id=\"T_798f9_level0_col0\" class=\"col_heading level0 col0\" >Прибыль (млрд)</th>\n",
       "      <th id=\"T_798f9_level0_col1\" class=\"col_heading level0 col1\" >Объём (тыс. баррель)</th>\n",
       "      <th id=\"T_798f9_level0_col2\" class=\"col_heading level0 col2\" >q(.025)(млрд)</th>\n",
       "      <th id=\"T_798f9_level0_col3\" class=\"col_heading level0 col3\" >q(.975)(млрд)</th>\n",
       "      <th id=\"T_798f9_level0_col4\" class=\"col_heading level0 col4\" >Риск %</th>\n",
       "    </tr>\n",
       "  </thead>\n",
       "  <tbody>\n",
       "    <tr>\n",
       "      <th id=\"T_798f9_level0_row0\" class=\"row_heading level0 row0\" >Регион 1</th>\n",
       "      <td id=\"T_798f9_row0_col0\" class=\"data row0 col0\" >0.395526</td>\n",
       "      <td id=\"T_798f9_row0_col1\" class=\"data row0 col1\" >115.505840</td>\n",
       "      <td id=\"T_798f9_row0_col2\" class=\"data row0 col2\" >-0.111216</td>\n",
       "      <td id=\"T_798f9_row0_col3\" class=\"data row0 col3\" >0.909767</td>\n",
       "      <td id=\"T_798f9_row0_col4\" class=\"data row0 col4\" >7.000000</td>\n",
       "    </tr>\n",
       "    <tr>\n",
       "      <th id=\"T_798f9_level0_row1\" class=\"row_heading level0 row1\" >Регион 2</th>\n",
       "      <td id=\"T_798f9_row1_col0\" class=\"data row1 col0\" >0.461168</td>\n",
       "      <td id=\"T_798f9_row1_col1\" class=\"data row1 col1\" >116.235199</td>\n",
       "      <td id=\"T_798f9_row1_col2\" class=\"data row1 col2\" >0.078051</td>\n",
       "      <td id=\"T_798f9_row1_col3\" class=\"data row1 col3\" >0.862952</td>\n",
       "      <td id=\"T_798f9_row1_col4\" class=\"data row1 col4\" >0.700000</td>\n",
       "    </tr>\n",
       "    <tr>\n",
       "      <th id=\"T_798f9_level0_row2\" class=\"row_heading level0 row2\" >Регион 3</th>\n",
       "      <td id=\"T_798f9_row2_col0\" class=\"data row2 col0\" >0.392579</td>\n",
       "      <td id=\"T_798f9_row2_col1\" class=\"data row2 col1\" >115.473095</td>\n",
       "      <td id=\"T_798f9_row2_col2\" class=\"data row2 col2\" >-0.112228</td>\n",
       "      <td id=\"T_798f9_row2_col3\" class=\"data row2 col3\" >0.934563</td>\n",
       "      <td id=\"T_798f9_row2_col4\" class=\"data row2 col4\" >6.500000</td>\n",
       "    </tr>\n",
       "  </tbody>\n",
       "</table>\n"
      ],
      "text/plain": [
       "<pandas.io.formats.style.Styler at 0x23e74a38210>"
      ]
     },
     "execution_count": 48,
     "metadata": {},
     "output_type": "execute_result"
    }
   ],
   "source": [
    "df_risk = pd.DataFrame({'Регион 1': risk_0,\n",
    "                           'Регион 2': risk_1,\n",
    "                           'Регион 3': risk_2}, index = ['Прибыль (млрд)', \"Объём (тыс. баррель)\", 'q(.025)(млрд)', 'q(.975)(млрд)', 'Риск %']).T\n",
    "df_risk['Риск %'] = df_risk['Риск %']*100\n",
    "\n",
    "df_risk.style.background_gradient(cmap=cm)"
   ]
  },
  {
   "cell_type": "markdown",
   "metadata": {},
   "source": [
    "Согласно распределению среднего значения прибыли с региона, самым прибыльным оказался 2 регион, средняя прибыль в этом регионе составит  0.46 млрд прибыли против примерно 0.4 млрд в других регионах. Так же для данного региона наименьшие риски: `0.7%` против `7%` и `6.5%` в других регионах."
   ]
  },
  {
   "cell_type": "markdown",
   "metadata": {},
   "source": [
    "## Вывод"
   ]
  },
  {
   "cell_type": "markdown",
   "metadata": {},
   "source": [
    "Загружены и исследованы данные датафреймов `geo_data_0.csv` `geo_data_1.csv` `geo_data_2.csv`. Данные хорошо подготовлены, нет пропусков, дубликатов.\n",
    "\n",
    "Удалён столбец с названием скважины `id`.\n",
    "\n",
    "Матрицы корреляции Пирсона показывают высокую зависимость показателя объёма запасов нефти от признака `f2` для первого и третьего региона. Для второго региона зависимость прямая и линейная. Для остальных признаков корреляции с объёмами запасов не наблюдается. \n",
    "\n",
    "Обнаружено, что средний запас ресурсов по регионам недостаточен даже для окупаемости вложений на разработку и для того, чтобы иметь уверенность в перспективе разработки по регионам. Для решения проблемы обучена модель и выполнены предсказания при помощи модели `LinearRegression`, а так же применена технология `bootstrap` с разделением каждого предсказанного значения прибыли по регионам на 1000 выборок.\n",
    "\n",
    "По результату полученных данных определён доверительный интревал получения прибыли в `95%`.\n",
    "\n",
    "Риски менее `2.5%` только для второго региона: `0.7%` против `7%` и `6.5%` в других регионах. Так же, второй регион может принести наибольшую прибыль: 0.46 млрд прибыли против примерно 0.4 млрд в других регионах.\n",
    "\n",
    "Таким образом, наиболее перспективным регионом будем считать второй."
   ]
  }
 ],
 "metadata": {
  "ExecuteTimeLog": [
   {
    "duration": 1890,
    "start_time": "2023-10-17T16:17:22.870Z"
   },
   {
    "duration": 9,
    "start_time": "2023-10-17T16:17:25.690Z"
   },
   {
    "duration": 101,
    "start_time": "2023-10-17T16:17:27.118Z"
   },
   {
    "duration": 225,
    "start_time": "2023-10-17T16:20:55.002Z"
   },
   {
    "duration": 412,
    "start_time": "2023-10-17T16:21:14.198Z"
   },
   {
    "duration": 17,
    "start_time": "2023-10-17T16:21:31.141Z"
   },
   {
    "duration": 19,
    "start_time": "2023-10-17T16:21:33.492Z"
   },
   {
    "duration": 15,
    "start_time": "2023-10-17T16:22:04.763Z"
   },
   {
    "duration": 14,
    "start_time": "2023-10-17T16:22:41.007Z"
   },
   {
    "duration": 53,
    "start_time": "2023-10-17T16:22:47.279Z"
   },
   {
    "duration": 53,
    "start_time": "2023-10-17T16:22:52.542Z"
   },
   {
    "duration": 0,
    "start_time": "2023-10-17T16:26:20.130Z"
   },
   {
    "duration": 7503,
    "start_time": "2023-10-17T16:26:29.074Z"
   },
   {
    "duration": 1632,
    "start_time": "2023-10-17T16:26:59.473Z"
   },
   {
    "duration": 7,
    "start_time": "2023-10-17T16:27:01.107Z"
   },
   {
    "duration": 357,
    "start_time": "2023-10-17T16:27:01.115Z"
   },
   {
    "duration": 17,
    "start_time": "2023-10-17T16:27:01.478Z"
   },
   {
    "duration": 38,
    "start_time": "2023-10-17T16:27:01.497Z"
   },
   {
    "duration": 81,
    "start_time": "2023-10-17T16:27:01.537Z"
   },
   {
    "duration": 55,
    "start_time": "2023-10-17T16:27:01.619Z"
   },
   {
    "duration": 37766,
    "start_time": "2023-10-17T16:27:01.676Z"
   },
   {
    "duration": 74363,
    "start_time": "2023-10-17T16:28:11.573Z"
   },
   {
    "duration": 517,
    "start_time": "2023-10-17T16:30:13.074Z"
   },
   {
    "duration": 321,
    "start_time": "2023-10-17T17:44:16.771Z"
   },
   {
    "duration": 282,
    "start_time": "2023-10-17T17:45:41.830Z"
   },
   {
    "duration": 14,
    "start_time": "2023-10-17T17:45:45.086Z"
   },
   {
    "duration": 1458,
    "start_time": "2023-10-18T06:51:46.756Z"
   },
   {
    "duration": 5,
    "start_time": "2023-10-18T06:51:48.216Z"
   },
   {
    "duration": 330,
    "start_time": "2023-10-18T06:51:48.222Z"
   },
   {
    "duration": 14,
    "start_time": "2023-10-18T06:51:48.553Z"
   },
   {
    "duration": 19,
    "start_time": "2023-10-18T06:51:48.569Z"
   },
   {
    "duration": 40,
    "start_time": "2023-10-18T06:51:48.589Z"
   },
   {
    "duration": 36,
    "start_time": "2023-10-18T06:51:48.631Z"
   },
   {
    "duration": 336,
    "start_time": "2023-10-18T06:51:48.668Z"
   },
   {
    "duration": 179,
    "start_time": "2023-10-18T06:51:49.005Z"
   },
   {
    "duration": 10,
    "start_time": "2023-10-18T06:51:49.186Z"
   },
   {
    "duration": 25,
    "start_time": "2023-10-18T06:51:49.197Z"
   },
   {
    "duration": 37,
    "start_time": "2023-10-18T06:51:49.223Z"
   },
   {
    "duration": 31,
    "start_time": "2023-10-18T06:51:49.261Z"
   },
   {
    "duration": 312,
    "start_time": "2023-10-18T06:51:49.295Z"
   },
   {
    "duration": 191,
    "start_time": "2023-10-18T06:51:49.609Z"
   },
   {
    "duration": 10,
    "start_time": "2023-10-18T06:51:49.802Z"
   },
   {
    "duration": 12,
    "start_time": "2023-10-18T06:51:49.813Z"
   },
   {
    "duration": 51,
    "start_time": "2023-10-18T06:51:49.826Z"
   },
   {
    "duration": 29,
    "start_time": "2023-10-18T06:51:49.879Z"
   },
   {
    "duration": 297,
    "start_time": "2023-10-18T06:51:49.910Z"
   },
   {
    "duration": 8,
    "start_time": "2023-10-18T06:57:22.231Z"
   },
   {
    "duration": 101,
    "start_time": "2023-10-18T07:05:34.659Z"
   },
   {
    "duration": 4,
    "start_time": "2023-10-18T07:05:45.115Z"
   },
   {
    "duration": 9,
    "start_time": "2023-10-18T07:06:01.623Z"
   },
   {
    "duration": 8,
    "start_time": "2023-10-18T07:06:04.946Z"
   },
   {
    "duration": 4,
    "start_time": "2023-10-18T07:28:46.797Z"
   },
   {
    "duration": 4,
    "start_time": "2023-10-18T07:30:52.006Z"
   },
   {
    "duration": 57,
    "start_time": "2023-10-18T07:31:01.914Z"
   },
   {
    "duration": 66,
    "start_time": "2023-10-18T07:31:36.878Z"
   },
   {
    "duration": 28,
    "start_time": "2023-10-18T07:31:39.197Z"
   },
   {
    "duration": 4,
    "start_time": "2023-10-18T07:32:54.471Z"
   },
   {
    "duration": 19,
    "start_time": "2023-10-18T07:32:55.095Z"
   },
   {
    "duration": 4,
    "start_time": "2023-10-18T07:33:12.275Z"
   },
   {
    "duration": 19,
    "start_time": "2023-10-18T07:33:12.594Z"
   },
   {
    "duration": 4,
    "start_time": "2023-10-18T07:33:32.472Z"
   },
   {
    "duration": 21,
    "start_time": "2023-10-18T07:33:33.364Z"
   },
   {
    "duration": 4,
    "start_time": "2023-10-18T07:35:26.496Z"
   },
   {
    "duration": 4,
    "start_time": "2023-10-18T07:35:36.612Z"
   },
   {
    "duration": 25,
    "start_time": "2023-10-18T07:35:37.003Z"
   },
   {
    "duration": 3,
    "start_time": "2023-10-18T07:35:42.661Z"
   },
   {
    "duration": 4,
    "start_time": "2023-10-18T07:35:49.390Z"
   },
   {
    "duration": 23,
    "start_time": "2023-10-18T07:35:49.685Z"
   },
   {
    "duration": 4,
    "start_time": "2023-10-18T07:36:01.647Z"
   },
   {
    "duration": 97,
    "start_time": "2023-10-18T07:36:02.047Z"
   },
   {
    "duration": 3,
    "start_time": "2023-10-18T07:36:27.418Z"
   },
   {
    "duration": 4,
    "start_time": "2023-10-18T07:36:36.059Z"
   },
   {
    "duration": 27,
    "start_time": "2023-10-18T07:36:36.459Z"
   },
   {
    "duration": 109,
    "start_time": "2023-10-18T07:37:01.663Z"
   },
   {
    "duration": 25,
    "start_time": "2023-10-18T07:37:13.415Z"
   },
   {
    "duration": 26,
    "start_time": "2023-10-18T07:37:27.161Z"
   },
   {
    "duration": 27,
    "start_time": "2023-10-18T07:37:48.684Z"
   },
   {
    "duration": 57,
    "start_time": "2023-10-18T07:46:14.588Z"
   },
   {
    "duration": 4,
    "start_time": "2023-10-18T07:46:17.644Z"
   },
   {
    "duration": 26,
    "start_time": "2023-10-18T07:46:18.196Z"
   },
   {
    "duration": 40,
    "start_time": "2023-10-18T07:46:19.500Z"
   },
   {
    "duration": 26,
    "start_time": "2023-10-18T07:46:20.100Z"
   },
   {
    "duration": 5,
    "start_time": "2023-10-18T07:49:30.419Z"
   },
   {
    "duration": 37,
    "start_time": "2023-10-18T07:49:31.035Z"
   },
   {
    "duration": 30,
    "start_time": "2023-10-18T07:49:32.052Z"
   },
   {
    "duration": 27,
    "start_time": "2023-10-18T07:49:33.276Z"
   },
   {
    "duration": 2,
    "start_time": "2023-10-18T07:56:57.651Z"
   },
   {
    "duration": 3,
    "start_time": "2023-10-18T08:17:07.874Z"
   },
   {
    "duration": 3,
    "start_time": "2023-10-18T08:18:04.865Z"
   },
   {
    "duration": 79,
    "start_time": "2023-10-18T08:21:16.633Z"
   },
   {
    "duration": 3,
    "start_time": "2023-10-18T08:22:14.159Z"
   },
   {
    "duration": 10,
    "start_time": "2023-10-18T08:22:29.571Z"
   },
   {
    "duration": 4,
    "start_time": "2023-10-18T08:22:42.483Z"
   },
   {
    "duration": 2,
    "start_time": "2023-10-18T08:22:42.955Z"
   },
   {
    "duration": 8,
    "start_time": "2023-10-18T08:22:43.490Z"
   },
   {
    "duration": 7,
    "start_time": "2023-10-18T08:24:00.645Z"
   },
   {
    "duration": 6,
    "start_time": "2023-10-18T08:24:01.181Z"
   },
   {
    "duration": 7,
    "start_time": "2023-10-18T08:24:01.869Z"
   },
   {
    "duration": 1651,
    "start_time": "2023-10-18T11:24:19.393Z"
   },
   {
    "duration": 7,
    "start_time": "2023-10-18T11:24:21.046Z"
   },
   {
    "duration": 506,
    "start_time": "2023-10-18T11:24:21.055Z"
   },
   {
    "duration": 19,
    "start_time": "2023-10-18T11:24:21.563Z"
   },
   {
    "duration": 17,
    "start_time": "2023-10-18T11:24:21.584Z"
   },
   {
    "duration": 61,
    "start_time": "2023-10-18T11:24:21.602Z"
   },
   {
    "duration": 39,
    "start_time": "2023-10-18T11:24:21.665Z"
   },
   {
    "duration": 413,
    "start_time": "2023-10-18T11:24:21.705Z"
   },
   {
    "duration": 580,
    "start_time": "2023-10-18T11:24:22.121Z"
   },
   {
    "duration": 12,
    "start_time": "2023-10-18T11:24:22.703Z"
   },
   {
    "duration": 22,
    "start_time": "2023-10-18T11:24:22.717Z"
   },
   {
    "duration": 42,
    "start_time": "2023-10-18T11:24:22.741Z"
   },
   {
    "duration": 35,
    "start_time": "2023-10-18T11:24:22.785Z"
   },
   {
    "duration": 325,
    "start_time": "2023-10-18T11:24:22.823Z"
   },
   {
    "duration": 534,
    "start_time": "2023-10-18T11:24:23.149Z"
   },
   {
    "duration": 12,
    "start_time": "2023-10-18T11:24:23.685Z"
   },
   {
    "duration": 81,
    "start_time": "2023-10-18T11:24:23.699Z"
   },
   {
    "duration": 46,
    "start_time": "2023-10-18T11:24:23.782Z"
   },
   {
    "duration": 36,
    "start_time": "2023-10-18T11:24:23.830Z"
   },
   {
    "duration": 339,
    "start_time": "2023-10-18T11:24:23.869Z"
   },
   {
    "duration": 12,
    "start_time": "2023-10-18T11:24:24.212Z"
   },
   {
    "duration": 20,
    "start_time": "2023-10-18T11:24:24.226Z"
   },
   {
    "duration": 195,
    "start_time": "2023-10-18T11:24:24.249Z"
   },
   {
    "duration": 196,
    "start_time": "2023-10-18T11:24:24.449Z"
   },
   {
    "duration": 124,
    "start_time": "2023-10-18T11:24:24.648Z"
   },
   {
    "duration": 70,
    "start_time": "2023-10-18T11:24:24.774Z"
   },
   {
    "duration": 93,
    "start_time": "2023-10-18T11:24:24.852Z"
   },
   {
    "duration": 4,
    "start_time": "2023-10-18T11:24:24.948Z"
   },
   {
    "duration": 20,
    "start_time": "2023-10-18T11:24:24.954Z"
   },
   {
    "duration": 114,
    "start_time": "2023-10-18T11:24:24.976Z"
   },
   {
    "duration": 11,
    "start_time": "2023-10-18T11:24:25.092Z"
   },
   {
    "duration": 3,
    "start_time": "2023-10-18T11:25:55.205Z"
   },
   {
    "duration": 6,
    "start_time": "2023-10-18T11:32:28.319Z"
   },
   {
    "duration": 1548,
    "start_time": "2023-10-18T11:32:43.774Z"
   },
   {
    "duration": 6,
    "start_time": "2023-10-18T11:32:45.323Z"
   },
   {
    "duration": 192,
    "start_time": "2023-10-18T11:32:45.330Z"
   },
   {
    "duration": 22,
    "start_time": "2023-10-18T11:32:45.525Z"
   },
   {
    "duration": 39,
    "start_time": "2023-10-18T11:32:45.549Z"
   },
   {
    "duration": 42,
    "start_time": "2023-10-18T11:32:45.589Z"
   },
   {
    "duration": 55,
    "start_time": "2023-10-18T11:32:45.632Z"
   },
   {
    "duration": 391,
    "start_time": "2023-10-18T11:32:45.689Z"
   },
   {
    "duration": 139,
    "start_time": "2023-10-18T11:32:46.081Z"
   },
   {
    "duration": 11,
    "start_time": "2023-10-18T11:32:46.222Z"
   },
   {
    "duration": 26,
    "start_time": "2023-10-18T11:32:46.234Z"
   },
   {
    "duration": 51,
    "start_time": "2023-10-18T11:32:46.262Z"
   },
   {
    "duration": 65,
    "start_time": "2023-10-18T11:32:46.315Z"
   },
   {
    "duration": 367,
    "start_time": "2023-10-18T11:32:46.382Z"
   },
   {
    "duration": 165,
    "start_time": "2023-10-18T11:32:46.751Z"
   },
   {
    "duration": 12,
    "start_time": "2023-10-18T11:32:46.918Z"
   },
   {
    "duration": 98,
    "start_time": "2023-10-18T11:32:46.931Z"
   },
   {
    "duration": 88,
    "start_time": "2023-10-18T11:32:47.031Z"
   },
   {
    "duration": 43,
    "start_time": "2023-10-18T11:32:47.120Z"
   },
   {
    "duration": 339,
    "start_time": "2023-10-18T11:32:47.167Z"
   },
   {
    "duration": 11,
    "start_time": "2023-10-18T11:32:47.507Z"
   },
   {
    "duration": 57,
    "start_time": "2023-10-18T11:32:47.519Z"
   },
   {
    "duration": 185,
    "start_time": "2023-10-18T11:32:47.577Z"
   },
   {
    "duration": 106,
    "start_time": "2023-10-18T11:32:47.843Z"
   },
   {
    "duration": 125,
    "start_time": "2023-10-18T11:32:47.952Z"
   },
   {
    "duration": 74,
    "start_time": "2023-10-18T11:32:48.080Z"
   },
   {
    "duration": 96,
    "start_time": "2023-10-18T11:32:48.156Z"
   },
   {
    "duration": 8,
    "start_time": "2023-10-18T11:32:48.257Z"
   },
   {
    "duration": 12,
    "start_time": "2023-10-18T11:32:48.268Z"
   },
   {
    "duration": 27,
    "start_time": "2023-10-18T11:32:48.281Z"
   },
   {
    "duration": 14,
    "start_time": "2023-10-18T11:32:48.309Z"
   },
   {
    "duration": 6,
    "start_time": "2023-10-18T11:32:48.325Z"
   },
   {
    "duration": 35,
    "start_time": "2023-10-18T11:32:48.332Z"
   },
   {
    "duration": 115,
    "start_time": "2023-10-18T11:33:44.590Z"
   },
   {
    "duration": 7,
    "start_time": "2023-10-18T11:34:04.541Z"
   },
   {
    "duration": 9,
    "start_time": "2023-10-18T11:34:08.752Z"
   },
   {
    "duration": 20,
    "start_time": "2023-10-18T11:34:13.541Z"
   },
   {
    "duration": 4,
    "start_time": "2023-10-18T11:36:08.212Z"
   },
   {
    "duration": 128,
    "start_time": "2023-10-18T11:36:08.817Z"
   },
   {
    "duration": 102,
    "start_time": "2023-10-18T11:36:43.945Z"
   },
   {
    "duration": 5,
    "start_time": "2023-10-18T11:36:46.761Z"
   },
   {
    "duration": 109,
    "start_time": "2023-10-18T11:36:47.137Z"
   },
   {
    "duration": 6,
    "start_time": "2023-10-18T11:37:09.763Z"
   },
   {
    "duration": 38,
    "start_time": "2023-10-18T11:37:10.207Z"
   },
   {
    "duration": 5,
    "start_time": "2023-10-18T11:37:38.367Z"
   },
   {
    "duration": 37,
    "start_time": "2023-10-18T11:37:39.012Z"
   },
   {
    "duration": 5,
    "start_time": "2023-10-18T11:38:03.339Z"
   },
   {
    "duration": 72,
    "start_time": "2023-10-18T11:38:03.674Z"
   },
   {
    "duration": 32,
    "start_time": "2023-10-18T11:38:09.216Z"
   },
   {
    "duration": 32,
    "start_time": "2023-10-18T11:38:09.717Z"
   },
   {
    "duration": 30,
    "start_time": "2023-10-18T11:38:10.163Z"
   },
   {
    "duration": 3,
    "start_time": "2023-10-18T11:38:11.451Z"
   },
   {
    "duration": 3,
    "start_time": "2023-10-18T11:38:12.119Z"
   },
   {
    "duration": 4,
    "start_time": "2023-10-18T11:38:12.524Z"
   },
   {
    "duration": 8,
    "start_time": "2023-10-18T11:38:13.005Z"
   },
   {
    "duration": 8,
    "start_time": "2023-10-18T11:38:13.428Z"
   },
   {
    "duration": 8,
    "start_time": "2023-10-18T11:38:13.939Z"
   },
   {
    "duration": 4,
    "start_time": "2023-10-18T11:38:14.939Z"
   },
   {
    "duration": 5,
    "start_time": "2023-10-18T11:38:15.628Z"
   },
   {
    "duration": 1139,
    "start_time": "2023-10-18T11:38:16.149Z"
   },
   {
    "duration": 1125,
    "start_time": "2023-10-18T11:38:42.752Z"
   },
   {
    "duration": 1130,
    "start_time": "2023-10-18T11:39:07.051Z"
   },
   {
    "duration": 1123,
    "start_time": "2023-10-18T11:39:28.616Z"
   },
   {
    "duration": 6,
    "start_time": "2023-10-18T11:49:09.657Z"
   },
   {
    "duration": 1031,
    "start_time": "2023-10-18T11:49:11.442Z"
   },
   {
    "duration": 1046,
    "start_time": "2023-10-18T11:49:17.812Z"
   },
   {
    "duration": 1112,
    "start_time": "2023-10-18T11:49:20.834Z"
   },
   {
    "duration": 6,
    "start_time": "2023-10-18T11:49:36.821Z"
   },
   {
    "duration": 1127,
    "start_time": "2023-10-18T11:49:42.342Z"
   },
   {
    "duration": 1108,
    "start_time": "2023-10-18T11:49:43.471Z"
   },
   {
    "duration": 1032,
    "start_time": "2023-10-18T11:49:45.508Z"
   },
   {
    "duration": 5,
    "start_time": "2023-10-18T11:50:07.616Z"
   },
   {
    "duration": 1081,
    "start_time": "2023-10-18T11:50:09.322Z"
   },
   {
    "duration": 1069,
    "start_time": "2023-10-18T11:50:10.405Z"
   },
   {
    "duration": 1036,
    "start_time": "2023-10-18T11:50:11.476Z"
   },
   {
    "duration": 6,
    "start_time": "2023-10-18T11:51:45.782Z"
   },
   {
    "duration": 16,
    "start_time": "2023-10-18T11:51:46.262Z"
   },
   {
    "duration": 6,
    "start_time": "2023-10-18T11:51:58.196Z"
   },
   {
    "duration": 1695,
    "start_time": "2023-10-18T11:51:58.783Z"
   },
   {
    "duration": 7,
    "start_time": "2023-10-18T11:52:17.457Z"
   },
   {
    "duration": 7,
    "start_time": "2023-10-18T11:52:21.674Z"
   },
   {
    "duration": 1827,
    "start_time": "2023-10-18T11:52:25.922Z"
   },
   {
    "duration": 6,
    "start_time": "2023-10-18T11:53:35.043Z"
   },
   {
    "duration": 1085,
    "start_time": "2023-10-18T11:53:35.836Z"
   },
   {
    "duration": 7,
    "start_time": "2023-10-18T11:53:46.610Z"
   },
   {
    "duration": 1115,
    "start_time": "2023-10-18T11:53:47.501Z"
   },
   {
    "duration": 6,
    "start_time": "2023-10-18T11:54:18.825Z"
   },
   {
    "duration": 1031,
    "start_time": "2023-10-18T11:54:19.953Z"
   },
   {
    "duration": 1073,
    "start_time": "2023-10-18T11:54:22.537Z"
   },
   {
    "duration": 1029,
    "start_time": "2023-10-18T11:54:24.810Z"
   },
   {
    "duration": 6,
    "start_time": "2023-10-18T11:55:01.327Z"
   },
   {
    "duration": 1120,
    "start_time": "2023-10-18T11:55:02.153Z"
   },
   {
    "duration": 6,
    "start_time": "2023-10-18T11:55:11.743Z"
   },
   {
    "duration": 1059,
    "start_time": "2023-10-18T11:55:12.079Z"
   },
   {
    "duration": 1066,
    "start_time": "2023-10-18T11:55:13.945Z"
   },
   {
    "duration": 5,
    "start_time": "2023-10-18T11:55:26.514Z"
   },
   {
    "duration": 1122,
    "start_time": "2023-10-18T11:55:29.122Z"
   },
   {
    "duration": 1054,
    "start_time": "2023-10-18T11:55:30.906Z"
   },
   {
    "duration": 1018,
    "start_time": "2023-10-18T11:55:36.971Z"
   },
   {
    "duration": 6,
    "start_time": "2023-10-18T12:03:06.846Z"
   },
   {
    "duration": 1312,
    "start_time": "2023-10-18T12:03:07.625Z"
   },
   {
    "duration": 1294,
    "start_time": "2023-10-18T12:03:08.939Z"
   },
   {
    "duration": 1196,
    "start_time": "2023-10-18T12:03:10.235Z"
   },
   {
    "duration": 6,
    "start_time": "2023-10-18T12:03:46.874Z"
   },
   {
    "duration": 1258,
    "start_time": "2023-10-18T12:03:47.242Z"
   },
   {
    "duration": 1194,
    "start_time": "2023-10-18T12:03:48.502Z"
   },
   {
    "duration": 1194,
    "start_time": "2023-10-18T12:03:49.697Z"
   },
   {
    "duration": 5,
    "start_time": "2023-10-18T12:05:27.814Z"
   },
   {
    "duration": 1020,
    "start_time": "2023-10-18T12:05:28.206Z"
   },
   {
    "duration": 1058,
    "start_time": "2023-10-18T12:05:29.535Z"
   },
   {
    "duration": 1049,
    "start_time": "2023-10-18T12:05:30.721Z"
   },
   {
    "duration": 6,
    "start_time": "2023-10-18T12:06:52.903Z"
   },
   {
    "duration": 1156,
    "start_time": "2023-10-18T12:06:53.233Z"
   },
   {
    "duration": 1085,
    "start_time": "2023-10-18T12:06:54.391Z"
   },
   {
    "duration": 1076,
    "start_time": "2023-10-18T12:06:55.477Z"
   },
   {
    "duration": 6,
    "start_time": "2023-10-18T12:07:54.618Z"
   },
   {
    "duration": 1070,
    "start_time": "2023-10-18T12:07:55.227Z"
   },
   {
    "duration": 6,
    "start_time": "2023-10-18T12:08:42.604Z"
   },
   {
    "duration": 1128,
    "start_time": "2023-10-18T12:08:43.376Z"
   },
   {
    "duration": 1057,
    "start_time": "2023-10-18T12:08:45.490Z"
   },
   {
    "duration": 1075,
    "start_time": "2023-10-18T12:08:49.204Z"
   },
   {
    "duration": 8,
    "start_time": "2023-10-18T12:09:13.043Z"
   },
   {
    "duration": 1131,
    "start_time": "2023-10-18T12:09:13.516Z"
   },
   {
    "duration": 1117,
    "start_time": "2023-10-18T12:09:14.650Z"
   },
   {
    "duration": 1066,
    "start_time": "2023-10-18T12:09:15.769Z"
   },
   {
    "duration": 6,
    "start_time": "2023-10-18T12:10:32.404Z"
   },
   {
    "duration": 1166,
    "start_time": "2023-10-18T12:10:33.734Z"
   },
   {
    "duration": 1126,
    "start_time": "2023-10-18T12:10:34.902Z"
   },
   {
    "duration": 1077,
    "start_time": "2023-10-18T12:10:36.030Z"
   },
   {
    "duration": 6,
    "start_time": "2023-10-18T12:11:19.581Z"
   },
   {
    "duration": 1220,
    "start_time": "2023-10-18T12:11:20.183Z"
   },
   {
    "duration": 1124,
    "start_time": "2023-10-18T12:11:21.406Z"
   },
   {
    "duration": 1168,
    "start_time": "2023-10-18T12:11:22.532Z"
   },
   {
    "duration": 1092,
    "start_time": "2023-10-18T12:11:27.182Z"
   },
   {
    "duration": 1069,
    "start_time": "2023-10-18T12:11:28.276Z"
   },
   {
    "duration": 1113,
    "start_time": "2023-10-18T12:11:29.347Z"
   },
   {
    "duration": 1050,
    "start_time": "2023-10-18T12:11:32.750Z"
   },
   {
    "duration": 1101,
    "start_time": "2023-10-18T12:11:33.802Z"
   },
   {
    "duration": 1094,
    "start_time": "2023-10-18T12:11:34.904Z"
   },
   {
    "duration": 6,
    "start_time": "2023-10-18T12:12:48.454Z"
   },
   {
    "duration": 1216,
    "start_time": "2023-10-18T12:12:48.880Z"
   },
   {
    "duration": 1221,
    "start_time": "2023-10-18T12:12:50.098Z"
   },
   {
    "duration": 1212,
    "start_time": "2023-10-18T12:12:51.321Z"
   },
   {
    "duration": 7,
    "start_time": "2023-10-18T12:12:55.064Z"
   },
   {
    "duration": 1189,
    "start_time": "2023-10-18T12:12:55.323Z"
   },
   {
    "duration": 1177,
    "start_time": "2023-10-18T12:12:56.514Z"
   },
   {
    "duration": 1203,
    "start_time": "2023-10-18T12:12:57.693Z"
   },
   {
    "duration": 6,
    "start_time": "2023-10-18T12:19:12.913Z"
   },
   {
    "duration": 1213,
    "start_time": "2023-10-18T12:19:13.265Z"
   },
   {
    "duration": 1124,
    "start_time": "2023-10-18T12:19:14.480Z"
   },
   {
    "duration": 1064,
    "start_time": "2023-10-18T12:19:15.606Z"
   },
   {
    "duration": 393,
    "start_time": "2023-10-18T12:26:15.851Z"
   },
   {
    "duration": 294,
    "start_time": "2023-10-18T12:27:08.007Z"
   },
   {
    "duration": 371,
    "start_time": "2023-10-18T12:27:18.761Z"
   },
   {
    "duration": 16,
    "start_time": "2023-10-18T12:27:38.212Z"
   },
   {
    "duration": 276,
    "start_time": "2023-10-18T12:27:45.925Z"
   },
   {
    "duration": 291,
    "start_time": "2023-10-18T12:27:51.653Z"
   },
   {
    "duration": 599,
    "start_time": "2023-10-18T12:28:08.864Z"
   },
   {
    "duration": 715,
    "start_time": "2023-10-18T12:28:37.626Z"
   },
   {
    "duration": 925,
    "start_time": "2023-10-18T12:28:43.501Z"
   },
   {
    "duration": 923,
    "start_time": "2023-10-18T12:29:01.222Z"
   },
   {
    "duration": 883,
    "start_time": "2023-10-18T12:29:33.730Z"
   },
   {
    "duration": 920,
    "start_time": "2023-10-18T12:29:41.405Z"
   },
   {
    "duration": 802,
    "start_time": "2023-10-18T12:30:05.211Z"
   },
   {
    "duration": 319,
    "start_time": "2023-10-18T12:30:39.506Z"
   },
   {
    "duration": 362,
    "start_time": "2023-10-18T12:30:44.203Z"
   },
   {
    "duration": 790,
    "start_time": "2023-10-18T12:31:28.762Z"
   },
   {
    "duration": 265,
    "start_time": "2023-10-18T12:31:55.711Z"
   },
   {
    "duration": 1113,
    "start_time": "2023-10-18T12:33:41.161Z"
   },
   {
    "duration": 260,
    "start_time": "2023-10-18T12:33:43.363Z"
   },
   {
    "duration": 9,
    "start_time": "2023-10-18T12:38:34.816Z"
   },
   {
    "duration": 1462,
    "start_time": "2023-10-18T12:38:35.263Z"
   },
   {
    "duration": 1297,
    "start_time": "2023-10-18T12:39:09.715Z"
   },
   {
    "duration": 1284,
    "start_time": "2023-10-18T12:39:11.014Z"
   },
   {
    "duration": 8,
    "start_time": "2023-10-18T12:41:14.053Z"
   },
   {
    "duration": 1347,
    "start_time": "2023-10-18T12:41:14.436Z"
   },
   {
    "duration": 1334,
    "start_time": "2023-10-18T12:41:15.785Z"
   },
   {
    "duration": 1430,
    "start_time": "2023-10-18T12:41:17.121Z"
   },
   {
    "duration": 10,
    "start_time": "2023-10-18T12:44:47.216Z"
   },
   {
    "duration": 1427,
    "start_time": "2023-10-18T12:44:47.686Z"
   },
   {
    "duration": 1429,
    "start_time": "2023-10-18T12:44:49.115Z"
   },
   {
    "duration": 1376,
    "start_time": "2023-10-18T12:44:50.546Z"
   },
   {
    "duration": 5,
    "start_time": "2023-10-18T12:50:38.027Z"
   },
   {
    "duration": 4,
    "start_time": "2023-10-18T12:50:38.651Z"
   },
   {
    "duration": 390,
    "start_time": "2023-10-18T12:50:40.076Z"
   },
   {
    "duration": 379,
    "start_time": "2023-10-18T12:50:43.068Z"
   },
   {
    "duration": 4,
    "start_time": "2023-10-18T12:51:15.503Z"
   },
   {
    "duration": 394,
    "start_time": "2023-10-18T12:51:16.560Z"
   },
   {
    "duration": 353,
    "start_time": "2023-10-18T12:51:17.480Z"
   },
   {
    "duration": 510,
    "start_time": "2023-10-18T12:51:18.176Z"
   },
   {
    "duration": 55,
    "start_time": "2023-10-18T15:09:39.124Z"
   },
   {
    "duration": 1824,
    "start_time": "2023-10-18T15:09:45.880Z"
   },
   {
    "duration": 7,
    "start_time": "2023-10-18T15:09:48.581Z"
   },
   {
    "duration": 551,
    "start_time": "2023-10-18T15:09:49.815Z"
   },
   {
    "duration": 19,
    "start_time": "2023-10-18T15:09:50.368Z"
   },
   {
    "duration": 19,
    "start_time": "2023-10-18T15:09:50.502Z"
   },
   {
    "duration": 55,
    "start_time": "2023-10-18T15:09:50.968Z"
   },
   {
    "duration": 42,
    "start_time": "2023-10-18T15:09:51.445Z"
   },
   {
    "duration": 437,
    "start_time": "2023-10-18T15:09:51.790Z"
   },
   {
    "duration": 1032,
    "start_time": "2023-10-18T15:09:52.229Z"
   },
   {
    "duration": 326,
    "start_time": "2023-10-18T15:09:53.265Z"
   },
   {
    "duration": 639,
    "start_time": "2023-10-18T15:09:53.593Z"
   },
   {
    "duration": 15,
    "start_time": "2023-10-18T15:09:54.235Z"
   },
   {
    "duration": 16,
    "start_time": "2023-10-18T15:09:54.534Z"
   },
   {
    "duration": 51,
    "start_time": "2023-10-18T15:09:55.038Z"
   },
   {
    "duration": 41,
    "start_time": "2023-10-18T15:09:55.440Z"
   },
   {
    "duration": 351,
    "start_time": "2023-10-18T15:09:55.927Z"
   },
   {
    "duration": 991,
    "start_time": "2023-10-18T15:09:56.347Z"
   },
   {
    "duration": 403,
    "start_time": "2023-10-18T15:09:57.341Z"
   },
   {
    "duration": 627,
    "start_time": "2023-10-18T15:09:57.878Z"
   },
   {
    "duration": 13,
    "start_time": "2023-10-18T15:09:58.507Z"
   },
   {
    "duration": 26,
    "start_time": "2023-10-18T15:09:58.814Z"
   },
   {
    "duration": 56,
    "start_time": "2023-10-18T15:09:59.183Z"
   },
   {
    "duration": 41,
    "start_time": "2023-10-18T15:09:59.542Z"
   },
   {
    "duration": 327,
    "start_time": "2023-10-18T15:09:59.903Z"
   },
   {
    "duration": 1177,
    "start_time": "2023-10-18T15:10:00.232Z"
   },
   {
    "duration": 315,
    "start_time": "2023-10-18T15:10:01.411Z"
   },
   {
    "duration": 15,
    "start_time": "2023-10-18T15:10:01.728Z"
   },
   {
    "duration": 6,
    "start_time": "2023-10-18T15:10:02.280Z"
   },
   {
    "duration": 191,
    "start_time": "2023-10-18T15:10:02.671Z"
   },
   {
    "duration": 42,
    "start_time": "2023-10-18T15:10:03.119Z"
   },
   {
    "duration": 34,
    "start_time": "2023-10-18T15:10:03.539Z"
   },
   {
    "duration": 3,
    "start_time": "2023-10-18T15:10:04.895Z"
   },
   {
    "duration": 3,
    "start_time": "2023-10-18T15:10:05.232Z"
   },
   {
    "duration": 4,
    "start_time": "2023-10-18T15:10:05.733Z"
   },
   {
    "duration": 593,
    "start_time": "2023-10-18T15:10:05.776Z"
   },
   {
    "duration": 405,
    "start_time": "2023-10-18T15:10:06.371Z"
   },
   {
    "duration": 437,
    "start_time": "2023-10-18T15:10:06.778Z"
   },
   {
    "duration": 4,
    "start_time": "2023-10-18T15:10:07.217Z"
   },
   {
    "duration": 8,
    "start_time": "2023-10-18T15:10:07.222Z"
   },
   {
    "duration": 1602,
    "start_time": "2023-10-18T15:10:07.232Z"
   },
   {
    "duration": 1630,
    "start_time": "2023-10-18T15:10:08.836Z"
   },
   {
    "duration": 1490,
    "start_time": "2023-10-18T15:10:10.468Z"
   },
   {
    "duration": 8,
    "start_time": "2023-10-18T15:14:40.084Z"
   },
   {
    "duration": 1561,
    "start_time": "2023-10-18T15:14:40.880Z"
   },
   {
    "duration": 89,
    "start_time": "2023-10-18T15:18:59.498Z"
   },
   {
    "duration": 1535,
    "start_time": "2023-10-18T15:19:05.379Z"
   },
   {
    "duration": 1520,
    "start_time": "2023-10-18T15:19:06.916Z"
   },
   {
    "duration": 24,
    "start_time": "2023-10-18T15:19:08.438Z"
   },
   {
    "duration": 4,
    "start_time": "2023-10-18T15:19:08.588Z"
   },
   {
    "duration": 11,
    "start_time": "2023-10-18T15:19:14.021Z"
   },
   {
    "duration": 23,
    "start_time": "2023-10-18T15:21:19.049Z"
   },
   {
    "duration": 16,
    "start_time": "2023-10-18T15:21:37.182Z"
   },
   {
    "duration": 10,
    "start_time": "2023-10-18T15:21:48.016Z"
   },
   {
    "duration": 12,
    "start_time": "2023-10-18T15:21:58.225Z"
   },
   {
    "duration": 13,
    "start_time": "2023-10-18T15:23:04.809Z"
   },
   {
    "duration": 193,
    "start_time": "2023-10-18T15:23:17.403Z"
   },
   {
    "duration": 20,
    "start_time": "2023-10-18T15:23:22.068Z"
   },
   {
    "duration": 21,
    "start_time": "2023-10-18T15:24:39.391Z"
   },
   {
    "duration": 17,
    "start_time": "2023-10-18T15:24:56.615Z"
   },
   {
    "duration": 20,
    "start_time": "2023-10-18T15:25:18.618Z"
   },
   {
    "duration": 21,
    "start_time": "2023-10-18T15:26:18.267Z"
   },
   {
    "duration": 13,
    "start_time": "2023-10-18T15:39:25.318Z"
   },
   {
    "duration": 5105,
    "start_time": "2023-10-18T15:39:32.568Z"
   },
   {
    "duration": 2598,
    "start_time": "2023-10-18T15:40:30.318Z"
   },
   {
    "duration": 2630,
    "start_time": "2023-10-18T15:40:40.707Z"
   },
   {
    "duration": 2485,
    "start_time": "2023-10-18T15:40:49.431Z"
   },
   {
    "duration": 11,
    "start_time": "2023-10-18T15:41:21.274Z"
   },
   {
    "duration": 3135,
    "start_time": "2023-10-18T15:41:27.941Z"
   },
   {
    "duration": 2754,
    "start_time": "2023-10-18T15:41:46.620Z"
   },
   {
    "duration": 3098,
    "start_time": "2023-10-18T15:42:33.081Z"
   },
   {
    "duration": 3918,
    "start_time": "2023-10-18T15:47:19.346Z"
   },
   {
    "duration": 9312,
    "start_time": "2023-10-18T15:47:41.660Z"
   },
   {
    "duration": 9152,
    "start_time": "2023-10-18T15:48:03.368Z"
   },
   {
    "duration": 4351,
    "start_time": "2023-10-18T15:48:16.842Z"
   },
   {
    "duration": 4804,
    "start_time": "2023-10-18T15:48:55.925Z"
   },
   {
    "duration": 1768,
    "start_time": "2023-10-18T15:50:57.974Z"
   },
   {
    "duration": 12,
    "start_time": "2023-10-18T15:50:59.744Z"
   },
   {
    "duration": 203,
    "start_time": "2023-10-18T15:50:59.758Z"
   },
   {
    "duration": 26,
    "start_time": "2023-10-18T15:50:59.964Z"
   },
   {
    "duration": 29,
    "start_time": "2023-10-18T15:50:59.993Z"
   },
   {
    "duration": 88,
    "start_time": "2023-10-18T15:51:00.024Z"
   },
   {
    "duration": 68,
    "start_time": "2023-10-18T15:51:00.114Z"
   },
   {
    "duration": 383,
    "start_time": "2023-10-18T15:51:00.184Z"
   },
   {
    "duration": 1144,
    "start_time": "2023-10-18T15:51:00.569Z"
   },
   {
    "duration": 341,
    "start_time": "2023-10-18T15:51:01.718Z"
   },
   {
    "duration": 179,
    "start_time": "2023-10-18T15:51:02.061Z"
   },
   {
    "duration": 15,
    "start_time": "2023-10-18T15:51:02.243Z"
   },
   {
    "duration": 194,
    "start_time": "2023-10-18T15:51:02.260Z"
   },
   {
    "duration": 192,
    "start_time": "2023-10-18T15:51:02.457Z"
   },
   {
    "duration": 48,
    "start_time": "2023-10-18T15:51:02.651Z"
   },
   {
    "duration": 412,
    "start_time": "2023-10-18T15:51:02.701Z"
   },
   {
    "duration": 1084,
    "start_time": "2023-10-18T15:51:03.116Z"
   },
   {
    "duration": 320,
    "start_time": "2023-10-18T15:51:04.202Z"
   },
   {
    "duration": 167,
    "start_time": "2023-10-18T15:51:04.524Z"
   },
   {
    "duration": 14,
    "start_time": "2023-10-18T15:51:04.693Z"
   },
   {
    "duration": 42,
    "start_time": "2023-10-18T15:51:04.709Z"
   },
   {
    "duration": 75,
    "start_time": "2023-10-18T15:51:04.753Z"
   },
   {
    "duration": 53,
    "start_time": "2023-10-18T15:51:04.830Z"
   },
   {
    "duration": 510,
    "start_time": "2023-10-18T15:51:04.885Z"
   },
   {
    "duration": 1162,
    "start_time": "2023-10-18T15:51:05.397Z"
   },
   {
    "duration": 328,
    "start_time": "2023-10-18T15:51:06.561Z"
   },
   {
    "duration": 13,
    "start_time": "2023-10-18T15:51:06.892Z"
   },
   {
    "duration": 6,
    "start_time": "2023-10-18T15:51:06.909Z"
   },
   {
    "duration": 68,
    "start_time": "2023-10-18T15:51:06.917Z"
   },
   {
    "duration": 202,
    "start_time": "2023-10-18T15:51:07.058Z"
   },
   {
    "duration": 195,
    "start_time": "2023-10-18T15:51:07.263Z"
   },
   {
    "duration": 3,
    "start_time": "2023-10-18T15:51:07.556Z"
   },
   {
    "duration": 17,
    "start_time": "2023-10-18T15:51:07.561Z"
   },
   {
    "duration": 42,
    "start_time": "2023-10-18T15:51:07.580Z"
   },
   {
    "duration": 618,
    "start_time": "2023-10-18T15:51:07.624Z"
   },
   {
    "duration": 433,
    "start_time": "2023-10-18T15:51:08.244Z"
   },
   {
    "duration": 507,
    "start_time": "2023-10-18T15:51:08.679Z"
   },
   {
    "duration": 4,
    "start_time": "2023-10-18T15:51:09.189Z"
   },
   {
    "duration": 19,
    "start_time": "2023-10-18T15:51:09.195Z"
   },
   {
    "duration": 1654,
    "start_time": "2023-10-18T15:51:09.216Z"
   },
   {
    "duration": 1606,
    "start_time": "2023-10-18T15:51:10.872Z"
   },
   {
    "duration": 1641,
    "start_time": "2023-10-18T15:51:12.480Z"
   },
   {
    "duration": 72,
    "start_time": "2023-10-18T15:51:14.124Z"
   },
   {
    "duration": 9,
    "start_time": "2023-10-18T15:52:05.973Z"
   },
   {
    "duration": 1727,
    "start_time": "2023-10-18T15:52:06.806Z"
   },
   {
    "duration": 1615,
    "start_time": "2023-10-18T15:52:09.462Z"
   },
   {
    "duration": 1563,
    "start_time": "2023-10-18T15:52:11.079Z"
   },
   {
    "duration": 5601,
    "start_time": "2023-10-18T17:49:13.189Z"
   },
   {
    "duration": 6,
    "start_time": "2023-10-18T17:49:18.793Z"
   },
   {
    "duration": 385,
    "start_time": "2023-10-18T17:49:18.800Z"
   },
   {
    "duration": 15,
    "start_time": "2023-10-18T17:49:19.187Z"
   },
   {
    "duration": 25,
    "start_time": "2023-10-18T17:49:19.204Z"
   },
   {
    "duration": 45,
    "start_time": "2023-10-18T17:49:19.231Z"
   },
   {
    "duration": 48,
    "start_time": "2023-10-18T17:49:19.278Z"
   },
   {
    "duration": 347,
    "start_time": "2023-10-18T17:49:19.327Z"
   },
   {
    "duration": 958,
    "start_time": "2023-10-18T17:49:19.675Z"
   },
   {
    "duration": 307,
    "start_time": "2023-10-18T17:49:20.636Z"
   },
   {
    "duration": 229,
    "start_time": "2023-10-18T17:49:20.945Z"
   },
   {
    "duration": 11,
    "start_time": "2023-10-18T17:49:21.176Z"
   },
   {
    "duration": 19,
    "start_time": "2023-10-18T17:49:21.189Z"
   },
   {
    "duration": 42,
    "start_time": "2023-10-18T17:49:21.210Z"
   },
   {
    "duration": 37,
    "start_time": "2023-10-18T17:49:21.253Z"
   },
   {
    "duration": 341,
    "start_time": "2023-10-18T17:49:21.292Z"
   },
   {
    "duration": 889,
    "start_time": "2023-10-18T17:49:21.635Z"
   },
   {
    "duration": 383,
    "start_time": "2023-10-18T17:49:22.526Z"
   },
   {
    "duration": 216,
    "start_time": "2023-10-18T17:49:22.911Z"
   },
   {
    "duration": 11,
    "start_time": "2023-10-18T17:49:23.129Z"
   },
   {
    "duration": 28,
    "start_time": "2023-10-18T17:49:23.142Z"
   },
   {
    "duration": 66,
    "start_time": "2023-10-18T17:49:23.172Z"
   },
   {
    "duration": 37,
    "start_time": "2023-10-18T17:49:23.239Z"
   },
   {
    "duration": 340,
    "start_time": "2023-10-18T17:49:23.277Z"
   },
   {
    "duration": 1028,
    "start_time": "2023-10-18T17:49:23.623Z"
   },
   {
    "duration": 287,
    "start_time": "2023-10-18T17:49:24.653Z"
   },
   {
    "duration": 11,
    "start_time": "2023-10-18T17:49:24.941Z"
   },
   {
    "duration": 6,
    "start_time": "2023-10-18T17:49:24.955Z"
   },
   {
    "duration": 69,
    "start_time": "2023-10-18T17:49:24.963Z"
   },
   {
    "duration": 206,
    "start_time": "2023-10-18T17:49:25.034Z"
   },
   {
    "duration": 198,
    "start_time": "2023-10-18T17:49:25.243Z"
   },
   {
    "duration": 82,
    "start_time": "2023-10-18T17:49:25.443Z"
   },
   {
    "duration": 98,
    "start_time": "2023-10-18T17:49:25.528Z"
   },
   {
    "duration": 130,
    "start_time": "2023-10-18T17:49:25.628Z"
   },
   {
    "duration": 491,
    "start_time": "2023-10-18T17:49:25.760Z"
   },
   {
    "duration": 396,
    "start_time": "2023-10-18T17:49:26.253Z"
   },
   {
    "duration": 410,
    "start_time": "2023-10-18T17:49:26.651Z"
   },
   {
    "duration": 3,
    "start_time": "2023-10-18T17:49:27.063Z"
   },
   {
    "duration": 19,
    "start_time": "2023-10-18T17:49:27.068Z"
   },
   {
    "duration": 1404,
    "start_time": "2023-10-18T17:49:27.088Z"
   },
   {
    "duration": 1447,
    "start_time": "2023-10-18T17:49:28.494Z"
   },
   {
    "duration": 74,
    "start_time": "2023-10-18T17:49:31.397Z"
   },
   {
    "duration": 3,
    "start_time": "2023-10-18T17:49:31.473Z"
   },
   {
    "duration": 31,
    "start_time": "2023-10-18T17:49:31.478Z"
   },
   {
    "duration": 1533,
    "start_time": "2023-10-18T17:49:31.511Z"
   },
   {
    "duration": 1487,
    "start_time": "2023-10-18T17:49:33.046Z"
   },
   {
    "duration": 1668,
    "start_time": "2023-10-18T17:49:34.534Z"
   },
   {
    "duration": 30,
    "start_time": "2023-10-18T17:49:36.205Z"
   },
   {
    "duration": 3,
    "start_time": "2023-10-18T17:49:41.493Z"
   },
   {
    "duration": 8,
    "start_time": "2023-10-18T17:49:41.927Z"
   },
   {
    "duration": 1596,
    "start_time": "2023-10-18T17:49:42.595Z"
   },
   {
    "duration": 1454,
    "start_time": "2023-10-18T17:49:44.193Z"
   },
   {
    "duration": 1451,
    "start_time": "2023-10-18T17:49:45.648Z"
   },
   {
    "duration": 28,
    "start_time": "2023-10-18T17:49:47.101Z"
   },
   {
    "duration": 121,
    "start_time": "2023-10-18T18:00:36.422Z"
   },
   {
    "duration": 5,
    "start_time": "2023-10-18T18:00:47.976Z"
   },
   {
    "duration": 193,
    "start_time": "2023-10-18T18:00:48.974Z"
   },
   {
    "duration": 162,
    "start_time": "2023-10-18T18:00:50.391Z"
   },
   {
    "duration": 15,
    "start_time": "2023-10-18T18:00:50.830Z"
   },
   {
    "duration": 18,
    "start_time": "2023-10-18T18:00:51.298Z"
   },
   {
    "duration": 58,
    "start_time": "2023-10-18T18:00:51.651Z"
   },
   {
    "duration": 43,
    "start_time": "2023-10-18T18:00:51.977Z"
   },
   {
    "duration": 364,
    "start_time": "2023-10-18T18:00:52.306Z"
   },
   {
    "duration": 992,
    "start_time": "2023-10-18T18:00:52.672Z"
   },
   {
    "duration": 334,
    "start_time": "2023-10-18T18:00:53.667Z"
   },
   {
    "duration": 167,
    "start_time": "2023-10-18T18:00:54.003Z"
   },
   {
    "duration": 14,
    "start_time": "2023-10-18T18:00:54.173Z"
   },
   {
    "duration": 28,
    "start_time": "2023-10-18T18:00:54.189Z"
   },
   {
    "duration": 56,
    "start_time": "2023-10-18T18:00:54.636Z"
   },
   {
    "duration": 42,
    "start_time": "2023-10-18T18:00:54.952Z"
   },
   {
    "duration": 339,
    "start_time": "2023-10-18T18:00:55.181Z"
   },
   {
    "duration": 1150,
    "start_time": "2023-10-18T18:00:55.522Z"
   },
   {
    "duration": 348,
    "start_time": "2023-10-18T18:00:56.674Z"
   },
   {
    "duration": 160,
    "start_time": "2023-10-18T18:00:57.025Z"
   },
   {
    "duration": 14,
    "start_time": "2023-10-18T18:00:57.187Z"
   },
   {
    "duration": 21,
    "start_time": "2023-10-18T18:00:57.202Z"
   },
   {
    "duration": 77,
    "start_time": "2023-10-18T18:00:57.225Z"
   },
   {
    "duration": 58,
    "start_time": "2023-10-18T18:00:57.304Z"
   },
   {
    "duration": 331,
    "start_time": "2023-10-18T18:00:57.364Z"
   },
   {
    "duration": 1245,
    "start_time": "2023-10-18T18:00:57.697Z"
   },
   {
    "duration": 518,
    "start_time": "2023-10-18T18:00:58.946Z"
   },
   {
    "duration": 10,
    "start_time": "2023-10-18T18:00:59.466Z"
   },
   {
    "duration": 28,
    "start_time": "2023-10-18T18:00:59.478Z"
   },
   {
    "duration": 56,
    "start_time": "2023-10-18T18:00:59.508Z"
   },
   {
    "duration": 227,
    "start_time": "2023-10-18T18:00:59.567Z"
   },
   {
    "duration": 189,
    "start_time": "2023-10-18T18:00:59.796Z"
   },
   {
    "duration": 8,
    "start_time": "2023-10-18T18:01:00.058Z"
   },
   {
    "duration": 107,
    "start_time": "2023-10-18T18:01:00.068Z"
   },
   {
    "duration": 56,
    "start_time": "2023-10-18T18:01:00.178Z"
   },
   {
    "duration": 471,
    "start_time": "2023-10-18T18:01:00.236Z"
   },
   {
    "duration": 439,
    "start_time": "2023-10-18T18:01:00.709Z"
   },
   {
    "duration": 449,
    "start_time": "2023-10-18T18:01:01.150Z"
   },
   {
    "duration": 4,
    "start_time": "2023-10-18T18:01:01.602Z"
   },
   {
    "duration": 9,
    "start_time": "2023-10-18T18:01:02.697Z"
   },
   {
    "duration": 12,
    "start_time": "2023-10-18T18:01:06.189Z"
   },
   {
    "duration": 5,
    "start_time": "2023-10-18T18:01:18.552Z"
   },
   {
    "duration": 14,
    "start_time": "2023-10-18T18:01:34.865Z"
   },
   {
    "duration": 9,
    "start_time": "2023-10-18T18:01:43.998Z"
   },
   {
    "duration": 13,
    "start_time": "2023-10-18T18:01:58.005Z"
   },
   {
    "duration": 4,
    "start_time": "2023-10-18T18:02:16.673Z"
   },
   {
    "duration": 7,
    "start_time": "2023-10-18T18:02:22.538Z"
   },
   {
    "duration": 7,
    "start_time": "2023-10-18T18:03:15.850Z"
   },
   {
    "duration": 4,
    "start_time": "2023-10-18T18:03:31.010Z"
   },
   {
    "duration": 7,
    "start_time": "2023-10-18T18:03:31.330Z"
   },
   {
    "duration": 4,
    "start_time": "2023-10-18T18:03:47.489Z"
   },
   {
    "duration": 7,
    "start_time": "2023-10-18T18:03:47.842Z"
   },
   {
    "duration": 4,
    "start_time": "2023-10-18T18:04:11.820Z"
   },
   {
    "duration": 6,
    "start_time": "2023-10-18T18:04:12.904Z"
   },
   {
    "duration": 8,
    "start_time": "2023-10-18T18:04:15.605Z"
   },
   {
    "duration": 10,
    "start_time": "2023-10-18T18:04:21.260Z"
   },
   {
    "duration": 4,
    "start_time": "2023-10-18T18:06:29.877Z"
   },
   {
    "duration": 18,
    "start_time": "2023-10-18T18:06:30.487Z"
   },
   {
    "duration": 5,
    "start_time": "2023-10-18T18:07:01.023Z"
   },
   {
    "duration": 14,
    "start_time": "2023-10-18T18:07:01.385Z"
   },
   {
    "duration": 6,
    "start_time": "2023-10-18T18:07:05.372Z"
   },
   {
    "duration": 13,
    "start_time": "2023-10-18T18:07:05.706Z"
   },
   {
    "duration": 5,
    "start_time": "2023-10-18T18:07:17.659Z"
   },
   {
    "duration": 25,
    "start_time": "2023-10-18T18:07:18.192Z"
   },
   {
    "duration": 5,
    "start_time": "2023-10-18T18:07:29.437Z"
   },
   {
    "duration": 20,
    "start_time": "2023-10-18T18:07:29.943Z"
   },
   {
    "duration": 5,
    "start_time": "2023-10-18T18:08:03.782Z"
   },
   {
    "duration": 9,
    "start_time": "2023-10-18T18:08:04.194Z"
   },
   {
    "duration": 4,
    "start_time": "2023-10-18T18:09:13.976Z"
   },
   {
    "duration": 5,
    "start_time": "2023-10-18T18:09:14.499Z"
   },
   {
    "duration": 4,
    "start_time": "2023-10-18T18:09:34.123Z"
   },
   {
    "duration": 9,
    "start_time": "2023-10-18T18:09:34.717Z"
   },
   {
    "duration": 1629,
    "start_time": "2023-10-18T18:10:10.405Z"
   },
   {
    "duration": 8,
    "start_time": "2023-10-18T18:10:12.037Z"
   },
   {
    "duration": 187,
    "start_time": "2023-10-18T18:10:12.047Z"
   },
   {
    "duration": 22,
    "start_time": "2023-10-18T18:10:12.237Z"
   },
   {
    "duration": 52,
    "start_time": "2023-10-18T18:10:12.261Z"
   },
   {
    "duration": 80,
    "start_time": "2023-10-18T18:10:12.315Z"
   },
   {
    "duration": 46,
    "start_time": "2023-10-18T18:10:12.397Z"
   },
   {
    "duration": 393,
    "start_time": "2023-10-18T18:10:12.458Z"
   },
   {
    "duration": 1086,
    "start_time": "2023-10-18T18:10:12.862Z"
   },
   {
    "duration": 324,
    "start_time": "2023-10-18T18:10:13.955Z"
   },
   {
    "duration": 168,
    "start_time": "2023-10-18T18:10:14.281Z"
   },
   {
    "duration": 13,
    "start_time": "2023-10-18T18:10:14.451Z"
   },
   {
    "duration": 38,
    "start_time": "2023-10-18T18:10:14.465Z"
   },
   {
    "duration": 60,
    "start_time": "2023-10-18T18:10:14.505Z"
   },
   {
    "duration": 44,
    "start_time": "2023-10-18T18:10:14.567Z"
   },
   {
    "duration": 385,
    "start_time": "2023-10-18T18:10:14.614Z"
   },
   {
    "duration": 973,
    "start_time": "2023-10-18T18:10:15.001Z"
   },
   {
    "duration": 290,
    "start_time": "2023-10-18T18:10:15.976Z"
   },
   {
    "duration": 175,
    "start_time": "2023-10-18T18:10:16.268Z"
   },
   {
    "duration": 16,
    "start_time": "2023-10-18T18:10:16.445Z"
   },
   {
    "duration": 43,
    "start_time": "2023-10-18T18:10:16.462Z"
   },
   {
    "duration": 62,
    "start_time": "2023-10-18T18:10:16.506Z"
   },
   {
    "duration": 47,
    "start_time": "2023-10-18T18:10:16.570Z"
   },
   {
    "duration": 566,
    "start_time": "2023-10-18T18:10:16.620Z"
   },
   {
    "duration": 1215,
    "start_time": "2023-10-18T18:10:17.188Z"
   },
   {
    "duration": 333,
    "start_time": "2023-10-18T18:10:18.405Z"
   },
   {
    "duration": 23,
    "start_time": "2023-10-18T18:10:18.740Z"
   },
   {
    "duration": 15,
    "start_time": "2023-10-18T18:10:18.766Z"
   },
   {
    "duration": 181,
    "start_time": "2023-10-18T18:10:18.784Z"
   },
   {
    "duration": 194,
    "start_time": "2023-10-18T18:10:18.967Z"
   },
   {
    "duration": 194,
    "start_time": "2023-10-18T18:10:19.164Z"
   },
   {
    "duration": 95,
    "start_time": "2023-10-18T18:10:19.360Z"
   },
   {
    "duration": 13,
    "start_time": "2023-10-18T18:10:19.458Z"
   },
   {
    "duration": 16,
    "start_time": "2023-10-18T18:10:19.473Z"
   },
   {
    "duration": 601,
    "start_time": "2023-10-18T18:10:19.491Z"
   },
   {
    "duration": 411,
    "start_time": "2023-10-18T18:10:20.094Z"
   },
   {
    "duration": 480,
    "start_time": "2023-10-18T18:10:20.508Z"
   },
   {
    "duration": 5,
    "start_time": "2023-10-18T18:10:20.990Z"
   },
   {
    "duration": 102,
    "start_time": "2023-10-18T18:10:20.997Z"
   },
   {
    "duration": 72,
    "start_time": "2023-10-18T18:10:21.101Z"
   },
   {
    "duration": 1690,
    "start_time": "2023-10-18T18:10:21.175Z"
   },
   {
    "duration": 1595,
    "start_time": "2023-10-18T18:10:22.870Z"
   },
   {
    "duration": 1523,
    "start_time": "2023-10-18T18:10:24.467Z"
   },
   {
    "duration": 72,
    "start_time": "2023-10-18T18:10:25.992Z"
   },
   {
    "duration": 116,
    "start_time": "2023-10-18T18:20:22.142Z"
   },
   {
    "duration": 1693,
    "start_time": "2023-10-18T18:20:59.741Z"
   },
   {
    "duration": 7,
    "start_time": "2023-10-18T18:21:01.436Z"
   },
   {
    "duration": 234,
    "start_time": "2023-10-18T18:21:01.457Z"
   },
   {
    "duration": 17,
    "start_time": "2023-10-18T18:21:01.694Z"
   },
   {
    "duration": 143,
    "start_time": "2023-10-18T18:21:01.714Z"
   },
   {
    "duration": 86,
    "start_time": "2023-10-18T18:21:01.860Z"
   },
   {
    "duration": 50,
    "start_time": "2023-10-18T18:21:01.948Z"
   },
   {
    "duration": 407,
    "start_time": "2023-10-18T18:21:02.000Z"
   },
   {
    "duration": 1151,
    "start_time": "2023-10-18T18:21:02.409Z"
   },
   {
    "duration": 332,
    "start_time": "2023-10-18T18:21:03.563Z"
   },
   {
    "duration": 163,
    "start_time": "2023-10-18T18:21:03.897Z"
   },
   {
    "duration": 14,
    "start_time": "2023-10-18T18:21:04.063Z"
   },
   {
    "duration": 40,
    "start_time": "2023-10-18T18:21:04.079Z"
   },
   {
    "duration": 60,
    "start_time": "2023-10-18T18:21:04.121Z"
   },
   {
    "duration": 41,
    "start_time": "2023-10-18T18:21:04.183Z"
   },
   {
    "duration": 369,
    "start_time": "2023-10-18T18:21:04.226Z"
   },
   {
    "duration": 999,
    "start_time": "2023-10-18T18:21:04.597Z"
   },
   {
    "duration": 297,
    "start_time": "2023-10-18T18:21:05.598Z"
   },
   {
    "duration": 163,
    "start_time": "2023-10-18T18:21:05.897Z"
   },
   {
    "duration": 15,
    "start_time": "2023-10-18T18:21:06.062Z"
   },
   {
    "duration": 19,
    "start_time": "2023-10-18T18:21:06.079Z"
   },
   {
    "duration": 82,
    "start_time": "2023-10-18T18:21:06.100Z"
   },
   {
    "duration": 44,
    "start_time": "2023-10-18T18:21:06.185Z"
   },
   {
    "duration": 507,
    "start_time": "2023-10-18T18:21:06.231Z"
   },
   {
    "duration": 1215,
    "start_time": "2023-10-18T18:21:06.741Z"
   },
   {
    "duration": 364,
    "start_time": "2023-10-18T18:21:07.959Z"
   },
   {
    "duration": 16,
    "start_time": "2023-10-18T18:21:08.325Z"
   },
   {
    "duration": 31,
    "start_time": "2023-10-18T18:21:08.345Z"
   },
   {
    "duration": 87,
    "start_time": "2023-10-18T18:21:08.379Z"
   },
   {
    "duration": 214,
    "start_time": "2023-10-18T18:21:08.469Z"
   },
   {
    "duration": 199,
    "start_time": "2023-10-18T18:21:08.758Z"
   },
   {
    "duration": 8,
    "start_time": "2023-10-18T18:21:08.959Z"
   },
   {
    "duration": 5,
    "start_time": "2023-10-18T18:21:09.058Z"
   },
   {
    "duration": 14,
    "start_time": "2023-10-18T18:21:09.065Z"
   },
   {
    "duration": 692,
    "start_time": "2023-10-18T18:21:09.081Z"
   },
   {
    "duration": 424,
    "start_time": "2023-10-18T18:21:09.775Z"
   },
   {
    "duration": 453,
    "start_time": "2023-10-18T18:21:10.200Z"
   },
   {
    "duration": 4,
    "start_time": "2023-10-18T18:21:10.656Z"
   },
   {
    "duration": 39,
    "start_time": "2023-10-18T18:21:10.662Z"
   },
   {
    "duration": 51,
    "start_time": "2023-10-18T18:21:10.703Z"
   },
   {
    "duration": 1616,
    "start_time": "2023-10-18T18:21:10.757Z"
   },
   {
    "duration": 1580,
    "start_time": "2023-10-18T18:21:12.376Z"
   },
   {
    "duration": 1606,
    "start_time": "2023-10-18T18:21:13.959Z"
   },
   {
    "duration": 63,
    "start_time": "2023-10-18T18:21:15.567Z"
   },
   {
    "duration": 147,
    "start_time": "2023-10-18T18:23:27.852Z"
   },
   {
    "duration": 17,
    "start_time": "2023-10-18T18:23:36.298Z"
   },
   {
    "duration": 6,
    "start_time": "2023-10-18T18:23:55.006Z"
   },
   {
    "duration": 5,
    "start_time": "2023-10-18T18:25:37.959Z"
   },
   {
    "duration": 23113,
    "start_time": "2023-10-18T18:29:02.354Z"
   },
   {
    "duration": 2894,
    "start_time": "2023-10-18T18:30:00.069Z"
   },
   {
    "duration": 4760,
    "start_time": "2023-10-18T18:30:12.991Z"
   },
   {
    "duration": 320,
    "start_time": "2023-10-18T18:30:39.959Z"
   },
   {
    "duration": 106,
    "start_time": "2023-10-18T18:31:12.271Z"
   },
   {
    "duration": 18,
    "start_time": "2023-10-18T18:31:16.784Z"
   },
   {
    "duration": 23,
    "start_time": "2023-10-18T18:31:32.854Z"
   },
   {
    "duration": 1580,
    "start_time": "2023-10-18T18:31:57.612Z"
   },
   {
    "duration": 2853,
    "start_time": "2023-10-18T18:32:02.249Z"
   },
   {
    "duration": 25,
    "start_time": "2023-10-18T18:32:12.933Z"
   },
   {
    "duration": 28,
    "start_time": "2023-10-18T18:32:47.818Z"
   },
   {
    "duration": 4860,
    "start_time": "2023-10-18T18:32:52.699Z"
   },
   {
    "duration": 7,
    "start_time": "2023-10-18T18:32:57.561Z"
   },
   {
    "duration": 202,
    "start_time": "2023-10-18T18:32:57.570Z"
   },
   {
    "duration": 19,
    "start_time": "2023-10-18T18:32:57.775Z"
   },
   {
    "duration": 36,
    "start_time": "2023-10-18T18:32:57.796Z"
   },
   {
    "duration": 106,
    "start_time": "2023-10-18T18:32:57.834Z"
   },
   {
    "duration": 61,
    "start_time": "2023-10-18T18:32:57.943Z"
   },
   {
    "duration": 513,
    "start_time": "2023-10-18T18:32:58.006Z"
   },
   {
    "duration": 1038,
    "start_time": "2023-10-18T18:32:58.522Z"
   },
   {
    "duration": 311,
    "start_time": "2023-10-18T18:32:59.563Z"
   },
   {
    "duration": 163,
    "start_time": "2023-10-18T18:32:59.876Z"
   },
   {
    "duration": 14,
    "start_time": "2023-10-18T18:33:00.041Z"
   },
   {
    "duration": 77,
    "start_time": "2023-10-18T18:33:00.057Z"
   },
   {
    "duration": 69,
    "start_time": "2023-10-18T18:33:00.137Z"
   },
   {
    "duration": 50,
    "start_time": "2023-10-18T18:33:00.209Z"
   },
   {
    "duration": 326,
    "start_time": "2023-10-18T18:33:00.261Z"
   },
   {
    "duration": 1186,
    "start_time": "2023-10-18T18:33:00.589Z"
   },
   {
    "duration": 294,
    "start_time": "2023-10-18T18:33:01.777Z"
   },
   {
    "duration": 162,
    "start_time": "2023-10-18T18:33:02.074Z"
   },
   {
    "duration": 20,
    "start_time": "2023-10-18T18:33:02.238Z"
   },
   {
    "duration": 54,
    "start_time": "2023-10-18T18:33:02.261Z"
   },
   {
    "duration": 93,
    "start_time": "2023-10-18T18:33:02.318Z"
   },
   {
    "duration": 53,
    "start_time": "2023-10-18T18:33:02.414Z"
   },
   {
    "duration": 392,
    "start_time": "2023-10-18T18:33:02.470Z"
   },
   {
    "duration": 1275,
    "start_time": "2023-10-18T18:33:02.865Z"
   },
   {
    "duration": 504,
    "start_time": "2023-10-18T18:33:04.141Z"
   },
   {
    "duration": 13,
    "start_time": "2023-10-18T18:33:04.648Z"
   },
   {
    "duration": 13,
    "start_time": "2023-10-18T18:33:04.665Z"
   },
   {
    "duration": 178,
    "start_time": "2023-10-18T18:33:04.680Z"
   },
   {
    "duration": 105,
    "start_time": "2023-10-18T18:33:04.861Z"
   },
   {
    "duration": 191,
    "start_time": "2023-10-18T18:33:04.968Z"
   },
   {
    "duration": 92,
    "start_time": "2023-10-18T18:33:05.165Z"
   },
   {
    "duration": 21,
    "start_time": "2023-10-18T18:33:05.259Z"
   },
   {
    "duration": 24,
    "start_time": "2023-10-18T18:33:05.283Z"
   },
   {
    "duration": 573,
    "start_time": "2023-10-18T18:33:05.309Z"
   },
   {
    "duration": 402,
    "start_time": "2023-10-18T18:33:05.884Z"
   },
   {
    "duration": 432,
    "start_time": "2023-10-18T18:33:06.288Z"
   },
   {
    "duration": 4,
    "start_time": "2023-10-18T18:33:06.722Z"
   },
   {
    "duration": 10,
    "start_time": "2023-10-18T18:33:06.728Z"
   },
   {
    "duration": 27,
    "start_time": "2023-10-18T18:33:06.740Z"
   },
   {
    "duration": 1598,
    "start_time": "2023-10-18T18:33:06.770Z"
   },
   {
    "duration": 1688,
    "start_time": "2023-10-18T18:33:08.371Z"
   },
   {
    "duration": 1501,
    "start_time": "2023-10-18T18:33:10.061Z"
   },
   {
    "duration": 37,
    "start_time": "2023-10-18T18:33:11.564Z"
   },
   {
    "duration": 4,
    "start_time": "2023-10-18T18:33:22.566Z"
   },
   {
    "duration": 7,
    "start_time": "2023-10-18T18:33:27.892Z"
   },
   {
    "duration": 181,
    "start_time": "2023-10-18T18:33:41.635Z"
   },
   {
    "duration": 179,
    "start_time": "2023-10-18T18:33:50.307Z"
   },
   {
    "duration": 25,
    "start_time": "2023-10-18T18:34:01.047Z"
   },
   {
    "duration": 101,
    "start_time": "2023-10-18T18:34:26.508Z"
   },
   {
    "duration": 4,
    "start_time": "2023-10-18T18:34:35.181Z"
   },
   {
    "duration": 7,
    "start_time": "2023-10-18T18:34:37.744Z"
   },
   {
    "duration": 19,
    "start_time": "2023-10-18T18:34:39.312Z"
   },
   {
    "duration": 20,
    "start_time": "2023-10-18T18:35:14.498Z"
   },
   {
    "duration": 169,
    "start_time": "2023-10-18T18:35:29.579Z"
   },
   {
    "duration": 17,
    "start_time": "2023-10-18T18:35:30.032Z"
   },
   {
    "duration": 21,
    "start_time": "2023-10-18T18:35:55.464Z"
   },
   {
    "duration": 21,
    "start_time": "2023-10-18T18:37:43.704Z"
   },
   {
    "duration": 20,
    "start_time": "2023-10-18T18:39:09.141Z"
   },
   {
    "duration": 20,
    "start_time": "2023-10-18T18:39:29.538Z"
   },
   {
    "duration": 20,
    "start_time": "2023-10-18T18:41:01.475Z"
   },
   {
    "duration": 1568,
    "start_time": "2023-10-19T07:57:36.890Z"
   },
   {
    "duration": 1132,
    "start_time": "2023-10-19T07:57:46.632Z"
   },
   {
    "duration": 13419,
    "start_time": "2023-10-19T07:58:26.370Z"
   },
   {
    "duration": 1795,
    "start_time": "2023-10-19T07:58:41.573Z"
   },
   {
    "duration": 756,
    "start_time": "2023-10-19T07:59:01.712Z"
   },
   {
    "duration": 6,
    "start_time": "2023-10-19T07:59:08.792Z"
   },
   {
    "duration": 411,
    "start_time": "2023-10-19T07:59:11.969Z"
   },
   {
    "duration": 16,
    "start_time": "2023-10-19T07:59:15.577Z"
   },
   {
    "duration": 9091,
    "start_time": "2023-10-19T07:59:43.508Z"
   },
   {
    "duration": 140,
    "start_time": "2023-10-19T08:27:04.660Z"
   },
   {
    "duration": 20567,
    "start_time": "2023-10-19T08:27:11.200Z"
   },
   {
    "duration": 9,
    "start_time": "2023-10-19T08:31:21.982Z"
   },
   {
    "duration": 256,
    "start_time": "2023-10-19T08:31:26.488Z"
   },
   {
    "duration": 23765,
    "start_time": "2023-10-19T08:31:27.334Z"
   },
   {
    "duration": 9,
    "start_time": "2023-10-19T08:33:24.312Z"
   },
   {
    "duration": 248,
    "start_time": "2023-10-19T08:33:26.061Z"
   },
   {
    "duration": 23345,
    "start_time": "2023-10-19T08:33:26.525Z"
   },
   {
    "duration": 2262,
    "start_time": "2023-10-19T09:11:19.508Z"
   },
   {
    "duration": 2131,
    "start_time": "2023-10-19T09:11:21.772Z"
   },
   {
    "duration": 5,
    "start_time": "2023-10-19T09:11:23.905Z"
   },
   {
    "duration": 151,
    "start_time": "2023-10-19T09:11:23.912Z"
   },
   {
    "duration": 15,
    "start_time": "2023-10-19T09:11:24.065Z"
   },
   {
    "duration": 21212,
    "start_time": "2023-10-19T09:11:24.081Z"
   },
   {
    "duration": 13,
    "start_time": "2023-10-19T09:11:45.295Z"
   },
   {
    "duration": 62,
    "start_time": "2023-10-19T09:11:45.312Z"
   },
   {
    "duration": 29,
    "start_time": "2023-10-19T09:11:45.376Z"
   },
   {
    "duration": 330,
    "start_time": "2023-10-19T09:11:45.408Z"
   },
   {
    "duration": 976,
    "start_time": "2023-10-19T09:11:45.739Z"
   },
   {
    "duration": 260,
    "start_time": "2023-10-19T09:11:46.716Z"
   },
   {
    "duration": 132,
    "start_time": "2023-10-19T09:11:46.983Z"
   },
   {
    "duration": 5803,
    "start_time": "2023-10-19T09:11:47.117Z"
   },
   {
    "duration": 0,
    "start_time": "2023-10-19T09:11:52.922Z"
   },
   {
    "duration": 1,
    "start_time": "2023-10-19T09:11:52.923Z"
   },
   {
    "duration": 0,
    "start_time": "2023-10-19T09:11:52.925Z"
   },
   {
    "duration": 0,
    "start_time": "2023-10-19T09:11:52.926Z"
   },
   {
    "duration": 0,
    "start_time": "2023-10-19T09:11:52.927Z"
   },
   {
    "duration": 0,
    "start_time": "2023-10-19T09:11:52.928Z"
   },
   {
    "duration": 0,
    "start_time": "2023-10-19T09:11:52.929Z"
   },
   {
    "duration": 0,
    "start_time": "2023-10-19T09:11:52.930Z"
   },
   {
    "duration": 0,
    "start_time": "2023-10-19T09:11:52.945Z"
   },
   {
    "duration": 0,
    "start_time": "2023-10-19T09:11:52.947Z"
   },
   {
    "duration": 0,
    "start_time": "2023-10-19T09:11:52.947Z"
   },
   {
    "duration": 0,
    "start_time": "2023-10-19T09:11:52.948Z"
   },
   {
    "duration": 0,
    "start_time": "2023-10-19T09:11:52.948Z"
   },
   {
    "duration": 0,
    "start_time": "2023-10-19T09:11:52.949Z"
   },
   {
    "duration": 0,
    "start_time": "2023-10-19T09:11:52.949Z"
   },
   {
    "duration": 0,
    "start_time": "2023-10-19T09:11:52.950Z"
   },
   {
    "duration": 0,
    "start_time": "2023-10-19T09:11:52.950Z"
   },
   {
    "duration": 0,
    "start_time": "2023-10-19T09:11:52.957Z"
   },
   {
    "duration": 0,
    "start_time": "2023-10-19T09:11:52.957Z"
   },
   {
    "duration": 0,
    "start_time": "2023-10-19T09:11:52.958Z"
   },
   {
    "duration": 0,
    "start_time": "2023-10-19T09:11:52.959Z"
   },
   {
    "duration": 0,
    "start_time": "2023-10-19T09:11:52.960Z"
   },
   {
    "duration": 0,
    "start_time": "2023-10-19T09:11:52.960Z"
   },
   {
    "duration": 0,
    "start_time": "2023-10-19T09:11:52.969Z"
   },
   {
    "duration": 0,
    "start_time": "2023-10-19T09:11:52.970Z"
   },
   {
    "duration": 0,
    "start_time": "2023-10-19T09:11:52.972Z"
   },
   {
    "duration": 0,
    "start_time": "2023-10-19T09:11:52.973Z"
   },
   {
    "duration": 0,
    "start_time": "2023-10-19T09:11:52.974Z"
   },
   {
    "duration": 0,
    "start_time": "2023-10-19T09:11:52.975Z"
   },
   {
    "duration": 0,
    "start_time": "2023-10-19T09:11:52.975Z"
   },
   {
    "duration": 0,
    "start_time": "2023-10-19T09:11:52.977Z"
   },
   {
    "duration": 0,
    "start_time": "2023-10-19T09:11:52.977Z"
   },
   {
    "duration": 0,
    "start_time": "2023-10-19T09:11:52.978Z"
   },
   {
    "duration": 0,
    "start_time": "2023-10-19T09:11:52.979Z"
   },
   {
    "duration": 2083,
    "start_time": "2023-10-19T09:12:25.921Z"
   },
   {
    "duration": 5,
    "start_time": "2023-10-19T09:12:28.006Z"
   },
   {
    "duration": 156,
    "start_time": "2023-10-19T09:12:28.012Z"
   },
   {
    "duration": 13,
    "start_time": "2023-10-19T09:12:28.171Z"
   },
   {
    "duration": 2,
    "start_time": "2023-10-19T09:12:28.186Z"
   },
   {
    "duration": 13,
    "start_time": "2023-10-19T09:12:28.189Z"
   },
   {
    "duration": 62,
    "start_time": "2023-10-19T09:12:28.204Z"
   },
   {
    "duration": 28,
    "start_time": "2023-10-19T09:12:28.267Z"
   },
   {
    "duration": 315,
    "start_time": "2023-10-19T09:12:28.296Z"
   },
   {
    "duration": 784,
    "start_time": "2023-10-19T09:12:28.613Z"
   },
   {
    "duration": 379,
    "start_time": "2023-10-19T09:12:29.398Z"
   },
   {
    "duration": 132,
    "start_time": "2023-10-19T09:12:29.779Z"
   },
   {
    "duration": 2,
    "start_time": "2023-10-19T09:12:29.912Z"
   },
   {
    "duration": 11,
    "start_time": "2023-10-19T09:12:29.915Z"
   },
   {
    "duration": 40,
    "start_time": "2023-10-19T09:12:29.927Z"
   },
   {
    "duration": 37,
    "start_time": "2023-10-19T09:12:29.969Z"
   },
   {
    "duration": 30,
    "start_time": "2023-10-19T09:12:30.007Z"
   },
   {
    "duration": 292,
    "start_time": "2023-10-19T09:12:30.039Z"
   },
   {
    "duration": 795,
    "start_time": "2023-10-19T09:12:30.333Z"
   },
   {
    "duration": 254,
    "start_time": "2023-10-19T09:12:31.129Z"
   },
   {
    "duration": 129,
    "start_time": "2023-10-19T09:12:31.384Z"
   },
   {
    "duration": 2,
    "start_time": "2023-10-19T09:12:31.515Z"
   },
   {
    "duration": 53,
    "start_time": "2023-10-19T09:12:31.518Z"
   },
   {
    "duration": 21,
    "start_time": "2023-10-19T09:12:31.573Z"
   },
   {
    "duration": 63,
    "start_time": "2023-10-19T09:12:31.595Z"
   },
   {
    "duration": 32,
    "start_time": "2023-10-19T09:12:31.665Z"
   },
   {
    "duration": 322,
    "start_time": "2023-10-19T09:12:31.699Z"
   },
   {
    "duration": 1146,
    "start_time": "2023-10-19T09:12:32.024Z"
   },
   {
    "duration": 259,
    "start_time": "2023-10-19T09:12:33.171Z"
   },
   {
    "duration": 30,
    "start_time": "2023-10-19T09:12:33.432Z"
   },
   {
    "duration": 10,
    "start_time": "2023-10-19T09:12:33.464Z"
   },
   {
    "duration": 25,
    "start_time": "2023-10-19T09:12:33.475Z"
   },
   {
    "duration": 151,
    "start_time": "2023-10-19T09:12:33.501Z"
   },
   {
    "duration": 207,
    "start_time": "2023-10-19T09:12:33.653Z"
   },
   {
    "duration": 83,
    "start_time": "2023-10-19T09:12:33.865Z"
   },
   {
    "duration": 6,
    "start_time": "2023-10-19T09:12:33.960Z"
   },
   {
    "duration": 4,
    "start_time": "2023-10-19T09:12:33.969Z"
   },
   {
    "duration": 395,
    "start_time": "2023-10-19T09:12:33.974Z"
   },
   {
    "duration": 362,
    "start_time": "2023-10-19T09:12:34.370Z"
   },
   {
    "duration": 388,
    "start_time": "2023-10-19T09:12:34.734Z"
   },
   {
    "duration": 3,
    "start_time": "2023-10-19T09:12:35.124Z"
   },
   {
    "duration": 36,
    "start_time": "2023-10-19T09:12:35.128Z"
   },
   {
    "duration": 14,
    "start_time": "2023-10-19T09:12:35.166Z"
   },
   {
    "duration": 1179,
    "start_time": "2023-10-19T09:12:35.181Z"
   },
   {
    "duration": 1138,
    "start_time": "2023-10-19T09:12:36.361Z"
   },
   {
    "duration": 1171,
    "start_time": "2023-10-19T09:12:37.501Z"
   },
   {
    "duration": 179,
    "start_time": "2023-10-19T09:12:38.674Z"
   },
   {
    "duration": 1806,
    "start_time": "2023-10-19T09:14:08.965Z"
   },
   {
    "duration": 1283,
    "start_time": "2023-10-19T09:14:29.314Z"
   },
   {
    "duration": 1187,
    "start_time": "2023-10-19T09:14:44.406Z"
   },
   {
    "duration": 1297,
    "start_time": "2023-10-19T09:14:55.965Z"
   },
   {
    "duration": 993,
    "start_time": "2023-10-19T09:15:06.346Z"
   },
   {
    "duration": 1175,
    "start_time": "2023-10-19T09:15:14.952Z"
   },
   {
    "duration": 1194,
    "start_time": "2023-10-19T09:15:27.611Z"
   },
   {
    "duration": 2932,
    "start_time": "2023-10-19T09:16:57.845Z"
   },
   {
    "duration": 2120,
    "start_time": "2023-10-19T09:17:13.662Z"
   },
   {
    "duration": 2549,
    "start_time": "2023-10-19T09:18:10.733Z"
   },
   {
    "duration": 2669,
    "start_time": "2023-10-19T09:19:30.717Z"
   },
   {
    "duration": 2210,
    "start_time": "2023-10-19T09:20:22.404Z"
   },
   {
    "duration": 912,
    "start_time": "2023-10-19T09:33:25.677Z"
   },
   {
    "duration": 1103,
    "start_time": "2023-10-19T09:33:47.412Z"
   },
   {
    "duration": 1160,
    "start_time": "2023-10-19T09:34:22.421Z"
   },
   {
    "duration": 1584,
    "start_time": "2023-10-19T09:34:54.280Z"
   },
   {
    "duration": 964,
    "start_time": "2023-10-19T09:35:09.823Z"
   },
   {
    "duration": 755,
    "start_time": "2023-10-19T09:35:38.325Z"
   },
   {
    "duration": 865,
    "start_time": "2023-10-19T09:35:55.964Z"
   },
   {
    "duration": 4589,
    "start_time": "2023-10-19T15:49:17.048Z"
   },
   {
    "duration": 422,
    "start_time": "2023-10-19T15:49:41.090Z"
   },
   {
    "duration": 93,
    "start_time": "2023-10-19T15:50:44.908Z"
   },
   {
    "duration": 3251,
    "start_time": "2023-10-19T15:50:51.363Z"
   },
   {
    "duration": 3078,
    "start_time": "2023-10-19T15:51:09.011Z"
   },
   {
    "duration": 3431,
    "start_time": "2023-10-19T15:51:28.650Z"
   },
   {
    "duration": 18223,
    "start_time": "2023-10-19T15:51:41.957Z"
   },
   {
    "duration": 2866,
    "start_time": "2023-10-19T15:52:00.182Z"
   },
   {
    "duration": 11501,
    "start_time": "2023-10-19T15:52:15.655Z"
   },
   {
    "duration": 4723,
    "start_time": "2023-10-19T15:56:24.995Z"
   },
   {
    "duration": 4,
    "start_time": "2023-10-19T15:56:30.311Z"
   },
   {
    "duration": 6,
    "start_time": "2023-10-19T15:56:31.924Z"
   },
   {
    "duration": 142,
    "start_time": "2023-10-19T15:56:34.314Z"
   },
   {
    "duration": 12,
    "start_time": "2023-10-19T15:56:35.146Z"
   },
   {
    "duration": 2,
    "start_time": "2023-10-19T15:56:35.833Z"
   },
   {
    "duration": 17,
    "start_time": "2023-10-19T15:56:39.347Z"
   },
   {
    "duration": 47,
    "start_time": "2023-10-19T15:56:40.487Z"
   },
   {
    "duration": 32,
    "start_time": "2023-10-19T15:56:40.956Z"
   },
   {
    "duration": 371,
    "start_time": "2023-10-19T15:56:41.319Z"
   },
   {
    "duration": 817,
    "start_time": "2023-10-19T15:56:41.701Z"
   },
   {
    "duration": 271,
    "start_time": "2023-10-19T15:56:42.520Z"
   },
   {
    "duration": 129,
    "start_time": "2023-10-19T15:56:42.793Z"
   },
   {
    "duration": 21552,
    "start_time": "2023-10-19T15:56:50.154Z"
   },
   {
    "duration": 3982,
    "start_time": "2023-10-19T15:58:15.476Z"
   },
   {
    "duration": 17881,
    "start_time": "2023-10-20T11:08:41.739Z"
   },
   {
    "duration": 3341,
    "start_time": "2023-10-20T11:08:59.624Z"
   },
   {
    "duration": 8,
    "start_time": "2023-10-20T11:09:02.967Z"
   },
   {
    "duration": 519,
    "start_time": "2023-10-20T11:09:02.977Z"
   },
   {
    "duration": 23,
    "start_time": "2023-10-20T11:09:03.498Z"
   },
   {
    "duration": 26124,
    "start_time": "2023-10-20T11:09:03.523Z"
   },
   {
    "duration": 16,
    "start_time": "2023-10-20T11:09:29.649Z"
   },
   {
    "duration": 4492,
    "start_time": "2023-10-20T11:09:29.667Z"
   },
   {
    "duration": 51,
    "start_time": "2023-10-20T11:09:34.161Z"
   },
   {
    "duration": 48,
    "start_time": "2023-10-20T11:09:34.215Z"
   },
   {
    "duration": 348,
    "start_time": "2023-10-20T11:09:34.265Z"
   },
   {
    "duration": 1135,
    "start_time": "2023-10-20T11:09:34.616Z"
   },
   {
    "duration": 357,
    "start_time": "2023-10-20T11:09:35.754Z"
   },
   {
    "duration": 241,
    "start_time": "2023-10-20T11:09:36.114Z"
   },
   {
    "duration": 2,
    "start_time": "2023-10-20T11:09:36.358Z"
   },
   {
    "duration": 29,
    "start_time": "2023-10-20T11:09:36.362Z"
   },
   {
    "duration": 23,
    "start_time": "2023-10-20T11:09:36.393Z"
   },
   {
    "duration": 51,
    "start_time": "2023-10-20T11:09:36.419Z"
   },
   {
    "duration": 36,
    "start_time": "2023-10-20T11:09:36.471Z"
   },
   {
    "duration": 389,
    "start_time": "2023-10-20T11:09:36.509Z"
   },
   {
    "duration": 1395,
    "start_time": "2023-10-20T11:09:36.901Z"
   },
   {
    "duration": 310,
    "start_time": "2023-10-20T11:09:38.298Z"
   },
   {
    "duration": 254,
    "start_time": "2023-10-20T11:09:38.610Z"
   },
   {
    "duration": 3,
    "start_time": "2023-10-20T11:09:38.866Z"
   },
   {
    "duration": 25,
    "start_time": "2023-10-20T11:09:38.871Z"
   },
   {
    "duration": 24,
    "start_time": "2023-10-20T11:09:38.898Z"
   },
   {
    "duration": 64,
    "start_time": "2023-10-20T11:09:38.925Z"
   },
   {
    "duration": 55,
    "start_time": "2023-10-20T11:09:38.993Z"
   },
   {
    "duration": 358,
    "start_time": "2023-10-20T11:09:39.050Z"
   },
   {
    "duration": 1287,
    "start_time": "2023-10-20T11:09:39.410Z"
   },
   {
    "duration": 356,
    "start_time": "2023-10-20T11:09:40.699Z"
   },
   {
    "duration": 9,
    "start_time": "2023-10-20T11:09:41.057Z"
   },
   {
    "duration": 43,
    "start_time": "2023-10-20T11:09:41.068Z"
   },
   {
    "duration": 238,
    "start_time": "2023-10-20T11:09:41.113Z"
   },
   {
    "duration": 111,
    "start_time": "2023-10-20T11:09:41.353Z"
   },
   {
    "duration": 206,
    "start_time": "2023-10-20T11:09:41.468Z"
   },
   {
    "duration": 71,
    "start_time": "2023-10-20T11:09:41.677Z"
   },
   {
    "duration": 98,
    "start_time": "2023-10-20T11:09:41.751Z"
   },
   {
    "duration": 10,
    "start_time": "2023-10-20T11:09:41.851Z"
   },
   {
    "duration": 453,
    "start_time": "2023-10-20T11:09:41.863Z"
   },
   {
    "duration": 458,
    "start_time": "2023-10-20T11:09:42.318Z"
   },
   {
    "duration": 446,
    "start_time": "2023-10-20T11:09:42.778Z"
   },
   {
    "duration": 4,
    "start_time": "2023-10-20T11:09:43.227Z"
   },
   {
    "duration": 21,
    "start_time": "2023-10-20T11:09:43.233Z"
   },
   {
    "duration": 23,
    "start_time": "2023-10-20T11:09:43.256Z"
   },
   {
    "duration": 1587,
    "start_time": "2023-10-20T11:09:43.281Z"
   },
   {
    "duration": 1720,
    "start_time": "2023-10-20T11:09:44.870Z"
   },
   {
    "duration": 1683,
    "start_time": "2023-10-20T11:09:46.592Z"
   },
   {
    "duration": 36,
    "start_time": "2023-10-20T11:09:48.278Z"
   },
   {
    "duration": 3269,
    "start_time": "2023-10-20T11:27:16.851Z"
   },
   {
    "duration": 3383,
    "start_time": "2023-10-20T11:30:04.530Z"
   }
  ],
  "kernelspec": {
   "display_name": "Python 3 (ipykernel)",
   "language": "python",
   "name": "python3"
  },
  "language_info": {
   "codemirror_mode": {
    "name": "ipython",
    "version": 3
   },
   "file_extension": ".py",
   "mimetype": "text/x-python",
   "name": "python",
   "nbconvert_exporter": "python",
   "pygments_lexer": "ipython3",
   "version": "3.11.0"
  },
  "toc": {
   "base_numbering": 1,
   "nav_menu": {},
   "number_sections": true,
   "sideBar": true,
   "skip_h1_title": true,
   "title_cell": "Table of Contents",
   "title_sidebar": "Contents",
   "toc_cell": false,
   "toc_position": {},
   "toc_section_display": true,
   "toc_window_display": true
  }
 },
 "nbformat": 4,
 "nbformat_minor": 4
}
