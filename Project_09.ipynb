{
 "cells": [
  {
   "cell_type": "markdown",
   "metadata": {},
   "source": [
    "# Определение стоимости автомобилей"
   ]
  },
  {
   "cell_type": "markdown",
   "metadata": {},
   "source": [
    "Сервис по продаже автомобилей с пробегом «Не бит, не крашен» разрабатывает приложение для привлечения новых клиентов. В нём можно быстро узнать рыночную стоимость своего автомобиля. В вашем распоряжении исторические данные: технические характеристики, комплектации и цены автомобилей. Вам нужно построить модель для определения стоимости. \n",
    "\n",
    "Заказчику важны:\n",
    "\n",
    "- качество предсказания;\n",
    "- скорость предсказания;\n",
    "- время обучения.\n",
    "\n",
    "Для оценки качества моделей применяйте метрику RMSE.\n",
    "\n",
    "Значение метрики RMSE должно быть меньше 2500."
   ]
  },
  {
   "cell_type": "markdown",
   "metadata": {},
   "source": [
    "## Подготовка данных"
   ]
  },
  {
   "cell_type": "markdown",
   "metadata": {},
   "source": [
    "### Загрузка модулей"
   ]
  },
  {
   "cell_type": "code",
   "execution_count": 2,
   "metadata": {},
   "outputs": [],
   "source": [
    "import time\n",
    "import pandas as pd\n",
    "import optuna\n",
    "import plotly\n",
    "\n",
    "#from pandas_profiling import ProfileReport\n",
    "#import sweetviz as sv\n",
    "\n",
    "from hyperopt import hp, fmin, tpe, Trials\n",
    "from sklearn.metrics import mean_squared_error\n",
    "\n",
    "from sklearn.model_selection import train_test_split, cross_val_score\n",
    "from sklearn.tree import DecisionTreeRegressor\n",
    "from sklearn.ensemble import RandomForestRegressor\n",
    "from sklearn.dummy import DummyRegressor\n",
    "from sklearn.linear_model import LinearRegression\n",
    "from sklearn.linear_model import LogisticRegression\n",
    "\n",
    "from sklearn.preprocessing import StandardScaler, OrdinalEncoder\n",
    "from sklearn import svm\n",
    "\n",
    "from catboost import CatBoostRegressor\n",
    "import xgboost as xgb\n",
    "from lightgbm import LGBMRegressor\n",
    "\n",
    "import matplotlib.pyplot as plt\n",
    "import seaborn as sns\n",
    "import numpy as np\n",
    "import random\n",
    "\n",
    "import warnings\n",
    "warnings.filterwarnings(\"ignore\")"
   ]
  },
  {
   "cell_type": "markdown",
   "metadata": {},
   "source": [
    "### Настройки"
   ]
  },
  {
   "cell_type": "code",
   "execution_count": 3,
   "metadata": {},
   "outputs": [],
   "source": [
    "RANDOM_STATE = 12345\n",
    "state = np.random.RandomState(RANDOM_STATE)\n",
    "# Цветовая палитра документа\n",
    "cm = 'crest'\n",
    "mec = 'gray'\n",
    "alpha = 0.7\n",
    "fontsize = 16\n",
    "figsize_base = 5\n",
    "\n",
    "def new_color(x='r'):\n",
    "    '''Цвет графиков, по умолчанию случайный из заданной цветовой палитры. Принимает в качестве аргумента число, \\\n",
    "    соответствующее цвету в палитре.'''\n",
    "    if x == 'r':\n",
    "        return list(sns.color_palette(cm, 20)[random.randint(0,19)])\n",
    "    return list(sns.color_palette(cm, 20)[x])\n",
    "# Размеры\n",
    "\n",
    "def figsize(width = 1, height=1):\n",
    "    '''Задание размеров окна отрисовки.'''\n",
    "    return (width*figsize_base, height*figsize_base)\n",
    "\n",
    "# Отрисовка \n",
    "def plot_set(ax,title='',xlabel='',ylabel='',fontsize=fontsize,xrot=True,figsize=figsize()):\n",
    "    '''Функция для отрисовки дополнительных параметров графиков. Подписьи осей и названия, размер шрифта и размер окна, \n",
    "    включение сетки.'''\n",
    "    plt.xticks(rotation=90*int(xrot), fontsize=fontsize)\n",
    "    plt.yticks(fontsize=fontsize)\n",
    "    plt.title(title+'\\n', fontsize=fontsize)\n",
    "    plt.xlabel('\\n'+xlabel, fontsize=fontsize)\n",
    "    plt.ylabel(ylabel+'\\n', fontsize=fontsize)\n",
    "    plt.grid(True)\n",
    "    None\n",
    "    \n",
    "def mean_percent(x):\n",
    "    '''Функция для форматирования значений. Округление до сотых и знак процента.'''\n",
    "    try:\n",
    "        return \"{0:.2%}\".format(x)\n",
    "    except:\n",
    "        return x"
   ]
  },
  {
   "cell_type": "markdown",
   "metadata": {},
   "source": [
    "### Загрузка данных"
   ]
  },
  {
   "cell_type": "code",
   "execution_count": 4,
   "metadata": {},
   "outputs": [],
   "source": [
    "try:\n",
    "    df = pd.read_csv('/datasets/autos.csv')\n",
    "except:\n",
    "    df = pd.read_csv('autos.csv')"
   ]
  },
  {
   "cell_type": "code",
   "execution_count": 5,
   "metadata": {
    "scrolled": true
   },
   "outputs": [
    {
     "data": {
      "text/html": [
       "<div>\n",
       "<style scoped>\n",
       "    .dataframe tbody tr th:only-of-type {\n",
       "        vertical-align: middle;\n",
       "    }\n",
       "\n",
       "    .dataframe tbody tr th {\n",
       "        vertical-align: top;\n",
       "    }\n",
       "\n",
       "    .dataframe thead th {\n",
       "        text-align: right;\n",
       "    }\n",
       "</style>\n",
       "<table border=\"1\" class=\"dataframe\">\n",
       "  <thead>\n",
       "    <tr style=\"text-align: right;\">\n",
       "      <th></th>\n",
       "      <th>DateCrawled</th>\n",
       "      <th>Price</th>\n",
       "      <th>VehicleType</th>\n",
       "      <th>RegistrationYear</th>\n",
       "      <th>Gearbox</th>\n",
       "      <th>Power</th>\n",
       "      <th>Model</th>\n",
       "      <th>Kilometer</th>\n",
       "      <th>RegistrationMonth</th>\n",
       "      <th>FuelType</th>\n",
       "      <th>Brand</th>\n",
       "      <th>Repaired</th>\n",
       "      <th>DateCreated</th>\n",
       "      <th>NumberOfPictures</th>\n",
       "      <th>PostalCode</th>\n",
       "      <th>LastSeen</th>\n",
       "    </tr>\n",
       "  </thead>\n",
       "  <tbody>\n",
       "    <tr>\n",
       "      <th>0</th>\n",
       "      <td>2016-03-24 11:52:17</td>\n",
       "      <td>480</td>\n",
       "      <td>NaN</td>\n",
       "      <td>1993</td>\n",
       "      <td>manual</td>\n",
       "      <td>0</td>\n",
       "      <td>golf</td>\n",
       "      <td>150000</td>\n",
       "      <td>0</td>\n",
       "      <td>petrol</td>\n",
       "      <td>volkswagen</td>\n",
       "      <td>NaN</td>\n",
       "      <td>2016-03-24 00:00:00</td>\n",
       "      <td>0</td>\n",
       "      <td>70435</td>\n",
       "      <td>2016-04-07 03:16:57</td>\n",
       "    </tr>\n",
       "    <tr>\n",
       "      <th>1</th>\n",
       "      <td>2016-03-24 10:58:45</td>\n",
       "      <td>18300</td>\n",
       "      <td>coupe</td>\n",
       "      <td>2011</td>\n",
       "      <td>manual</td>\n",
       "      <td>190</td>\n",
       "      <td>NaN</td>\n",
       "      <td>125000</td>\n",
       "      <td>5</td>\n",
       "      <td>gasoline</td>\n",
       "      <td>audi</td>\n",
       "      <td>yes</td>\n",
       "      <td>2016-03-24 00:00:00</td>\n",
       "      <td>0</td>\n",
       "      <td>66954</td>\n",
       "      <td>2016-04-07 01:46:50</td>\n",
       "    </tr>\n",
       "    <tr>\n",
       "      <th>2</th>\n",
       "      <td>2016-03-14 12:52:21</td>\n",
       "      <td>9800</td>\n",
       "      <td>suv</td>\n",
       "      <td>2004</td>\n",
       "      <td>auto</td>\n",
       "      <td>163</td>\n",
       "      <td>grand</td>\n",
       "      <td>125000</td>\n",
       "      <td>8</td>\n",
       "      <td>gasoline</td>\n",
       "      <td>jeep</td>\n",
       "      <td>NaN</td>\n",
       "      <td>2016-03-14 00:00:00</td>\n",
       "      <td>0</td>\n",
       "      <td>90480</td>\n",
       "      <td>2016-04-05 12:47:46</td>\n",
       "    </tr>\n",
       "    <tr>\n",
       "      <th>3</th>\n",
       "      <td>2016-03-17 16:54:04</td>\n",
       "      <td>1500</td>\n",
       "      <td>small</td>\n",
       "      <td>2001</td>\n",
       "      <td>manual</td>\n",
       "      <td>75</td>\n",
       "      <td>golf</td>\n",
       "      <td>150000</td>\n",
       "      <td>6</td>\n",
       "      <td>petrol</td>\n",
       "      <td>volkswagen</td>\n",
       "      <td>no</td>\n",
       "      <td>2016-03-17 00:00:00</td>\n",
       "      <td>0</td>\n",
       "      <td>91074</td>\n",
       "      <td>2016-03-17 17:40:17</td>\n",
       "    </tr>\n",
       "    <tr>\n",
       "      <th>4</th>\n",
       "      <td>2016-03-31 17:25:20</td>\n",
       "      <td>3600</td>\n",
       "      <td>small</td>\n",
       "      <td>2008</td>\n",
       "      <td>manual</td>\n",
       "      <td>69</td>\n",
       "      <td>fabia</td>\n",
       "      <td>90000</td>\n",
       "      <td>7</td>\n",
       "      <td>gasoline</td>\n",
       "      <td>skoda</td>\n",
       "      <td>no</td>\n",
       "      <td>2016-03-31 00:00:00</td>\n",
       "      <td>0</td>\n",
       "      <td>60437</td>\n",
       "      <td>2016-04-06 10:17:21</td>\n",
       "    </tr>\n",
       "    <tr>\n",
       "      <th>5</th>\n",
       "      <td>2016-04-04 17:36:23</td>\n",
       "      <td>650</td>\n",
       "      <td>sedan</td>\n",
       "      <td>1995</td>\n",
       "      <td>manual</td>\n",
       "      <td>102</td>\n",
       "      <td>3er</td>\n",
       "      <td>150000</td>\n",
       "      <td>10</td>\n",
       "      <td>petrol</td>\n",
       "      <td>bmw</td>\n",
       "      <td>yes</td>\n",
       "      <td>2016-04-04 00:00:00</td>\n",
       "      <td>0</td>\n",
       "      <td>33775</td>\n",
       "      <td>2016-04-06 19:17:07</td>\n",
       "    </tr>\n",
       "    <tr>\n",
       "      <th>6</th>\n",
       "      <td>2016-04-01 20:48:51</td>\n",
       "      <td>2200</td>\n",
       "      <td>convertible</td>\n",
       "      <td>2004</td>\n",
       "      <td>manual</td>\n",
       "      <td>109</td>\n",
       "      <td>2_reihe</td>\n",
       "      <td>150000</td>\n",
       "      <td>8</td>\n",
       "      <td>petrol</td>\n",
       "      <td>peugeot</td>\n",
       "      <td>no</td>\n",
       "      <td>2016-04-01 00:00:00</td>\n",
       "      <td>0</td>\n",
       "      <td>67112</td>\n",
       "      <td>2016-04-05 18:18:39</td>\n",
       "    </tr>\n",
       "    <tr>\n",
       "      <th>7</th>\n",
       "      <td>2016-03-21 18:54:38</td>\n",
       "      <td>0</td>\n",
       "      <td>sedan</td>\n",
       "      <td>1980</td>\n",
       "      <td>manual</td>\n",
       "      <td>50</td>\n",
       "      <td>other</td>\n",
       "      <td>40000</td>\n",
       "      <td>7</td>\n",
       "      <td>petrol</td>\n",
       "      <td>volkswagen</td>\n",
       "      <td>no</td>\n",
       "      <td>2016-03-21 00:00:00</td>\n",
       "      <td>0</td>\n",
       "      <td>19348</td>\n",
       "      <td>2016-03-25 16:47:58</td>\n",
       "    </tr>\n",
       "    <tr>\n",
       "      <th>8</th>\n",
       "      <td>2016-04-04 23:42:13</td>\n",
       "      <td>14500</td>\n",
       "      <td>bus</td>\n",
       "      <td>2014</td>\n",
       "      <td>manual</td>\n",
       "      <td>125</td>\n",
       "      <td>c_max</td>\n",
       "      <td>30000</td>\n",
       "      <td>8</td>\n",
       "      <td>petrol</td>\n",
       "      <td>ford</td>\n",
       "      <td>NaN</td>\n",
       "      <td>2016-04-04 00:00:00</td>\n",
       "      <td>0</td>\n",
       "      <td>94505</td>\n",
       "      <td>2016-04-04 23:42:13</td>\n",
       "    </tr>\n",
       "    <tr>\n",
       "      <th>9</th>\n",
       "      <td>2016-03-17 10:53:50</td>\n",
       "      <td>999</td>\n",
       "      <td>small</td>\n",
       "      <td>1998</td>\n",
       "      <td>manual</td>\n",
       "      <td>101</td>\n",
       "      <td>golf</td>\n",
       "      <td>150000</td>\n",
       "      <td>0</td>\n",
       "      <td>NaN</td>\n",
       "      <td>volkswagen</td>\n",
       "      <td>NaN</td>\n",
       "      <td>2016-03-17 00:00:00</td>\n",
       "      <td>0</td>\n",
       "      <td>27472</td>\n",
       "      <td>2016-03-31 17:17:06</td>\n",
       "    </tr>\n",
       "    <tr>\n",
       "      <th>10</th>\n",
       "      <td>2016-03-26 19:54:18</td>\n",
       "      <td>2000</td>\n",
       "      <td>sedan</td>\n",
       "      <td>2004</td>\n",
       "      <td>manual</td>\n",
       "      <td>105</td>\n",
       "      <td>3_reihe</td>\n",
       "      <td>150000</td>\n",
       "      <td>12</td>\n",
       "      <td>petrol</td>\n",
       "      <td>mazda</td>\n",
       "      <td>no</td>\n",
       "      <td>2016-03-26 00:00:00</td>\n",
       "      <td>0</td>\n",
       "      <td>96224</td>\n",
       "      <td>2016-04-06 10:45:34</td>\n",
       "    </tr>\n",
       "    <tr>\n",
       "      <th>11</th>\n",
       "      <td>2016-04-07 10:06:22</td>\n",
       "      <td>2799</td>\n",
       "      <td>wagon</td>\n",
       "      <td>2005</td>\n",
       "      <td>manual</td>\n",
       "      <td>140</td>\n",
       "      <td>passat</td>\n",
       "      <td>150000</td>\n",
       "      <td>12</td>\n",
       "      <td>gasoline</td>\n",
       "      <td>volkswagen</td>\n",
       "      <td>yes</td>\n",
       "      <td>2016-04-07 00:00:00</td>\n",
       "      <td>0</td>\n",
       "      <td>57290</td>\n",
       "      <td>2016-04-07 10:25:17</td>\n",
       "    </tr>\n",
       "    <tr>\n",
       "      <th>12</th>\n",
       "      <td>2016-03-15 22:49:09</td>\n",
       "      <td>999</td>\n",
       "      <td>wagon</td>\n",
       "      <td>1995</td>\n",
       "      <td>manual</td>\n",
       "      <td>115</td>\n",
       "      <td>passat</td>\n",
       "      <td>150000</td>\n",
       "      <td>11</td>\n",
       "      <td>petrol</td>\n",
       "      <td>volkswagen</td>\n",
       "      <td>NaN</td>\n",
       "      <td>2016-03-15 00:00:00</td>\n",
       "      <td>0</td>\n",
       "      <td>37269</td>\n",
       "      <td>2016-04-01 13:16:16</td>\n",
       "    </tr>\n",
       "    <tr>\n",
       "      <th>13</th>\n",
       "      <td>2016-03-21 21:37:40</td>\n",
       "      <td>2500</td>\n",
       "      <td>wagon</td>\n",
       "      <td>2004</td>\n",
       "      <td>manual</td>\n",
       "      <td>131</td>\n",
       "      <td>passat</td>\n",
       "      <td>150000</td>\n",
       "      <td>2</td>\n",
       "      <td>NaN</td>\n",
       "      <td>volkswagen</td>\n",
       "      <td>no</td>\n",
       "      <td>2016-03-21 00:00:00</td>\n",
       "      <td>0</td>\n",
       "      <td>90762</td>\n",
       "      <td>2016-03-23 02:50:54</td>\n",
       "    </tr>\n",
       "    <tr>\n",
       "      <th>14</th>\n",
       "      <td>2016-03-21 12:57:01</td>\n",
       "      <td>17999</td>\n",
       "      <td>suv</td>\n",
       "      <td>2011</td>\n",
       "      <td>manual</td>\n",
       "      <td>190</td>\n",
       "      <td>navara</td>\n",
       "      <td>70000</td>\n",
       "      <td>3</td>\n",
       "      <td>gasoline</td>\n",
       "      <td>nissan</td>\n",
       "      <td>no</td>\n",
       "      <td>2016-03-21 00:00:00</td>\n",
       "      <td>0</td>\n",
       "      <td>4177</td>\n",
       "      <td>2016-04-06 07:45:42</td>\n",
       "    </tr>\n",
       "    <tr>\n",
       "      <th>15</th>\n",
       "      <td>2016-03-11 21:39:15</td>\n",
       "      <td>450</td>\n",
       "      <td>small</td>\n",
       "      <td>1910</td>\n",
       "      <td>NaN</td>\n",
       "      <td>0</td>\n",
       "      <td>ka</td>\n",
       "      <td>5000</td>\n",
       "      <td>0</td>\n",
       "      <td>petrol</td>\n",
       "      <td>ford</td>\n",
       "      <td>NaN</td>\n",
       "      <td>2016-03-11 00:00:00</td>\n",
       "      <td>0</td>\n",
       "      <td>24148</td>\n",
       "      <td>2016-03-19 08:46:47</td>\n",
       "    </tr>\n",
       "    <tr>\n",
       "      <th>16</th>\n",
       "      <td>2016-04-01 12:46:46</td>\n",
       "      <td>300</td>\n",
       "      <td>NaN</td>\n",
       "      <td>2016</td>\n",
       "      <td>NaN</td>\n",
       "      <td>60</td>\n",
       "      <td>polo</td>\n",
       "      <td>150000</td>\n",
       "      <td>0</td>\n",
       "      <td>petrol</td>\n",
       "      <td>volkswagen</td>\n",
       "      <td>NaN</td>\n",
       "      <td>2016-04-01 00:00:00</td>\n",
       "      <td>0</td>\n",
       "      <td>38871</td>\n",
       "      <td>2016-04-01 12:46:46</td>\n",
       "    </tr>\n",
       "    <tr>\n",
       "      <th>17</th>\n",
       "      <td>2016-03-20 10:25:19</td>\n",
       "      <td>1750</td>\n",
       "      <td>small</td>\n",
       "      <td>2004</td>\n",
       "      <td>auto</td>\n",
       "      <td>75</td>\n",
       "      <td>twingo</td>\n",
       "      <td>150000</td>\n",
       "      <td>2</td>\n",
       "      <td>petrol</td>\n",
       "      <td>renault</td>\n",
       "      <td>no</td>\n",
       "      <td>2016-03-20 00:00:00</td>\n",
       "      <td>0</td>\n",
       "      <td>65599</td>\n",
       "      <td>2016-04-06 13:16:07</td>\n",
       "    </tr>\n",
       "    <tr>\n",
       "      <th>18</th>\n",
       "      <td>2016-03-23 15:48:05</td>\n",
       "      <td>7550</td>\n",
       "      <td>bus</td>\n",
       "      <td>2007</td>\n",
       "      <td>manual</td>\n",
       "      <td>136</td>\n",
       "      <td>c_max</td>\n",
       "      <td>150000</td>\n",
       "      <td>6</td>\n",
       "      <td>gasoline</td>\n",
       "      <td>ford</td>\n",
       "      <td>no</td>\n",
       "      <td>2016-03-23 00:00:00</td>\n",
       "      <td>0</td>\n",
       "      <td>88361</td>\n",
       "      <td>2016-04-05 18:45:11</td>\n",
       "    </tr>\n",
       "    <tr>\n",
       "      <th>19</th>\n",
       "      <td>2016-04-01 22:55:47</td>\n",
       "      <td>1850</td>\n",
       "      <td>bus</td>\n",
       "      <td>2004</td>\n",
       "      <td>manual</td>\n",
       "      <td>102</td>\n",
       "      <td>a_klasse</td>\n",
       "      <td>150000</td>\n",
       "      <td>1</td>\n",
       "      <td>petrol</td>\n",
       "      <td>mercedes_benz</td>\n",
       "      <td>no</td>\n",
       "      <td>2016-04-01 00:00:00</td>\n",
       "      <td>0</td>\n",
       "      <td>49565</td>\n",
       "      <td>2016-04-05 22:46:05</td>\n",
       "    </tr>\n",
       "    <tr>\n",
       "      <th>20</th>\n",
       "      <td>2016-04-01 19:56:48</td>\n",
       "      <td>10400</td>\n",
       "      <td>coupe</td>\n",
       "      <td>2009</td>\n",
       "      <td>manual</td>\n",
       "      <td>160</td>\n",
       "      <td>scirocco</td>\n",
       "      <td>100000</td>\n",
       "      <td>4</td>\n",
       "      <td>petrol</td>\n",
       "      <td>volkswagen</td>\n",
       "      <td>no</td>\n",
       "      <td>2016-04-01 00:00:00</td>\n",
       "      <td>0</td>\n",
       "      <td>75365</td>\n",
       "      <td>2016-04-05 16:45:49</td>\n",
       "    </tr>\n",
       "    <tr>\n",
       "      <th>21</th>\n",
       "      <td>2016-03-27 11:38:00</td>\n",
       "      <td>3699</td>\n",
       "      <td>sedan</td>\n",
       "      <td>2002</td>\n",
       "      <td>auto</td>\n",
       "      <td>231</td>\n",
       "      <td>5er</td>\n",
       "      <td>150000</td>\n",
       "      <td>7</td>\n",
       "      <td>petrol</td>\n",
       "      <td>bmw</td>\n",
       "      <td>no</td>\n",
       "      <td>2016-03-27 00:00:00</td>\n",
       "      <td>0</td>\n",
       "      <td>68309</td>\n",
       "      <td>2016-04-07 06:44:26</td>\n",
       "    </tr>\n",
       "    <tr>\n",
       "      <th>22</th>\n",
       "      <td>2016-03-23 14:52:51</td>\n",
       "      <td>2900</td>\n",
       "      <td>NaN</td>\n",
       "      <td>2018</td>\n",
       "      <td>manual</td>\n",
       "      <td>90</td>\n",
       "      <td>meriva</td>\n",
       "      <td>150000</td>\n",
       "      <td>5</td>\n",
       "      <td>petrol</td>\n",
       "      <td>opel</td>\n",
       "      <td>no</td>\n",
       "      <td>2016-03-23 00:00:00</td>\n",
       "      <td>0</td>\n",
       "      <td>49716</td>\n",
       "      <td>2016-03-31 01:16:33</td>\n",
       "    </tr>\n",
       "    <tr>\n",
       "      <th>23</th>\n",
       "      <td>2016-03-12 19:43:07</td>\n",
       "      <td>450</td>\n",
       "      <td>small</td>\n",
       "      <td>1997</td>\n",
       "      <td>manual</td>\n",
       "      <td>50</td>\n",
       "      <td>arosa</td>\n",
       "      <td>150000</td>\n",
       "      <td>5</td>\n",
       "      <td>petrol</td>\n",
       "      <td>seat</td>\n",
       "      <td>no</td>\n",
       "      <td>2016-03-12 00:00:00</td>\n",
       "      <td>0</td>\n",
       "      <td>9526</td>\n",
       "      <td>2016-03-21 01:46:11</td>\n",
       "    </tr>\n",
       "    <tr>\n",
       "      <th>24</th>\n",
       "      <td>2016-03-13 20:40:49</td>\n",
       "      <td>500</td>\n",
       "      <td>sedan</td>\n",
       "      <td>1990</td>\n",
       "      <td>manual</td>\n",
       "      <td>118</td>\n",
       "      <td>other</td>\n",
       "      <td>150000</td>\n",
       "      <td>10</td>\n",
       "      <td>petrol</td>\n",
       "      <td>mercedes_benz</td>\n",
       "      <td>yes</td>\n",
       "      <td>2016-03-13 00:00:00</td>\n",
       "      <td>0</td>\n",
       "      <td>35390</td>\n",
       "      <td>2016-03-13 20:40:49</td>\n",
       "    </tr>\n",
       "  </tbody>\n",
       "</table>\n",
       "</div>"
      ],
      "text/plain": [
       "            DateCrawled  Price  VehicleType  RegistrationYear Gearbox  Power  \\\n",
       "0   2016-03-24 11:52:17    480          NaN              1993  manual      0   \n",
       "1   2016-03-24 10:58:45  18300        coupe              2011  manual    190   \n",
       "2   2016-03-14 12:52:21   9800          suv              2004    auto    163   \n",
       "3   2016-03-17 16:54:04   1500        small              2001  manual     75   \n",
       "4   2016-03-31 17:25:20   3600        small              2008  manual     69   \n",
       "5   2016-04-04 17:36:23    650        sedan              1995  manual    102   \n",
       "6   2016-04-01 20:48:51   2200  convertible              2004  manual    109   \n",
       "7   2016-03-21 18:54:38      0        sedan              1980  manual     50   \n",
       "8   2016-04-04 23:42:13  14500          bus              2014  manual    125   \n",
       "9   2016-03-17 10:53:50    999        small              1998  manual    101   \n",
       "10  2016-03-26 19:54:18   2000        sedan              2004  manual    105   \n",
       "11  2016-04-07 10:06:22   2799        wagon              2005  manual    140   \n",
       "12  2016-03-15 22:49:09    999        wagon              1995  manual    115   \n",
       "13  2016-03-21 21:37:40   2500        wagon              2004  manual    131   \n",
       "14  2016-03-21 12:57:01  17999          suv              2011  manual    190   \n",
       "15  2016-03-11 21:39:15    450        small              1910     NaN      0   \n",
       "16  2016-04-01 12:46:46    300          NaN              2016     NaN     60   \n",
       "17  2016-03-20 10:25:19   1750        small              2004    auto     75   \n",
       "18  2016-03-23 15:48:05   7550          bus              2007  manual    136   \n",
       "19  2016-04-01 22:55:47   1850          bus              2004  manual    102   \n",
       "20  2016-04-01 19:56:48  10400        coupe              2009  manual    160   \n",
       "21  2016-03-27 11:38:00   3699        sedan              2002    auto    231   \n",
       "22  2016-03-23 14:52:51   2900          NaN              2018  manual     90   \n",
       "23  2016-03-12 19:43:07    450        small              1997  manual     50   \n",
       "24  2016-03-13 20:40:49    500        sedan              1990  manual    118   \n",
       "\n",
       "       Model  Kilometer  RegistrationMonth  FuelType          Brand Repaired  \\\n",
       "0       golf     150000                  0    petrol     volkswagen      NaN   \n",
       "1        NaN     125000                  5  gasoline           audi      yes   \n",
       "2      grand     125000                  8  gasoline           jeep      NaN   \n",
       "3       golf     150000                  6    petrol     volkswagen       no   \n",
       "4      fabia      90000                  7  gasoline          skoda       no   \n",
       "5        3er     150000                 10    petrol            bmw      yes   \n",
       "6    2_reihe     150000                  8    petrol        peugeot       no   \n",
       "7      other      40000                  7    petrol     volkswagen       no   \n",
       "8      c_max      30000                  8    petrol           ford      NaN   \n",
       "9       golf     150000                  0       NaN     volkswagen      NaN   \n",
       "10   3_reihe     150000                 12    petrol          mazda       no   \n",
       "11    passat     150000                 12  gasoline     volkswagen      yes   \n",
       "12    passat     150000                 11    petrol     volkswagen      NaN   \n",
       "13    passat     150000                  2       NaN     volkswagen       no   \n",
       "14    navara      70000                  3  gasoline         nissan       no   \n",
       "15        ka       5000                  0    petrol           ford      NaN   \n",
       "16      polo     150000                  0    petrol     volkswagen      NaN   \n",
       "17    twingo     150000                  2    petrol        renault       no   \n",
       "18     c_max     150000                  6  gasoline           ford       no   \n",
       "19  a_klasse     150000                  1    petrol  mercedes_benz       no   \n",
       "20  scirocco     100000                  4    petrol     volkswagen       no   \n",
       "21       5er     150000                  7    petrol            bmw       no   \n",
       "22    meriva     150000                  5    petrol           opel       no   \n",
       "23     arosa     150000                  5    petrol           seat       no   \n",
       "24     other     150000                 10    petrol  mercedes_benz      yes   \n",
       "\n",
       "            DateCreated  NumberOfPictures  PostalCode             LastSeen  \n",
       "0   2016-03-24 00:00:00                 0       70435  2016-04-07 03:16:57  \n",
       "1   2016-03-24 00:00:00                 0       66954  2016-04-07 01:46:50  \n",
       "2   2016-03-14 00:00:00                 0       90480  2016-04-05 12:47:46  \n",
       "3   2016-03-17 00:00:00                 0       91074  2016-03-17 17:40:17  \n",
       "4   2016-03-31 00:00:00                 0       60437  2016-04-06 10:17:21  \n",
       "5   2016-04-04 00:00:00                 0       33775  2016-04-06 19:17:07  \n",
       "6   2016-04-01 00:00:00                 0       67112  2016-04-05 18:18:39  \n",
       "7   2016-03-21 00:00:00                 0       19348  2016-03-25 16:47:58  \n",
       "8   2016-04-04 00:00:00                 0       94505  2016-04-04 23:42:13  \n",
       "9   2016-03-17 00:00:00                 0       27472  2016-03-31 17:17:06  \n",
       "10  2016-03-26 00:00:00                 0       96224  2016-04-06 10:45:34  \n",
       "11  2016-04-07 00:00:00                 0       57290  2016-04-07 10:25:17  \n",
       "12  2016-03-15 00:00:00                 0       37269  2016-04-01 13:16:16  \n",
       "13  2016-03-21 00:00:00                 0       90762  2016-03-23 02:50:54  \n",
       "14  2016-03-21 00:00:00                 0        4177  2016-04-06 07:45:42  \n",
       "15  2016-03-11 00:00:00                 0       24148  2016-03-19 08:46:47  \n",
       "16  2016-04-01 00:00:00                 0       38871  2016-04-01 12:46:46  \n",
       "17  2016-03-20 00:00:00                 0       65599  2016-04-06 13:16:07  \n",
       "18  2016-03-23 00:00:00                 0       88361  2016-04-05 18:45:11  \n",
       "19  2016-04-01 00:00:00                 0       49565  2016-04-05 22:46:05  \n",
       "20  2016-04-01 00:00:00                 0       75365  2016-04-05 16:45:49  \n",
       "21  2016-03-27 00:00:00                 0       68309  2016-04-07 06:44:26  \n",
       "22  2016-03-23 00:00:00                 0       49716  2016-03-31 01:16:33  \n",
       "23  2016-03-12 00:00:00                 0        9526  2016-03-21 01:46:11  \n",
       "24  2016-03-13 00:00:00                 0       35390  2016-03-13 20:40:49  "
      ]
     },
     "execution_count": 5,
     "metadata": {},
     "output_type": "execute_result"
    }
   ],
   "source": [
    "df.head(25)"
   ]
  },
  {
   "cell_type": "code",
   "execution_count": 6,
   "metadata": {},
   "outputs": [],
   "source": [
    "#profile = ProfileReport(df)\n",
    "#profile.to_widgets()"
   ]
  },
  {
   "cell_type": "code",
   "execution_count": 7,
   "metadata": {},
   "outputs": [],
   "source": [
    "#report = sv.analyze([df, 'Unique ids and roles'])\n",
    "#report.show_notebook()"
   ]
  },
  {
   "cell_type": "code",
   "execution_count": 8,
   "metadata": {
    "scrolled": true
   },
   "outputs": [
    {
     "name": "stdout",
     "output_type": "stream",
     "text": [
      "<class 'pandas.core.frame.DataFrame'>\n",
      "RangeIndex: 354369 entries, 0 to 354368\n",
      "Data columns (total 16 columns):\n",
      " #   Column             Non-Null Count   Dtype \n",
      "---  ------             --------------   ----- \n",
      " 0   DateCrawled        354369 non-null  object\n",
      " 1   Price              354369 non-null  int64 \n",
      " 2   VehicleType        316879 non-null  object\n",
      " 3   RegistrationYear   354369 non-null  int64 \n",
      " 4   Gearbox            334536 non-null  object\n",
      " 5   Power              354369 non-null  int64 \n",
      " 6   Model              334664 non-null  object\n",
      " 7   Kilometer          354369 non-null  int64 \n",
      " 8   RegistrationMonth  354369 non-null  int64 \n",
      " 9   FuelType           321474 non-null  object\n",
      " 10  Brand              354369 non-null  object\n",
      " 11  Repaired           283215 non-null  object\n",
      " 12  DateCreated        354369 non-null  object\n",
      " 13  NumberOfPictures   354369 non-null  int64 \n",
      " 14  PostalCode         354369 non-null  int64 \n",
      " 15  LastSeen           354369 non-null  object\n",
      "dtypes: int64(7), object(9)\n",
      "memory usage: 43.3+ MB\n"
     ]
    }
   ],
   "source": [
    "df.info()"
   ]
  },
  {
   "cell_type": "code",
   "execution_count": 9,
   "metadata": {},
   "outputs": [
    {
     "data": {
      "text/html": [
       "<div>\n",
       "<style scoped>\n",
       "    .dataframe tbody tr th:only-of-type {\n",
       "        vertical-align: middle;\n",
       "    }\n",
       "\n",
       "    .dataframe tbody tr th {\n",
       "        vertical-align: top;\n",
       "    }\n",
       "\n",
       "    .dataframe thead th {\n",
       "        text-align: right;\n",
       "    }\n",
       "</style>\n",
       "<table border=\"1\" class=\"dataframe\">\n",
       "  <thead>\n",
       "    <tr style=\"text-align: right;\">\n",
       "      <th></th>\n",
       "      <th>Price</th>\n",
       "      <th>RegistrationYear</th>\n",
       "      <th>Power</th>\n",
       "      <th>Kilometer</th>\n",
       "      <th>RegistrationMonth</th>\n",
       "      <th>NumberOfPictures</th>\n",
       "      <th>PostalCode</th>\n",
       "    </tr>\n",
       "  </thead>\n",
       "  <tbody>\n",
       "    <tr>\n",
       "      <th>count</th>\n",
       "      <td>354369.000000</td>\n",
       "      <td>354369.000000</td>\n",
       "      <td>354369.000000</td>\n",
       "      <td>354369.000000</td>\n",
       "      <td>354369.000000</td>\n",
       "      <td>354369.0</td>\n",
       "      <td>354369.000000</td>\n",
       "    </tr>\n",
       "    <tr>\n",
       "      <th>mean</th>\n",
       "      <td>4416.656776</td>\n",
       "      <td>2004.234448</td>\n",
       "      <td>110.094337</td>\n",
       "      <td>128211.172535</td>\n",
       "      <td>5.714645</td>\n",
       "      <td>0.0</td>\n",
       "      <td>50508.689087</td>\n",
       "    </tr>\n",
       "    <tr>\n",
       "      <th>std</th>\n",
       "      <td>4514.158514</td>\n",
       "      <td>90.227958</td>\n",
       "      <td>189.850405</td>\n",
       "      <td>37905.341530</td>\n",
       "      <td>3.726421</td>\n",
       "      <td>0.0</td>\n",
       "      <td>25783.096248</td>\n",
       "    </tr>\n",
       "    <tr>\n",
       "      <th>min</th>\n",
       "      <td>0.000000</td>\n",
       "      <td>1000.000000</td>\n",
       "      <td>0.000000</td>\n",
       "      <td>5000.000000</td>\n",
       "      <td>0.000000</td>\n",
       "      <td>0.0</td>\n",
       "      <td>1067.000000</td>\n",
       "    </tr>\n",
       "    <tr>\n",
       "      <th>25%</th>\n",
       "      <td>1050.000000</td>\n",
       "      <td>1999.000000</td>\n",
       "      <td>69.000000</td>\n",
       "      <td>125000.000000</td>\n",
       "      <td>3.000000</td>\n",
       "      <td>0.0</td>\n",
       "      <td>30165.000000</td>\n",
       "    </tr>\n",
       "    <tr>\n",
       "      <th>50%</th>\n",
       "      <td>2700.000000</td>\n",
       "      <td>2003.000000</td>\n",
       "      <td>105.000000</td>\n",
       "      <td>150000.000000</td>\n",
       "      <td>6.000000</td>\n",
       "      <td>0.0</td>\n",
       "      <td>49413.000000</td>\n",
       "    </tr>\n",
       "    <tr>\n",
       "      <th>75%</th>\n",
       "      <td>6400.000000</td>\n",
       "      <td>2008.000000</td>\n",
       "      <td>143.000000</td>\n",
       "      <td>150000.000000</td>\n",
       "      <td>9.000000</td>\n",
       "      <td>0.0</td>\n",
       "      <td>71083.000000</td>\n",
       "    </tr>\n",
       "    <tr>\n",
       "      <th>max</th>\n",
       "      <td>20000.000000</td>\n",
       "      <td>9999.000000</td>\n",
       "      <td>20000.000000</td>\n",
       "      <td>150000.000000</td>\n",
       "      <td>12.000000</td>\n",
       "      <td>0.0</td>\n",
       "      <td>99998.000000</td>\n",
       "    </tr>\n",
       "  </tbody>\n",
       "</table>\n",
       "</div>"
      ],
      "text/plain": [
       "               Price  RegistrationYear          Power      Kilometer  \\\n",
       "count  354369.000000     354369.000000  354369.000000  354369.000000   \n",
       "mean     4416.656776       2004.234448     110.094337  128211.172535   \n",
       "std      4514.158514         90.227958     189.850405   37905.341530   \n",
       "min         0.000000       1000.000000       0.000000    5000.000000   \n",
       "25%      1050.000000       1999.000000      69.000000  125000.000000   \n",
       "50%      2700.000000       2003.000000     105.000000  150000.000000   \n",
       "75%      6400.000000       2008.000000     143.000000  150000.000000   \n",
       "max     20000.000000       9999.000000   20000.000000  150000.000000   \n",
       "\n",
       "       RegistrationMonth  NumberOfPictures     PostalCode  \n",
       "count      354369.000000          354369.0  354369.000000  \n",
       "mean            5.714645               0.0   50508.689087  \n",
       "std             3.726421               0.0   25783.096248  \n",
       "min             0.000000               0.0    1067.000000  \n",
       "25%             3.000000               0.0   30165.000000  \n",
       "50%             6.000000               0.0   49413.000000  \n",
       "75%             9.000000               0.0   71083.000000  \n",
       "max            12.000000               0.0   99998.000000  "
      ]
     },
     "execution_count": 9,
     "metadata": {},
     "output_type": "execute_result"
    }
   ],
   "source": [
    "df.describe()"
   ]
  },
  {
   "cell_type": "code",
   "execution_count": 10,
   "metadata": {},
   "outputs": [
    {
     "data": {
      "text/plain": [
       "DateCrawled           0.00%\n",
       "Price                 0.00%\n",
       "RegistrationYear      0.00%\n",
       "Power                 0.00%\n",
       "Kilometer             0.00%\n",
       "RegistrationMonth     0.00%\n",
       "Brand                 0.00%\n",
       "DateCreated           0.00%\n",
       "NumberOfPictures      0.00%\n",
       "PostalCode            0.00%\n",
       "LastSeen              0.00%\n",
       "Model                 5.56%\n",
       "Gearbox               5.60%\n",
       "FuelType              9.28%\n",
       "VehicleType          10.58%\n",
       "Repaired             20.08%\n",
       "dtype: object"
      ]
     },
     "execution_count": 10,
     "metadata": {},
     "output_type": "execute_result"
    }
   ],
   "source": [
    "df.isna().mean().sort_values().apply(mean_percent)"
   ]
  },
  {
   "cell_type": "code",
   "execution_count": 11,
   "metadata": {},
   "outputs": [
    {
     "data": {
      "text/plain": [
       "4"
      ]
     },
     "execution_count": 11,
     "metadata": {},
     "output_type": "execute_result"
    }
   ],
   "source": [
    "df.duplicated().sum()"
   ]
  },
  {
   "cell_type": "markdown",
   "metadata": {},
   "source": [
    "### Вывод этапа"
   ]
  },
  {
   "cell_type": "markdown",
   "metadata": {},
   "source": [
    "Изучен датафрейм `Churn.csv`:\n",
    "- 16 столбцов:\n",
    "    - `DateCrawled` - дата скачивания анкеты из базы\n",
    "    - `VehicleType` - тип автомобильного кузова\n",
    "    - `RegistrationYear` - год регистрации автомобиля\n",
    "    - `Gearbox` - тип коробки передач\n",
    "    - `Power` - мощность (л. с.)\n",
    "    - `Model` - модель автомобиля\n",
    "    - `Kilometer` - пробег (км)\n",
    "    - `RegistrationMonth` - месяц регистрации автомобиля\n",
    "    - `FuelType` - тип топлива\n",
    "    - `Brand` - марка автомобиля\n",
    "    - `Repaired` - была машина в ремонте или нет\n",
    "    - `DateCreated` - дата создания анкеты\n",
    "    - `NumberOfPictures` - количество фотографий автомобиля\n",
    "    - `PostalCode` - почтовый индекс владельца анкеты (пользователя)\n",
    "    - `LastSeen` - дата последней активности пользователя\n",
    "    - `Price` - цена (евро)\n",
    "- 354369 строк\n",
    "- Пропуски в строках:\n",
    "    - `Model` - `5.56%`\n",
    "    - `Gearbox` - `5.60%`\n",
    "    - `FuelType` - `9.28%`\n",
    "    - `VehicleType` - `10.58%`\n",
    "    - `Repaired` - `20.08%`\n",
    "- Наблюдаются дубликаты\n",
    "- Типы всех столбцов корректны"
   ]
  },
  {
   "cell_type": "markdown",
   "metadata": {},
   "source": [
    "## Предобработка данных"
   ]
  },
  {
   "cell_type": "markdown",
   "metadata": {},
   "source": [
    "### Изменение данных"
   ]
  },
  {
   "cell_type": "markdown",
   "metadata": {},
   "source": [
    "Удалим дубликаты"
   ]
  },
  {
   "cell_type": "code",
   "execution_count": 12,
   "metadata": {},
   "outputs": [],
   "source": [
    "df = df.drop_duplicates()"
   ]
  },
  {
   "cell_type": "markdown",
   "metadata": {},
   "source": [
    "Удалим столбцы `DateCrawled`, `DateCreated`, `LastSeen`, `NumberOfPictures`,`PostalCode`."
   ]
  },
  {
   "cell_type": "code",
   "execution_count": 13,
   "metadata": {},
   "outputs": [],
   "source": [
    "df = df.drop([\"DateCrawled\",\"DateCreated\",\"LastSeen\",\"NumberOfPictures\",\"PostalCode\"],axis = 1)"
   ]
  },
  {
   "cell_type": "markdown",
   "metadata": {},
   "source": [
    "Изменим значение `gasoline` на `petrol` в столбце `FuelType`, поскольку это один и тот же тип топлива."
   ]
  },
  {
   "cell_type": "code",
   "execution_count": 14,
   "metadata": {},
   "outputs": [],
   "source": [
    "df.loc[df['FuelType']=='gasoline','FuelType'] = 'petrol'"
   ]
  },
  {
   "cell_type": "markdown",
   "metadata": {},
   "source": [
    "### Изучение данных"
   ]
  },
  {
   "cell_type": "markdown",
   "metadata": {},
   "source": [
    "Рассмотрим распределение данных."
   ]
  },
  {
   "cell_type": "code",
   "execution_count": 15,
   "metadata": {},
   "outputs": [],
   "source": [
    "num_columns = ['RegistrationYear', 'Power', 'Kilometer', 'RegistrationMonth']\n",
    "num_columns_name = ['Года регистрации', 'Мощности', 'Пробегу', 'Месяцу регистрации']\n",
    "cat_columns = ['VehicleType', 'FuelType', 'Brand', 'Model']\n",
    "bool_columns = ['Repaired', 'Gearbox']"
   ]
  },
  {
   "cell_type": "code",
   "execution_count": 16,
   "metadata": {},
   "outputs": [],
   "source": [
    "x_lims = []\n",
    "for t in range(len(num_columns)):\n",
    "    x_lims.append(\n",
    "                 (df[num_columns[t]].describe()['25%'] - 1.5 * (df[num_columns[t]].describe()['75%'] - df[num_columns[t]].describe()['25%']),\n",
    "                  df[num_columns[t]].describe()['75%'] + 1.5 * (df[num_columns[t]].describe()['75%'] - df[num_columns[t]].describe()['25%']))\n",
    "    )"
   ]
  },
  {
   "cell_type": "code",
   "execution_count": 17,
   "metadata": {},
   "outputs": [
    {
     "data": {
      "image/png": "[encoded data removed]",
      "text/plain": [
       "<Figure size 1500x500 with 1 Axes>"
      ]
     },
     "metadata": {},
     "output_type": "display_data"
    }
   ],
   "source": [
    "plt.figure(figsize=figsize(3))\n",
    "ax = sns.histplot(df['Price'],color=new_color(),alpha=alpha)\n",
    "plot_set(ax,title='Распределение цен', ylabel='Количество', xrot=False)"
   ]
  },
  {
   "cell_type": "markdown",
   "metadata": {},
   "source": [
    "Наблюдаются особенности. Есть много значений около `0` и равных `0`, от них нужно будет избавиться. Так же есть много очень высоких цен. "
   ]
  },
  {
   "cell_type": "code",
   "execution_count": 18,
   "metadata": {},
   "outputs": [
    {
     "data": {
      "image/png": "[encoded data removed]",
      "text/plain": [
       "<Figure size 2500x5000 with 8 Axes>"
      ]
     },
     "metadata": {},
     "output_type": "display_data"
    }
   ],
   "source": [
    "plt.figure(figsize=figsize(5,10))\n",
    "for t in range(len(num_columns)):\n",
    "    ax1 = plt.subplot(len(num_columns),2,2*t+1)\n",
    "    sns.histplot(df[num_columns[t]],color=new_color(),alpha=alpha,ax=ax1)\n",
    "    plt.xlim(x_lims[t])\n",
    "    plot_set(ax1,title='Распределение по '+num_columns_name[t],ylabel='Количество',xrot=False)\n",
    "    plt.subplot(len(num_columns),2,2*t+2)\n",
    "    plt.boxplot(df[num_columns[t]],notch=True)"
   ]
  },
  {
   "cell_type": "markdown",
   "metadata": {},
   "source": [
    "Наблюдается очень много аномалий практически во всех столбцах. Их необходимо обработать."
   ]
  },
  {
   "cell_type": "code",
   "execution_count": 19,
   "metadata": {},
   "outputs": [
    {
     "data": {
      "image/png": "[encoded data removed]",
      "text/plain": [
       "<Figure size 1500x2500 with 3 Axes>"
      ]
     },
     "metadata": {},
     "output_type": "display_data"
    }
   ],
   "source": [
    "plt.figure(figsize=figsize(3,5))\n",
    "for t in range(len(cat_columns)-1):\n",
    "    plt.subplot(len(cat_columns),1,t+1)\n",
    "    pivot = df.pivot_table(index=cat_columns[t], values='Price', aggfunc='count')\n",
    "    ax = sns.barplot(x=pivot.index, y='Price', data=pivot, palette=cm)\n",
    "    plot_set(ax,ylabel=cat_columns[t],xrot=(t==len(cat_columns)-2))"
   ]
  },
  {
   "cell_type": "code",
   "execution_count": 20,
   "metadata": {},
   "outputs": [
    {
     "data": {
      "image/png": "[encoded data removed]",
      "text/plain": [
       "<Figure size 1000x1000 with 2 Axes>"
      ]
     },
     "metadata": {},
     "output_type": "display_data"
    }
   ],
   "source": [
    "plt.figure(figsize=figsize(2,2))\n",
    "for t in range(len(bool_columns)):\n",
    "    plt.subplot(len(bool_columns),2,t+1)\n",
    "    df[bool_columns[t]].value_counts().plot(\n",
    "    kind = 'pie',\n",
    "    autopct = '%1.0f%%',\n",
    "    title = bool_columns[t],\n",
    "    colors=[new_color(),new_color()],explode = (0.05,0), shadow=True);\n",
    "    plt.ylabel('')\n",
    "None"
   ]
  },
  {
   "cell_type": "markdown",
   "metadata": {},
   "source": [
    "Почти везде можно найти сильно преобладающее значение."
   ]
  },
  {
   "cell_type": "markdown",
   "metadata": {},
   "source": [
    "### Обработка пропусков"
   ]
  },
  {
   "cell_type": "code",
   "execution_count": 21,
   "metadata": {},
   "outputs": [
    {
     "data": {
      "text/plain": [
       "Price                 0.00%\n",
       "RegistrationYear      0.00%\n",
       "Power                 0.00%\n",
       "Kilometer             0.00%\n",
       "RegistrationMonth     0.00%\n",
       "Brand                 0.00%\n",
       "Model                 5.56%\n",
       "Gearbox               5.60%\n",
       "FuelType              9.28%\n",
       "VehicleType          10.58%\n",
       "Repaired             20.08%\n",
       "dtype: object"
      ]
     },
     "execution_count": 21,
     "metadata": {},
     "output_type": "execute_result"
    }
   ],
   "source": [
    "df.isna().mean().sort_values().apply(mean_percent)"
   ]
  },
  {
   "cell_type": "markdown",
   "metadata": {},
   "source": [
    "#### VehicleType"
   ]
  },
  {
   "cell_type": "code",
   "execution_count": 22,
   "metadata": {},
   "outputs": [
    {
     "name": "stdout",
     "output_type": "stream",
     "text": [
      "Model: golf\n",
      "VehicleType\n",
      "sedan          14744\n",
      "small           3911\n",
      "wagon           3181\n",
      "convertible     1962\n",
      "bus              760\n",
      "coupe            429\n",
      "other            185\n",
      "suv               25\n",
      "Name: count, dtype: int64\n",
      "Model: polo\n",
      "VehicleType\n",
      "small          10267\n",
      "sedan            612\n",
      "wagon            292\n",
      "coupe            265\n",
      "other             23\n",
      "convertible        3\n",
      "bus                2\n",
      "suv                2\n",
      "Name: count, dtype: int64\n"
     ]
    }
   ],
   "source": [
    "for t in df.loc[df['VehicleType'].isna(),'Model'].unique()[0:2]:\n",
    "    if ~df.loc[(df['Model'] == t), 'VehicleType'].isna().all():\n",
    "        print('Model:', t)\n",
    "        print(df.loc[(df['Model'] == t) & (df['VehicleType'].notna()), 'VehicleType'].value_counts())"
   ]
  },
  {
   "cell_type": "markdown",
   "metadata": {},
   "source": [
    "Зная только модель, тип кузова определить не получится. Заменим данные на `unknown`"
   ]
  },
  {
   "cell_type": "code",
   "execution_count": 23,
   "metadata": {},
   "outputs": [],
   "source": [
    "df['VehicleType']=df['VehicleType'].fillna('unknown')"
   ]
  },
  {
   "cell_type": "markdown",
   "metadata": {},
   "source": [
    "#### FuelType"
   ]
  },
  {
   "cell_type": "code",
   "execution_count": 24,
   "metadata": {},
   "outputs": [
    {
     "name": "stdout",
     "output_type": "stream",
     "text": [
      "Model: golf\n",
      "FuelType\n",
      "petrol      26595\n",
      "lpg           172\n",
      "cng            23\n",
      "other           8\n",
      "electric        3\n",
      "hybrid          1\n",
      "Name: count, dtype: int64\n",
      "Model: passat\n",
      "FuelType\n",
      "petrol    9177\n",
      "lpg        139\n",
      "cng         10\n",
      "other        2\n",
      "Name: count, dtype: int64\n",
      "Model: c4\n",
      "FuelType\n",
      "petrol    411\n",
      "lpg         8\n",
      "Name: count, dtype: int64\n"
     ]
    }
   ],
   "source": [
    "for t in df.loc[df['FuelType'].isna(),'Model'].unique()[0:3]:\n",
    "    if ~df.loc[(df['Model'] == t), 'FuelType'].isna().all():\n",
    "        print('Model:', t)\n",
    "        print(df.loc[(df['Model'] == t) & (df['FuelType'].notna()), 'FuelType'].value_counts())"
   ]
  },
  {
   "cell_type": "markdown",
   "metadata": {},
   "source": [
    "По модели нельзя однозначно установить тип топлива. В подавляющем большинстве случаев тип топлива - бензин.\n",
    "\n",
    "Если тип топлива не указан, скорее всего двигатель бензиновый"
   ]
  },
  {
   "cell_type": "code",
   "execution_count": 25,
   "metadata": {},
   "outputs": [],
   "source": [
    "df['FuelType']=df['FuelType'].fillna('petrol')"
   ]
  },
  {
   "cell_type": "markdown",
   "metadata": {},
   "source": [
    "#### Model"
   ]
  },
  {
   "cell_type": "code",
   "execution_count": 26,
   "metadata": {},
   "outputs": [
    {
     "data": {
      "text/html": [
       "<div>\n",
       "<style scoped>\n",
       "    .dataframe tbody tr th:only-of-type {\n",
       "        vertical-align: middle;\n",
       "    }\n",
       "\n",
       "    .dataframe tbody tr th {\n",
       "        vertical-align: top;\n",
       "    }\n",
       "\n",
       "    .dataframe thead th {\n",
       "        text-align: right;\n",
       "    }\n",
       "</style>\n",
       "<table border=\"1\" class=\"dataframe\">\n",
       "  <thead>\n",
       "    <tr style=\"text-align: right;\">\n",
       "      <th></th>\n",
       "      <th>Price</th>\n",
       "      <th>VehicleType</th>\n",
       "      <th>RegistrationYear</th>\n",
       "      <th>Gearbox</th>\n",
       "      <th>Power</th>\n",
       "      <th>Model</th>\n",
       "      <th>Kilometer</th>\n",
       "      <th>RegistrationMonth</th>\n",
       "      <th>FuelType</th>\n",
       "      <th>Brand</th>\n",
       "      <th>Repaired</th>\n",
       "    </tr>\n",
       "  </thead>\n",
       "  <tbody>\n",
       "    <tr>\n",
       "      <th>7</th>\n",
       "      <td>0</td>\n",
       "      <td>sedan</td>\n",
       "      <td>1980</td>\n",
       "      <td>manual</td>\n",
       "      <td>50</td>\n",
       "      <td>other</td>\n",
       "      <td>40000</td>\n",
       "      <td>7</td>\n",
       "      <td>petrol</td>\n",
       "      <td>volkswagen</td>\n",
       "      <td>no</td>\n",
       "    </tr>\n",
       "    <tr>\n",
       "      <th>24</th>\n",
       "      <td>500</td>\n",
       "      <td>sedan</td>\n",
       "      <td>1990</td>\n",
       "      <td>manual</td>\n",
       "      <td>118</td>\n",
       "      <td>other</td>\n",
       "      <td>150000</td>\n",
       "      <td>10</td>\n",
       "      <td>petrol</td>\n",
       "      <td>mercedes_benz</td>\n",
       "      <td>yes</td>\n",
       "    </tr>\n",
       "    <tr>\n",
       "      <th>38</th>\n",
       "      <td>11900</td>\n",
       "      <td>other</td>\n",
       "      <td>2002</td>\n",
       "      <td>manual</td>\n",
       "      <td>129</td>\n",
       "      <td>other</td>\n",
       "      <td>150000</td>\n",
       "      <td>11</td>\n",
       "      <td>petrol</td>\n",
       "      <td>volkswagen</td>\n",
       "      <td>no</td>\n",
       "    </tr>\n",
       "    <tr>\n",
       "      <th>39</th>\n",
       "      <td>1500</td>\n",
       "      <td>bus</td>\n",
       "      <td>1984</td>\n",
       "      <td>manual</td>\n",
       "      <td>70</td>\n",
       "      <td>other</td>\n",
       "      <td>150000</td>\n",
       "      <td>8</td>\n",
       "      <td>petrol</td>\n",
       "      <td>mercedes_benz</td>\n",
       "      <td>no</td>\n",
       "    </tr>\n",
       "    <tr>\n",
       "      <th>52</th>\n",
       "      <td>1400</td>\n",
       "      <td>unknown</td>\n",
       "      <td>2016</td>\n",
       "      <td>manual</td>\n",
       "      <td>55</td>\n",
       "      <td>other</td>\n",
       "      <td>5000</td>\n",
       "      <td>1</td>\n",
       "      <td>petrol</td>\n",
       "      <td>hyundai</td>\n",
       "      <td>NaN</td>\n",
       "    </tr>\n",
       "    <tr>\n",
       "      <th>...</th>\n",
       "      <td>...</td>\n",
       "      <td>...</td>\n",
       "      <td>...</td>\n",
       "      <td>...</td>\n",
       "      <td>...</td>\n",
       "      <td>...</td>\n",
       "      <td>...</td>\n",
       "      <td>...</td>\n",
       "      <td>...</td>\n",
       "      <td>...</td>\n",
       "      <td>...</td>\n",
       "    </tr>\n",
       "    <tr>\n",
       "      <th>354290</th>\n",
       "      <td>2500</td>\n",
       "      <td>small</td>\n",
       "      <td>2007</td>\n",
       "      <td>manual</td>\n",
       "      <td>60</td>\n",
       "      <td>other</td>\n",
       "      <td>125000</td>\n",
       "      <td>3</td>\n",
       "      <td>petrol</td>\n",
       "      <td>hyundai</td>\n",
       "      <td>NaN</td>\n",
       "    </tr>\n",
       "    <tr>\n",
       "      <th>354302</th>\n",
       "      <td>5990</td>\n",
       "      <td>bus</td>\n",
       "      <td>1984</td>\n",
       "      <td>auto</td>\n",
       "      <td>0</td>\n",
       "      <td>other</td>\n",
       "      <td>70000</td>\n",
       "      <td>4</td>\n",
       "      <td>petrol</td>\n",
       "      <td>chevrolet</td>\n",
       "      <td>NaN</td>\n",
       "    </tr>\n",
       "    <tr>\n",
       "      <th>354316</th>\n",
       "      <td>3300</td>\n",
       "      <td>coupe</td>\n",
       "      <td>1957</td>\n",
       "      <td>manual</td>\n",
       "      <td>40</td>\n",
       "      <td>other</td>\n",
       "      <td>100000</td>\n",
       "      <td>11</td>\n",
       "      <td>petrol</td>\n",
       "      <td>trabant</td>\n",
       "      <td>no</td>\n",
       "    </tr>\n",
       "    <tr>\n",
       "      <th>354325</th>\n",
       "      <td>12800</td>\n",
       "      <td>convertible</td>\n",
       "      <td>1991</td>\n",
       "      <td>manual</td>\n",
       "      <td>211</td>\n",
       "      <td>other</td>\n",
       "      <td>150000</td>\n",
       "      <td>7</td>\n",
       "      <td>petrol</td>\n",
       "      <td>porsche</td>\n",
       "      <td>no</td>\n",
       "    </tr>\n",
       "    <tr>\n",
       "      <th>354331</th>\n",
       "      <td>2999</td>\n",
       "      <td>coupe</td>\n",
       "      <td>2003</td>\n",
       "      <td>manual</td>\n",
       "      <td>143</td>\n",
       "      <td>other</td>\n",
       "      <td>150000</td>\n",
       "      <td>3</td>\n",
       "      <td>petrol</td>\n",
       "      <td>mercedes_benz</td>\n",
       "      <td>yes</td>\n",
       "    </tr>\n",
       "  </tbody>\n",
       "</table>\n",
       "<p>24420 rows × 11 columns</p>\n",
       "</div>"
      ],
      "text/plain": [
       "        Price  VehicleType  RegistrationYear Gearbox  Power  Model  Kilometer  \\\n",
       "7           0        sedan              1980  manual     50  other      40000   \n",
       "24        500        sedan              1990  manual    118  other     150000   \n",
       "38      11900        other              2002  manual    129  other     150000   \n",
       "39       1500          bus              1984  manual     70  other     150000   \n",
       "52       1400      unknown              2016  manual     55  other       5000   \n",
       "...       ...          ...               ...     ...    ...    ...        ...   \n",
       "354290   2500        small              2007  manual     60  other     125000   \n",
       "354302   5990          bus              1984    auto      0  other      70000   \n",
       "354316   3300        coupe              1957  manual     40  other     100000   \n",
       "354325  12800  convertible              1991  manual    211  other     150000   \n",
       "354331   2999        coupe              2003  manual    143  other     150000   \n",
       "\n",
       "        RegistrationMonth FuelType          Brand Repaired  \n",
       "7                       7   petrol     volkswagen       no  \n",
       "24                     10   petrol  mercedes_benz      yes  \n",
       "38                     11   petrol     volkswagen       no  \n",
       "39                      8   petrol  mercedes_benz       no  \n",
       "52                      1   petrol        hyundai      NaN  \n",
       "...                   ...      ...            ...      ...  \n",
       "354290                  3   petrol        hyundai      NaN  \n",
       "354302                  4   petrol      chevrolet      NaN  \n",
       "354316                 11   petrol        trabant       no  \n",
       "354325                  7   petrol        porsche       no  \n",
       "354331                  3   petrol  mercedes_benz      yes  \n",
       "\n",
       "[24420 rows x 11 columns]"
      ]
     },
     "execution_count": 26,
     "metadata": {},
     "output_type": "execute_result"
    }
   ],
   "source": [
    "df[df['Model']=='other']"
   ]
  },
  {
   "cell_type": "code",
   "execution_count": 27,
   "metadata": {},
   "outputs": [
    {
     "data": {
      "text/plain": [
       "array(['audi', 'sonstige_autos', 'fiat', 'volkswagen', 'renault', 'bmw',\n",
       "       'mitsubishi', 'peugeot', 'alfa_romeo', 'volvo', 'toyota',\n",
       "       'chevrolet', 'trabant', 'saab', 'opel', 'mercedes_benz', 'smart',\n",
       "       'nissan', 'skoda', 'ford', 'kia', 'suzuki', 'hyundai', 'seat',\n",
       "       'mazda', 'citroen', 'chrysler', 'porsche', 'land_rover', 'daewoo',\n",
       "       'lancia', 'honda', 'rover', 'mini', 'dacia', 'jaguar', 'daihatsu',\n",
       "       'lada', 'subaru', 'jeep'], dtype=object)"
      ]
     },
     "execution_count": 27,
     "metadata": {},
     "output_type": "execute_result"
    }
   ],
   "source": [
    "df.loc[df['Model'].isna(),'Brand'].unique()"
   ]
  },
  {
   "cell_type": "code",
   "execution_count": 28,
   "metadata": {},
   "outputs": [
    {
     "name": "stdout",
     "output_type": "stream",
     "text": [
      "Model\n",
      "a4       9900\n",
      "a3       6122\n",
      "a6       5541\n",
      "80       1604\n",
      "tt       1076\n",
      "other    1033\n",
      "a1        595\n",
      "a5        545\n",
      "a8        529\n",
      "100       417\n",
      "a2        373\n",
      "q7        205\n",
      "90        103\n",
      "q5         97\n",
      "200        18\n",
      "q3         15\n",
      "Name: count, dtype: int64\n",
      "Model\n",
      "punto       3347\n",
      "other       1789\n",
      "500          920\n",
      "panda        676\n",
      "seicento     670\n",
      "stilo        603\n",
      "ducato       435\n",
      "bravo        331\n",
      "doblo        325\n",
      "croma         45\n",
      "Name: count, dtype: int64\n"
     ]
    }
   ],
   "source": [
    "for t in df.loc[df['Model'].isna(),'Brand'].unique()[0:3]:\n",
    "    if ~df.loc[(df['Brand'] == t), 'Model'].isna().all():\n",
    "        print(df.loc[df['Brand'] == t, 'Model'].value_counts())"
   ]
  },
  {
   "cell_type": "markdown",
   "metadata": {},
   "source": [
    "Только по бренду не получится восстановить марку машины. Так как в выборке уже присутствует вариант `other`, заменим отсутствующие значения на него."
   ]
  },
  {
   "cell_type": "code",
   "execution_count": 29,
   "metadata": {},
   "outputs": [],
   "source": [
    "df['Model']=df['Model'].fillna('other')"
   ]
  },
  {
   "cell_type": "markdown",
   "metadata": {},
   "source": [
    "#### Gearbox"
   ]
  },
  {
   "cell_type": "markdown",
   "metadata": {},
   "source": [
    "Большинство машин с механической коробкой передач.Если бы автомобиль был с автоматической, скорее всего это указали бы явно."
   ]
  },
  {
   "cell_type": "code",
   "execution_count": 30,
   "metadata": {},
   "outputs": [],
   "source": [
    "df['Gearbox']=df['Gearbox'].fillna('manual')"
   ]
  },
  {
   "cell_type": "markdown",
   "metadata": {},
   "source": [
    "#### Repaired"
   ]
  },
  {
   "cell_type": "markdown",
   "metadata": {},
   "source": [
    "Большинство машин не были в ремонте. Если бы ремонт был (или о нём хотели сказать и за счёт этого снизить цену), но был бы указан. Пропуски можно заменить ответом нет"
   ]
  },
  {
   "cell_type": "code",
   "execution_count": 31,
   "metadata": {},
   "outputs": [],
   "source": [
    "df['Repaired']=df['Repaired'].fillna('no')"
   ]
  },
  {
   "cell_type": "code",
   "execution_count": 32,
   "metadata": {
    "scrolled": true
   },
   "outputs": [
    {
     "data": {
      "text/plain": [
       "Price                0.00%\n",
       "VehicleType          0.00%\n",
       "RegistrationYear     0.00%\n",
       "Gearbox              0.00%\n",
       "Power                0.00%\n",
       "Model                0.00%\n",
       "Kilometer            0.00%\n",
       "RegistrationMonth    0.00%\n",
       "FuelType             0.00%\n",
       "Brand                0.00%\n",
       "Repaired             0.00%\n",
       "dtype: object"
      ]
     },
     "execution_count": 32,
     "metadata": {},
     "output_type": "execute_result"
    }
   ],
   "source": [
    "df.isna().mean().sort_values().apply(mean_percent)"
   ]
  },
  {
   "cell_type": "markdown",
   "metadata": {},
   "source": [
    "### Обработка аномалий"
   ]
  },
  {
   "cell_type": "markdown",
   "metadata": {},
   "source": [
    "#### Цена"
   ]
  },
  {
   "cell_type": "markdown",
   "metadata": {},
   "source": [
    "Исключим из рассмотрения аномально низкие цены."
   ]
  },
  {
   "cell_type": "code",
   "execution_count": 33,
   "metadata": {},
   "outputs": [],
   "source": [
    "df = df.query('Price> 10')"
   ]
  },
  {
   "cell_type": "markdown",
   "metadata": {},
   "source": [
    "#### Мощноть"
   ]
  },
  {
   "cell_type": "markdown",
   "metadata": {},
   "source": [
    "Исключим из рассмотрения аномально низкие и высокие мощности."
   ]
  },
  {
   "cell_type": "code",
   "execution_count": 36,
   "metadata": {},
   "outputs": [],
   "source": [
    "df=df.query('Power > 15 & Power < 1000')"
   ]
  },
  {
   "cell_type": "markdown",
   "metadata": {},
   "source": [
    "#### Год регистрации"
   ]
  },
  {
   "cell_type": "markdown",
   "metadata": {},
   "source": [
    "Исключим из рассмотрения аномальные значения года регистрации."
   ]
  },
  {
   "cell_type": "code",
   "execution_count": 37,
   "metadata": {},
   "outputs": [],
   "source": [
    "df=df.query('RegistrationYear >= 1950 & RegistrationYear < 2017')"
   ]
  },
  {
   "cell_type": "code",
   "execution_count": 38,
   "metadata": {},
   "outputs": [
    {
     "name": "stdout",
     "output_type": "stream",
     "text": [
      "<class 'pandas.core.frame.DataFrame'>\n",
      "Index: 295587 entries, 1 to 354368\n",
      "Data columns (total 11 columns):\n",
      " #   Column             Non-Null Count   Dtype \n",
      "---  ------             --------------   ----- \n",
      " 0   Price              295587 non-null  int64 \n",
      " 1   VehicleType        295587 non-null  object\n",
      " 2   RegistrationYear   295587 non-null  int64 \n",
      " 3   Gearbox            295587 non-null  object\n",
      " 4   Power              295587 non-null  int64 \n",
      " 5   Model              295587 non-null  object\n",
      " 6   Kilometer          295587 non-null  int64 \n",
      " 7   RegistrationMonth  295587 non-null  int64 \n",
      " 8   FuelType           295587 non-null  object\n",
      " 9   Brand              295587 non-null  object\n",
      " 10  Repaired           295587 non-null  object\n",
      "dtypes: int64(5), object(6)\n",
      "memory usage: 27.1+ MB\n"
     ]
    }
   ],
   "source": [
    "df.info()"
   ]
  },
  {
   "cell_type": "markdown",
   "metadata": {},
   "source": [
    "### Вывод этапа"
   ]
  },
  {
   "cell_type": "markdown",
   "metadata": {},
   "source": [
    "- Удалены дубликаты;\n",
    "- Удалины столбцы `DateCrawled`, `DateCreated`, `LastSeen`, `NumberOfPictures`,`PostalCode`;\n",
    "- Изменено значение `gasoline` на `petrol` в столбце `FuelType`, поскольку это один и тот же тип топлива;\n",
    "- Наблюдается очень много аномалий практически во всех столбцах:\n",
    "    - Исключины из рассмотрения аномально низкие цены.\n",
    "    - Исключины из рассмотрения аномально низкие и высокие мощности.\n",
    "    - Исключины из рассмотрения аномальные значения года регистрации.\n",
    "- Обработаны пропуски:\n",
    "    - Зная только модель, тип кузова определить не получится. Замени\\ены данные на `unknown`;\n",
    "    - По модели нельзя однозначно установить тип топлива. В подавляющем большинстве случаев тип топлива - бензин;\n",
    "    - Только по бренду не получится восстановить марку машины. Так как в выборке уже присутствует вариант `other`, заменили отсутствующие значения на него;\n",
    "    - Большинство машин с механической коробкой передач.Если бы автомобиль был с автоматической, скорее всего это указали бы явно;\n",
    "    - Большинство машин не были в ремонте. Если бы ремонт был (или о нём хотели сказать и за счёт этого снизить цену), но был бы указан. Пропуски можно заменить ответом `no`."
   ]
  },
  {
   "cell_type": "markdown",
   "metadata": {},
   "source": [
    "## Обучение моделей"
   ]
  },
  {
   "cell_type": "markdown",
   "metadata": {},
   "source": [
    "### Подготовка данных"
   ]
  },
  {
   "cell_type": "markdown",
   "metadata": {},
   "source": [
    "Выделим целевой признак."
   ]
  },
  {
   "cell_type": "code",
   "execution_count": 39,
   "metadata": {},
   "outputs": [
    {
     "name": "stdout",
     "output_type": "stream",
     "text": [
      "Размер обучающей выборки: (221690, 10) \n",
      "Размер тестовой выборки: (73897, 10)\n"
     ]
    }
   ],
   "source": [
    "features = df.drop('Price', axis=1)\n",
    "target = df['Price']\n",
    "features_train, features_test, target_train, target_test = train_test_split(\n",
    "        features, target,\n",
    "        test_size=0.25,\n",
    "        random_state=RANDOM_STATE)\n",
    "\n",
    "print(\"Размер обучающей выборки:\", features_train.shape, \n",
    "      \"\\nРазмер тестовой выборки:\",features_test.shape)"
   ]
  },
  {
   "cell_type": "markdown",
   "metadata": {},
   "source": [
    "Масштабируем данные."
   ]
  },
  {
   "cell_type": "code",
   "execution_count": 40,
   "metadata": {},
   "outputs": [],
   "source": [
    "scaler = StandardScaler()\n",
    "scaler.fit(features_train[num_columns])\n",
    "None"
   ]
  },
  {
   "cell_type": "code",
   "execution_count": 41,
   "metadata": {},
   "outputs": [],
   "source": [
    "features_train[num_columns] = scaler.transform(features_train[num_columns])\n",
    "features_test[num_columns] = scaler.transform(features_test[num_columns])"
   ]
  },
  {
   "cell_type": "code",
   "execution_count": 42,
   "metadata": {},
   "outputs": [],
   "source": [
    "max_model_num = features['Model'].value_counts().count()"
   ]
  },
  {
   "cell_type": "markdown",
   "metadata": {},
   "source": [
    "Обработаем категориальные переменные."
   ]
  },
  {
   "cell_type": "code",
   "execution_count": 43,
   "metadata": {},
   "outputs": [],
   "source": [
    "categorial = cat_columns + bool_columns\n",
    "encoder = OrdinalEncoder(handle_unknown = 'use_encoded_value', unknown_value = max_model_num )\n",
    "encoder.fit(features_train[categorial])\n",
    "None\n"
   ]
  },
  {
   "cell_type": "markdown",
   "metadata": {},
   "source": [
    "Здесь не знаю как обойти проблему кодирования. В тестовую выборку попадают модели, которых не было в обучающей. Соответственно, они не могут быть корректно обработаны. Сделал обучение на всей выборке, но это кажется не очень правильным.\n",
    "\n",
    "Вообще возникает вопрос, насколько может быть полезна информация о модели, если она во всей выборке встречается всего один или два раза. Большая вероятность, что модель не обучится на них, а за счёт кодирования какой нибудь результат выдаст. \n",
    "\n",
    "Кажется, что OHE тут рациональнее бы сработал, но свой столбец на каждую модель как то слишком много получается, пугает. "
   ]
  },
  {
   "cell_type": "code",
   "execution_count": 44,
   "metadata": {},
   "outputs": [],
   "source": [
    "features_train[categorial] = encoder.transform(features_train[categorial])\n",
    "features_test[categorial] = encoder.transform(features_test[categorial])"
   ]
  },
  {
   "cell_type": "code",
   "execution_count": 45,
   "metadata": {},
   "outputs": [
    {
     "data": {
      "text/html": [
       "<div>\n",
       "<style scoped>\n",
       "    .dataframe tbody tr th:only-of-type {\n",
       "        vertical-align: middle;\n",
       "    }\n",
       "\n",
       "    .dataframe tbody tr th {\n",
       "        vertical-align: top;\n",
       "    }\n",
       "\n",
       "    .dataframe thead th {\n",
       "        text-align: right;\n",
       "    }\n",
       "</style>\n",
       "<table border=\"1\" class=\"dataframe\">\n",
       "  <thead>\n",
       "    <tr style=\"text-align: right;\">\n",
       "      <th></th>\n",
       "      <th>VehicleType</th>\n",
       "      <th>RegistrationYear</th>\n",
       "      <th>Gearbox</th>\n",
       "      <th>Power</th>\n",
       "      <th>Model</th>\n",
       "      <th>Kilometer</th>\n",
       "      <th>RegistrationMonth</th>\n",
       "      <th>FuelType</th>\n",
       "      <th>Brand</th>\n",
       "      <th>Repaired</th>\n",
       "    </tr>\n",
       "  </thead>\n",
       "  <tbody>\n",
       "    <tr>\n",
       "      <th>35944</th>\n",
       "      <td>4.0</td>\n",
       "      <td>-1.982169</td>\n",
       "      <td>1.0</td>\n",
       "      <td>-0.381220</td>\n",
       "      <td>11.0</td>\n",
       "      <td>-1.045287</td>\n",
       "      <td>-1.394688</td>\n",
       "      <td>5.0</td>\n",
       "      <td>2.0</td>\n",
       "      <td>1.0</td>\n",
       "    </tr>\n",
       "    <tr>\n",
       "      <th>264564</th>\n",
       "      <td>8.0</td>\n",
       "      <td>-0.593697</td>\n",
       "      <td>1.0</td>\n",
       "      <td>0.537006</td>\n",
       "      <td>29.0</td>\n",
       "      <td>0.591293</td>\n",
       "      <td>-0.557144</td>\n",
       "      <td>5.0</td>\n",
       "      <td>1.0</td>\n",
       "      <td>0.0</td>\n",
       "    </tr>\n",
       "    <tr>\n",
       "      <th>308159</th>\n",
       "      <td>5.0</td>\n",
       "      <td>-0.593697</td>\n",
       "      <td>1.0</td>\n",
       "      <td>-1.115801</td>\n",
       "      <td>173.0</td>\n",
       "      <td>0.591293</td>\n",
       "      <td>-0.836325</td>\n",
       "      <td>5.0</td>\n",
       "      <td>38.0</td>\n",
       "      <td>0.0</td>\n",
       "    </tr>\n",
       "    <tr>\n",
       "      <th>125599</th>\n",
       "      <td>8.0</td>\n",
       "      <td>0.177677</td>\n",
       "      <td>1.0</td>\n",
       "      <td>1.032848</td>\n",
       "      <td>204.0</td>\n",
       "      <td>0.591293</td>\n",
       "      <td>-1.115506</td>\n",
       "      <td>5.0</td>\n",
       "      <td>24.0</td>\n",
       "      <td>0.0</td>\n",
       "    </tr>\n",
       "    <tr>\n",
       "      <th>330691</th>\n",
       "      <td>4.0</td>\n",
       "      <td>0.486226</td>\n",
       "      <td>1.0</td>\n",
       "      <td>0.408454</td>\n",
       "      <td>6.0</td>\n",
       "      <td>-2.409104</td>\n",
       "      <td>0.001219</td>\n",
       "      <td>5.0</td>\n",
       "      <td>2.0</td>\n",
       "      <td>0.0</td>\n",
       "    </tr>\n",
       "    <tr>\n",
       "      <th>311980</th>\n",
       "      <td>5.0</td>\n",
       "      <td>1.411874</td>\n",
       "      <td>1.0</td>\n",
       "      <td>-0.840334</td>\n",
       "      <td>226.0</td>\n",
       "      <td>-2.409104</td>\n",
       "      <td>-0.557144</td>\n",
       "      <td>5.0</td>\n",
       "      <td>27.0</td>\n",
       "      <td>0.0</td>\n",
       "    </tr>\n",
       "    <tr>\n",
       "      <th>345740</th>\n",
       "      <td>4.0</td>\n",
       "      <td>0.794775</td>\n",
       "      <td>1.0</td>\n",
       "      <td>-0.087388</td>\n",
       "      <td>28.0</td>\n",
       "      <td>-0.090616</td>\n",
       "      <td>-0.557144</td>\n",
       "      <td>5.0</td>\n",
       "      <td>1.0</td>\n",
       "      <td>0.0</td>\n",
       "    </tr>\n",
       "    <tr>\n",
       "      <th>50030</th>\n",
       "      <td>6.0</td>\n",
       "      <td>0.331951</td>\n",
       "      <td>1.0</td>\n",
       "      <td>0.353361</td>\n",
       "      <td>208.0</td>\n",
       "      <td>0.591293</td>\n",
       "      <td>0.559582</td>\n",
       "      <td>5.0</td>\n",
       "      <td>15.0</td>\n",
       "      <td>0.0</td>\n",
       "    </tr>\n",
       "    <tr>\n",
       "      <th>333511</th>\n",
       "      <td>2.0</td>\n",
       "      <td>-1.056521</td>\n",
       "      <td>1.0</td>\n",
       "      <td>0.463548</td>\n",
       "      <td>11.0</td>\n",
       "      <td>0.591293</td>\n",
       "      <td>-0.557144</td>\n",
       "      <td>5.0</td>\n",
       "      <td>2.0</td>\n",
       "      <td>1.0</td>\n",
       "    </tr>\n",
       "    <tr>\n",
       "      <th>18285</th>\n",
       "      <td>2.0</td>\n",
       "      <td>-0.902246</td>\n",
       "      <td>1.0</td>\n",
       "      <td>0.775745</td>\n",
       "      <td>166.0</td>\n",
       "      <td>0.591293</td>\n",
       "      <td>-1.673869</td>\n",
       "      <td>5.0</td>\n",
       "      <td>5.0</td>\n",
       "      <td>0.0</td>\n",
       "    </tr>\n",
       "  </tbody>\n",
       "</table>\n",
       "</div>"
      ],
      "text/plain": [
       "        VehicleType  RegistrationYear  Gearbox     Power  Model  Kilometer  \\\n",
       "35944           4.0         -1.982169      1.0 -0.381220   11.0  -1.045287   \n",
       "264564          8.0         -0.593697      1.0  0.537006   29.0   0.591293   \n",
       "308159          5.0         -0.593697      1.0 -1.115801  173.0   0.591293   \n",
       "125599          8.0          0.177677      1.0  1.032848  204.0   0.591293   \n",
       "330691          4.0          0.486226      1.0  0.408454    6.0  -2.409104   \n",
       "311980          5.0          1.411874      1.0 -0.840334  226.0  -2.409104   \n",
       "345740          4.0          0.794775      1.0 -0.087388   28.0  -0.090616   \n",
       "50030           6.0          0.331951      1.0  0.353361  208.0   0.591293   \n",
       "333511          2.0         -1.056521      1.0  0.463548   11.0   0.591293   \n",
       "18285           2.0         -0.902246      1.0  0.775745  166.0   0.591293   \n",
       "\n",
       "        RegistrationMonth  FuelType  Brand  Repaired  \n",
       "35944           -1.394688       5.0    2.0       1.0  \n",
       "264564          -0.557144       5.0    1.0       0.0  \n",
       "308159          -0.836325       5.0   38.0       0.0  \n",
       "125599          -1.115506       5.0   24.0       0.0  \n",
       "330691           0.001219       5.0    2.0       0.0  \n",
       "311980          -0.557144       5.0   27.0       0.0  \n",
       "345740          -0.557144       5.0    1.0       0.0  \n",
       "50030            0.559582       5.0   15.0       0.0  \n",
       "333511          -0.557144       5.0    2.0       1.0  \n",
       "18285           -1.673869       5.0    5.0       0.0  "
      ]
     },
     "execution_count": 45,
     "metadata": {},
     "output_type": "execute_result"
    }
   ],
   "source": [
    "features_train.head(10)"
   ]
  },
  {
   "cell_type": "markdown",
   "metadata": {},
   "source": [
    "Зададим функцию для поиска оптимальных гипперпараметров."
   ]
  },
  {
   "cell_type": "code",
   "execution_count": 46,
   "metadata": {},
   "outputs": [],
   "source": [
    "def objective(trial,features=features_train,target=target_train):\n",
    "    if model_type == 'tree':\n",
    "        param = {\n",
    "            'min_samples_leaf': trial.suggest_int('min_samples_leaf', 2, 7),\n",
    "            'max_depth': trial.suggest_int('max_depth', 1, 100),\n",
    "        }\n",
    "\n",
    "        # создаем модель\n",
    "        model = DecisionTreeRegressor(**param, random_state=RANDOM_STATE)\n",
    "        \n",
    "    elif model_type == 'random_forest':\n",
    "        param = {\n",
    "            'n_estimators': trial.suggest_int('n_estimators', 50, 200),\n",
    "            'min_samples_leaf': trial.suggest_int('min_samples_leaf', 1, 5),\n",
    "            'max_depth': trial.suggest_int('max_depth', 1, 60),\n",
    "        }\n",
    "\n",
    "        # создаем модель\n",
    "        model = RandomForestRegressor(**param, random_state=RANDOM_STATE)\n",
    "        \n",
    "    elif model_type == 'svm':\n",
    "        param = {\n",
    "            'kernel': trial.suggest_categorical('kernel', ['rbf']),\n",
    "            'C': trial.suggest_float('C', 1e-2, 1e2,log=True),\n",
    "            'gamma': trial.suggest_float('gamma', 1e-3, 1e3,log=True)\n",
    "        }\n",
    "\n",
    "        # создаем модель\n",
    "        model = svm.SVR(**param)\n",
    "        \n",
    "    elif model_type == 'xg_boost':\n",
    "        param = {\n",
    "            #'tree_method':'gpu_hist',  # this parameter means using the GPU when training our model to speedup the training process\n",
    "            'lambda': trial.suggest_float('lambda', 1e-3, 10.0,log=True),\n",
    "            #'alpha': trial.suggest_float('alpha', 1e-3, 10.0,log=True),\n",
    "            #'colsample_bytree': trial.suggest_categorical('colsample_bytree', [0.3,0.4,0.5,0.6,0.7,0.8,0.9, 1.0]),\n",
    "            #'subsample': trial.suggest_categorical('subsample', [0.4,0.5,0.6,0.7,0.8,1.0]),\n",
    "            #'learning_rate': trial.suggest_categorical('learning_rate', [0.008,0.01,0.018, 0.02]),\n",
    "            #'n_estimators': 300,\n",
    "            'max_depth': trial.suggest_int('max_depth', 2, 10),\n",
    "            #'min_child_weight': trial.suggest_int('min_child_weight', 1, 300),\n",
    "        }\n",
    "        model = xgb.XGBRegressor(**param, random_state=RANDOM_STATE)\n",
    "        \n",
    "    elif model_type == 'cat_boost':\n",
    "        param = {\n",
    "            #'loss_function': 'RMSE',\n",
    "            'verbose' : False,\n",
    "            #'task_type': 'GPU',\n",
    "            #'l2_leaf_reg': trial.suggest_float('l2_leaf_reg', 1e-3, 10.0,log=True),\n",
    "            #'max_bin': trial.suggest_int('max_bin', 200, 400),\n",
    "            #'rsm': trial.suggest_uniform('rsm', 0.3, 1.0),\n",
    "            #'subsample': trial.suggest_float('bagging_fraction', 0.4, 1.0),\n",
    "            #'learning_rate': trial.suggest_float('learning_rate', 0.006, 0.018),\n",
    "            'n_estimators': trial.suggest_int('n_estimators', 800, 1200),\n",
    "            'max_depth': trial.suggest_int('max_depth', 5, 16),\n",
    "            #'min_data_in_leaf': trial.suggest_int('min_data_in_leaf', 1, 300),\n",
    "        }\n",
    "        model = CatBoostRegressor(**param, random_state=RANDOM_STATE)\n",
    "    \n",
    "    elif model_type == 'light_GBM':\n",
    "        \n",
    "        param = {\n",
    "            'num_leaves': trial.suggest_categorical('num_leaves', [25, 50, 100, 200]), \n",
    "            'learning_rate': trial.suggest_float('learning_rate', .1, .5)\n",
    "        }\n",
    "            \n",
    "        model = LGBMRegressor(**param, random_state=RANDOM_STATE)\n",
    "        \n",
    "    score = cross_val_score(model, features, target, cv = 3, scoring='neg_root_mean_squared_error', n_jobs = 2).mean()\n",
    "    \n",
    "    return -score"
   ]
  },
  {
   "cell_type": "markdown",
   "metadata": {},
   "source": [
    "### Обучение моделей"
   ]
  },
  {
   "cell_type": "markdown",
   "metadata": {},
   "source": [
    "Рассмотрим модели:\n",
    "- `DecisionTreeRegressor`\n",
    "- `RandomForestRegressor`\n",
    "- `XGBRegressor`\n",
    "- `CatBoostRegressor`\n",
    "- `LGBMRegressor`"
   ]
  },
  {
   "cell_type": "code",
   "execution_count": 47,
   "metadata": {},
   "outputs": [],
   "source": [
    "optimization_time = []"
   ]
  },
  {
   "cell_type": "code",
   "execution_count": 48,
   "metadata": {},
   "outputs": [
    {
     "name": "stderr",
     "output_type": "stream",
     "text": [
      "[I 2023-11-15 19:46:00,956] A new study created in memory with name: Tree\n",
      "[I 2023-11-15 19:46:03,757] Trial 0 finished with value: 1872.0303776126405 and parameters: {'min_samples_leaf': 4, 'max_depth': 33}. Best is trial 0 with value: 1872.0303776126405.\n",
      "[I 2023-11-15 19:46:05,187] Trial 1 finished with value: 1844.998419382824 and parameters: {'min_samples_leaf': 6, 'max_depth': 84}. Best is trial 1 with value: 1844.998419382824.\n",
      "[I 2023-11-15 19:46:05,955] Trial 2 finished with value: 2096.8723926883827 and parameters: {'min_samples_leaf': 5, 'max_depth': 8}. Best is trial 1 with value: 1844.998419382824.\n",
      "[I 2023-11-15 19:46:07,051] Trial 3 finished with value: 1897.8236109177622 and parameters: {'min_samples_leaf': 2, 'max_depth': 13}. Best is trial 1 with value: 1844.998419382824.\n",
      "[I 2023-11-15 19:46:08,843] Trial 4 finished with value: 1967.597335037303 and parameters: {'min_samples_leaf': 2, 'max_depth': 25}. Best is trial 1 with value: 1844.998419382824.\n",
      "[I 2023-11-15 19:46:10,215] Trial 5 finished with value: 1834.804333839031 and parameters: {'min_samples_leaf': 7, 'max_depth': 65}. Best is trial 5 with value: 1834.804333839031.\n",
      "[I 2023-11-15 19:46:11,903] Trial 6 finished with value: 1901.6492696601847 and parameters: {'min_samples_leaf': 3, 'max_depth': 49}. Best is trial 5 with value: 1834.804333839031.\n",
      "[I 2023-11-15 19:46:13,549] Trial 7 finished with value: 1901.6492696601847 and parameters: {'min_samples_leaf': 3, 'max_depth': 40}. Best is trial 5 with value: 1834.804333839031.\n",
      "[I 2023-11-15 19:46:15,015] Trial 8 finished with value: 1854.6905361821034 and parameters: {'min_samples_leaf': 5, 'max_depth': 78}. Best is trial 5 with value: 1834.804333839031.\n",
      "[I 2023-11-15 19:46:16,481] Trial 9 finished with value: 1854.8431770734842 and parameters: {'min_samples_leaf': 5, 'max_depth': 37}. Best is trial 5 with value: 1834.804333839031.\n"
     ]
    },
    {
     "name": "stdout",
     "output_type": "stream",
     "text": [
      "Наилучшие значения гиперпараметров {'min_samples_leaf': 7, 'max_depth': 65}\n",
      "RMSE: 1834.80\n",
      "Время поиска гиперпараметров 15.526549577713013\n"
     ]
    }
   ],
   "source": [
    "start_time = time.time()\n",
    "model_type = 'tree'\n",
    "study_tree = optuna.create_study(study_name=\"Tree\",\n",
    "                                   direction=\"minimize\"\n",
    "                                   )\n",
    "# ищем лучшую комбинацию гиперпараметров n_trials раз\n",
    "study_tree.optimize(objective, n_trials=10)\n",
    "\n",
    "# выводим результаты на обучающей выборке\n",
    "print(\"Наилучшие значения гиперпараметров {}\".format(study_tree.best_params))\n",
    "print(\"RMSE: {:.2f}\".format(study_tree.best_value))\n",
    "\n",
    "params_tree = study_tree.best_params\n",
    "score_tree = study_tree.best_value\n",
    "\n",
    "end_time = time.time()\n",
    "optimization_time.append(end_time - start_time)\n",
    "print(\"Время поиска гиперпараметров {}\".format(end_time - start_time))"
   ]
  },
  {
   "cell_type": "code",
   "execution_count": 49,
   "metadata": {},
   "outputs": [
    {
     "name": "stderr",
     "output_type": "stream",
     "text": [
      "[I 2023-11-15 19:46:16,488] A new study created in memory with name: random_forest\n",
      "[I 2023-11-15 19:47:20,873] Trial 0 finished with value: 1629.0826154529107 and parameters: {'n_estimators': 82, 'min_samples_leaf': 1, 'max_depth': 16}. Best is trial 0 with value: 1629.0826154529107.\n",
      "[I 2023-11-15 19:47:30,907] Trial 1 finished with value: 3188.898705768823 and parameters: {'n_estimators': 93, 'min_samples_leaf': 5, 'max_depth': 2}. Best is trial 0 with value: 1629.0826154529107.\n",
      "[I 2023-11-15 19:49:19,718] Trial 2 finished with value: 1619.0335456693117 and parameters: {'n_estimators': 136, 'min_samples_leaf': 4, 'max_depth': 22}. Best is trial 2 with value: 1619.0335456693117.\n",
      "[I 2023-11-15 19:50:25,100] Trial 3 finished with value: 1609.281883959408 and parameters: {'n_estimators': 62, 'min_samples_leaf': 2, 'max_depth': 29}. Best is trial 3 with value: 1609.281883959408.\n",
      "[I 2023-11-15 19:51:21,364] Trial 4 finished with value: 1621.068631002225 and parameters: {'n_estimators': 69, 'min_samples_leaf': 4, 'max_depth': 24}. Best is trial 3 with value: 1609.281883959408.\n"
     ]
    },
    {
     "name": "stdout",
     "output_type": "stream",
     "text": [
      "Наилучшие значения гиперпараметров {'n_estimators': 62, 'min_samples_leaf': 2, 'max_depth': 29}\n",
      "RMSE: 1609.28\n",
      "Время поиска гиперпараметров 304.8759491443634\n"
     ]
    }
   ],
   "source": [
    "start_time = time.time()\n",
    "model_type = 'random_forest'\n",
    "study_random_forest = optuna.create_study(study_name=\"random_forest\",\n",
    "                                   direction=\"minimize\"\n",
    "                                   )\n",
    "# ищем лучшую комбинацию гиперпараметров n_trials раз\n",
    "study_random_forest.optimize(objective, n_trials=5)\n",
    "\n",
    "# выводим результаты на обучающей выборке\n",
    "print(\"Наилучшие значения гиперпараметров {}\".format(study_random_forest.best_params))\n",
    "print(\"RMSE: {:.2f}\".format(study_random_forest.best_value))\n",
    "\n",
    "params_random_forest = study_random_forest.best_params\n",
    "score_random_forest = study_random_forest.best_value\n",
    "\n",
    "end_time = time.time()\n",
    "optimization_time.append(end_time - start_time)\n",
    "print(\"Время поиска гиперпараметров {}\".format(end_time - start_time))"
   ]
  },
  {
   "cell_type": "code",
   "execution_count": 50,
   "metadata": {},
   "outputs": [
    {
     "name": "stderr",
     "output_type": "stream",
     "text": [
      "[I 2023-11-15 19:51:21,372] A new study created in memory with name: xg_boost\n",
      "[I 2023-11-15 19:51:22,631] Trial 0 finished with value: 1667.0996291214287 and parameters: {'lambda': 0.06339866256547615, 'max_depth': 5}. Best is trial 0 with value: 1667.0996291214287.\n",
      "[I 2023-11-15 19:51:25,257] Trial 1 finished with value: 1607.5729540728778 and parameters: {'lambda': 0.003021962341845584, 'max_depth': 10}. Best is trial 1 with value: 1607.5729540728778.\n",
      "[I 2023-11-15 19:51:26,763] Trial 2 finished with value: 1602.7550398409605 and parameters: {'lambda': 0.018638583717699005, 'max_depth': 7}. Best is trial 2 with value: 1602.7550398409605.\n",
      "[I 2023-11-15 19:51:28,723] Trial 3 finished with value: 1573.2929845360177 and parameters: {'lambda': 2.736525958710595, 'max_depth': 9}. Best is trial 3 with value: 1573.2929845360177.\n",
      "[I 2023-11-15 19:51:30,032] Trial 4 finished with value: 1628.7730267727923 and parameters: {'lambda': 0.7484043649082224, 'max_depth': 6}. Best is trial 3 with value: 1573.2929845360177.\n"
     ]
    },
    {
     "name": "stdout",
     "output_type": "stream",
     "text": [
      "Наилучшие значения гиперпараметров {'lambda': 2.736525958710595, 'max_depth': 9}\n",
      "RMSE: 1573.29\n",
      "Время поиска гиперпараметров 8.659746646881104\n"
     ]
    }
   ],
   "source": [
    "start_time = time.time()\n",
    "model_type = 'xg_boost'\n",
    "study_xg_boost = optuna.create_study(study_name=\"xg_boost\",\n",
    "                                   direction=\"minimize\"\n",
    "                                   )\n",
    "# ищем лучшую комбинацию гиперпараметров n_trials раз\n",
    "study_xg_boost.optimize(objective, n_trials=5)\n",
    "\n",
    "# выводим результаты на обучающей выборке\n",
    "print(\"Наилучшие значения гиперпараметров {}\".format(study_xg_boost.best_params))\n",
    "print(\"RMSE: {:.2f}\".format(study_xg_boost.best_value))\n",
    "\n",
    "#params_xg_boost = {'lambda': 0.0048892141030954465, 'max_depth': 10}\n",
    "#score_xg_boost = 1603.86\n",
    "\n",
    "params_xg_boost = study_xg_boost.best_params\n",
    "score_xg_boost = study_xg_boost.best_value\n",
    "\n",
    "end_time = time.time()\n",
    "optimization_time.append(end_time - start_time)\n",
    "print(\"Время поиска гиперпараметров {}\".format(end_time - start_time))"
   ]
  },
  {
   "cell_type": "code",
   "execution_count": 51,
   "metadata": {},
   "outputs": [
    {
     "name": "stderr",
     "output_type": "stream",
     "text": [
      "[I 2023-11-15 19:51:30,040] A new study created in memory with name: Cat_boost\n",
      "[I 2023-11-15 19:52:03,903] Trial 0 finished with value: 1618.0334879125712 and parameters: {'n_estimators': 1122, 'max_depth': 6}. Best is trial 0 with value: 1618.0334879125712.\n",
      "[I 2023-11-15 20:01:18,431] Trial 1 finished with value: 1547.439260534981 and parameters: {'n_estimators': 1172, 'max_depth': 14}. Best is trial 1 with value: 1547.439260534981.\n",
      "[I 2023-11-15 20:14:53,478] Trial 2 finished with value: 1554.7598005056013 and parameters: {'n_estimators': 864, 'max_depth': 15}. Best is trial 1 with value: 1547.439260534981.\n"
     ]
    },
    {
     "name": "stdout",
     "output_type": "stream",
     "text": [
      "Наилучшие значения гиперпараметров {'n_estimators': 1172, 'max_depth': 14}\n",
      "RMSE: 1547.44\n",
      "Время поиска гиперпараметров 1403.4384059906006\n"
     ]
    }
   ],
   "source": [
    "start_time = time.time()\n",
    "model_type = 'cat_boost'\n",
    "study_cat_boost = optuna.create_study(study_name=\"Cat_boost\",\n",
    "                                   direction=\"minimize\"\n",
    "                                   )\n",
    "# ищем лучшую комбинацию гиперпараметров n_trials раз\n",
    "study_cat_boost.optimize(objective, n_trials=3)\n",
    "\n",
    "# выводим результаты на обучающей выборке\n",
    "print(\"Наилучшие значения гиперпараметров {}\".format(study_cat_boost.best_params))\n",
    "print(\"RMSE: {:.2f}\".format(study_cat_boost.best_value))\n",
    "\n",
    "#params_cat_boost = {'n_estimators': 1000, 'max_depth': 11}\n",
    "#score_cat_boost = 1550.89\n",
    "\n",
    "params_cat_boost = study_cat_boost.best_params\n",
    "score_cat_boost = study_cat_boost.best_value\n",
    "\n",
    "end_time = time.time()\n",
    "optimization_time.append(end_time - start_time)\n",
    "print(\"Время поиска гиперпараметров {}\".format(end_time - start_time))"
   ]
  },
  {
   "cell_type": "code",
   "execution_count": 52,
   "metadata": {},
   "outputs": [
    {
     "name": "stderr",
     "output_type": "stream",
     "text": [
      "[I 2023-11-15 20:14:53,482] A new study created in memory with name: light_GBM\n",
      "[I 2023-11-15 20:14:55,465] Trial 0 finished with value: 1648.8393213377246 and parameters: {'num_leaves': 25, 'learning_rate': 0.4827692951923527}. Best is trial 0 with value: 1648.8393213377246.\n",
      "[I 2023-11-15 20:14:57,714] Trial 1 finished with value: 1594.3350741404781 and parameters: {'num_leaves': 200, 'learning_rate': 0.40748734118266694}. Best is trial 1 with value: 1594.3350741404781.\n",
      "[I 2023-11-15 20:14:59,072] Trial 2 finished with value: 1612.4984976782782 and parameters: {'num_leaves': 50, 'learning_rate': 0.2329757091356459}. Best is trial 1 with value: 1594.3350741404781.\n",
      "[I 2023-11-15 20:15:01,389] Trial 3 finished with value: 1570.847752330641 and parameters: {'num_leaves': 200, 'learning_rate': 0.26113099362424275}. Best is trial 3 with value: 1570.847752330641.\n",
      "[I 2023-11-15 20:15:02,669] Trial 4 finished with value: 1695.3693729357017 and parameters: {'num_leaves': 25, 'learning_rate': 0.1352053158710116}. Best is trial 3 with value: 1570.847752330641.\n"
     ]
    },
    {
     "name": "stdout",
     "output_type": "stream",
     "text": [
      "Наилучшие значения гиперпараметров {'num_leaves': 200, 'learning_rate': 0.26113099362424275}\n",
      "RMSE: 1570.85\n",
      "Время поиска гиперпараметров 9.188294410705566\n"
     ]
    }
   ],
   "source": [
    "start_time = time.time()\n",
    "model_type = 'light_GBM'\n",
    "study_light_GBM = optuna.create_study(study_name=\"light_GBM\",\n",
    "                                   direction=\"minimize\"\n",
    "                                   )\n",
    "# ищем лучшую комбинацию гиперпараметров n_trials раз\n",
    "study_light_GBM.optimize(objective, n_trials=5)\n",
    "\n",
    "# выводим результаты на обучающей выборке\n",
    "print(\"Наилучшие значения гиперпараметров {}\".format(study_light_GBM.best_params))\n",
    "print(\"RMSE: {:.2f}\".format(study_light_GBM.best_value))\n",
    "\n",
    "#params_light_GBM = {'num_leaves': 200, 'learning_rate': 0.12059023673706504}\n",
    "#score_light_GBM = 1569.66\n",
    "\n",
    "params_light_GBM = study_light_GBM.best_params\n",
    "score_light_GBM = study_light_GBM.best_value\n",
    "\n",
    "end_time = time.time()\n",
    "optimization_time.append(end_time - start_time)\n",
    "print(\"Время поиска гиперпараметров {}\".format(end_time - start_time))"
   ]
  },
  {
   "cell_type": "markdown",
   "metadata": {},
   "source": [
    "### Вывод этапа"
   ]
  },
  {
   "cell_type": "markdown",
   "metadata": {},
   "source": [
    "Рассмотрены модели:\n",
    "- `DecisionTreeRegressor`\n",
    "    - Время поиска параметров 16 секунд, \n",
    "    - `MRSE` - 1830\n",
    "- `RandomForestRegressor`\n",
    "    - Время поиска параметров 305 секунд, \n",
    "    - `MRSE` - 1570\n",
    "- `XGBRegressor`\n",
    "    - Время поиска параметров 8 секунд, \n",
    "    - `MRSE` - 1610\n",
    "- `CatBoostRegressor`\n",
    "    - Время поиска параметров 1400 секунд, \n",
    "    - `MRSE` - 1550\n",
    "- `LGBMRegressor`\n",
    "    - Время поиска параметров 9 секунд, \n",
    "    - `MRSE` - 1570\n",
    "    \n",
    "- MRSE всех моделей меньше чем требуемая 2500 евро;"
   ]
  },
  {
   "cell_type": "markdown",
   "metadata": {},
   "source": [
    "## Анализ моделей"
   ]
  },
  {
   "cell_type": "code",
   "execution_count": 53,
   "metadata": {},
   "outputs": [],
   "source": [
    "models = ['tree', 'random_forest', 'xg_boost', 'cat_boost', 'light_GBM']\n",
    "#params = [params_tree, params_random_forest, params_xg_boost, params_cat_boost, params_light_GBM]\n",
    "scores = [score_tree, score_random_forest, score_xg_boost, score_cat_boost, score_light_GBM]\n",
    "params = {'tree': params_tree, 'random_forest': params_random_forest, \n",
    "             'xg_boost': params_xg_boost, 'cat_boost': params_cat_boost, \n",
    "             'light_GBM': params_light_GBM}"
   ]
  },
  {
   "cell_type": "code",
   "execution_count": 54,
   "metadata": {},
   "outputs": [
    {
     "name": "stdout",
     "output_type": "stream",
     "text": [
      "fit time tree: 0.8096973896026611\n",
      "predict time tree: 0.0666964054107666\n",
      "\n",
      "fit time random_forest: 47.170799255371094\n",
      "predict time random_forest: 3.626164674758911\n",
      "\n",
      "fit time xg_boost: 0.8559737205505371\n",
      "predict time xg_boost: 0.14280152320861816\n",
      "\n",
      "fit time cat_boost: 266.5745623111725\n",
      "predict time cat_boost: 0.5776817798614502\n",
      "\n",
      "fit time light_GBM: 0.9342567920684814\n",
      "predict time light_GBM: 0.34094738960266113\n",
      "\n"
     ]
    },
    {
     "data": {
      "image/png": "[encoded data removed]",
      "text/plain": [
       "<Figure size 2500x500 with 5 Axes>"
      ]
     },
     "metadata": {},
     "output_type": "display_data"
    }
   ],
   "source": [
    "training_time = []\n",
    "predict_time = []\n",
    "i =  1\n",
    "plt.figure(figsize=figsize(5))\n",
    "for m in models:\n",
    "    if m == 'tree':\n",
    "        model = DecisionTreeRegressor(**params[m], random_state=RANDOM_STATE)\n",
    "    elif m == 'random_forest':\n",
    "            model = RandomForestRegressor(**params[m], random_state=RANDOM_STATE)\n",
    "    elif m == 'xg_boost':\n",
    "            model = xgb.XGBRegressor(**params[m], random_state=RANDOM_STATE)\n",
    "    elif m == 'cat_boost':\n",
    "            model = CatBoostRegressor(**params[m], random_state=RANDOM_STATE,verbose=False)\n",
    "    elif m == 'light_GBM':\n",
    "            model = LGBMRegressor(**params[m], random_state=RANDOM_STATE,verbose=0)\n",
    "    \n",
    "    start_time = time.time()\n",
    "    model.fit(features_train,target_train)\n",
    "    end_time = time.time()\n",
    "    training_time.append(end_time - start_time)\n",
    "    print('fit time '+m+\":\",end_time - start_time)\n",
    "    \n",
    "    start_time = time.time()\n",
    "    model.predict(features_train)\n",
    "    end_time = time.time()\n",
    "    predict_time.append(end_time - start_time)\n",
    "    print('predict time '+m+\":\",end_time - start_time)\n",
    "    print()\n",
    "\n",
    "    plt.subplot(1,len(models),i)\n",
    "    feature_importances = pd.DataFrame(model.feature_importances_,index = features.columns, columns = ['feature'])\n",
    "    ax = sns.barplot(data=feature_importances, x=feature_importances.index, y='feature', palette=cm)\n",
    "    plot_set(ax)\n",
    "    i += 1"
   ]
  },
  {
   "cell_type": "code",
   "execution_count": 55,
   "metadata": {},
   "outputs": [
    {
     "data": {
      "text/html": [
       "<style type=\"text/css\">\n",
       "#T_cbd21_row0_col0, #T_cbd21_row1_col2, #T_cbd21_row3_col1, #T_cbd21_row3_col3 {\n",
       "  background-color: #2c3172;\n",
       "  color: #f1f1f1;\n",
       "}\n",
       "#T_cbd21_row0_col1, #T_cbd21_row0_col2, #T_cbd21_row2_col1, #T_cbd21_row2_col3, #T_cbd21_row3_col0, #T_cbd21_row4_col1, #T_cbd21_row4_col3 {\n",
       "  background-color: #a5cd90;\n",
       "  color: #000000;\n",
       "}\n",
       "#T_cbd21_row0_col3 {\n",
       "  background-color: #a4cc90;\n",
       "  color: #000000;\n",
       "}\n",
       "#T_cbd21_row1_col0 {\n",
       "  background-color: #69b090;\n",
       "  color: #f1f1f1;\n",
       "}\n",
       "#T_cbd21_row1_col1 {\n",
       "  background-color: #74b690;\n",
       "  color: #f1f1f1;\n",
       "}\n",
       "#T_cbd21_row1_col3 {\n",
       "  background-color: #6ab090;\n",
       "  color: #f1f1f1;\n",
       "}\n",
       "#T_cbd21_row2_col0 {\n",
       "  background-color: #8bc191;\n",
       "  color: #000000;\n",
       "}\n",
       "#T_cbd21_row2_col2 {\n",
       "  background-color: #9fca91;\n",
       "  color: #000000;\n",
       "}\n",
       "#T_cbd21_row3_col2 {\n",
       "  background-color: #7dba91;\n",
       "  color: #000000;\n",
       "}\n",
       "#T_cbd21_row4_col0 {\n",
       "  background-color: #8fc291;\n",
       "  color: #000000;\n",
       "}\n",
       "#T_cbd21_row4_col2 {\n",
       "  background-color: #90c391;\n",
       "  color: #000000;\n",
       "}\n",
       "</style>\n",
       "<table id=\"T_cbd21\">\n",
       "  <thead>\n",
       "    <tr>\n",
       "      <th class=\"blank level0\" >&nbsp;</th>\n",
       "      <th id=\"T_cbd21_level0_col0\" class=\"col_heading level0 col0\" >MRSE</th>\n",
       "      <th id=\"T_cbd21_level0_col1\" class=\"col_heading level0 col1\" >Fit</th>\n",
       "      <th id=\"T_cbd21_level0_col2\" class=\"col_heading level0 col2\" >Predict</th>\n",
       "      <th id=\"T_cbd21_level0_col3\" class=\"col_heading level0 col3\" >Search</th>\n",
       "    </tr>\n",
       "  </thead>\n",
       "  <tbody>\n",
       "    <tr>\n",
       "      <th id=\"T_cbd21_level0_row0\" class=\"row_heading level0 row0\" >tree</th>\n",
       "      <td id=\"T_cbd21_row0_col0\" class=\"data row0 col0\" >1834.804334</td>\n",
       "      <td id=\"T_cbd21_row0_col1\" class=\"data row0 col1\" >0.809697</td>\n",
       "      <td id=\"T_cbd21_row0_col2\" class=\"data row0 col2\" >0.066696</td>\n",
       "      <td id=\"T_cbd21_row0_col3\" class=\"data row0 col3\" >15.526550</td>\n",
       "    </tr>\n",
       "    <tr>\n",
       "      <th id=\"T_cbd21_level0_row1\" class=\"row_heading level0 row1\" >random_forest</th>\n",
       "      <td id=\"T_cbd21_row1_col0\" class=\"data row1 col0\" >1609.281884</td>\n",
       "      <td id=\"T_cbd21_row1_col1\" class=\"data row1 col1\" >47.170799</td>\n",
       "      <td id=\"T_cbd21_row1_col2\" class=\"data row1 col2\" >3.626165</td>\n",
       "      <td id=\"T_cbd21_row1_col3\" class=\"data row1 col3\" >304.875949</td>\n",
       "    </tr>\n",
       "    <tr>\n",
       "      <th id=\"T_cbd21_level0_row2\" class=\"row_heading level0 row2\" >xg_boost</th>\n",
       "      <td id=\"T_cbd21_row2_col0\" class=\"data row2 col0\" >1573.292985</td>\n",
       "      <td id=\"T_cbd21_row2_col1\" class=\"data row2 col1\" >0.855974</td>\n",
       "      <td id=\"T_cbd21_row2_col2\" class=\"data row2 col2\" >0.142802</td>\n",
       "      <td id=\"T_cbd21_row2_col3\" class=\"data row2 col3\" >8.659747</td>\n",
       "    </tr>\n",
       "    <tr>\n",
       "      <th id=\"T_cbd21_level0_row3\" class=\"row_heading level0 row3\" >cat_boost</th>\n",
       "      <td id=\"T_cbd21_row3_col0\" class=\"data row3 col0\" >1547.439261</td>\n",
       "      <td id=\"T_cbd21_row3_col1\" class=\"data row3 col1\" >266.574562</td>\n",
       "      <td id=\"T_cbd21_row3_col2\" class=\"data row3 col2\" >0.577682</td>\n",
       "      <td id=\"T_cbd21_row3_col3\" class=\"data row3 col3\" >1403.438406</td>\n",
       "    </tr>\n",
       "    <tr>\n",
       "      <th id=\"T_cbd21_level0_row4\" class=\"row_heading level0 row4\" >light_GBM</th>\n",
       "      <td id=\"T_cbd21_row4_col0\" class=\"data row4 col0\" >1570.847752</td>\n",
       "      <td id=\"T_cbd21_row4_col1\" class=\"data row4 col1\" >0.934257</td>\n",
       "      <td id=\"T_cbd21_row4_col2\" class=\"data row4 col2\" >0.340947</td>\n",
       "      <td id=\"T_cbd21_row4_col3\" class=\"data row4 col3\" >9.188294</td>\n",
       "    </tr>\n",
       "  </tbody>\n",
       "</table>\n"
      ],
      "text/plain": [
       "<pandas.io.formats.style.Styler at 0x2298f71ecd0>"
      ]
     },
     "execution_count": 55,
     "metadata": {},
     "output_type": "execute_result"
    }
   ],
   "source": [
    "data_metrics = pd.DataFrame({'MRSE': scores,\n",
    "                             'Fit': training_time,\n",
    "                             'Predict': predict_time,\n",
    "                             'Search': optimization_time,\n",
    "                           })\n",
    "data_metrics.index=models\n",
    "data_metrics.style.background_gradient(cmap=cm)"
   ]
  },
  {
   "cell_type": "markdown",
   "metadata": {},
   "source": [
    "В качестве итоговой модели выберем `LGBMRegressor` как оптимальную по соотношению время/качество."
   ]
  },
  {
   "cell_type": "markdown",
   "metadata": {},
   "source": [
    "## Итоговая модель"
   ]
  },
  {
   "cell_type": "code",
   "execution_count": 56,
   "metadata": {},
   "outputs": [
    {
     "name": "stdout",
     "output_type": "stream",
     "text": [
      "Fit time:  0.8667001724243164\n",
      "Predict time:  0.10938334465026855\n",
      "Final MRSE:  1532.7802040958627\n"
     ]
    }
   ],
   "source": [
    "best_model = 'light_GBM'\n",
    "if best_model == 'tree':\n",
    "    model = DecisionTreeRegressor(**params[m], random_state=RANDOM_STATE)\n",
    "elif best_model == 'random_forest':\n",
    "        model = RandomForestRegressor(**params[m], random_state=RANDOM_STATE)\n",
    "elif best_model == 'xg_boost':\n",
    "        model = xgb.XGBRegressor(**params[m], random_state=RANDOM_STATE)\n",
    "elif best_model == 'cat_boost':\n",
    "        model = CatBoostRegressor(**params[m], random_state=RANDOM_STATE,verbose=False)\n",
    "elif best_model == 'light_GBM':\n",
    "        model = LGBMRegressor(**params[m], random_state=RANDOM_STATE,verbose=0)\n",
    "start_time = time.time()\n",
    "model.fit(features_train,target_train)\n",
    "end_time = time.time()\n",
    "print('Fit time: ', end_time - start_time)\n",
    "\n",
    "start_time = time.time()\n",
    "predict_test = model.predict(features_test)\n",
    "end_time = time.time()\n",
    "print('Predict time: ', end_time - start_time)\n",
    "MRSE_final = mean_squared_error(target_test, predict_test) ** .5\n",
    "print('Final MRSE: ', MRSE_final)"
   ]
  },
  {
   "cell_type": "markdown",
   "metadata": {},
   "source": [
    "## Вывод"
   ]
  },
  {
   "cell_type": "markdown",
   "metadata": {},
   "source": [
    "- Изучен датафрейм `Churn.csv`:\n",
    "    - 16 столбцов:\n",
    "        - `DateCrawled` - дата скачивания анкеты из базы;\n",
    "        - `VehicleType` - тип автомобильного кузова;\n",
    "        - `RegistrationYear` - год регистрации автомобиля;\n",
    "        - `Gearbox` - тип коробки передач;\n",
    "        - `Power` - мощность (л. с.);\n",
    "        - `Model` - модель автомобиля;\n",
    "        - `Kilometer` - пробег (км);\n",
    "        - `RegistrationMonth` - месяц регистрации автомобиля;\n",
    "        - `FuelType` - тип топлива;\n",
    "        - `Brand` - марка автомобиля;\n",
    "        - `Repaired` - была машина в ремонте или нет;\n",
    "        - `DateCreated` - дата создания анкеты;\n",
    "        - `NumberOfPictures` - количество фотографий автомобиля;\n",
    "        - `PostalCode` - почтовый индекс владельца анкеты (пользователя);\n",
    "        - `LastSeen` - дата последней активности пользователя;\n",
    "        - `Price` - цена (евро);\n",
    "    - 354369 строк\n",
    "    - Пропуски в строках:\n",
    "        - `Model` - `5.56%`;\n",
    "        - `Gearbox` - `5.60%`;\n",
    "        - `FuelType` - `9.28%`;\n",
    "        - `VehicleType` - `10.58%`;\n",
    "        - `Repaired` - `20.08%`;\n",
    "    - Типы всех столбцов корректны\n",
    "    - Удалены дубликаты;\n",
    "    - Удалены столбцы `DateCrawled`, `DateCreated`, `LastSeen`, `NumberOfPictures`,`PostalCode`;\n",
    "    - Изменено значение `gasoline` на `petrol` в столбце `FuelType`, поскольку это один и тот же тип топлива;\n",
    "    - Наблюдается очень много аномалий практически во всех столбцах:\n",
    "        - Исключины из рассмотрения аномально низкие цены;\n",
    "        - Исключины из рассмотрения аномально низкие и высокие мощности;\n",
    "        - Исключины из рассмотрения аномальные значения года регистрации;\n",
    "    - Обработаны пропуски:\n",
    "        - Зная только модель, тип кузова определить не получится. Замени\\ены данные на `unknown`;\n",
    "        - По модели нельзя однозначно установить тип топлива. В подавляющем большинстве случаев тип топлива - бензин;\n",
    "        - Только по бренду не получится восстановить марку машины. Так как в выборке уже присутствует вариант `other`, заменили отсутствующие значения на него;\n",
    "        - Большинство машин с механической коробкой передач.Если бы автомобиль был с автоматической, скорее всего это указали бы явно;\n",
    "        - Большинство машин не были в ремонте. Если бы ремонт был (или о нём хотели сказать и за счёт этого снизить цену), но был бы указан. Пропуски можно заменить ответом `no`;\n",
    "- Рассмотрены модели:\n",
    "    - `DecisionTreeRegressor`\n",
    "        - Время поиска параметров 14 секунд;\n",
    "        - `MRSE` - 1830 евро;\n",
    "        - Время обучения модели - 0.75 c;\n",
    "        - Время предсказания модели - 0.05 c;\n",
    "    - `RandomForestRegressor`\n",
    "        - Время поиска параметров 7 минут;\n",
    "        - `MRSE` - 1610 евро;\n",
    "        - Время обучения модели - 47 c;\n",
    "        - Время предсказания модели -3 c;\n",
    "    - `XGBRegressor`\n",
    "        - Время поиска параметров 10 минут;\n",
    "        - `MRSE` - 1570 евро;\n",
    "        - Время обучения модели - 1 c;\n",
    "        - Время предсказания модели - 1 c;\n",
    "    - `CatBoostRegressor`\n",
    "        - Время поиска параметров 18 минут;\n",
    "        - `MRSE` - 1550 евро;\n",
    "        - Время обучения модели - 266 c;\n",
    "        - Время предсказания модели - 1 c;\n",
    "    - `LGBMRegressor`\n",
    "        - Время поиска параметров 1 минута, ;\n",
    "        - `MRSE` - 1570 евро;\n",
    "        - Время обучения модели - 16 c;\n",
    "        - Время предсказания модели - 3 c;\n",
    "- MRSE всех моделей меньше чем требуемая 2500 евро;\n",
    "- Наиболее важными признаками для предсказания цены являются `RegistrationYear` и `Power`;\n",
    "- В качестве итоговой модели выбрана `LGBMRegressor` как оптимальная по соотношению время/качество;\n",
    "    - Итоговое MRSE на тестовой выборке 1530 евро;\n",
    "    - Время обучения менее секунды;\n",
    "    - Время предсказания менее секунды."
   ]
  }
 ],
 "metadata": {
  "ExecuteTimeLog": [
   {
    "duration": 50,
    "start_time": "2023-11-11T15:17:09.732Z"
   },
   {
    "duration": 395,
    "start_time": "2023-11-11T15:17:12.954Z"
   },
   {
    "duration": 3965,
    "start_time": "2023-11-11T15:18:00.499Z"
   },
   {
    "duration": 281,
    "start_time": "2023-11-11T15:18:09.017Z"
   },
   {
    "duration": 9179,
    "start_time": "2023-11-11T15:18:22.379Z"
   },
   {
    "duration": 1681,
    "start_time": "2023-11-11T15:18:31.560Z"
   },
   {
    "duration": 9,
    "start_time": "2023-11-11T15:18:33.909Z"
   },
   {
    "duration": 2746,
    "start_time": "2023-11-11T15:19:09.865Z"
   },
   {
    "duration": 25,
    "start_time": "2023-11-11T15:19:54.309Z"
   },
   {
    "duration": 158,
    "start_time": "2023-11-11T15:19:59.505Z"
   },
   {
    "duration": 133,
    "start_time": "2023-11-11T15:20:08.912Z"
   },
   {
    "duration": 427,
    "start_time": "2023-11-11T15:20:14.953Z"
   },
   {
    "duration": 94,
    "start_time": "2023-11-11T15:20:26.907Z"
   },
   {
    "duration": 20670,
    "start_time": "2023-11-11T16:12:09.929Z"
   },
   {
    "duration": 591,
    "start_time": "2023-11-11T16:12:30.601Z"
   },
   {
    "duration": 7,
    "start_time": "2023-11-11T16:12:33.474Z"
   },
   {
    "duration": 839,
    "start_time": "2023-11-11T16:12:34.939Z"
   },
   {
    "duration": 18,
    "start_time": "2023-11-11T16:12:35.780Z"
   },
   {
    "duration": 97316,
    "start_time": "2023-11-11T16:12:43.004Z"
   },
   {
    "duration": 29865,
    "start_time": "2023-11-11T16:14:20.322Z"
   },
   {
    "duration": 26859,
    "start_time": "2023-11-12T09:36:08.834Z"
   },
   {
    "duration": 2570,
    "start_time": "2023-11-12T09:36:35.695Z"
   },
   {
    "duration": 7,
    "start_time": "2023-11-12T09:36:38.267Z"
   },
   {
    "duration": 2980,
    "start_time": "2023-11-12T09:36:38.276Z"
   },
   {
    "duration": 22,
    "start_time": "2023-11-12T09:36:41.258Z"
   },
   {
    "duration": 7,
    "start_time": "2023-11-12T09:36:41.281Z"
   },
   {
    "duration": 7,
    "start_time": "2023-11-12T09:36:41.289Z"
   },
   {
    "duration": 139,
    "start_time": "2023-11-12T09:36:41.297Z"
   },
   {
    "duration": 93,
    "start_time": "2023-11-12T09:36:41.438Z"
   },
   {
    "duration": 137,
    "start_time": "2023-11-12T09:36:41.533Z"
   },
   {
    "duration": 437,
    "start_time": "2023-11-12T09:36:41.671Z"
   },
   {
    "duration": 477,
    "start_time": "2023-11-12T09:36:42.110Z"
   },
   {
    "duration": 33,
    "start_time": "2023-11-12T09:39:04.237Z"
   },
   {
    "duration": 11,
    "start_time": "2023-11-12T09:39:14.399Z"
   },
   {
    "duration": 627,
    "start_time": "2023-11-12T09:42:40.057Z"
   },
   {
    "duration": 126,
    "start_time": "2023-11-12T09:43:36.472Z"
   },
   {
    "duration": 187,
    "start_time": "2023-11-12T09:55:06.669Z"
   },
   {
    "duration": 3,
    "start_time": "2023-11-12T09:55:10.373Z"
   },
   {
    "duration": 11,
    "start_time": "2023-11-12T09:55:10.742Z"
   },
   {
    "duration": 1670,
    "start_time": "2023-11-12T09:55:27.168Z"
   },
   {
    "duration": 64959,
    "start_time": "2023-11-12T09:55:39.065Z"
   },
   {
    "duration": 72589,
    "start_time": "2023-11-12T09:57:09.148Z"
   },
   {
    "duration": 82801,
    "start_time": "2023-11-12T09:58:37.023Z"
   },
   {
    "duration": 81252,
    "start_time": "2023-11-12T10:01:20.723Z"
   },
   {
    "duration": 35,
    "start_time": "2023-11-12T10:02:55.704Z"
   },
   {
    "duration": 10,
    "start_time": "2023-11-12T10:03:19.491Z"
   },
   {
    "duration": 106,
    "start_time": "2023-11-12T10:03:24.243Z"
   },
   {
    "duration": 0,
    "start_time": "2023-11-12T10:04:05.478Z"
   },
   {
    "duration": 584,
    "start_time": "2023-11-12T10:04:13.497Z"
   },
   {
    "duration": 73090,
    "start_time": "2023-11-12T10:04:23.891Z"
   },
   {
    "duration": 82057,
    "start_time": "2023-11-12T10:08:21.969Z"
   },
   {
    "duration": 17,
    "start_time": "2023-11-12T11:10:38.575Z"
   },
   {
    "duration": 305,
    "start_time": "2023-11-12T11:10:45.767Z"
   },
   {
    "duration": 293,
    "start_time": "2023-11-12T11:10:53.376Z"
   },
   {
    "duration": 486,
    "start_time": "2023-11-12T11:11:17.459Z"
   },
   {
    "duration": 69514,
    "start_time": "2023-11-12T11:11:30.461Z"
   },
   {
    "duration": 295,
    "start_time": "2023-11-12T11:13:35.389Z"
   },
   {
    "duration": 72590,
    "start_time": "2023-11-12T11:13:36.677Z"
   },
   {
    "duration": 503,
    "start_time": "2023-11-12T11:18:06.799Z"
   },
   {
    "duration": 3,
    "start_time": "2023-11-12T11:18:11.152Z"
   },
   {
    "duration": 71837,
    "start_time": "2023-11-12T11:18:13.087Z"
   },
   {
    "duration": 10269,
    "start_time": "2023-11-12T13:11:19.964Z"
   },
   {
    "duration": 3196,
    "start_time": "2023-11-12T13:11:30.235Z"
   },
   {
    "duration": 9,
    "start_time": "2023-11-12T13:11:33.433Z"
   },
   {
    "duration": 932,
    "start_time": "2023-11-12T13:11:33.444Z"
   },
   {
    "duration": 31,
    "start_time": "2023-11-12T13:11:34.378Z"
   },
   {
    "duration": 2,
    "start_time": "2023-11-12T13:11:34.411Z"
   },
   {
    "duration": 21,
    "start_time": "2023-11-12T13:11:34.414Z"
   },
   {
    "duration": 163,
    "start_time": "2023-11-12T13:11:34.436Z"
   },
   {
    "duration": 84,
    "start_time": "2023-11-12T13:11:34.601Z"
   },
   {
    "duration": 142,
    "start_time": "2023-11-12T13:11:34.700Z"
   },
   {
    "duration": 471,
    "start_time": "2023-11-12T13:11:34.843Z"
   },
   {
    "duration": 537,
    "start_time": "2023-11-12T13:11:35.316Z"
   },
   {
    "duration": 37,
    "start_time": "2023-11-12T13:11:35.854Z"
   },
   {
    "duration": 29,
    "start_time": "2023-11-12T13:11:35.899Z"
   },
   {
    "duration": 13,
    "start_time": "2023-11-12T13:11:35.930Z"
   },
   {
    "duration": 308,
    "start_time": "2023-11-12T13:11:35.945Z"
   },
   {
    "duration": 806,
    "start_time": "2023-11-12T13:11:36.254Z"
   },
   {
    "duration": 63341,
    "start_time": "2023-11-12T13:11:49.567Z"
   },
   {
    "duration": 47,
    "start_time": "2023-11-12T13:21:22.078Z"
   },
   {
    "duration": 34,
    "start_time": "2023-11-12T13:22:33.705Z"
   },
   {
    "duration": 46,
    "start_time": "2023-11-12T13:22:52.025Z"
   },
   {
    "duration": 38,
    "start_time": "2023-11-12T13:23:53.357Z"
   },
   {
    "duration": 66,
    "start_time": "2023-11-12T13:24:18.104Z"
   },
   {
    "duration": 147,
    "start_time": "2023-11-12T13:25:16.708Z"
   },
   {
    "duration": 164,
    "start_time": "2023-11-12T13:25:27.591Z"
   },
   {
    "duration": 4708,
    "start_time": "2023-11-12T13:26:25.452Z"
   },
   {
    "duration": 4818,
    "start_time": "2023-11-12T13:27:45.872Z"
   },
   {
    "duration": 4954,
    "start_time": "2023-11-12T13:27:57.840Z"
   },
   {
    "duration": 3,
    "start_time": "2023-11-12T13:28:56.282Z"
   },
   {
    "duration": 1165,
    "start_time": "2023-11-12T13:29:14.915Z"
   },
   {
    "duration": 1190,
    "start_time": "2023-11-12T13:30:04.775Z"
   },
   {
    "duration": 1133,
    "start_time": "2023-11-12T13:30:56.571Z"
   },
   {
    "duration": 1168,
    "start_time": "2023-11-12T13:31:30.898Z"
   },
   {
    "duration": 94,
    "start_time": "2023-11-12T13:33:11.278Z"
   },
   {
    "duration": 21,
    "start_time": "2023-11-12T13:36:03.246Z"
   },
   {
    "duration": 51,
    "start_time": "2023-11-12T13:38:15.910Z"
   },
   {
    "duration": 82,
    "start_time": "2023-11-12T13:38:44.475Z"
   },
   {
    "duration": 4,
    "start_time": "2023-11-12T13:45:33.818Z"
   },
   {
    "duration": 276,
    "start_time": "2023-11-12T13:45:50.665Z"
   },
   {
    "duration": 66579,
    "start_time": "2023-11-12T13:45:51.303Z"
   },
   {
    "duration": 1085,
    "start_time": "2023-11-12T13:46:57.884Z"
   },
   {
    "duration": 104,
    "start_time": "2023-11-12T13:46:58.970Z"
   },
   {
    "duration": 235,
    "start_time": "2023-11-12T13:51:19.626Z"
   },
   {
    "duration": 217,
    "start_time": "2023-11-12T13:51:45.758Z"
   },
   {
    "duration": 218,
    "start_time": "2023-11-12T13:51:54.345Z"
   },
   {
    "duration": 262,
    "start_time": "2023-11-12T13:52:09.194Z"
   },
   {
    "duration": 224,
    "start_time": "2023-11-12T13:52:16.290Z"
   },
   {
    "duration": 4,
    "start_time": "2023-11-12T13:52:49.514Z"
   },
   {
    "duration": 84,
    "start_time": "2023-11-12T13:52:54.276Z"
   },
   {
    "duration": 247,
    "start_time": "2023-11-12T13:53:00.828Z"
   },
   {
    "duration": 232,
    "start_time": "2023-11-12T13:53:19.177Z"
   },
   {
    "duration": 3399,
    "start_time": "2023-11-12T13:53:25.163Z"
   },
   {
    "duration": 245,
    "start_time": "2023-11-12T13:53:47.081Z"
   },
   {
    "duration": 232,
    "start_time": "2023-11-12T13:53:52.829Z"
   },
   {
    "duration": 21,
    "start_time": "2023-11-12T13:55:50.738Z"
   },
   {
    "duration": 1024,
    "start_time": "2023-11-12T13:57:45.758Z"
   },
   {
    "duration": 24,
    "start_time": "2023-11-12T13:58:41.946Z"
   },
   {
    "duration": 77,
    "start_time": "2023-11-12T14:03:29.907Z"
   },
   {
    "duration": 1512,
    "start_time": "2023-11-12T14:04:03.316Z"
   },
   {
    "duration": 9219,
    "start_time": "2023-11-12T14:04:30.536Z"
   },
   {
    "duration": 9255,
    "start_time": "2023-11-12T14:05:31.002Z"
   },
   {
    "duration": 70,
    "start_time": "2023-11-12T14:06:48.441Z"
   },
   {
    "duration": 68,
    "start_time": "2023-11-12T14:07:05.880Z"
   },
   {
    "duration": 10701,
    "start_time": "2023-11-12T14:07:14.802Z"
   },
   {
    "duration": 13056,
    "start_time": "2023-11-12T14:07:30.881Z"
   },
   {
    "duration": 12824,
    "start_time": "2023-11-12T14:07:52.588Z"
   },
   {
    "duration": 12754,
    "start_time": "2023-11-12T14:13:17.220Z"
   },
   {
    "duration": 82,
    "start_time": "2023-11-12T14:15:05.001Z"
   },
   {
    "duration": 143,
    "start_time": "2023-11-12T14:15:09.290Z"
   },
   {
    "duration": 140,
    "start_time": "2023-11-12T14:17:27.797Z"
   },
   {
    "duration": 327,
    "start_time": "2023-11-12T14:17:41.518Z"
   },
   {
    "duration": 154,
    "start_time": "2023-11-12T14:19:23.571Z"
   },
   {
    "duration": 13051,
    "start_time": "2023-11-12T14:19:44.949Z"
   },
   {
    "duration": 13597,
    "start_time": "2023-11-12T14:20:13.286Z"
   },
   {
    "duration": 129,
    "start_time": "2023-11-12T14:24:03.333Z"
   },
   {
    "duration": 13,
    "start_time": "2023-11-12T14:24:04.118Z"
   },
   {
    "duration": 3,
    "start_time": "2023-11-12T14:24:07.079Z"
   },
   {
    "duration": 1327,
    "start_time": "2023-11-12T14:24:14.455Z"
   },
   {
    "duration": 13466,
    "start_time": "2023-11-12T14:24:34.080Z"
   },
   {
    "duration": 200,
    "start_time": "2023-11-12T14:25:22.653Z"
   },
   {
    "duration": 95,
    "start_time": "2023-11-12T14:28:27.981Z"
   },
   {
    "duration": 93,
    "start_time": "2023-11-12T14:28:50.572Z"
   },
   {
    "duration": 96,
    "start_time": "2023-11-12T14:29:17.996Z"
   },
   {
    "duration": 118,
    "start_time": "2023-11-12T14:29:32.246Z"
   },
   {
    "duration": 126,
    "start_time": "2023-11-12T14:29:48.340Z"
   },
   {
    "duration": 109,
    "start_time": "2023-11-12T14:29:55.555Z"
   },
   {
    "duration": 123,
    "start_time": "2023-11-12T14:30:04.004Z"
   },
   {
    "duration": 277,
    "start_time": "2023-11-12T14:31:06.704Z"
   },
   {
    "duration": 122,
    "start_time": "2023-11-12T14:31:41.326Z"
   },
   {
    "duration": 115,
    "start_time": "2023-11-12T14:33:17.005Z"
   },
   {
    "duration": 1705,
    "start_time": "2023-11-12T14:33:43.997Z"
   },
   {
    "duration": 135,
    "start_time": "2023-11-12T14:34:18.575Z"
   },
   {
    "duration": 67,
    "start_time": "2023-11-12T14:48:19.628Z"
   },
   {
    "duration": 10,
    "start_time": "2023-11-12T14:49:24.050Z"
   },
   {
    "duration": 19,
    "start_time": "2023-11-12T14:49:28.595Z"
   },
   {
    "duration": 21,
    "start_time": "2023-11-12T14:49:51.341Z"
   },
   {
    "duration": 10107,
    "start_time": "2023-11-12T14:50:10.295Z"
   },
   {
    "duration": 2337,
    "start_time": "2023-11-12T14:50:20.405Z"
   },
   {
    "duration": 7,
    "start_time": "2023-11-12T14:50:22.744Z"
   },
   {
    "duration": 868,
    "start_time": "2023-11-12T14:50:22.753Z"
   },
   {
    "duration": 21,
    "start_time": "2023-11-12T14:50:23.623Z"
   },
   {
    "duration": 3,
    "start_time": "2023-11-12T14:50:23.646Z"
   },
   {
    "duration": 3,
    "start_time": "2023-11-12T14:50:23.651Z"
   },
   {
    "duration": 159,
    "start_time": "2023-11-12T14:50:23.655Z"
   },
   {
    "duration": 97,
    "start_time": "2023-11-12T14:50:23.816Z"
   },
   {
    "duration": 132,
    "start_time": "2023-11-12T14:50:23.914Z"
   },
   {
    "duration": 476,
    "start_time": "2023-11-12T14:50:24.049Z"
   },
   {
    "duration": 493,
    "start_time": "2023-11-12T14:50:24.526Z"
   },
   {
    "duration": 36,
    "start_time": "2023-11-12T14:50:25.020Z"
   },
   {
    "duration": 135,
    "start_time": "2023-11-12T14:50:25.057Z"
   },
   {
    "duration": 16,
    "start_time": "2023-11-12T14:50:25.193Z"
   },
   {
    "duration": 4,
    "start_time": "2023-11-12T14:50:25.210Z"
   },
   {
    "duration": 1453,
    "start_time": "2023-11-12T14:50:25.215Z"
   },
   {
    "duration": 0,
    "start_time": "2023-11-12T14:50:26.669Z"
   },
   {
    "duration": 0,
    "start_time": "2023-11-12T14:50:26.671Z"
   },
   {
    "duration": 0,
    "start_time": "2023-11-12T14:50:26.672Z"
   },
   {
    "duration": 0,
    "start_time": "2023-11-12T14:50:26.673Z"
   },
   {
    "duration": 0,
    "start_time": "2023-11-12T14:50:26.674Z"
   },
   {
    "duration": 0,
    "start_time": "2023-11-12T14:50:26.675Z"
   },
   {
    "duration": 0,
    "start_time": "2023-11-12T14:50:26.677Z"
   },
   {
    "duration": 0,
    "start_time": "2023-11-12T14:50:26.677Z"
   },
   {
    "duration": 0,
    "start_time": "2023-11-12T14:50:26.678Z"
   },
   {
    "duration": 0,
    "start_time": "2023-11-12T14:50:26.679Z"
   },
   {
    "duration": 0,
    "start_time": "2023-11-12T14:50:26.681Z"
   },
   {
    "duration": 0,
    "start_time": "2023-11-12T14:50:26.682Z"
   },
   {
    "duration": 0,
    "start_time": "2023-11-12T14:50:26.684Z"
   },
   {
    "duration": 1262,
    "start_time": "2023-11-12T14:51:57.562Z"
   },
   {
    "duration": 243,
    "start_time": "2023-11-12T14:53:45.807Z"
   },
   {
    "duration": 24,
    "start_time": "2023-11-12T14:54:38.029Z"
   },
   {
    "duration": 10164,
    "start_time": "2023-11-12T14:54:42.863Z"
   },
   {
    "duration": 2388,
    "start_time": "2023-11-12T14:54:53.029Z"
   },
   {
    "duration": 9,
    "start_time": "2023-11-12T14:54:55.419Z"
   },
   {
    "duration": 848,
    "start_time": "2023-11-12T14:54:55.430Z"
   },
   {
    "duration": 30,
    "start_time": "2023-11-12T14:54:56.280Z"
   },
   {
    "duration": 2,
    "start_time": "2023-11-12T14:54:56.311Z"
   },
   {
    "duration": 21,
    "start_time": "2023-11-12T14:54:56.314Z"
   },
   {
    "duration": 160,
    "start_time": "2023-11-12T14:54:56.336Z"
   },
   {
    "duration": 85,
    "start_time": "2023-11-12T14:54:56.497Z"
   },
   {
    "duration": 143,
    "start_time": "2023-11-12T14:54:56.585Z"
   },
   {
    "duration": 446,
    "start_time": "2023-11-12T14:54:56.729Z"
   },
   {
    "duration": 487,
    "start_time": "2023-11-12T14:54:57.176Z"
   },
   {
    "duration": 43,
    "start_time": "2023-11-12T14:54:57.664Z"
   },
   {
    "duration": 31,
    "start_time": "2023-11-12T14:54:57.709Z"
   },
   {
    "duration": 11,
    "start_time": "2023-11-12T14:54:57.742Z"
   },
   {
    "duration": 3,
    "start_time": "2023-11-12T14:54:57.754Z"
   },
   {
    "duration": 71,
    "start_time": "2023-11-12T14:54:57.758Z"
   },
   {
    "duration": 774,
    "start_time": "2023-11-12T14:54:57.831Z"
   },
   {
    "duration": 0,
    "start_time": "2023-11-12T14:54:58.607Z"
   },
   {
    "duration": 0,
    "start_time": "2023-11-12T14:54:58.608Z"
   },
   {
    "duration": 0,
    "start_time": "2023-11-12T14:54:58.609Z"
   },
   {
    "duration": 0,
    "start_time": "2023-11-12T14:54:58.610Z"
   },
   {
    "duration": 0,
    "start_time": "2023-11-12T14:54:58.611Z"
   },
   {
    "duration": 0,
    "start_time": "2023-11-12T14:54:58.612Z"
   },
   {
    "duration": 0,
    "start_time": "2023-11-12T14:54:58.613Z"
   },
   {
    "duration": 0,
    "start_time": "2023-11-12T14:54:58.614Z"
   },
   {
    "duration": 1,
    "start_time": "2023-11-12T14:54:58.615Z"
   },
   {
    "duration": 0,
    "start_time": "2023-11-12T14:54:58.616Z"
   },
   {
    "duration": 0,
    "start_time": "2023-11-12T14:54:58.617Z"
   },
   {
    "duration": 0,
    "start_time": "2023-11-12T14:54:58.618Z"
   },
   {
    "duration": 335,
    "start_time": "2023-11-12T14:55:24.858Z"
   },
   {
    "duration": 61835,
    "start_time": "2023-11-12T14:55:25.345Z"
   },
   {
    "duration": 1067,
    "start_time": "2023-11-12T14:56:27.182Z"
   },
   {
    "duration": 267,
    "start_time": "2023-11-12T14:56:28.251Z"
   },
   {
    "duration": 91,
    "start_time": "2023-11-12T14:56:28.520Z"
   },
   {
    "duration": 158,
    "start_time": "2023-11-12T14:56:28.613Z"
   },
   {
    "duration": 12,
    "start_time": "2023-11-12T14:56:28.773Z"
   },
   {
    "duration": 0,
    "start_time": "2023-11-12T14:56:28.786Z"
   },
   {
    "duration": 0,
    "start_time": "2023-11-12T14:56:28.788Z"
   },
   {
    "duration": 0,
    "start_time": "2023-11-12T14:56:28.789Z"
   },
   {
    "duration": 0,
    "start_time": "2023-11-12T14:56:28.789Z"
   },
   {
    "duration": 0,
    "start_time": "2023-11-12T14:56:28.789Z"
   },
   {
    "duration": 0,
    "start_time": "2023-11-12T14:56:28.790Z"
   },
   {
    "duration": 0,
    "start_time": "2023-11-12T14:56:28.790Z"
   },
   {
    "duration": 20,
    "start_time": "2023-11-12T14:56:50.089Z"
   },
   {
    "duration": 190,
    "start_time": "2023-11-12T14:56:51.453Z"
   },
   {
    "duration": 10,
    "start_time": "2023-11-12T14:56:53.319Z"
   },
   {
    "duration": 1226,
    "start_time": "2023-11-12T14:56:58.600Z"
   },
   {
    "duration": 21,
    "start_time": "2023-11-12T14:57:13.791Z"
   },
   {
    "duration": 20,
    "start_time": "2023-11-12T14:57:15.855Z"
   },
   {
    "duration": 126,
    "start_time": "2023-11-12T14:57:20.887Z"
   },
   {
    "duration": 36,
    "start_time": "2023-11-12T14:57:24.567Z"
   },
   {
    "duration": 21,
    "start_time": "2023-11-12T14:57:25.936Z"
   },
   {
    "duration": 21,
    "start_time": "2023-11-12T14:57:27.919Z"
   },
   {
    "duration": 82,
    "start_time": "2023-11-12T14:57:29.264Z"
   },
   {
    "duration": 204,
    "start_time": "2023-11-12T15:04:45.542Z"
   },
   {
    "duration": 14,
    "start_time": "2023-11-12T15:05:05.269Z"
   },
   {
    "duration": 77,
    "start_time": "2023-11-12T15:06:31.968Z"
   },
   {
    "duration": 11,
    "start_time": "2023-11-12T15:09:45.811Z"
   },
   {
    "duration": 5,
    "start_time": "2023-11-12T15:10:13.059Z"
   },
   {
    "duration": 38,
    "start_time": "2023-11-12T15:10:23.597Z"
   },
   {
    "duration": 61,
    "start_time": "2023-11-12T15:11:42.796Z"
   },
   {
    "duration": 14,
    "start_time": "2023-11-12T15:11:45.674Z"
   },
   {
    "duration": 10,
    "start_time": "2023-11-12T15:11:59.477Z"
   },
   {
    "duration": 3,
    "start_time": "2023-11-12T15:12:25.787Z"
   },
   {
    "duration": 208,
    "start_time": "2023-11-12T15:13:08.513Z"
   },
   {
    "duration": 323,
    "start_time": "2023-11-12T15:13:45.662Z"
   },
   {
    "duration": 319,
    "start_time": "2023-11-12T15:13:50.316Z"
   },
   {
    "duration": 3505,
    "start_time": "2023-11-12T15:14:17.207Z"
   },
   {
    "duration": 449,
    "start_time": "2023-11-12T15:14:31.783Z"
   },
   {
    "duration": 457,
    "start_time": "2023-11-12T15:14:41.245Z"
   },
   {
    "duration": 10157,
    "start_time": "2023-11-12T15:14:48.685Z"
   },
   {
    "duration": 2466,
    "start_time": "2023-11-12T15:14:58.844Z"
   },
   {
    "duration": 8,
    "start_time": "2023-11-12T15:15:01.312Z"
   },
   {
    "duration": 920,
    "start_time": "2023-11-12T15:15:01.322Z"
   },
   {
    "duration": 22,
    "start_time": "2023-11-12T15:15:02.244Z"
   },
   {
    "duration": 2,
    "start_time": "2023-11-12T15:15:02.267Z"
   },
   {
    "duration": 11,
    "start_time": "2023-11-12T15:15:02.271Z"
   },
   {
    "duration": 179,
    "start_time": "2023-11-12T15:15:02.284Z"
   },
   {
    "duration": 91,
    "start_time": "2023-11-12T15:15:02.465Z"
   },
   {
    "duration": 148,
    "start_time": "2023-11-12T15:15:02.558Z"
   },
   {
    "duration": 481,
    "start_time": "2023-11-12T15:15:02.708Z"
   },
   {
    "duration": 527,
    "start_time": "2023-11-12T15:15:03.190Z"
   },
   {
    "duration": 37,
    "start_time": "2023-11-12T15:15:03.719Z"
   },
   {
    "duration": 34,
    "start_time": "2023-11-12T15:15:03.757Z"
   },
   {
    "duration": 11,
    "start_time": "2023-11-12T15:15:03.798Z"
   },
   {
    "duration": 6,
    "start_time": "2023-11-12T15:15:03.811Z"
   },
   {
    "duration": 234,
    "start_time": "2023-11-12T15:15:03.819Z"
   },
   {
    "duration": 639,
    "start_time": "2023-11-12T15:15:04.054Z"
   },
   {
    "duration": 59008,
    "start_time": "2023-11-12T15:15:04.695Z"
   },
   {
    "duration": 4019,
    "start_time": "2023-11-12T15:16:03.704Z"
   },
   {
    "duration": 270,
    "start_time": "2023-11-12T15:16:07.724Z"
   },
   {
    "duration": 94,
    "start_time": "2023-11-12T15:16:07.998Z"
   },
   {
    "duration": 153,
    "start_time": "2023-11-12T15:16:08.099Z"
   },
   {
    "duration": 21,
    "start_time": "2023-11-12T15:16:08.254Z"
   },
   {
    "duration": 211,
    "start_time": "2023-11-12T15:16:08.276Z"
   },
   {
    "duration": 25,
    "start_time": "2023-11-12T15:16:08.489Z"
   },
   {
    "duration": 58,
    "start_time": "2023-11-12T15:16:08.516Z"
   },
   {
    "duration": 153,
    "start_time": "2023-11-12T15:16:08.578Z"
   },
   {
    "duration": 46,
    "start_time": "2023-11-12T15:16:08.732Z"
   },
   {
    "duration": 38,
    "start_time": "2023-11-12T15:16:08.780Z"
   },
   {
    "duration": 31,
    "start_time": "2023-11-12T15:16:08.819Z"
   },
   {
    "duration": 107,
    "start_time": "2023-11-12T15:16:08.852Z"
   },
   {
    "duration": 109,
    "start_time": "2023-11-12T15:16:08.961Z"
   },
   {
    "duration": 37,
    "start_time": "2023-11-12T15:16:09.072Z"
   },
   {
    "duration": 63,
    "start_time": "2023-11-12T15:16:09.111Z"
   },
   {
    "duration": 195,
    "start_time": "2023-11-12T15:17:12.947Z"
   },
   {
    "duration": 70,
    "start_time": "2023-11-12T15:18:19.693Z"
   },
   {
    "duration": 742,
    "start_time": "2023-11-12T15:18:20.306Z"
   },
   {
    "duration": 117,
    "start_time": "2023-11-12T15:18:26.061Z"
   },
   {
    "duration": 9998,
    "start_time": "2023-11-12T15:18:44.824Z"
   },
   {
    "duration": 2343,
    "start_time": "2023-11-12T15:18:54.825Z"
   },
   {
    "duration": 8,
    "start_time": "2023-11-12T15:18:57.169Z"
   },
   {
    "duration": 872,
    "start_time": "2023-11-12T15:18:57.178Z"
   },
   {
    "duration": 21,
    "start_time": "2023-11-12T15:18:58.052Z"
   },
   {
    "duration": 3,
    "start_time": "2023-11-12T15:18:58.074Z"
   },
   {
    "duration": 7,
    "start_time": "2023-11-12T15:18:58.079Z"
   },
   {
    "duration": 153,
    "start_time": "2023-11-12T15:18:58.087Z"
   },
   {
    "duration": 98,
    "start_time": "2023-11-12T15:18:58.242Z"
   },
   {
    "duration": 170,
    "start_time": "2023-11-12T15:18:58.341Z"
   },
   {
    "duration": 468,
    "start_time": "2023-11-12T15:18:58.512Z"
   },
   {
    "duration": 483,
    "start_time": "2023-11-12T15:18:58.981Z"
   },
   {
    "duration": 44,
    "start_time": "2023-11-12T15:18:59.465Z"
   },
   {
    "duration": 40,
    "start_time": "2023-11-12T15:18:59.512Z"
   },
   {
    "duration": 19,
    "start_time": "2023-11-12T15:18:59.553Z"
   },
   {
    "duration": 13,
    "start_time": "2023-11-12T15:18:59.573Z"
   },
   {
    "duration": 240,
    "start_time": "2023-11-12T15:18:59.588Z"
   },
   {
    "duration": 662,
    "start_time": "2023-11-12T15:18:59.829Z"
   },
   {
    "duration": 59657,
    "start_time": "2023-11-12T15:19:00.493Z"
   },
   {
    "duration": 3928,
    "start_time": "2023-11-12T15:20:00.151Z"
   },
   {
    "duration": 274,
    "start_time": "2023-11-12T15:20:04.081Z"
   },
   {
    "duration": 92,
    "start_time": "2023-11-12T15:20:04.357Z"
   },
   {
    "duration": 149,
    "start_time": "2023-11-12T15:20:04.451Z"
   },
   {
    "duration": 23,
    "start_time": "2023-11-12T15:20:04.602Z"
   },
   {
    "duration": 208,
    "start_time": "2023-11-12T15:20:04.627Z"
   },
   {
    "duration": 20,
    "start_time": "2023-11-12T15:20:04.836Z"
   },
   {
    "duration": 21,
    "start_time": "2023-11-12T15:20:04.857Z"
   },
   {
    "duration": 152,
    "start_time": "2023-11-12T15:20:04.879Z"
   },
   {
    "duration": 44,
    "start_time": "2023-11-12T15:20:05.033Z"
   },
   {
    "duration": 35,
    "start_time": "2023-11-12T15:20:05.078Z"
   },
   {
    "duration": 23,
    "start_time": "2023-11-12T15:20:05.115Z"
   },
   {
    "duration": 99,
    "start_time": "2023-11-12T15:20:05.140Z"
   },
   {
    "duration": 111,
    "start_time": "2023-11-12T15:20:05.241Z"
   },
   {
    "duration": 28,
    "start_time": "2023-11-12T15:20:05.353Z"
   },
   {
    "duration": 212,
    "start_time": "2023-11-12T15:20:05.383Z"
   },
   {
    "duration": 79,
    "start_time": "2023-11-12T15:20:05.600Z"
   },
   {
    "duration": 732,
    "start_time": "2023-11-12T15:20:05.680Z"
   },
   {
    "duration": 7,
    "start_time": "2023-11-12T15:20:43.329Z"
   },
   {
    "duration": 15,
    "start_time": "2023-11-12T15:21:06.580Z"
   },
   {
    "duration": 0,
    "start_time": "2023-11-12T15:23:32.829Z"
   },
   {
    "duration": 0,
    "start_time": "2023-11-12T15:23:32.830Z"
   },
   {
    "duration": 0,
    "start_time": "2023-11-12T15:23:32.831Z"
   },
   {
    "duration": 0,
    "start_time": "2023-11-12T15:23:32.832Z"
   },
   {
    "duration": 0,
    "start_time": "2023-11-12T15:23:32.833Z"
   },
   {
    "duration": 0,
    "start_time": "2023-11-12T15:23:32.834Z"
   },
   {
    "duration": 0,
    "start_time": "2023-11-12T15:23:32.835Z"
   },
   {
    "duration": 0,
    "start_time": "2023-11-12T15:23:32.836Z"
   },
   {
    "duration": 0,
    "start_time": "2023-11-12T15:23:32.837Z"
   },
   {
    "duration": 0,
    "start_time": "2023-11-12T15:23:32.838Z"
   },
   {
    "duration": 0,
    "start_time": "2023-11-12T15:23:32.839Z"
   },
   {
    "duration": 0,
    "start_time": "2023-11-12T15:23:32.840Z"
   },
   {
    "duration": 0,
    "start_time": "2023-11-12T15:23:32.841Z"
   },
   {
    "duration": 0,
    "start_time": "2023-11-12T15:23:32.842Z"
   },
   {
    "duration": 0,
    "start_time": "2023-11-12T15:23:32.843Z"
   },
   {
    "duration": 0,
    "start_time": "2023-11-12T15:23:32.843Z"
   },
   {
    "duration": 0,
    "start_time": "2023-11-12T15:23:32.844Z"
   },
   {
    "duration": 0,
    "start_time": "2023-11-12T15:23:32.845Z"
   },
   {
    "duration": 0,
    "start_time": "2023-11-12T15:23:32.846Z"
   },
   {
    "duration": 0,
    "start_time": "2023-11-12T15:23:32.847Z"
   },
   {
    "duration": 0,
    "start_time": "2023-11-12T15:23:32.848Z"
   },
   {
    "duration": 0,
    "start_time": "2023-11-12T15:23:32.849Z"
   },
   {
    "duration": 0,
    "start_time": "2023-11-12T15:23:32.850Z"
   },
   {
    "duration": 0,
    "start_time": "2023-11-12T15:23:32.851Z"
   },
   {
    "duration": 0,
    "start_time": "2023-11-12T15:23:32.852Z"
   },
   {
    "duration": 0,
    "start_time": "2023-11-12T15:23:32.852Z"
   },
   {
    "duration": 0,
    "start_time": "2023-11-12T15:23:32.853Z"
   },
   {
    "duration": 0,
    "start_time": "2023-11-12T15:23:32.854Z"
   },
   {
    "duration": 0,
    "start_time": "2023-11-12T15:23:32.855Z"
   },
   {
    "duration": 0,
    "start_time": "2023-11-12T15:23:32.856Z"
   },
   {
    "duration": 0,
    "start_time": "2023-11-12T15:23:32.857Z"
   },
   {
    "duration": 0,
    "start_time": "2023-11-12T15:23:32.899Z"
   },
   {
    "duration": 0,
    "start_time": "2023-11-12T15:23:32.900Z"
   },
   {
    "duration": 0,
    "start_time": "2023-11-12T15:23:32.901Z"
   },
   {
    "duration": 0,
    "start_time": "2023-11-12T15:23:32.902Z"
   },
   {
    "duration": 0,
    "start_time": "2023-11-12T15:23:32.903Z"
   },
   {
    "duration": 0,
    "start_time": "2023-11-12T15:23:32.904Z"
   },
   {
    "duration": 0,
    "start_time": "2023-11-12T15:23:32.905Z"
   },
   {
    "duration": 10625,
    "start_time": "2023-11-12T15:23:51.208Z"
   },
   {
    "duration": 2728,
    "start_time": "2023-11-12T15:24:01.835Z"
   },
   {
    "duration": 7,
    "start_time": "2023-11-12T15:24:04.564Z"
   },
   {
    "duration": 873,
    "start_time": "2023-11-12T15:24:04.573Z"
   },
   {
    "duration": 22,
    "start_time": "2023-11-12T15:24:05.448Z"
   },
   {
    "duration": 9,
    "start_time": "2023-11-12T15:24:05.471Z"
   },
   {
    "duration": 31,
    "start_time": "2023-11-12T15:24:05.481Z"
   },
   {
    "duration": 140,
    "start_time": "2023-11-12T15:24:05.514Z"
   },
   {
    "duration": 94,
    "start_time": "2023-11-12T15:24:05.656Z"
   },
   {
    "duration": 133,
    "start_time": "2023-11-12T15:24:05.753Z"
   },
   {
    "duration": 443,
    "start_time": "2023-11-12T15:24:05.887Z"
   },
   {
    "duration": 460,
    "start_time": "2023-11-12T15:24:06.332Z"
   },
   {
    "duration": 45,
    "start_time": "2023-11-12T15:24:06.793Z"
   },
   {
    "duration": 33,
    "start_time": "2023-11-12T15:24:06.840Z"
   },
   {
    "duration": 27,
    "start_time": "2023-11-12T15:24:06.874Z"
   },
   {
    "duration": 5,
    "start_time": "2023-11-12T15:24:06.903Z"
   },
   {
    "duration": 252,
    "start_time": "2023-11-12T15:24:06.910Z"
   },
   {
    "duration": 632,
    "start_time": "2023-11-12T15:24:07.164Z"
   },
   {
    "duration": 60912,
    "start_time": "2023-11-12T15:24:07.799Z"
   },
   {
    "duration": 4089,
    "start_time": "2023-11-12T15:25:08.712Z"
   },
   {
    "duration": 258,
    "start_time": "2023-11-12T15:25:12.802Z"
   },
   {
    "duration": 99,
    "start_time": "2023-11-12T15:25:13.061Z"
   },
   {
    "duration": 171,
    "start_time": "2023-11-12T15:25:13.162Z"
   },
   {
    "duration": 23,
    "start_time": "2023-11-12T15:25:13.335Z"
   },
   {
    "duration": 241,
    "start_time": "2023-11-12T15:25:13.360Z"
   },
   {
    "duration": 23,
    "start_time": "2023-11-12T15:25:13.602Z"
   },
   {
    "duration": 22,
    "start_time": "2023-11-12T15:25:13.627Z"
   },
   {
    "duration": 151,
    "start_time": "2023-11-12T15:25:13.652Z"
   },
   {
    "duration": 43,
    "start_time": "2023-11-12T15:25:13.805Z"
   },
   {
    "duration": 21,
    "start_time": "2023-11-12T15:25:13.849Z"
   },
   {
    "duration": 36,
    "start_time": "2023-11-12T15:25:13.871Z"
   },
   {
    "duration": 96,
    "start_time": "2023-11-12T15:25:13.908Z"
   },
   {
    "duration": 96,
    "start_time": "2023-11-12T15:25:14.005Z"
   },
   {
    "duration": 23,
    "start_time": "2023-11-12T15:25:14.103Z"
   },
   {
    "duration": 194,
    "start_time": "2023-11-12T15:25:14.128Z"
   },
   {
    "duration": 85,
    "start_time": "2023-11-12T15:25:14.324Z"
   },
   {
    "duration": 911,
    "start_time": "2023-11-12T15:25:14.410Z"
   },
   {
    "duration": 0,
    "start_time": "2023-11-12T15:25:15.323Z"
   },
   {
    "duration": 67,
    "start_time": "2023-11-12T15:25:59.590Z"
   },
   {
    "duration": 146,
    "start_time": "2023-11-12T15:26:00.253Z"
   },
   {
    "duration": 53,
    "start_time": "2023-11-12T15:26:11.942Z"
   },
   {
    "duration": 143,
    "start_time": "2023-11-12T15:26:12.406Z"
   },
   {
    "duration": 94,
    "start_time": "2023-11-12T15:26:28.914Z"
   },
   {
    "duration": 110,
    "start_time": "2023-11-12T15:26:29.790Z"
   },
   {
    "duration": 10179,
    "start_time": "2023-11-12T15:26:52.565Z"
   },
   {
    "duration": 2324,
    "start_time": "2023-11-12T15:27:02.746Z"
   },
   {
    "duration": 7,
    "start_time": "2023-11-12T15:27:05.072Z"
   },
   {
    "duration": 855,
    "start_time": "2023-11-12T15:27:05.082Z"
   },
   {
    "duration": 22,
    "start_time": "2023-11-12T15:27:05.939Z"
   },
   {
    "duration": 3,
    "start_time": "2023-11-12T15:27:05.963Z"
   },
   {
    "duration": 9,
    "start_time": "2023-11-12T15:27:05.967Z"
   },
   {
    "duration": 152,
    "start_time": "2023-11-12T15:27:05.978Z"
   },
   {
    "duration": 91,
    "start_time": "2023-11-12T15:27:06.131Z"
   },
   {
    "duration": 137,
    "start_time": "2023-11-12T15:27:06.225Z"
   },
   {
    "duration": 433,
    "start_time": "2023-11-12T15:27:06.363Z"
   },
   {
    "duration": 457,
    "start_time": "2023-11-12T15:27:06.799Z"
   },
   {
    "duration": 41,
    "start_time": "2023-11-12T15:27:07.258Z"
   },
   {
    "duration": 26,
    "start_time": "2023-11-12T15:27:07.301Z"
   },
   {
    "duration": 12,
    "start_time": "2023-11-12T15:27:07.328Z"
   },
   {
    "duration": 7,
    "start_time": "2023-11-12T15:27:07.342Z"
   },
   {
    "duration": 246,
    "start_time": "2023-11-12T15:27:07.350Z"
   },
   {
    "duration": 639,
    "start_time": "2023-11-12T15:27:07.598Z"
   },
   {
    "duration": 58944,
    "start_time": "2023-11-12T15:27:08.239Z"
   },
   {
    "duration": 4146,
    "start_time": "2023-11-12T15:28:07.184Z"
   },
   {
    "duration": 252,
    "start_time": "2023-11-12T15:28:11.331Z"
   },
   {
    "duration": 93,
    "start_time": "2023-11-12T15:28:11.584Z"
   },
   {
    "duration": 151,
    "start_time": "2023-11-12T15:28:11.679Z"
   },
   {
    "duration": 22,
    "start_time": "2023-11-12T15:28:11.832Z"
   },
   {
    "duration": 231,
    "start_time": "2023-11-12T15:28:11.856Z"
   },
   {
    "duration": 23,
    "start_time": "2023-11-12T15:28:12.088Z"
   },
   {
    "duration": 21,
    "start_time": "2023-11-12T15:28:12.113Z"
   },
   {
    "duration": 154,
    "start_time": "2023-11-12T15:28:12.137Z"
   },
   {
    "duration": 44,
    "start_time": "2023-11-12T15:28:12.292Z"
   },
   {
    "duration": 21,
    "start_time": "2023-11-12T15:28:12.338Z"
   },
   {
    "duration": 22,
    "start_time": "2023-11-12T15:28:12.360Z"
   },
   {
    "duration": 106,
    "start_time": "2023-11-12T15:28:12.383Z"
   },
   {
    "duration": 114,
    "start_time": "2023-11-12T15:28:12.490Z"
   },
   {
    "duration": 23,
    "start_time": "2023-11-12T15:28:12.606Z"
   },
   {
    "duration": 203,
    "start_time": "2023-11-12T15:28:12.631Z"
   },
   {
    "duration": 104,
    "start_time": "2023-11-12T15:28:12.836Z"
   },
   {
    "duration": 923,
    "start_time": "2023-11-12T15:28:12.941Z"
   },
   {
    "duration": 17,
    "start_time": "2023-11-12T15:28:13.866Z"
   },
   {
    "duration": 9,
    "start_time": "2023-11-12T15:47:10.332Z"
   },
   {
    "duration": 253,
    "start_time": "2023-11-12T15:47:51.634Z"
   },
   {
    "duration": 14,
    "start_time": "2023-11-12T15:52:10.389Z"
   },
   {
    "duration": 13,
    "start_time": "2023-11-12T15:52:16.745Z"
   },
   {
    "duration": 111,
    "start_time": "2023-11-12T15:52:17.371Z"
   },
   {
    "duration": 8,
    "start_time": "2023-11-12T15:52:40.328Z"
   },
   {
    "duration": 92,
    "start_time": "2023-11-12T15:52:41.424Z"
   },
   {
    "duration": 8,
    "start_time": "2023-11-12T15:52:56.391Z"
   },
   {
    "duration": 99,
    "start_time": "2023-11-12T15:52:57.094Z"
   },
   {
    "duration": 7,
    "start_time": "2023-11-12T15:54:23.795Z"
   },
   {
    "duration": 112,
    "start_time": "2023-11-12T15:54:24.896Z"
   },
   {
    "duration": 7,
    "start_time": "2023-11-12T15:54:38.762Z"
   },
   {
    "duration": 32599,
    "start_time": "2023-11-12T15:54:39.211Z"
   },
   {
    "duration": 7,
    "start_time": "2023-11-12T15:55:32.833Z"
   },
   {
    "duration": 35023,
    "start_time": "2023-11-12T15:55:33.649Z"
   },
   {
    "duration": 126,
    "start_time": "2023-11-12T15:57:32.486Z"
   },
   {
    "duration": 98,
    "start_time": "2023-11-12T15:57:53.970Z"
   },
   {
    "duration": 8,
    "start_time": "2023-11-12T15:59:12.706Z"
   },
   {
    "duration": 82372,
    "start_time": "2023-11-12T15:59:16.021Z"
   },
   {
    "duration": 10,
    "start_time": "2023-11-12T16:00:38.908Z"
   },
   {
    "duration": 8,
    "start_time": "2023-11-12T16:00:44.800Z"
   },
   {
    "duration": 46942,
    "start_time": "2023-11-12T16:00:46.299Z"
   },
   {
    "duration": 7,
    "start_time": "2023-11-12T16:01:58.934Z"
   },
   {
    "duration": 10648,
    "start_time": "2023-11-12T16:08:08.923Z"
   },
   {
    "duration": 5079,
    "start_time": "2023-11-12T16:09:12.090Z"
   },
   {
    "duration": 2433,
    "start_time": "2023-11-12T16:09:17.171Z"
   },
   {
    "duration": 7,
    "start_time": "2023-11-12T16:09:19.606Z"
   },
   {
    "duration": 886,
    "start_time": "2023-11-12T16:09:19.614Z"
   },
   {
    "duration": 21,
    "start_time": "2023-11-12T16:09:20.502Z"
   },
   {
    "duration": 2,
    "start_time": "2023-11-12T16:09:20.525Z"
   },
   {
    "duration": 5,
    "start_time": "2023-11-12T16:09:20.528Z"
   },
   {
    "duration": 164,
    "start_time": "2023-11-12T16:09:20.535Z"
   },
   {
    "duration": 84,
    "start_time": "2023-11-12T16:09:20.701Z"
   },
   {
    "duration": 149,
    "start_time": "2023-11-12T16:09:20.787Z"
   },
   {
    "duration": 462,
    "start_time": "2023-11-12T16:09:20.937Z"
   },
   {
    "duration": 478,
    "start_time": "2023-11-12T16:09:21.400Z"
   },
   {
    "duration": 38,
    "start_time": "2023-11-12T16:09:21.880Z"
   },
   {
    "duration": 33,
    "start_time": "2023-11-12T16:09:21.921Z"
   },
   {
    "duration": 12,
    "start_time": "2023-11-12T16:09:21.955Z"
   },
   {
    "duration": 6,
    "start_time": "2023-11-12T16:09:21.968Z"
   },
   {
    "duration": 257,
    "start_time": "2023-11-12T16:09:21.975Z"
   },
   {
    "duration": 604,
    "start_time": "2023-11-12T16:09:22.233Z"
   },
   {
    "duration": 60055,
    "start_time": "2023-11-12T16:09:22.838Z"
   },
   {
    "duration": 4113,
    "start_time": "2023-11-12T16:10:22.898Z"
   },
   {
    "duration": 264,
    "start_time": "2023-11-12T16:10:27.012Z"
   },
   {
    "duration": 97,
    "start_time": "2023-11-12T16:10:27.277Z"
   },
   {
    "duration": 154,
    "start_time": "2023-11-12T16:10:27.376Z"
   },
   {
    "duration": 23,
    "start_time": "2023-11-12T16:10:27.532Z"
   },
   {
    "duration": 235,
    "start_time": "2023-11-12T16:10:27.557Z"
   },
   {
    "duration": 24,
    "start_time": "2023-11-12T16:10:27.794Z"
   },
   {
    "duration": 22,
    "start_time": "2023-11-12T16:10:27.819Z"
   },
   {
    "duration": 151,
    "start_time": "2023-11-12T16:10:27.842Z"
   },
   {
    "duration": 47,
    "start_time": "2023-11-12T16:10:27.995Z"
   },
   {
    "duration": 21,
    "start_time": "2023-11-12T16:10:28.044Z"
   },
   {
    "duration": 40,
    "start_time": "2023-11-12T16:10:28.066Z"
   },
   {
    "duration": 95,
    "start_time": "2023-11-12T16:10:28.108Z"
   },
   {
    "duration": 106,
    "start_time": "2023-11-12T16:10:28.205Z"
   },
   {
    "duration": 27,
    "start_time": "2023-11-12T16:10:28.312Z"
   },
   {
    "duration": 201,
    "start_time": "2023-11-12T16:10:28.340Z"
   },
   {
    "duration": 100,
    "start_time": "2023-11-12T16:10:28.543Z"
   },
   {
    "duration": 910,
    "start_time": "2023-11-12T16:10:28.645Z"
   },
   {
    "duration": 15,
    "start_time": "2023-11-12T16:10:29.557Z"
   },
   {
    "duration": 8,
    "start_time": "2023-11-12T16:10:29.574Z"
   },
   {
    "duration": 35864,
    "start_time": "2023-11-12T16:10:29.598Z"
   },
   {
    "duration": 254,
    "start_time": "2023-11-12T16:11:29.306Z"
   },
   {
    "duration": 8,
    "start_time": "2023-11-12T16:13:19.491Z"
   },
   {
    "duration": 104,
    "start_time": "2023-11-12T16:13:20.473Z"
   },
   {
    "duration": 8,
    "start_time": "2023-11-12T16:16:20.353Z"
   },
   {
    "duration": 184,
    "start_time": "2023-11-12T16:16:21.277Z"
   },
   {
    "duration": 8,
    "start_time": "2023-11-12T16:16:43.218Z"
   },
   {
    "duration": 111,
    "start_time": "2023-11-12T16:16:43.676Z"
   },
   {
    "duration": 117,
    "start_time": "2023-11-12T19:12:08.668Z"
   },
   {
    "duration": 100,
    "start_time": "2023-11-12T19:12:26.691Z"
   },
   {
    "duration": 4927,
    "start_time": "2023-11-12T19:12:40.724Z"
   },
   {
    "duration": 2314,
    "start_time": "2023-11-12T19:12:45.654Z"
   },
   {
    "duration": 6,
    "start_time": "2023-11-12T19:12:47.970Z"
   },
   {
    "duration": 842,
    "start_time": "2023-11-12T19:12:47.978Z"
   },
   {
    "duration": 21,
    "start_time": "2023-11-12T19:12:48.822Z"
   },
   {
    "duration": 13,
    "start_time": "2023-11-12T19:12:48.845Z"
   },
   {
    "duration": 4,
    "start_time": "2023-11-12T19:12:48.860Z"
   },
   {
    "duration": 139,
    "start_time": "2023-11-12T19:12:48.865Z"
   },
   {
    "duration": 78,
    "start_time": "2023-11-12T19:12:49.005Z"
   },
   {
    "duration": 135,
    "start_time": "2023-11-12T19:12:49.098Z"
   },
   {
    "duration": 429,
    "start_time": "2023-11-12T19:12:49.234Z"
   },
   {
    "duration": 477,
    "start_time": "2023-11-12T19:12:49.664Z"
   },
   {
    "duration": 32,
    "start_time": "2023-11-12T19:12:50.143Z"
   },
   {
    "duration": 40,
    "start_time": "2023-11-12T19:12:50.176Z"
   },
   {
    "duration": 11,
    "start_time": "2023-11-12T19:12:50.218Z"
   },
   {
    "duration": 3,
    "start_time": "2023-11-12T19:12:50.230Z"
   },
   {
    "duration": 232,
    "start_time": "2023-11-12T19:12:50.234Z"
   },
   {
    "duration": 604,
    "start_time": "2023-11-12T19:12:50.467Z"
   },
   {
    "duration": 59029,
    "start_time": "2023-11-12T19:12:51.072Z"
   },
   {
    "duration": 4060,
    "start_time": "2023-11-12T19:13:50.102Z"
   },
   {
    "duration": 276,
    "start_time": "2023-11-12T19:13:54.164Z"
   },
   {
    "duration": 91,
    "start_time": "2023-11-12T19:13:54.442Z"
   },
   {
    "duration": 149,
    "start_time": "2023-11-12T19:13:54.534Z"
   },
   {
    "duration": 24,
    "start_time": "2023-11-12T19:13:54.684Z"
   },
   {
    "duration": 209,
    "start_time": "2023-11-12T19:13:54.709Z"
   },
   {
    "duration": 22,
    "start_time": "2023-11-12T19:13:54.919Z"
   },
   {
    "duration": 22,
    "start_time": "2023-11-12T19:13:54.942Z"
   },
   {
    "duration": 142,
    "start_time": "2023-11-12T19:13:54.967Z"
   },
   {
    "duration": 43,
    "start_time": "2023-11-12T19:13:55.111Z"
   },
   {
    "duration": 22,
    "start_time": "2023-11-12T19:13:55.155Z"
   },
   {
    "duration": 22,
    "start_time": "2023-11-12T19:13:55.199Z"
   },
   {
    "duration": 110,
    "start_time": "2023-11-12T19:13:55.223Z"
   },
   {
    "duration": 133,
    "start_time": "2023-11-12T19:13:55.334Z"
   },
   {
    "duration": 31,
    "start_time": "2023-11-12T19:13:55.468Z"
   },
   {
    "duration": 213,
    "start_time": "2023-11-12T19:13:55.500Z"
   },
   {
    "duration": 121,
    "start_time": "2023-11-12T19:13:55.715Z"
   },
   {
    "duration": 909,
    "start_time": "2023-11-12T19:13:55.838Z"
   },
   {
    "duration": 16,
    "start_time": "2023-11-12T19:13:56.748Z"
   },
   {
    "duration": 8,
    "start_time": "2023-11-12T19:13:56.765Z"
   },
   {
    "duration": 229,
    "start_time": "2023-11-12T19:13:56.774Z"
   },
   {
    "duration": 109,
    "start_time": "2023-11-12T19:14:40.612Z"
   },
   {
    "duration": 93,
    "start_time": "2023-11-12T19:15:24.378Z"
   },
   {
    "duration": 10,
    "start_time": "2023-11-12T19:16:14.511Z"
   },
   {
    "duration": 93,
    "start_time": "2023-11-12T19:16:15.360Z"
   },
   {
    "duration": 31287,
    "start_time": "2023-11-12T19:16:26.793Z"
   },
   {
    "duration": 9,
    "start_time": "2023-11-12T19:17:20.680Z"
   },
   {
    "duration": 23501,
    "start_time": "2023-11-12T19:17:21.311Z"
   },
   {
    "duration": 5386,
    "start_time": "2023-11-12T20:50:52.544Z"
   },
   {
    "duration": 2562,
    "start_time": "2023-11-12T20:50:57.933Z"
   },
   {
    "duration": 9,
    "start_time": "2023-11-12T20:51:00.497Z"
   },
   {
    "duration": 1086,
    "start_time": "2023-11-12T20:51:00.508Z"
   },
   {
    "duration": 32,
    "start_time": "2023-11-12T20:51:01.595Z"
   },
   {
    "duration": 3,
    "start_time": "2023-11-12T20:51:01.629Z"
   },
   {
    "duration": 37,
    "start_time": "2023-11-12T20:51:01.634Z"
   },
   {
    "duration": 260,
    "start_time": "2023-11-12T20:51:01.675Z"
   },
   {
    "duration": 152,
    "start_time": "2023-11-12T20:51:01.937Z"
   },
   {
    "duration": 160,
    "start_time": "2023-11-12T20:51:02.091Z"
   },
   {
    "duration": 501,
    "start_time": "2023-11-12T20:51:02.253Z"
   },
   {
    "duration": 528,
    "start_time": "2023-11-12T20:51:02.755Z"
   },
   {
    "duration": 43,
    "start_time": "2023-11-12T20:51:03.285Z"
   },
   {
    "duration": 30,
    "start_time": "2023-11-12T20:51:03.330Z"
   },
   {
    "duration": 19,
    "start_time": "2023-11-12T20:51:03.362Z"
   },
   {
    "duration": 4,
    "start_time": "2023-11-12T20:51:03.383Z"
   },
   {
    "duration": 280,
    "start_time": "2023-11-12T20:51:03.389Z"
   },
   {
    "duration": 699,
    "start_time": "2023-11-12T20:51:03.671Z"
   },
   {
    "duration": 65871,
    "start_time": "2023-11-12T20:51:04.371Z"
   },
   {
    "duration": 4472,
    "start_time": "2023-11-12T20:52:10.244Z"
   },
   {
    "duration": 286,
    "start_time": "2023-11-12T20:52:14.718Z"
   },
   {
    "duration": 105,
    "start_time": "2023-11-12T20:52:15.006Z"
   },
   {
    "duration": 166,
    "start_time": "2023-11-12T20:52:15.112Z"
   },
   {
    "duration": 25,
    "start_time": "2023-11-12T20:52:15.280Z"
   },
   {
    "duration": 250,
    "start_time": "2023-11-12T20:52:15.308Z"
   },
   {
    "duration": 21,
    "start_time": "2023-11-12T20:52:15.560Z"
   },
   {
    "duration": 38,
    "start_time": "2023-11-12T20:52:15.582Z"
   },
   {
    "duration": 156,
    "start_time": "2023-11-12T20:52:15.624Z"
   },
   {
    "duration": 66,
    "start_time": "2023-11-12T20:52:15.782Z"
   },
   {
    "duration": 20,
    "start_time": "2023-11-12T20:52:15.849Z"
   },
   {
    "duration": 34,
    "start_time": "2023-11-12T20:52:15.871Z"
   },
   {
    "duration": 86,
    "start_time": "2023-11-12T20:52:15.907Z"
   },
   {
    "duration": 137,
    "start_time": "2023-11-12T20:52:15.998Z"
   },
   {
    "duration": 27,
    "start_time": "2023-11-12T20:52:16.137Z"
   },
   {
    "duration": 259,
    "start_time": "2023-11-12T20:52:16.165Z"
   },
   {
    "duration": 214,
    "start_time": "2023-11-12T20:52:16.426Z"
   },
   {
    "duration": 893,
    "start_time": "2023-11-12T20:52:16.642Z"
   },
   {
    "duration": 16,
    "start_time": "2023-11-12T20:52:17.537Z"
   },
   {
    "duration": 10,
    "start_time": "2023-11-12T20:52:17.555Z"
   },
   {
    "duration": 7,
    "start_time": "2023-11-12T20:52:17.566Z"
   },
   {
    "duration": 25,
    "start_time": "2023-11-12T20:52:17.574Z"
   },
   {
    "duration": 3,
    "start_time": "2023-11-12T20:52:17.600Z"
   },
   {
    "duration": 210,
    "start_time": "2023-11-12T20:52:45.922Z"
   },
   {
    "duration": 6940,
    "start_time": "2023-11-12T20:53:04.239Z"
   },
   {
    "duration": 247552,
    "start_time": "2023-11-12T20:53:50.767Z"
   },
   {
    "duration": 992088,
    "start_time": "2023-11-12T20:58:21.012Z"
   },
   {
    "duration": 848,
    "start_time": "2023-11-12T21:18:47.899Z"
   },
   {
    "duration": 507632,
    "start_time": "2023-11-12T21:19:41.075Z"
   },
   {
    "duration": 10661,
    "start_time": "2023-11-13T09:23:00.955Z"
   },
   {
    "duration": 725,
    "start_time": "2023-11-13T09:23:11.619Z"
   },
   {
    "duration": 0,
    "start_time": "2023-11-13T09:23:12.346Z"
   },
   {
    "duration": 0,
    "start_time": "2023-11-13T09:23:12.347Z"
   },
   {
    "duration": 0,
    "start_time": "2023-11-13T09:23:12.348Z"
   },
   {
    "duration": 0,
    "start_time": "2023-11-13T09:23:12.349Z"
   },
   {
    "duration": 0,
    "start_time": "2023-11-13T09:23:12.351Z"
   },
   {
    "duration": 0,
    "start_time": "2023-11-13T09:23:12.352Z"
   },
   {
    "duration": 0,
    "start_time": "2023-11-13T09:23:12.353Z"
   },
   {
    "duration": 0,
    "start_time": "2023-11-13T09:23:12.354Z"
   },
   {
    "duration": 0,
    "start_time": "2023-11-13T09:23:12.355Z"
   },
   {
    "duration": 0,
    "start_time": "2023-11-13T09:23:12.356Z"
   },
   {
    "duration": 0,
    "start_time": "2023-11-13T09:23:12.357Z"
   },
   {
    "duration": 1,
    "start_time": "2023-11-13T09:23:12.358Z"
   },
   {
    "duration": 0,
    "start_time": "2023-11-13T09:23:12.360Z"
   },
   {
    "duration": 0,
    "start_time": "2023-11-13T09:23:12.361Z"
   },
   {
    "duration": 0,
    "start_time": "2023-11-13T09:23:12.362Z"
   },
   {
    "duration": 0,
    "start_time": "2023-11-13T09:23:12.363Z"
   },
   {
    "duration": 0,
    "start_time": "2023-11-13T09:23:12.364Z"
   },
   {
    "duration": 0,
    "start_time": "2023-11-13T09:23:12.366Z"
   },
   {
    "duration": 0,
    "start_time": "2023-11-13T09:23:12.367Z"
   },
   {
    "duration": 0,
    "start_time": "2023-11-13T09:23:12.369Z"
   },
   {
    "duration": 0,
    "start_time": "2023-11-13T09:23:12.371Z"
   },
   {
    "duration": 0,
    "start_time": "2023-11-13T09:23:12.372Z"
   },
   {
    "duration": 0,
    "start_time": "2023-11-13T09:23:12.373Z"
   },
   {
    "duration": 0,
    "start_time": "2023-11-13T09:23:12.374Z"
   },
   {
    "duration": 0,
    "start_time": "2023-11-13T09:23:12.375Z"
   },
   {
    "duration": 0,
    "start_time": "2023-11-13T09:23:12.376Z"
   },
   {
    "duration": 0,
    "start_time": "2023-11-13T09:23:12.431Z"
   },
   {
    "duration": 0,
    "start_time": "2023-11-13T09:23:12.432Z"
   },
   {
    "duration": 0,
    "start_time": "2023-11-13T09:23:12.433Z"
   },
   {
    "duration": 0,
    "start_time": "2023-11-13T09:23:12.434Z"
   },
   {
    "duration": 0,
    "start_time": "2023-11-13T09:23:12.435Z"
   },
   {
    "duration": 0,
    "start_time": "2023-11-13T09:23:12.436Z"
   },
   {
    "duration": 0,
    "start_time": "2023-11-13T09:23:12.437Z"
   },
   {
    "duration": 0,
    "start_time": "2023-11-13T09:23:12.437Z"
   },
   {
    "duration": 0,
    "start_time": "2023-11-13T09:23:12.438Z"
   },
   {
    "duration": 0,
    "start_time": "2023-11-13T09:23:12.439Z"
   },
   {
    "duration": 0,
    "start_time": "2023-11-13T09:23:12.440Z"
   },
   {
    "duration": 0,
    "start_time": "2023-11-13T09:23:12.441Z"
   },
   {
    "duration": 0,
    "start_time": "2023-11-13T09:23:12.442Z"
   },
   {
    "duration": 0,
    "start_time": "2023-11-13T09:23:12.443Z"
   },
   {
    "duration": 0,
    "start_time": "2023-11-13T09:23:12.443Z"
   },
   {
    "duration": 5005,
    "start_time": "2023-11-13T09:24:24.849Z"
   },
   {
    "duration": 2269,
    "start_time": "2023-11-13T09:24:29.856Z"
   },
   {
    "duration": 10,
    "start_time": "2023-11-13T09:24:32.127Z"
   },
   {
    "duration": 2849,
    "start_time": "2023-11-13T09:24:32.139Z"
   },
   {
    "duration": 26,
    "start_time": "2023-11-13T09:24:34.990Z"
   },
   {
    "duration": 11,
    "start_time": "2023-11-13T09:24:35.017Z"
   },
   {
    "duration": 5,
    "start_time": "2023-11-13T09:24:35.030Z"
   },
   {
    "duration": 152,
    "start_time": "2023-11-13T09:24:35.037Z"
   },
   {
    "duration": 88,
    "start_time": "2023-11-13T09:24:35.190Z"
   },
   {
    "duration": 134,
    "start_time": "2023-11-13T09:24:35.280Z"
   },
   {
    "duration": 458,
    "start_time": "2023-11-13T09:24:35.415Z"
   },
   {
    "duration": 456,
    "start_time": "2023-11-13T09:24:35.875Z"
   },
   {
    "duration": 36,
    "start_time": "2023-11-13T09:24:36.333Z"
   },
   {
    "duration": 33,
    "start_time": "2023-11-13T09:24:36.371Z"
   },
   {
    "duration": 26,
    "start_time": "2023-11-13T09:24:36.405Z"
   },
   {
    "duration": 14,
    "start_time": "2023-11-13T09:24:36.432Z"
   },
   {
    "duration": 236,
    "start_time": "2023-11-13T09:24:36.448Z"
   },
   {
    "duration": 575,
    "start_time": "2023-11-13T09:24:36.686Z"
   },
   {
    "duration": 60145,
    "start_time": "2023-11-13T09:24:37.263Z"
   },
   {
    "duration": 4232,
    "start_time": "2023-11-13T09:25:37.410Z"
   },
   {
    "duration": 269,
    "start_time": "2023-11-13T09:25:41.644Z"
   },
   {
    "duration": 96,
    "start_time": "2023-11-13T09:25:41.915Z"
   },
   {
    "duration": 144,
    "start_time": "2023-11-13T09:25:42.013Z"
   },
   {
    "duration": 21,
    "start_time": "2023-11-13T09:25:42.159Z"
   },
   {
    "duration": 210,
    "start_time": "2023-11-13T09:25:42.182Z"
   },
   {
    "duration": 22,
    "start_time": "2023-11-13T09:25:42.394Z"
   },
   {
    "duration": 29,
    "start_time": "2023-11-13T09:25:42.418Z"
   },
   {
    "duration": 166,
    "start_time": "2023-11-13T09:25:42.450Z"
   },
   {
    "duration": 50,
    "start_time": "2023-11-13T09:25:42.617Z"
   },
   {
    "duration": 21,
    "start_time": "2023-11-13T09:25:42.669Z"
   },
   {
    "duration": 39,
    "start_time": "2023-11-13T09:25:42.691Z"
   },
   {
    "duration": 86,
    "start_time": "2023-11-13T09:25:42.732Z"
   },
   {
    "duration": 92,
    "start_time": "2023-11-13T09:25:42.831Z"
   },
   {
    "duration": 25,
    "start_time": "2023-11-13T09:25:42.931Z"
   },
   {
    "duration": 196,
    "start_time": "2023-11-13T09:25:42.958Z"
   },
   {
    "duration": 102,
    "start_time": "2023-11-13T09:25:43.156Z"
   },
   {
    "duration": 899,
    "start_time": "2023-11-13T09:25:43.259Z"
   },
   {
    "duration": 18,
    "start_time": "2023-11-13T09:25:44.160Z"
   },
   {
    "duration": 8,
    "start_time": "2023-11-13T09:25:44.179Z"
   },
   {
    "duration": 10,
    "start_time": "2023-11-13T09:25:44.188Z"
   },
   {
    "duration": 22,
    "start_time": "2023-11-13T09:25:44.199Z"
   },
   {
    "duration": 10,
    "start_time": "2023-11-13T09:25:44.223Z"
   },
   {
    "duration": 460201,
    "start_time": "2023-11-13T09:25:44.234Z"
   },
   {
    "duration": 34591,
    "start_time": "2023-11-13T09:33:39.545Z"
   },
   {
    "duration": 36151,
    "start_time": "2023-11-13T09:34:32.202Z"
   },
   {
    "duration": 3,
    "start_time": "2023-11-13T09:37:32.610Z"
   },
   {
    "duration": 235,
    "start_time": "2023-11-13T09:37:36.527Z"
   },
   {
    "duration": 496,
    "start_time": "2023-11-13T09:37:37.143Z"
   },
   {
    "duration": 63508,
    "start_time": "2023-11-13T09:37:38.693Z"
   },
   {
    "duration": 3121,
    "start_time": "2023-11-13T09:51:51.858Z"
   },
   {
    "duration": 36167,
    "start_time": "2023-11-13T09:51:55.362Z"
   },
   {
    "duration": 101664,
    "start_time": "2023-11-13T09:52:41.118Z"
   },
   {
    "duration": 119,
    "start_time": "2023-11-13T09:54:54.782Z"
   },
   {
    "duration": 145,
    "start_time": "2023-11-13T09:55:42.542Z"
   },
   {
    "duration": 3,
    "start_time": "2023-11-13T09:56:08.545Z"
   },
   {
    "duration": 139,
    "start_time": "2023-11-13T09:56:30.031Z"
   },
   {
    "duration": 22,
    "start_time": "2023-11-13T09:56:56.789Z"
   },
   {
    "duration": 17,
    "start_time": "2023-11-13T09:57:38.161Z"
   },
   {
    "duration": 106635,
    "start_time": "2023-11-13T09:57:54.440Z"
   },
   {
    "duration": 228,
    "start_time": "2023-11-13T10:00:25.914Z"
   },
   {
    "duration": 444,
    "start_time": "2023-11-13T10:02:18.811Z"
   },
   {
    "duration": 530,
    "start_time": "2023-11-13T10:02:26.516Z"
   },
   {
    "duration": 11,
    "start_time": "2023-11-13T10:03:23.080Z"
   },
   {
    "duration": 3,
    "start_time": "2023-11-13T10:03:54.947Z"
   },
   {
    "duration": 4,
    "start_time": "2023-11-13T10:03:59.104Z"
   },
   {
    "duration": 35242,
    "start_time": "2023-11-13T10:04:09.263Z"
   },
   {
    "duration": 32440,
    "start_time": "2023-11-13T10:05:37.932Z"
   },
   {
    "duration": 33790,
    "start_time": "2023-11-13T10:06:23.690Z"
   },
   {
    "duration": 171,
    "start_time": "2023-11-13T10:07:19.045Z"
   },
   {
    "duration": 139614,
    "start_time": "2023-11-13T10:07:40.941Z"
   },
   {
    "duration": 140775,
    "start_time": "2023-11-13T10:10:56.862Z"
   },
   {
    "duration": 2,
    "start_time": "2023-11-13T10:13:49.313Z"
   },
   {
    "duration": 136816,
    "start_time": "2023-11-13T10:13:57.406Z"
   },
   {
    "duration": 137643,
    "start_time": "2023-11-13T10:16:26.470Z"
   },
   {
    "duration": 506712,
    "start_time": "2023-11-13T10:33:58.640Z"
   },
   {
    "duration": 26,
    "start_time": "2023-11-13T10:43:36.970Z"
   },
   {
    "duration": 2,
    "start_time": "2023-11-13T10:45:29.356Z"
   },
   {
    "duration": 6139,
    "start_time": "2023-11-13T10:48:32.652Z"
   },
   {
    "duration": 3314,
    "start_time": "2023-11-13T10:48:38.793Z"
   },
   {
    "duration": 9,
    "start_time": "2023-11-13T10:48:42.109Z"
   },
   {
    "duration": 3190,
    "start_time": "2023-11-13T10:48:42.121Z"
   },
   {
    "duration": 32,
    "start_time": "2023-11-13T10:48:45.313Z"
   },
   {
    "duration": 14,
    "start_time": "2023-11-13T10:48:45.347Z"
   },
   {
    "duration": 16,
    "start_time": "2023-11-13T10:48:45.363Z"
   },
   {
    "duration": 228,
    "start_time": "2023-11-13T10:48:45.381Z"
   },
   {
    "duration": 117,
    "start_time": "2023-11-13T10:48:45.611Z"
   },
   {
    "duration": 161,
    "start_time": "2023-11-13T10:48:45.731Z"
   },
   {
    "duration": 539,
    "start_time": "2023-11-13T10:48:45.894Z"
   },
   {
    "duration": 522,
    "start_time": "2023-11-13T10:48:46.436Z"
   },
   {
    "duration": 40,
    "start_time": "2023-11-13T10:48:46.960Z"
   },
   {
    "duration": 72,
    "start_time": "2023-11-13T10:48:47.003Z"
   },
   {
    "duration": 24,
    "start_time": "2023-11-13T10:48:47.077Z"
   },
   {
    "duration": 22,
    "start_time": "2023-11-13T10:48:47.102Z"
   },
   {
    "duration": 276,
    "start_time": "2023-11-13T10:48:47.126Z"
   },
   {
    "duration": 642,
    "start_time": "2023-11-13T10:48:47.404Z"
   },
   {
    "duration": 65132,
    "start_time": "2023-11-13T10:48:48.048Z"
   },
   {
    "duration": 4459,
    "start_time": "2023-11-13T10:49:53.182Z"
   },
   {
    "duration": 312,
    "start_time": "2023-11-13T10:49:57.644Z"
   },
   {
    "duration": 106,
    "start_time": "2023-11-13T10:49:57.958Z"
   },
   {
    "duration": 185,
    "start_time": "2023-11-13T10:49:58.066Z"
   },
   {
    "duration": 22,
    "start_time": "2023-11-13T10:49:58.253Z"
   },
   {
    "duration": 238,
    "start_time": "2023-11-13T10:49:58.276Z"
   },
   {
    "duration": 34,
    "start_time": "2023-11-13T10:49:58.516Z"
   },
   {
    "duration": 34,
    "start_time": "2023-11-13T10:49:58.552Z"
   },
   {
    "duration": 156,
    "start_time": "2023-11-13T10:49:58.589Z"
   },
   {
    "duration": 43,
    "start_time": "2023-11-13T10:49:58.746Z"
   },
   {
    "duration": 20,
    "start_time": "2023-11-13T10:49:58.791Z"
   },
   {
    "duration": 45,
    "start_time": "2023-11-13T10:49:58.813Z"
   },
   {
    "duration": 107,
    "start_time": "2023-11-13T10:49:58.859Z"
   },
   {
    "duration": 106,
    "start_time": "2023-11-13T10:49:58.968Z"
   },
   {
    "duration": 25,
    "start_time": "2023-11-13T10:49:59.076Z"
   },
   {
    "duration": 224,
    "start_time": "2023-11-13T10:49:59.103Z"
   },
   {
    "duration": 119,
    "start_time": "2023-11-13T10:49:59.329Z"
   },
   {
    "duration": 984,
    "start_time": "2023-11-13T10:49:59.450Z"
   },
   {
    "duration": 17,
    "start_time": "2023-11-13T10:50:00.444Z"
   },
   {
    "duration": 39,
    "start_time": "2023-11-13T10:50:00.463Z"
   },
   {
    "duration": 49,
    "start_time": "2023-11-13T10:50:00.504Z"
   },
   {
    "duration": 133,
    "start_time": "2023-11-13T10:50:00.555Z"
   },
   {
    "duration": 100187,
    "start_time": "2023-11-13T10:50:00.690Z"
   },
   {
    "duration": 3,
    "start_time": "2023-11-13T10:51:40.879Z"
   },
   {
    "duration": 12,
    "start_time": "2023-11-13T10:51:40.884Z"
   },
   {
    "duration": 13,
    "start_time": "2023-11-13T10:51:40.898Z"
   },
   {
    "duration": 147091,
    "start_time": "2023-11-13T10:51:40.913Z"
   },
   {
    "duration": 3,
    "start_time": "2023-11-13T10:54:08.005Z"
   },
   {
    "duration": 48,
    "start_time": "2023-11-13T10:55:07.457Z"
   },
   {
    "duration": 4842,
    "start_time": "2023-11-13T10:55:21.993Z"
   },
   {
    "duration": 2760,
    "start_time": "2023-11-13T10:55:26.837Z"
   },
   {
    "duration": 7,
    "start_time": "2023-11-13T10:55:29.599Z"
   },
   {
    "duration": 2937,
    "start_time": "2023-11-13T10:55:29.608Z"
   },
   {
    "duration": 20,
    "start_time": "2023-11-13T10:55:32.547Z"
   },
   {
    "duration": 2,
    "start_time": "2023-11-13T10:55:32.569Z"
   },
   {
    "duration": 6,
    "start_time": "2023-11-13T10:55:32.572Z"
   },
   {
    "duration": 139,
    "start_time": "2023-11-13T10:55:32.579Z"
   },
   {
    "duration": 88,
    "start_time": "2023-11-13T10:55:32.720Z"
   },
   {
    "duration": 150,
    "start_time": "2023-11-13T10:55:32.810Z"
   },
   {
    "duration": 460,
    "start_time": "2023-11-13T10:55:32.961Z"
   },
   {
    "duration": 469,
    "start_time": "2023-11-13T10:55:33.423Z"
   },
   {
    "duration": 44,
    "start_time": "2023-11-13T10:55:33.893Z"
   },
   {
    "duration": 34,
    "start_time": "2023-11-13T10:55:33.939Z"
   },
   {
    "duration": 12,
    "start_time": "2023-11-13T10:55:33.975Z"
   },
   {
    "duration": 4,
    "start_time": "2023-11-13T10:55:33.988Z"
   },
   {
    "duration": 246,
    "start_time": "2023-11-13T10:55:33.994Z"
   },
   {
    "duration": 588,
    "start_time": "2023-11-13T10:55:34.242Z"
   },
   {
    "duration": 59900,
    "start_time": "2023-11-13T10:55:34.832Z"
   },
   {
    "duration": 4362,
    "start_time": "2023-11-13T10:56:34.734Z"
   },
   {
    "duration": 255,
    "start_time": "2023-11-13T10:56:39.098Z"
   },
   {
    "duration": 96,
    "start_time": "2023-11-13T10:56:39.355Z"
   },
   {
    "duration": 154,
    "start_time": "2023-11-13T10:56:39.452Z"
   },
   {
    "duration": 24,
    "start_time": "2023-11-13T10:56:39.608Z"
   },
   {
    "duration": 197,
    "start_time": "2023-11-13T10:56:39.633Z"
   },
   {
    "duration": 20,
    "start_time": "2023-11-13T10:56:39.832Z"
   },
   {
    "duration": 20,
    "start_time": "2023-11-13T10:56:39.854Z"
   },
   {
    "duration": 141,
    "start_time": "2023-11-13T10:56:39.877Z"
   },
   {
    "duration": 42,
    "start_time": "2023-11-13T10:56:40.020Z"
   },
   {
    "duration": 19,
    "start_time": "2023-11-13T10:56:40.064Z"
   },
   {
    "duration": 23,
    "start_time": "2023-11-13T10:56:40.085Z"
   },
   {
    "duration": 93,
    "start_time": "2023-11-13T10:56:40.110Z"
   },
   {
    "duration": 100,
    "start_time": "2023-11-13T10:56:40.205Z"
   },
   {
    "duration": 32,
    "start_time": "2023-11-13T10:56:40.307Z"
   },
   {
    "duration": 194,
    "start_time": "2023-11-13T10:56:40.340Z"
   },
   {
    "duration": 96,
    "start_time": "2023-11-13T10:56:40.536Z"
   },
   {
    "duration": 942,
    "start_time": "2023-11-13T10:56:40.633Z"
   },
   {
    "duration": 16,
    "start_time": "2023-11-13T10:56:41.577Z"
   },
   {
    "duration": 9,
    "start_time": "2023-11-13T10:56:41.595Z"
   },
   {
    "duration": 14,
    "start_time": "2023-11-13T10:56:41.605Z"
   },
   {
    "duration": 11,
    "start_time": "2023-11-13T10:56:41.620Z"
   },
   {
    "duration": 101983,
    "start_time": "2023-11-13T10:56:41.633Z"
   },
   {
    "duration": 16,
    "start_time": "2023-11-13T10:58:23.618Z"
   },
   {
    "duration": 2,
    "start_time": "2023-11-13T10:58:23.636Z"
   },
   {
    "duration": 13,
    "start_time": "2023-11-13T10:58:23.640Z"
   },
   {
    "duration": 147266,
    "start_time": "2023-11-13T10:58:23.654Z"
   },
   {
    "duration": 3,
    "start_time": "2023-11-13T11:00:50.922Z"
   },
   {
    "duration": 25,
    "start_time": "2023-11-13T11:00:50.927Z"
   },
   {
    "duration": 12,
    "start_time": "2023-11-13T11:00:50.953Z"
   },
   {
    "duration": 46,
    "start_time": "2023-11-13T11:21:14.928Z"
   },
   {
    "duration": 6,
    "start_time": "2023-11-13T11:22:55.890Z"
   },
   {
    "duration": 5869,
    "start_time": "2023-11-13T11:23:04.940Z"
   },
   {
    "duration": 3277,
    "start_time": "2023-11-13T11:23:10.811Z"
   },
   {
    "duration": 8,
    "start_time": "2023-11-13T11:23:14.089Z"
   },
   {
    "duration": 2806,
    "start_time": "2023-11-13T11:23:14.099Z"
   },
   {
    "duration": 24,
    "start_time": "2023-11-13T11:23:16.906Z"
   },
   {
    "duration": 2,
    "start_time": "2023-11-13T11:23:16.932Z"
   },
   {
    "duration": 7,
    "start_time": "2023-11-13T11:23:16.936Z"
   },
   {
    "duration": 144,
    "start_time": "2023-11-13T11:23:16.944Z"
   },
   {
    "duration": 93,
    "start_time": "2023-11-13T11:23:17.090Z"
   },
   {
    "duration": 167,
    "start_time": "2023-11-13T11:23:17.185Z"
   },
   {
    "duration": 455,
    "start_time": "2023-11-13T11:23:17.353Z"
   },
   {
    "duration": 474,
    "start_time": "2023-11-13T11:23:17.810Z"
   },
   {
    "duration": 34,
    "start_time": "2023-11-13T11:23:18.286Z"
   },
   {
    "duration": 38,
    "start_time": "2023-11-13T11:23:18.322Z"
   },
   {
    "duration": 17,
    "start_time": "2023-11-13T11:23:18.362Z"
   },
   {
    "duration": 9,
    "start_time": "2023-11-13T11:23:18.381Z"
   },
   {
    "duration": 258,
    "start_time": "2023-11-13T11:23:18.391Z"
   },
   {
    "duration": 636,
    "start_time": "2023-11-13T11:23:26.765Z"
   },
   {
    "duration": 86,
    "start_time": "2023-11-13T11:23:50.222Z"
   },
   {
    "duration": 130,
    "start_time": "2023-11-13T11:23:52.282Z"
   },
   {
    "duration": 19,
    "start_time": "2023-11-13T11:23:54.468Z"
   },
   {
    "duration": 203,
    "start_time": "2023-11-13T11:23:56.846Z"
   },
   {
    "duration": 22,
    "start_time": "2023-11-13T11:23:58.504Z"
   },
   {
    "duration": 23,
    "start_time": "2023-11-13T11:23:59.794Z"
   },
   {
    "duration": 137,
    "start_time": "2023-11-13T11:24:00.352Z"
   },
   {
    "duration": 50,
    "start_time": "2023-11-13T11:24:02.016Z"
   },
   {
    "duration": 21,
    "start_time": "2023-11-13T11:24:03.432Z"
   },
   {
    "duration": 20,
    "start_time": "2023-11-13T11:24:04.761Z"
   },
   {
    "duration": 86,
    "start_time": "2023-11-13T11:24:05.359Z"
   },
   {
    "duration": 34,
    "start_time": "2023-11-13T11:24:09.157Z"
   },
   {
    "duration": 23,
    "start_time": "2023-11-13T11:24:10.398Z"
   },
   {
    "duration": 27,
    "start_time": "2023-11-13T11:24:53.059Z"
   },
   {
    "duration": 81,
    "start_time": "2023-11-13T11:25:20.530Z"
   },
   {
    "duration": 68,
    "start_time": "2023-11-13T11:26:09.174Z"
   },
   {
    "duration": 21,
    "start_time": "2023-11-13T11:26:09.953Z"
   },
   {
    "duration": 155,
    "start_time": "2023-11-13T11:26:10.833Z"
   },
   {
    "duration": 79,
    "start_time": "2023-11-13T11:26:11.876Z"
   },
   {
    "duration": 758,
    "start_time": "2023-11-13T11:26:15.182Z"
   },
   {
    "duration": 16,
    "start_time": "2023-11-13T11:26:16.333Z"
   },
   {
    "duration": 8,
    "start_time": "2023-11-13T11:26:46.056Z"
   },
   {
    "duration": 2,
    "start_time": "2023-11-13T11:26:47.463Z"
   },
   {
    "duration": 82555,
    "start_time": "2023-11-13T11:26:59.138Z"
   },
   {
    "duration": 121634,
    "start_time": "2023-11-13T11:41:02.617Z"
   },
   {
    "duration": 550,
    "start_time": "2023-11-13T11:44:34.717Z"
   },
   {
    "duration": 6,
    "start_time": "2023-11-13T11:44:52.530Z"
   },
   {
    "duration": 193883,
    "start_time": "2023-11-13T11:44:57.858Z"
   },
   {
    "duration": 238292,
    "start_time": "2023-11-13T11:49:48.709Z"
   },
   {
    "duration": 5,
    "start_time": "2023-11-13T11:55:14.729Z"
   },
   {
    "duration": 4,
    "start_time": "2023-11-13T11:56:03.145Z"
   },
   {
    "duration": 3939,
    "start_time": "2023-11-13T11:56:57.557Z"
   },
   {
    "duration": 5063,
    "start_time": "2023-11-13T12:50:33.405Z"
   },
   {
    "duration": 2179,
    "start_time": "2023-11-13T12:50:38.470Z"
   },
   {
    "duration": 8,
    "start_time": "2023-11-13T12:50:40.651Z"
   },
   {
    "duration": 889,
    "start_time": "2023-11-13T12:50:40.661Z"
   },
   {
    "duration": 27,
    "start_time": "2023-11-13T12:50:41.552Z"
   },
   {
    "duration": 3,
    "start_time": "2023-11-13T12:50:41.581Z"
   },
   {
    "duration": 13,
    "start_time": "2023-11-13T12:50:41.586Z"
   },
   {
    "duration": 173,
    "start_time": "2023-11-13T12:50:41.601Z"
   },
   {
    "duration": 100,
    "start_time": "2023-11-13T12:50:41.776Z"
   },
   {
    "duration": 134,
    "start_time": "2023-11-13T12:50:41.879Z"
   },
   {
    "duration": 435,
    "start_time": "2023-11-13T12:50:42.015Z"
   },
   {
    "duration": 471,
    "start_time": "2023-11-13T12:50:42.451Z"
   },
   {
    "duration": 34,
    "start_time": "2023-11-13T12:50:42.924Z"
   },
   {
    "duration": 31,
    "start_time": "2023-11-13T12:50:42.960Z"
   },
   {
    "duration": 11,
    "start_time": "2023-11-13T12:50:42.992Z"
   },
   {
    "duration": 4,
    "start_time": "2023-11-13T12:50:43.005Z"
   },
   {
    "duration": 241,
    "start_time": "2023-11-13T12:50:43.010Z"
   },
   {
    "duration": 567,
    "start_time": "2023-11-13T12:50:43.253Z"
   },
   {
    "duration": 59874,
    "start_time": "2023-11-13T12:50:43.822Z"
   },
   {
    "duration": 4001,
    "start_time": "2023-11-13T12:51:43.698Z"
   },
   {
    "duration": 277,
    "start_time": "2023-11-13T12:51:47.701Z"
   },
   {
    "duration": 99,
    "start_time": "2023-11-13T12:51:47.980Z"
   },
   {
    "duration": 163,
    "start_time": "2023-11-13T12:51:48.081Z"
   },
   {
    "duration": 20,
    "start_time": "2023-11-13T12:51:48.246Z"
   },
   {
    "duration": 212,
    "start_time": "2023-11-13T12:51:48.268Z"
   },
   {
    "duration": 21,
    "start_time": "2023-11-13T12:51:48.481Z"
   },
   {
    "duration": 43,
    "start_time": "2023-11-13T12:51:48.504Z"
   },
   {
    "duration": 164,
    "start_time": "2023-11-13T12:51:48.551Z"
   },
   {
    "duration": 44,
    "start_time": "2023-11-13T12:51:48.716Z"
   },
   {
    "duration": 20,
    "start_time": "2023-11-13T12:51:48.762Z"
   },
   {
    "duration": 21,
    "start_time": "2023-11-13T12:51:48.783Z"
   },
   {
    "duration": 102,
    "start_time": "2023-11-13T12:51:48.806Z"
   },
   {
    "duration": 44,
    "start_time": "2023-11-13T12:51:48.910Z"
   },
   {
    "duration": 23,
    "start_time": "2023-11-13T12:51:48.956Z"
   },
   {
    "duration": 22,
    "start_time": "2023-11-13T12:51:48.981Z"
   },
   {
    "duration": 91,
    "start_time": "2023-11-13T12:51:49.004Z"
   },
   {
    "duration": 79,
    "start_time": "2023-11-13T12:51:49.096Z"
   },
   {
    "duration": 23,
    "start_time": "2023-11-13T12:51:49.176Z"
   },
   {
    "duration": 177,
    "start_time": "2023-11-13T12:51:49.201Z"
   },
   {
    "duration": 90,
    "start_time": "2023-11-13T12:51:49.380Z"
   },
   {
    "duration": 724,
    "start_time": "2023-11-13T12:51:49.471Z"
   },
   {
    "duration": 16,
    "start_time": "2023-11-13T12:51:50.196Z"
   },
   {
    "duration": 121,
    "start_time": "2023-11-13T12:51:50.213Z"
   },
   {
    "duration": 0,
    "start_time": "2023-11-13T12:51:50.335Z"
   },
   {
    "duration": 0,
    "start_time": "2023-11-13T12:51:50.337Z"
   },
   {
    "duration": 0,
    "start_time": "2023-11-13T12:51:50.338Z"
   },
   {
    "duration": 0,
    "start_time": "2023-11-13T12:51:50.340Z"
   },
   {
    "duration": 0,
    "start_time": "2023-11-13T12:51:50.341Z"
   },
   {
    "duration": 1,
    "start_time": "2023-11-13T12:51:50.343Z"
   },
   {
    "duration": 0,
    "start_time": "2023-11-13T12:51:50.345Z"
   },
   {
    "duration": 0,
    "start_time": "2023-11-13T12:51:50.346Z"
   },
   {
    "duration": 0,
    "start_time": "2023-11-13T12:51:50.349Z"
   },
   {
    "duration": 0,
    "start_time": "2023-11-13T12:51:50.350Z"
   },
   {
    "duration": 0,
    "start_time": "2023-11-13T12:51:50.352Z"
   },
   {
    "duration": 0,
    "start_time": "2023-11-13T12:51:50.353Z"
   },
   {
    "duration": 0,
    "start_time": "2023-11-13T12:51:50.355Z"
   },
   {
    "duration": 7,
    "start_time": "2023-11-13T12:53:11.420Z"
   },
   {
    "duration": 2,
    "start_time": "2023-11-13T12:53:12.898Z"
   },
   {
    "duration": 2,
    "start_time": "2023-11-13T12:53:13.106Z"
   },
   {
    "duration": 76960,
    "start_time": "2023-11-13T12:53:13.790Z"
   },
   {
    "duration": 241258,
    "start_time": "2023-11-13T12:54:34.672Z"
   },
   {
    "duration": 501931,
    "start_time": "2023-11-13T12:59:21.720Z"
   },
   {
    "duration": 115171,
    "start_time": "2023-11-13T13:08:54.764Z"
   },
   {
    "duration": 4880,
    "start_time": "2023-11-13T14:02:08.740Z"
   },
   {
    "duration": 2076,
    "start_time": "2023-11-13T14:02:13.623Z"
   },
   {
    "duration": 8,
    "start_time": "2023-11-13T14:02:15.700Z"
   },
   {
    "duration": 899,
    "start_time": "2023-11-13T14:02:15.709Z"
   },
   {
    "duration": 25,
    "start_time": "2023-11-13T14:02:16.610Z"
   },
   {
    "duration": 13,
    "start_time": "2023-11-13T14:02:16.636Z"
   },
   {
    "duration": 15,
    "start_time": "2023-11-13T14:02:16.650Z"
   },
   {
    "duration": 145,
    "start_time": "2023-11-13T14:02:16.666Z"
   },
   {
    "duration": 91,
    "start_time": "2023-11-13T14:02:16.813Z"
   },
   {
    "duration": 132,
    "start_time": "2023-11-13T14:02:16.908Z"
   },
   {
    "duration": 463,
    "start_time": "2023-11-13T14:02:17.042Z"
   },
   {
    "duration": 496,
    "start_time": "2023-11-13T14:02:17.507Z"
   },
   {
    "duration": 41,
    "start_time": "2023-11-13T14:02:18.005Z"
   },
   {
    "duration": 42,
    "start_time": "2023-11-13T14:02:18.048Z"
   },
   {
    "duration": 34,
    "start_time": "2023-11-13T14:02:18.092Z"
   },
   {
    "duration": 24,
    "start_time": "2023-11-13T14:02:18.127Z"
   },
   {
    "duration": 290,
    "start_time": "2023-11-13T14:02:18.153Z"
   },
   {
    "duration": 594,
    "start_time": "2023-11-13T14:02:18.445Z"
   },
   {
    "duration": 59531,
    "start_time": "2023-11-13T14:02:19.041Z"
   },
   {
    "duration": 4001,
    "start_time": "2023-11-13T14:03:18.574Z"
   },
   {
    "duration": 262,
    "start_time": "2023-11-13T14:03:22.577Z"
   },
   {
    "duration": 99,
    "start_time": "2023-11-13T14:03:22.840Z"
   },
   {
    "duration": 150,
    "start_time": "2023-11-13T14:03:22.941Z"
   },
   {
    "duration": 21,
    "start_time": "2023-11-13T14:03:23.093Z"
   },
   {
    "duration": 213,
    "start_time": "2023-11-13T14:03:23.116Z"
   },
   {
    "duration": 22,
    "start_time": "2023-11-13T14:03:23.331Z"
   },
   {
    "duration": 42,
    "start_time": "2023-11-13T14:03:23.355Z"
   },
   {
    "duration": 150,
    "start_time": "2023-11-13T14:03:23.402Z"
   },
   {
    "duration": 50,
    "start_time": "2023-11-13T14:03:23.554Z"
   },
   {
    "duration": 33,
    "start_time": "2023-11-13T14:03:23.605Z"
   },
   {
    "duration": 36,
    "start_time": "2023-11-13T14:03:23.640Z"
   },
   {
    "duration": 88,
    "start_time": "2023-11-13T14:03:23.678Z"
   },
   {
    "duration": 40,
    "start_time": "2023-11-13T14:03:23.767Z"
   },
   {
    "duration": 27,
    "start_time": "2023-11-13T14:03:23.809Z"
   },
   {
    "duration": 32,
    "start_time": "2023-11-13T14:03:23.838Z"
   },
   {
    "duration": 83,
    "start_time": "2023-11-13T14:03:23.872Z"
   },
   {
    "duration": 107,
    "start_time": "2023-11-13T14:03:23.957Z"
   },
   {
    "duration": 23,
    "start_time": "2023-11-13T14:03:24.065Z"
   },
   {
    "duration": 201,
    "start_time": "2023-11-13T14:03:24.090Z"
   },
   {
    "duration": 99,
    "start_time": "2023-11-13T14:03:24.293Z"
   },
   {
    "duration": 774,
    "start_time": "2023-11-13T14:03:24.394Z"
   },
   {
    "duration": 16,
    "start_time": "2023-11-13T14:03:25.169Z"
   },
   {
    "duration": 29,
    "start_time": "2023-11-13T14:03:25.187Z"
   },
   {
    "duration": 37,
    "start_time": "2023-11-13T14:03:25.217Z"
   },
   {
    "duration": 52,
    "start_time": "2023-11-13T14:03:25.256Z"
   },
   {
    "duration": 80997,
    "start_time": "2023-11-13T14:03:25.309Z"
   },
   {
    "duration": 3,
    "start_time": "2023-11-13T14:04:46.308Z"
   },
   {
    "duration": 237779,
    "start_time": "2023-11-13T14:04:46.314Z"
   },
   {
    "duration": 200839,
    "start_time": "2023-11-13T14:08:44.094Z"
   },
   {
    "duration": 120953,
    "start_time": "2023-11-13T14:12:04.935Z"
   },
   {
    "duration": 3,
    "start_time": "2023-11-13T14:14:05.889Z"
   },
   {
    "duration": 7,
    "start_time": "2023-11-13T14:14:05.894Z"
   },
   {
    "duration": 5,
    "start_time": "2023-11-13T14:14:05.903Z"
   },
   {
    "duration": 21,
    "start_time": "2023-11-13T14:14:05.909Z"
   },
   {
    "duration": 8,
    "start_time": "2023-11-13T14:14:05.932Z"
   },
   {
    "duration": 6,
    "start_time": "2023-11-13T14:14:05.942Z"
   },
   {
    "duration": 11,
    "start_time": "2023-11-13T14:14:05.949Z"
   },
   {
    "duration": 4,
    "start_time": "2023-11-13T14:14:05.961Z"
   },
   {
    "duration": 2,
    "start_time": "2023-11-13T14:30:26.855Z"
   },
   {
    "duration": 1875176,
    "start_time": "2023-11-13T14:30:27.769Z"
   },
   {
    "duration": 188,
    "start_time": "2023-11-13T15:01:55.360Z"
   },
   {
    "duration": 474477,
    "start_time": "2023-11-13T15:02:17.155Z"
   },
   {
    "duration": 4,
    "start_time": "2023-11-13T15:10:46.922Z"
   },
   {
    "duration": 39430,
    "start_time": "2023-11-13T15:11:24.911Z"
   },
   {
    "duration": 193501,
    "start_time": "2023-11-13T15:12:30.645Z"
   },
   {
    "duration": 115,
    "start_time": "2023-11-13T15:19:36.290Z"
   },
   {
    "duration": 151,
    "start_time": "2023-11-13T15:19:41.431Z"
   },
   {
    "duration": 7,
    "start_time": "2023-11-13T15:19:46.195Z"
   },
   {
    "duration": 12,
    "start_time": "2023-11-13T15:20:11.538Z"
   },
   {
    "duration": 85758,
    "start_time": "2023-11-13T15:20:14.241Z"
   },
   {
    "duration": 7,
    "start_time": "2023-11-13T15:23:10.519Z"
   },
   {
    "duration": 232068,
    "start_time": "2023-11-13T15:23:14.921Z"
   },
   {
    "duration": 193020,
    "start_time": "2023-11-13T15:27:43.514Z"
   },
   {
    "duration": 23906,
    "start_time": "2023-11-13T15:30:56.536Z"
   },
   {
    "duration": 234838,
    "start_time": "2023-11-13T15:32:33.189Z"
   },
   {
    "duration": 8,
    "start_time": "2023-11-13T15:38:45.618Z"
   },
   {
    "duration": 2254427,
    "start_time": "2023-11-13T15:38:56.791Z"
   },
   {
    "duration": 39461,
    "start_time": "2023-11-13T16:23:55.208Z"
   },
   {
    "duration": 1328002,
    "start_time": "2023-11-13T16:24:59.432Z"
   },
   {
    "duration": 4793,
    "start_time": "2023-11-13T16:56:37.082Z"
   },
   {
    "duration": 2703,
    "start_time": "2023-11-13T16:56:41.877Z"
   },
   {
    "duration": 7,
    "start_time": "2023-11-13T16:56:44.582Z"
   },
   {
    "duration": 2838,
    "start_time": "2023-11-13T16:56:44.591Z"
   },
   {
    "duration": 21,
    "start_time": "2023-11-13T16:56:47.431Z"
   },
   {
    "duration": 8,
    "start_time": "2023-11-13T16:56:47.453Z"
   },
   {
    "duration": 13,
    "start_time": "2023-11-13T16:56:47.463Z"
   },
   {
    "duration": 151,
    "start_time": "2023-11-13T16:56:47.477Z"
   },
   {
    "duration": 87,
    "start_time": "2023-11-13T16:56:47.630Z"
   },
   {
    "duration": 147,
    "start_time": "2023-11-13T16:56:47.720Z"
   },
   {
    "duration": 455,
    "start_time": "2023-11-13T16:56:47.869Z"
   },
   {
    "duration": 483,
    "start_time": "2023-11-13T16:56:48.330Z"
   },
   {
    "duration": 42,
    "start_time": "2023-11-13T16:56:48.815Z"
   },
   {
    "duration": 27,
    "start_time": "2023-11-13T16:56:48.858Z"
   },
   {
    "duration": 11,
    "start_time": "2023-11-13T16:56:48.887Z"
   },
   {
    "duration": 12,
    "start_time": "2023-11-13T16:56:48.899Z"
   },
   {
    "duration": 246,
    "start_time": "2023-11-13T16:56:48.913Z"
   },
   {
    "duration": 577,
    "start_time": "2023-11-13T16:56:49.161Z"
   },
   {
    "duration": 63740,
    "start_time": "2023-11-13T16:56:49.740Z"
   },
   {
    "duration": 4676,
    "start_time": "2023-11-13T16:57:53.482Z"
   },
   {
    "duration": 285,
    "start_time": "2023-11-13T16:57:58.159Z"
   },
   {
    "duration": 135,
    "start_time": "2023-11-13T16:57:58.445Z"
   },
   {
    "duration": 164,
    "start_time": "2023-11-13T16:57:58.582Z"
   },
   {
    "duration": 25,
    "start_time": "2023-11-13T16:57:58.748Z"
   },
   {
    "duration": 231,
    "start_time": "2023-11-13T16:57:58.775Z"
   },
   {
    "duration": 28,
    "start_time": "2023-11-13T16:57:59.008Z"
   },
   {
    "duration": 25,
    "start_time": "2023-11-13T16:57:59.038Z"
   },
   {
    "duration": 157,
    "start_time": "2023-11-13T16:57:59.068Z"
   },
   {
    "duration": 46,
    "start_time": "2023-11-13T16:57:59.230Z"
   },
   {
    "duration": 24,
    "start_time": "2023-11-13T16:57:59.278Z"
   },
   {
    "duration": 47,
    "start_time": "2023-11-13T16:57:59.304Z"
   },
   {
    "duration": 96,
    "start_time": "2023-11-13T16:57:59.353Z"
   },
   {
    "duration": 36,
    "start_time": "2023-11-13T16:57:59.451Z"
   },
   {
    "duration": 23,
    "start_time": "2023-11-13T16:57:59.488Z"
   },
   {
    "duration": 26,
    "start_time": "2023-11-13T16:57:59.532Z"
   },
   {
    "duration": 90,
    "start_time": "2023-11-13T16:57:59.560Z"
   },
   {
    "duration": 84,
    "start_time": "2023-11-13T16:57:59.651Z"
   },
   {
    "duration": 23,
    "start_time": "2023-11-13T16:57:59.737Z"
   },
   {
    "duration": 192,
    "start_time": "2023-11-13T16:57:59.762Z"
   },
   {
    "duration": 106,
    "start_time": "2023-11-13T16:57:59.956Z"
   },
   {
    "duration": 876,
    "start_time": "2023-11-13T16:58:00.064Z"
   },
   {
    "duration": 17,
    "start_time": "2023-11-13T16:58:00.942Z"
   },
   {
    "duration": 79,
    "start_time": "2023-11-13T16:58:00.961Z"
   },
   {
    "duration": 68,
    "start_time": "2023-11-13T16:58:01.042Z"
   },
   {
    "duration": 66,
    "start_time": "2023-11-13T16:58:01.112Z"
   },
   {
    "duration": 25513,
    "start_time": "2023-11-13T16:58:01.180Z"
   },
   {
    "duration": 2,
    "start_time": "2023-11-13T16:58:26.695Z"
   },
   {
    "duration": 258658,
    "start_time": "2023-11-13T16:58:26.699Z"
   },
   {
    "duration": 474213,
    "start_time": "2023-11-13T17:02:45.359Z"
   },
   {
    "duration": 4674,
    "start_time": "2023-11-13T17:10:39.575Z"
   },
   {
    "duration": 6036,
    "start_time": "2023-11-13T17:10:44.252Z"
   },
   {
    "duration": 9063,
    "start_time": "2023-11-13T17:10:50.289Z"
   },
   {
    "duration": 33068,
    "start_time": "2023-11-13T17:10:59.354Z"
   },
   {
    "duration": 97,
    "start_time": "2023-11-13T17:11:32.424Z"
   },
   {
    "duration": 2,
    "start_time": "2023-11-13T17:11:32.523Z"
   },
   {
    "duration": 44,
    "start_time": "2023-11-13T17:11:32.526Z"
   },
   {
    "duration": 7,
    "start_time": "2023-11-13T17:11:32.572Z"
   },
   {
    "duration": 4,
    "start_time": "2023-11-13T17:11:32.581Z"
   },
   {
    "duration": 5,
    "start_time": "2023-11-13T17:11:32.587Z"
   },
   {
    "duration": 4,
    "start_time": "2023-11-13T17:11:32.593Z"
   },
   {
    "duration": 5,
    "start_time": "2023-11-13T17:11:32.598Z"
   },
   {
    "duration": 4,
    "start_time": "2023-11-13T17:11:32.605Z"
   },
   {
    "duration": 4,
    "start_time": "2023-11-13T17:11:32.610Z"
   },
   {
    "duration": 12446,
    "start_time": "2023-11-13T17:11:32.616Z"
   },
   {
    "duration": 16,
    "start_time": "2023-11-13T17:11:45.064Z"
   },
   {
    "duration": 0,
    "start_time": "2023-11-13T17:11:45.082Z"
   },
   {
    "duration": 0,
    "start_time": "2023-11-13T17:11:45.085Z"
   },
   {
    "duration": 5,
    "start_time": "2023-11-13T17:11:58.781Z"
   },
   {
    "duration": 45018,
    "start_time": "2023-11-13T17:12:05.518Z"
   },
   {
    "duration": 23,
    "start_time": "2023-11-13T17:17:24.324Z"
   },
   {
    "duration": 22,
    "start_time": "2023-11-13T17:17:25.284Z"
   },
   {
    "duration": 83,
    "start_time": "2023-11-13T17:17:25.725Z"
   },
   {
    "duration": 73,
    "start_time": "2023-11-13T17:17:26.989Z"
   },
   {
    "duration": 18,
    "start_time": "2023-11-13T17:17:27.749Z"
   },
   {
    "duration": 181,
    "start_time": "2023-11-13T17:17:28.206Z"
   },
   {
    "duration": 89,
    "start_time": "2023-11-13T17:17:28.550Z"
   },
   {
    "duration": 763,
    "start_time": "2023-11-13T17:17:32.710Z"
   },
   {
    "duration": 17,
    "start_time": "2023-11-13T17:17:33.475Z"
   },
   {
    "duration": 8,
    "start_time": "2023-11-13T17:17:35.471Z"
   },
   {
    "duration": 2,
    "start_time": "2023-11-13T17:17:36.671Z"
   },
   {
    "duration": 2,
    "start_time": "2023-11-13T17:17:37.007Z"
   },
   {
    "duration": 29009,
    "start_time": "2023-11-13T17:17:37.830Z"
   },
   {
    "duration": 286852,
    "start_time": "2023-11-13T17:18:23.429Z"
   },
   {
    "duration": 21944,
    "start_time": "2023-11-13T17:23:13.401Z"
   },
   {
    "duration": 135274,
    "start_time": "2023-11-13T17:23:56.559Z"
   },
   {
    "duration": 256415,
    "start_time": "2023-11-13T17:26:31.115Z"
   },
   {
    "duration": 8,
    "start_time": "2023-11-13T17:31:26.753Z"
   },
   {
    "duration": 497614,
    "start_time": "2023-11-13T17:31:32.426Z"
   },
   {
    "duration": 13226,
    "start_time": "2023-11-13T17:40:35.215Z"
   },
   {
    "duration": 9,
    "start_time": "2023-11-13T17:40:56.386Z"
   },
   {
    "duration": 7,
    "start_time": "2023-11-13T17:41:08.734Z"
   },
   {
    "duration": 38677,
    "start_time": "2023-11-13T17:41:13.436Z"
   },
   {
    "duration": 46004,
    "start_time": "2023-11-13T17:41:57.778Z"
   },
   {
    "duration": 7,
    "start_time": "2023-11-13T17:43:09.475Z"
   },
   {
    "duration": 113085,
    "start_time": "2023-11-13T17:43:13.812Z"
   },
   {
    "duration": 8,
    "start_time": "2023-11-13T17:47:22.002Z"
   },
   {
    "duration": 4744,
    "start_time": "2023-11-13T17:53:18.816Z"
   },
   {
    "duration": 2907,
    "start_time": "2023-11-13T17:53:23.563Z"
   },
   {
    "duration": 8,
    "start_time": "2023-11-13T17:53:26.472Z"
   },
   {
    "duration": 2923,
    "start_time": "2023-11-13T17:53:26.482Z"
   },
   {
    "duration": 21,
    "start_time": "2023-11-13T17:53:29.406Z"
   },
   {
    "duration": 11,
    "start_time": "2023-11-13T17:53:29.428Z"
   },
   {
    "duration": 24,
    "start_time": "2023-11-13T17:53:29.440Z"
   },
   {
    "duration": 150,
    "start_time": "2023-11-13T17:53:29.466Z"
   },
   {
    "duration": 85,
    "start_time": "2023-11-13T17:53:29.618Z"
   },
   {
    "duration": 135,
    "start_time": "2023-11-13T17:53:29.706Z"
   },
   {
    "duration": 470,
    "start_time": "2023-11-13T17:53:29.842Z"
   },
   {
    "duration": 491,
    "start_time": "2023-11-13T17:53:30.314Z"
   },
   {
    "duration": 45,
    "start_time": "2023-11-13T17:53:30.808Z"
   },
   {
    "duration": 96,
    "start_time": "2023-11-13T17:53:30.855Z"
   },
   {
    "duration": 103,
    "start_time": "2023-11-13T17:53:30.953Z"
   },
   {
    "duration": 120,
    "start_time": "2023-11-13T17:53:31.058Z"
   },
   {
    "duration": 279,
    "start_time": "2023-11-13T17:53:31.180Z"
   },
   {
    "duration": 628,
    "start_time": "2023-11-13T17:53:31.461Z"
   },
   {
    "duration": 59933,
    "start_time": "2023-11-13T17:53:32.091Z"
   },
   {
    "duration": 4463,
    "start_time": "2023-11-13T17:54:32.049Z"
   },
   {
    "duration": 254,
    "start_time": "2023-11-13T17:54:36.514Z"
   },
   {
    "duration": 93,
    "start_time": "2023-11-13T17:54:36.770Z"
   },
   {
    "duration": 141,
    "start_time": "2023-11-13T17:54:36.865Z"
   },
   {
    "duration": 24,
    "start_time": "2023-11-13T17:54:37.008Z"
   },
   {
    "duration": 199,
    "start_time": "2023-11-13T17:54:37.034Z"
   },
   {
    "duration": 21,
    "start_time": "2023-11-13T17:54:37.235Z"
   },
   {
    "duration": 24,
    "start_time": "2023-11-13T17:54:37.257Z"
   },
   {
    "duration": 144,
    "start_time": "2023-11-13T17:54:37.287Z"
   },
   {
    "duration": 42,
    "start_time": "2023-11-13T17:54:37.432Z"
   },
   {
    "duration": 20,
    "start_time": "2023-11-13T17:54:37.476Z"
   },
   {
    "duration": 36,
    "start_time": "2023-11-13T17:54:37.497Z"
   },
   {
    "duration": 82,
    "start_time": "2023-11-13T17:54:37.535Z"
   },
   {
    "duration": 38,
    "start_time": "2023-11-13T17:54:37.631Z"
   },
   {
    "duration": 23,
    "start_time": "2023-11-13T17:54:37.671Z"
   },
   {
    "duration": 43,
    "start_time": "2023-11-13T17:54:37.696Z"
   },
   {
    "duration": 90,
    "start_time": "2023-11-13T17:54:37.741Z"
   },
   {
    "duration": 72,
    "start_time": "2023-11-13T17:54:37.833Z"
   },
   {
    "duration": 35,
    "start_time": "2023-11-13T17:54:37.907Z"
   },
   {
    "duration": 178,
    "start_time": "2023-11-13T17:54:37.944Z"
   },
   {
    "duration": 82,
    "start_time": "2023-11-13T17:54:38.124Z"
   },
   {
    "duration": 788,
    "start_time": "2023-11-13T17:54:38.207Z"
   },
   {
    "duration": 15,
    "start_time": "2023-11-13T17:54:38.996Z"
   },
   {
    "duration": 19,
    "start_time": "2023-11-13T17:54:39.012Z"
   },
   {
    "duration": 23,
    "start_time": "2023-11-13T17:54:39.032Z"
   },
   {
    "duration": 9,
    "start_time": "2023-11-13T17:54:39.056Z"
   },
   {
    "duration": 23560,
    "start_time": "2023-11-13T17:54:39.066Z"
   },
   {
    "duration": 2000628,
    "start_time": "2023-11-13T17:55:02.630Z"
   },
   {
    "duration": 207680,
    "start_time": "2023-11-13T18:28:23.260Z"
   },
   {
    "duration": 788214,
    "start_time": "2023-11-13T18:31:50.942Z"
   },
   {
    "duration": 381402,
    "start_time": "2023-11-13T18:44:59.158Z"
   },
   {
    "duration": 38,
    "start_time": "2023-11-13T18:51:20.573Z"
   },
   {
    "duration": 12848,
    "start_time": "2023-11-13T18:51:20.615Z"
   },
   {
    "duration": 235985,
    "start_time": "2023-11-13T18:51:52.420Z"
   },
   {
    "duration": 9,
    "start_time": "2023-11-13T18:56:13.125Z"
   },
   {
    "duration": 131611,
    "start_time": "2023-11-13T18:56:14.462Z"
   },
   {
    "duration": 136603,
    "start_time": "2023-11-13T19:00:17.012Z"
   },
   {
    "duration": 4976,
    "start_time": "2023-11-13T19:02:46.809Z"
   },
   {
    "duration": 2207,
    "start_time": "2023-11-13T19:02:51.787Z"
   },
   {
    "duration": 7,
    "start_time": "2023-11-13T19:02:53.996Z"
   },
   {
    "duration": 907,
    "start_time": "2023-11-13T19:02:54.005Z"
   },
   {
    "duration": 25,
    "start_time": "2023-11-13T19:02:54.913Z"
   },
   {
    "duration": 6,
    "start_time": "2023-11-13T19:02:54.940Z"
   },
   {
    "duration": 9,
    "start_time": "2023-11-13T19:02:54.948Z"
   },
   {
    "duration": 140,
    "start_time": "2023-11-13T19:02:54.959Z"
   },
   {
    "duration": 97,
    "start_time": "2023-11-13T19:02:55.101Z"
   },
   {
    "duration": 140,
    "start_time": "2023-11-13T19:02:55.201Z"
   },
   {
    "duration": 507,
    "start_time": "2023-11-13T19:02:55.343Z"
   },
   {
    "duration": 534,
    "start_time": "2023-11-13T19:02:55.851Z"
   },
   {
    "duration": 44,
    "start_time": "2023-11-13T19:02:56.387Z"
   },
   {
    "duration": 48,
    "start_time": "2023-11-13T19:02:56.433Z"
   },
   {
    "duration": 12,
    "start_time": "2023-11-13T19:02:56.484Z"
   },
   {
    "duration": 19,
    "start_time": "2023-11-13T19:02:56.498Z"
   },
   {
    "duration": 266,
    "start_time": "2023-11-13T19:02:56.519Z"
   },
   {
    "duration": 701,
    "start_time": "2023-11-13T19:02:56.787Z"
   },
   {
    "duration": 63994,
    "start_time": "2023-11-13T19:02:57.490Z"
   },
   {
    "duration": 4799,
    "start_time": "2023-11-13T19:04:01.486Z"
   },
   {
    "duration": 297,
    "start_time": "2023-11-13T19:04:06.287Z"
   },
   {
    "duration": 108,
    "start_time": "2023-11-13T19:04:06.586Z"
   },
   {
    "duration": 175,
    "start_time": "2023-11-13T19:04:06.696Z"
   },
   {
    "duration": 20,
    "start_time": "2023-11-13T19:04:06.873Z"
   },
   {
    "duration": 223,
    "start_time": "2023-11-13T19:04:06.895Z"
   },
   {
    "duration": 41,
    "start_time": "2023-11-13T19:04:07.119Z"
   },
   {
    "duration": 30,
    "start_time": "2023-11-13T19:04:07.161Z"
   },
   {
    "duration": 140,
    "start_time": "2023-11-13T19:04:07.195Z"
   },
   {
    "duration": 42,
    "start_time": "2023-11-13T19:04:07.337Z"
   },
   {
    "duration": 21,
    "start_time": "2023-11-13T19:04:07.381Z"
   },
   {
    "duration": 43,
    "start_time": "2023-11-13T19:04:07.403Z"
   },
   {
    "duration": 92,
    "start_time": "2023-11-13T19:04:07.448Z"
   },
   {
    "duration": 51,
    "start_time": "2023-11-13T19:04:07.542Z"
   },
   {
    "duration": 23,
    "start_time": "2023-11-13T19:04:07.595Z"
   },
   {
    "duration": 30,
    "start_time": "2023-11-13T19:04:07.619Z"
   },
   {
    "duration": 84,
    "start_time": "2023-11-13T19:04:07.651Z"
   },
   {
    "duration": 77,
    "start_time": "2023-11-13T19:04:07.737Z"
   },
   {
    "duration": 40,
    "start_time": "2023-11-13T19:04:07.816Z"
   },
   {
    "duration": 190,
    "start_time": "2023-11-13T19:04:07.859Z"
   },
   {
    "duration": 85,
    "start_time": "2023-11-13T19:04:08.051Z"
   },
   {
    "duration": 855,
    "start_time": "2023-11-13T19:04:08.137Z"
   },
   {
    "duration": 15,
    "start_time": "2023-11-13T19:04:08.994Z"
   },
   {
    "duration": 8,
    "start_time": "2023-11-13T19:04:09.010Z"
   },
   {
    "duration": 3,
    "start_time": "2023-11-13T19:04:09.030Z"
   },
   {
    "duration": 7,
    "start_time": "2023-11-13T19:04:09.036Z"
   },
   {
    "duration": 30195,
    "start_time": "2023-11-13T19:04:09.045Z"
   },
   {
    "duration": 4,
    "start_time": "2023-11-13T19:04:39.242Z"
   },
   {
    "duration": 6,
    "start_time": "2023-11-13T19:04:39.248Z"
   },
   {
    "duration": 13,
    "start_time": "2023-11-13T19:04:39.256Z"
   },
   {
    "duration": 11,
    "start_time": "2023-11-13T19:04:39.270Z"
   },
   {
    "duration": 555863,
    "start_time": "2023-11-13T19:04:39.282Z"
   },
   {
    "duration": 131152,
    "start_time": "2023-11-13T19:13:55.147Z"
   },
   {
    "duration": 382035,
    "start_time": "2023-11-13T19:16:06.302Z"
   },
   {
    "duration": 71,
    "start_time": "2023-11-13T19:22:28.341Z"
   },
   {
    "duration": 132864,
    "start_time": "2023-11-13T19:22:49.658Z"
   },
   {
    "duration": 865607,
    "start_time": "2023-11-13T19:25:39.764Z"
   },
   {
    "duration": 32539,
    "start_time": "2023-11-13T19:40:10.618Z"
   },
   {
    "duration": 3,
    "start_time": "2023-11-13T19:40:48.621Z"
   },
   {
    "duration": 11370,
    "start_time": "2023-11-14T09:03:44.286Z"
   },
   {
    "duration": 2385,
    "start_time": "2023-11-14T09:03:55.659Z"
   },
   {
    "duration": 10,
    "start_time": "2023-11-14T09:03:58.046Z"
   },
   {
    "duration": 3071,
    "start_time": "2023-11-14T09:03:58.057Z"
   },
   {
    "duration": 25,
    "start_time": "2023-11-14T09:04:01.130Z"
   },
   {
    "duration": 24,
    "start_time": "2023-11-14T09:04:01.157Z"
   },
   {
    "duration": 39,
    "start_time": "2023-11-14T09:04:01.182Z"
   },
   {
    "duration": 178,
    "start_time": "2023-11-14T09:04:01.222Z"
   },
   {
    "duration": 97,
    "start_time": "2023-11-14T09:04:01.402Z"
   },
   {
    "duration": 192,
    "start_time": "2023-11-14T09:04:01.501Z"
   },
   {
    "duration": 564,
    "start_time": "2023-11-14T09:04:01.695Z"
   },
   {
    "duration": 515,
    "start_time": "2023-11-14T09:04:02.261Z"
   },
   {
    "duration": 37,
    "start_time": "2023-11-14T09:04:02.777Z"
   },
   {
    "duration": 44,
    "start_time": "2023-11-14T09:04:02.817Z"
   },
   {
    "duration": 15,
    "start_time": "2023-11-14T09:04:02.863Z"
   },
   {
    "duration": 5,
    "start_time": "2023-11-14T09:04:02.881Z"
   },
   {
    "duration": 284,
    "start_time": "2023-11-14T09:04:02.888Z"
   },
   {
    "duration": 647,
    "start_time": "2023-11-14T09:04:03.174Z"
   },
   {
    "duration": 65245,
    "start_time": "2023-11-14T09:04:03.823Z"
   },
   {
    "duration": 4039,
    "start_time": "2023-11-14T09:05:09.071Z"
   },
   {
    "duration": 281,
    "start_time": "2023-11-14T09:05:13.111Z"
   },
   {
    "duration": 99,
    "start_time": "2023-11-14T09:05:13.393Z"
   },
   {
    "duration": 157,
    "start_time": "2023-11-14T09:05:13.494Z"
   },
   {
    "duration": 22,
    "start_time": "2023-11-14T09:05:13.652Z"
   },
   {
    "duration": 224,
    "start_time": "2023-11-14T09:05:13.677Z"
   },
   {
    "duration": 33,
    "start_time": "2023-11-14T09:05:13.903Z"
   },
   {
    "duration": 31,
    "start_time": "2023-11-14T09:05:13.938Z"
   },
   {
    "duration": 151,
    "start_time": "2023-11-14T09:05:13.971Z"
   },
   {
    "duration": 44,
    "start_time": "2023-11-14T09:05:14.123Z"
   },
   {
    "duration": 22,
    "start_time": "2023-11-14T09:05:14.168Z"
   },
   {
    "duration": 41,
    "start_time": "2023-11-14T09:05:14.192Z"
   },
   {
    "duration": 125,
    "start_time": "2023-11-14T09:05:14.235Z"
   },
   {
    "duration": 49,
    "start_time": "2023-11-14T09:05:14.361Z"
   },
   {
    "duration": 24,
    "start_time": "2023-11-14T09:05:14.411Z"
   },
   {
    "duration": 24,
    "start_time": "2023-11-14T09:05:14.437Z"
   },
   {
    "duration": 95,
    "start_time": "2023-11-14T09:05:14.463Z"
   },
   {
    "duration": 83,
    "start_time": "2023-11-14T09:05:14.561Z"
   },
   {
    "duration": 25,
    "start_time": "2023-11-14T09:05:14.646Z"
   },
   {
    "duration": 190,
    "start_time": "2023-11-14T09:05:14.673Z"
   },
   {
    "duration": 102,
    "start_time": "2023-11-14T09:05:14.865Z"
   },
   {
    "duration": 837,
    "start_time": "2023-11-14T09:05:14.972Z"
   },
   {
    "duration": 25,
    "start_time": "2023-11-14T09:05:15.811Z"
   },
   {
    "duration": 347,
    "start_time": "2023-11-14T09:05:15.838Z"
   },
   {
    "duration": 55,
    "start_time": "2023-11-14T09:05:16.187Z"
   },
   {
    "duration": 13,
    "start_time": "2023-11-14T09:05:16.244Z"
   },
   {
    "duration": 27659,
    "start_time": "2023-11-14T09:05:16.259Z"
   },
   {
    "duration": 2,
    "start_time": "2023-11-14T09:05:43.920Z"
   },
   {
    "duration": 17,
    "start_time": "2023-11-14T09:05:43.924Z"
   },
   {
    "duration": 10,
    "start_time": "2023-11-14T09:05:43.943Z"
   },
   {
    "duration": 4,
    "start_time": "2023-11-14T09:05:43.954Z"
   },
   {
    "duration": 201388,
    "start_time": "2023-11-14T09:05:43.959Z"
   },
   {
    "duration": 124373,
    "start_time": "2023-11-14T09:09:05.348Z"
   },
   {
    "duration": 5117,
    "start_time": "2023-11-14T09:11:09.723Z"
   },
   {
    "duration": 27012,
    "start_time": "2023-11-14T09:11:14.842Z"
   },
   {
    "duration": 257462,
    "start_time": "2023-11-14T09:36:52.025Z"
   },
   {
    "duration": 6,
    "start_time": "2023-11-14T09:53:12.747Z"
   },
   {
    "duration": 37,
    "start_time": "2023-11-14T09:53:27.856Z"
   },
   {
    "duration": 44,
    "start_time": "2023-11-14T09:54:17.142Z"
   },
   {
    "duration": 5558,
    "start_time": "2023-11-14T10:02:44.140Z"
   },
   {
    "duration": 2264,
    "start_time": "2023-11-14T10:02:49.701Z"
   },
   {
    "duration": 9,
    "start_time": "2023-11-14T10:02:51.967Z"
   },
   {
    "duration": 985,
    "start_time": "2023-11-14T10:02:51.978Z"
   },
   {
    "duration": 24,
    "start_time": "2023-11-14T10:02:52.965Z"
   },
   {
    "duration": 3,
    "start_time": "2023-11-14T10:02:52.990Z"
   },
   {
    "duration": 4,
    "start_time": "2023-11-14T10:02:52.994Z"
   },
   {
    "duration": 189,
    "start_time": "2023-11-14T10:02:53.000Z"
   },
   {
    "duration": 108,
    "start_time": "2023-11-14T10:02:53.191Z"
   },
   {
    "duration": 152,
    "start_time": "2023-11-14T10:02:53.302Z"
   },
   {
    "duration": 496,
    "start_time": "2023-11-14T10:02:53.456Z"
   },
   {
    "duration": 518,
    "start_time": "2023-11-14T10:02:53.953Z"
   },
   {
    "duration": 38,
    "start_time": "2023-11-14T10:02:54.473Z"
   },
   {
    "duration": 50,
    "start_time": "2023-11-14T10:02:54.512Z"
   },
   {
    "duration": 24,
    "start_time": "2023-11-14T10:02:54.564Z"
   },
   {
    "duration": 28,
    "start_time": "2023-11-14T10:02:54.590Z"
   },
   {
    "duration": 288,
    "start_time": "2023-11-14T10:02:54.620Z"
   },
   {
    "duration": 672,
    "start_time": "2023-11-14T10:02:54.910Z"
   },
   {
    "duration": 69125,
    "start_time": "2023-11-14T10:02:55.583Z"
   },
   {
    "duration": 4734,
    "start_time": "2023-11-14T10:04:04.710Z"
   },
   {
    "duration": 309,
    "start_time": "2023-11-14T10:04:09.445Z"
   },
   {
    "duration": 127,
    "start_time": "2023-11-14T10:04:09.756Z"
   },
   {
    "duration": 197,
    "start_time": "2023-11-14T10:04:09.885Z"
   },
   {
    "duration": 23,
    "start_time": "2023-11-14T10:04:10.084Z"
   },
   {
    "duration": 235,
    "start_time": "2023-11-14T10:04:10.109Z"
   },
   {
    "duration": 26,
    "start_time": "2023-11-14T10:04:10.346Z"
   },
   {
    "duration": 64,
    "start_time": "2023-11-14T10:04:10.373Z"
   },
   {
    "duration": 30,
    "start_time": "2023-11-14T10:04:10.441Z"
   },
   {
    "duration": 164,
    "start_time": "2023-11-14T10:04:10.472Z"
   },
   {
    "duration": 23,
    "start_time": "2023-11-14T10:04:10.637Z"
   },
   {
    "duration": 32,
    "start_time": "2023-11-14T10:04:10.662Z"
   },
   {
    "duration": 51,
    "start_time": "2023-11-14T10:04:10.695Z"
   },
   {
    "duration": 97,
    "start_time": "2023-11-14T10:04:10.751Z"
   },
   {
    "duration": 40,
    "start_time": "2023-11-14T10:04:10.850Z"
   },
   {
    "duration": 45,
    "start_time": "2023-11-14T10:04:10.892Z"
   },
   {
    "duration": 29,
    "start_time": "2023-11-14T10:04:10.939Z"
   },
   {
    "duration": 97,
    "start_time": "2023-11-14T10:04:10.969Z"
   },
   {
    "duration": 102,
    "start_time": "2023-11-14T10:04:11.068Z"
   },
   {
    "duration": 27,
    "start_time": "2023-11-14T10:04:11.173Z"
   },
   {
    "duration": 207,
    "start_time": "2023-11-14T10:04:11.202Z"
   },
   {
    "duration": 101,
    "start_time": "2023-11-14T10:04:11.411Z"
   },
   {
    "duration": 865,
    "start_time": "2023-11-14T10:04:11.513Z"
   },
   {
    "duration": 23,
    "start_time": "2023-11-14T10:04:12.381Z"
   },
   {
    "duration": 38,
    "start_time": "2023-11-14T10:04:12.406Z"
   },
   {
    "duration": 35364,
    "start_time": "2023-11-14T10:04:12.446Z"
   },
   {
    "duration": 5444,
    "start_time": "2023-11-14T10:16:05.266Z"
   },
   {
    "duration": 2291,
    "start_time": "2023-11-14T10:16:10.715Z"
   },
   {
    "duration": 8,
    "start_time": "2023-11-14T10:16:13.008Z"
   },
   {
    "duration": 982,
    "start_time": "2023-11-14T10:16:13.018Z"
   },
   {
    "duration": 23,
    "start_time": "2023-11-14T10:16:14.002Z"
   },
   {
    "duration": 2,
    "start_time": "2023-11-14T10:16:14.035Z"
   },
   {
    "duration": 18,
    "start_time": "2023-11-14T10:16:14.039Z"
   },
   {
    "duration": 162,
    "start_time": "2023-11-14T10:16:14.059Z"
   },
   {
    "duration": 97,
    "start_time": "2023-11-14T10:16:14.223Z"
   },
   {
    "duration": 151,
    "start_time": "2023-11-14T10:16:14.322Z"
   },
   {
    "duration": 513,
    "start_time": "2023-11-14T10:16:14.474Z"
   },
   {
    "duration": 538,
    "start_time": "2023-11-14T10:16:14.989Z"
   },
   {
    "duration": 35,
    "start_time": "2023-11-14T10:16:15.528Z"
   },
   {
    "duration": 49,
    "start_time": "2023-11-14T10:16:15.565Z"
   },
   {
    "duration": 13,
    "start_time": "2023-11-14T10:16:15.616Z"
   },
   {
    "duration": 14,
    "start_time": "2023-11-14T10:16:15.630Z"
   },
   {
    "duration": 282,
    "start_time": "2023-11-14T10:16:15.646Z"
   },
   {
    "duration": 689,
    "start_time": "2023-11-14T10:16:15.929Z"
   },
   {
    "duration": 66359,
    "start_time": "2023-11-14T10:16:16.620Z"
   },
   {
    "duration": 4078,
    "start_time": "2023-11-14T10:17:22.981Z"
   },
   {
    "duration": 305,
    "start_time": "2023-11-14T10:17:27.061Z"
   },
   {
    "duration": 132,
    "start_time": "2023-11-14T10:17:27.368Z"
   },
   {
    "duration": 189,
    "start_time": "2023-11-14T10:17:27.502Z"
   },
   {
    "duration": 27,
    "start_time": "2023-11-14T10:17:27.692Z"
   },
   {
    "duration": 255,
    "start_time": "2023-11-14T10:17:27.721Z"
   },
   {
    "duration": 27,
    "start_time": "2023-11-14T10:17:27.979Z"
   },
   {
    "duration": 61,
    "start_time": "2023-11-14T10:17:28.008Z"
   },
   {
    "duration": 41,
    "start_time": "2023-11-14T10:17:28.074Z"
   },
   {
    "duration": 200,
    "start_time": "2023-11-14T10:17:28.117Z"
   },
   {
    "duration": 25,
    "start_time": "2023-11-14T10:17:28.318Z"
   },
   {
    "duration": 37,
    "start_time": "2023-11-14T10:17:28.344Z"
   },
   {
    "duration": 42,
    "start_time": "2023-11-14T10:17:28.383Z"
   },
   {
    "duration": 126,
    "start_time": "2023-11-14T10:17:28.427Z"
   },
   {
    "duration": 70,
    "start_time": "2023-11-14T10:17:28.556Z"
   },
   {
    "duration": 61,
    "start_time": "2023-11-14T10:17:28.628Z"
   },
   {
    "duration": 36,
    "start_time": "2023-11-14T10:17:28.691Z"
   },
   {
    "duration": 114,
    "start_time": "2023-11-14T10:17:28.729Z"
   },
   {
    "duration": 140,
    "start_time": "2023-11-14T10:17:28.844Z"
   },
   {
    "duration": 27,
    "start_time": "2023-11-14T10:17:28.986Z"
   },
   {
    "duration": 220,
    "start_time": "2023-11-14T10:17:29.015Z"
   },
   {
    "duration": 109,
    "start_time": "2023-11-14T10:17:29.236Z"
   },
   {
    "duration": 875,
    "start_time": "2023-11-14T10:17:29.347Z"
   },
   {
    "duration": 22,
    "start_time": "2023-11-14T10:17:30.224Z"
   },
   {
    "duration": 35,
    "start_time": "2023-11-14T10:17:30.248Z"
   },
   {
    "duration": 16883,
    "start_time": "2023-11-14T10:17:30.285Z"
   },
   {
    "duration": 479037,
    "start_time": "2023-11-14T10:17:47.170Z"
   },
   {
    "duration": 1414669,
    "start_time": "2023-11-14T10:25:46.209Z"
   },
   {
    "duration": 5228,
    "start_time": "2023-11-14T11:41:20.220Z"
   },
   {
    "duration": 2819,
    "start_time": "2023-11-14T11:41:25.450Z"
   },
   {
    "duration": 9,
    "start_time": "2023-11-14T11:41:28.271Z"
   },
   {
    "duration": 3031,
    "start_time": "2023-11-14T11:41:28.282Z"
   },
   {
    "duration": 24,
    "start_time": "2023-11-14T11:41:31.315Z"
   },
   {
    "duration": 60,
    "start_time": "2023-11-14T11:41:31.341Z"
   },
   {
    "duration": 75,
    "start_time": "2023-11-14T11:41:31.403Z"
   },
   {
    "duration": 221,
    "start_time": "2023-11-14T11:41:31.479Z"
   },
   {
    "duration": 104,
    "start_time": "2023-11-14T11:41:31.703Z"
   },
   {
    "duration": 174,
    "start_time": "2023-11-14T11:41:31.811Z"
   },
   {
    "duration": 517,
    "start_time": "2023-11-14T11:41:31.987Z"
   },
   {
    "duration": 512,
    "start_time": "2023-11-14T11:41:32.506Z"
   },
   {
    "duration": 42,
    "start_time": "2023-11-14T11:41:33.020Z"
   },
   {
    "duration": 73,
    "start_time": "2023-11-14T11:41:33.066Z"
   },
   {
    "duration": 50,
    "start_time": "2023-11-14T11:41:33.141Z"
   },
   {
    "duration": 10,
    "start_time": "2023-11-14T11:41:33.193Z"
   },
   {
    "duration": 303,
    "start_time": "2023-11-14T11:41:33.205Z"
   },
   {
    "duration": 643,
    "start_time": "2023-11-14T11:41:33.509Z"
   },
   {
    "duration": 64810,
    "start_time": "2023-11-14T11:41:34.154Z"
   },
   {
    "duration": 4087,
    "start_time": "2023-11-14T11:42:38.966Z"
   },
   {
    "duration": 290,
    "start_time": "2023-11-14T11:42:43.055Z"
   },
   {
    "duration": 135,
    "start_time": "2023-11-14T11:42:43.347Z"
   },
   {
    "duration": 166,
    "start_time": "2023-11-14T11:42:43.484Z"
   },
   {
    "duration": 25,
    "start_time": "2023-11-14T11:42:43.652Z"
   },
   {
    "duration": 240,
    "start_time": "2023-11-14T11:42:43.679Z"
   },
   {
    "duration": 24,
    "start_time": "2023-11-14T11:42:43.921Z"
   },
   {
    "duration": 66,
    "start_time": "2023-11-14T11:42:43.946Z"
   },
   {
    "duration": 40,
    "start_time": "2023-11-14T11:42:44.018Z"
   },
   {
    "duration": 163,
    "start_time": "2023-11-14T11:42:44.059Z"
   },
   {
    "duration": 30,
    "start_time": "2023-11-14T11:42:44.224Z"
   },
   {
    "duration": 43,
    "start_time": "2023-11-14T11:42:44.256Z"
   },
   {
    "duration": 39,
    "start_time": "2023-11-14T11:42:44.302Z"
   },
   {
    "duration": 125,
    "start_time": "2023-11-14T11:42:44.343Z"
   },
   {
    "duration": 35,
    "start_time": "2023-11-14T11:42:44.469Z"
   },
   {
    "duration": 43,
    "start_time": "2023-11-14T11:42:44.507Z"
   },
   {
    "duration": 44,
    "start_time": "2023-11-14T11:42:44.552Z"
   },
   {
    "duration": 211,
    "start_time": "2023-11-14T11:42:44.597Z"
   },
   {
    "duration": 121,
    "start_time": "2023-11-14T11:42:44.810Z"
   },
   {
    "duration": 28,
    "start_time": "2023-11-14T11:42:44.933Z"
   },
   {
    "duration": 221,
    "start_time": "2023-11-14T11:42:44.963Z"
   },
   {
    "duration": 98,
    "start_time": "2023-11-14T11:42:45.185Z"
   },
   {
    "duration": 896,
    "start_time": "2023-11-14T11:42:45.285Z"
   },
   {
    "duration": 18,
    "start_time": "2023-11-14T11:42:46.183Z"
   },
   {
    "duration": 10,
    "start_time": "2023-11-14T11:42:46.203Z"
   },
   {
    "duration": 16006,
    "start_time": "2023-11-14T11:42:46.215Z"
   },
   {
    "duration": 2,
    "start_time": "2023-11-14T11:43:02.223Z"
   },
   {
    "duration": 31,
    "start_time": "2023-11-14T11:43:02.235Z"
   },
   {
    "duration": 5372,
    "start_time": "2023-11-14T12:06:07.612Z"
   },
   {
    "duration": 2331,
    "start_time": "2023-11-14T12:06:12.986Z"
   },
   {
    "duration": 9,
    "start_time": "2023-11-14T12:06:15.319Z"
   },
   {
    "duration": 1016,
    "start_time": "2023-11-14T12:06:15.330Z"
   },
   {
    "duration": 25,
    "start_time": "2023-11-14T12:06:16.348Z"
   },
   {
    "duration": 2,
    "start_time": "2023-11-14T12:06:16.375Z"
   },
   {
    "duration": 9,
    "start_time": "2023-11-14T12:06:16.379Z"
   },
   {
    "duration": 172,
    "start_time": "2023-11-14T12:06:16.390Z"
   },
   {
    "duration": 105,
    "start_time": "2023-11-14T12:06:16.564Z"
   },
   {
    "duration": 152,
    "start_time": "2023-11-14T12:06:16.672Z"
   },
   {
    "duration": 503,
    "start_time": "2023-11-14T12:06:16.835Z"
   },
   {
    "duration": 555,
    "start_time": "2023-11-14T12:06:17.340Z"
   },
   {
    "duration": 42,
    "start_time": "2023-11-14T12:06:17.897Z"
   },
   {
    "duration": 57,
    "start_time": "2023-11-14T12:06:17.941Z"
   },
   {
    "duration": 34,
    "start_time": "2023-11-14T12:06:18.000Z"
   },
   {
    "duration": 6,
    "start_time": "2023-11-14T12:06:18.036Z"
   },
   {
    "duration": 282,
    "start_time": "2023-11-14T12:06:18.043Z"
   },
   {
    "duration": 666,
    "start_time": "2023-11-14T12:06:18.326Z"
   },
   {
    "duration": 65807,
    "start_time": "2023-11-14T12:06:18.993Z"
   },
   {
    "duration": 4297,
    "start_time": "2023-11-14T12:07:24.802Z"
   },
   {
    "duration": 274,
    "start_time": "2023-11-14T12:07:29.101Z"
   },
   {
    "duration": 105,
    "start_time": "2023-11-14T12:07:29.376Z"
   },
   {
    "duration": 148,
    "start_time": "2023-11-14T12:07:29.483Z"
   },
   {
    "duration": 23,
    "start_time": "2023-11-14T12:07:29.632Z"
   },
   {
    "duration": 291,
    "start_time": "2023-11-14T12:07:29.656Z"
   },
   {
    "duration": 22,
    "start_time": "2023-11-14T12:07:29.949Z"
   },
   {
    "duration": 60,
    "start_time": "2023-11-14T12:07:29.972Z"
   },
   {
    "duration": 60,
    "start_time": "2023-11-14T12:07:30.035Z"
   },
   {
    "duration": 214,
    "start_time": "2023-11-14T12:07:30.097Z"
   },
   {
    "duration": 23,
    "start_time": "2023-11-14T12:07:30.312Z"
   },
   {
    "duration": 44,
    "start_time": "2023-11-14T12:07:30.337Z"
   },
   {
    "duration": 29,
    "start_time": "2023-11-14T12:07:30.383Z"
   },
   {
    "duration": 120,
    "start_time": "2023-11-14T12:07:30.414Z"
   },
   {
    "duration": 44,
    "start_time": "2023-11-14T12:07:30.536Z"
   },
   {
    "duration": 35,
    "start_time": "2023-11-14T12:07:30.582Z"
   },
   {
    "duration": 34,
    "start_time": "2023-11-14T12:07:30.619Z"
   },
   {
    "duration": 85,
    "start_time": "2023-11-14T12:07:30.655Z"
   },
   {
    "duration": 120,
    "start_time": "2023-11-14T12:07:30.742Z"
   },
   {
    "duration": 27,
    "start_time": "2023-11-14T12:07:30.864Z"
   },
   {
    "duration": 223,
    "start_time": "2023-11-14T12:07:30.893Z"
   },
   {
    "duration": 97,
    "start_time": "2023-11-14T12:07:31.118Z"
   },
   {
    "duration": 842,
    "start_time": "2023-11-14T12:07:31.217Z"
   },
   {
    "duration": 17,
    "start_time": "2023-11-14T12:07:32.061Z"
   },
   {
    "duration": 191,
    "start_time": "2023-11-14T12:07:32.079Z"
   },
   {
    "duration": 16631,
    "start_time": "2023-11-14T12:07:32.272Z"
   },
   {
    "duration": 3,
    "start_time": "2023-11-14T12:07:48.905Z"
   },
   {
    "duration": 20,
    "start_time": "2023-11-14T12:07:48.910Z"
   },
   {
    "duration": 2179864,
    "start_time": "2023-11-14T12:07:48.931Z"
   },
   {
    "duration": 239149,
    "start_time": "2023-11-14T12:44:08.797Z"
   },
   {
    "duration": 274980,
    "start_time": "2023-11-14T12:48:07.948Z"
   },
   {
    "duration": 205412,
    "start_time": "2023-11-14T12:52:42.929Z"
   },
   {
    "duration": 130152,
    "start_time": "2023-11-14T12:56:08.343Z"
   },
   {
    "duration": 24352,
    "start_time": "2023-11-14T12:58:18.497Z"
   },
   {
    "duration": 14,
    "start_time": "2023-11-14T13:23:29.728Z"
   },
   {
    "duration": 95331,
    "start_time": "2023-11-14T13:23:35.025Z"
   },
   {
    "duration": 152,
    "start_time": "2023-11-14T13:26:12.222Z"
   },
   {
    "duration": 14,
    "start_time": "2023-11-14T13:36:27.984Z"
   },
   {
    "duration": 15242,
    "start_time": "2023-11-14T13:40:03.867Z"
   },
   {
    "duration": 3,
    "start_time": "2023-11-14T13:40:25.295Z"
   },
   {
    "duration": 3,
    "start_time": "2023-11-14T13:40:29.680Z"
   },
   {
    "duration": 3,
    "start_time": "2023-11-14T13:40:33.201Z"
   },
   {
    "duration": 140957,
    "start_time": "2023-11-14T13:40:47.187Z"
   },
   {
    "duration": 4,
    "start_time": "2023-11-14T13:43:37.087Z"
   },
   {
    "duration": 12,
    "start_time": "2023-11-14T13:43:37.152Z"
   },
   {
    "duration": 5,
    "start_time": "2023-11-14T13:43:46.577Z"
   },
   {
    "duration": 90,
    "start_time": "2023-11-14T13:49:39.573Z"
   },
   {
    "duration": 14,
    "start_time": "2023-11-14T13:51:41.908Z"
   },
   {
    "duration": 4,
    "start_time": "2023-11-14T13:51:49.813Z"
   },
   {
    "duration": 13,
    "start_time": "2023-11-14T13:51:51.742Z"
   },
   {
    "duration": 13,
    "start_time": "2023-11-14T13:51:59.095Z"
   },
   {
    "duration": 5,
    "start_time": "2023-11-14T13:52:13.960Z"
   },
   {
    "duration": 838,
    "start_time": "2023-11-14T13:53:20.369Z"
   },
   {
    "duration": 222766,
    "start_time": "2023-11-14T13:53:38.988Z"
   },
   {
    "duration": 318181,
    "start_time": "2023-11-14T13:57:23.775Z"
   },
   {
    "duration": 74,
    "start_time": "2023-11-14T14:07:23.274Z"
   },
   {
    "duration": 14,
    "start_time": "2023-11-14T14:08:01.133Z"
   },
   {
    "duration": 16,
    "start_time": "2023-11-14T14:08:14.035Z"
   },
   {
    "duration": 325567,
    "start_time": "2023-11-14T14:09:34.588Z"
   },
   {
    "duration": 16,
    "start_time": "2023-11-14T14:15:30.213Z"
   },
   {
    "duration": 4,
    "start_time": "2023-11-14T14:17:54.800Z"
   },
   {
    "duration": 5,
    "start_time": "2023-11-14T14:18:09.541Z"
   },
   {
    "duration": 17,
    "start_time": "2023-11-14T14:19:10.169Z"
   },
   {
    "duration": 3,
    "start_time": "2023-11-14T14:19:16.412Z"
   },
   {
    "duration": 16,
    "start_time": "2023-11-14T14:19:17.428Z"
   },
   {
    "duration": 3,
    "start_time": "2023-11-14T14:19:44.952Z"
   },
   {
    "duration": 11,
    "start_time": "2023-11-14T14:19:53.192Z"
   },
   {
    "duration": 4,
    "start_time": "2023-11-14T14:20:00.778Z"
   },
   {
    "duration": 3,
    "start_time": "2023-11-14T14:20:01.337Z"
   },
   {
    "duration": 292060,
    "start_time": "2023-11-14T14:20:05.690Z"
   },
   {
    "duration": 17,
    "start_time": "2023-11-14T14:24:57.752Z"
   },
   {
    "duration": 152562,
    "start_time": "2023-11-14T14:30:20.104Z"
   },
   {
    "duration": 155796,
    "start_time": "2023-11-14T14:33:35.655Z"
   },
   {
    "duration": 13448,
    "start_time": "2023-11-14T14:36:43.793Z"
   },
   {
    "duration": 9956,
    "start_time": "2023-11-14T14:51:10.268Z"
   },
   {
    "duration": 5105,
    "start_time": "2023-11-14T14:51:33.870Z"
   },
   {
    "duration": 2160,
    "start_time": "2023-11-14T14:51:38.977Z"
   },
   {
    "duration": 9,
    "start_time": "2023-11-14T14:51:41.139Z"
   },
   {
    "duration": 938,
    "start_time": "2023-11-14T14:51:41.151Z"
   },
   {
    "duration": 23,
    "start_time": "2023-11-14T14:51:42.091Z"
   },
   {
    "duration": 2,
    "start_time": "2023-11-14T14:51:42.115Z"
   },
   {
    "duration": 7,
    "start_time": "2023-11-14T14:51:42.118Z"
   },
   {
    "duration": 153,
    "start_time": "2023-11-14T14:51:42.136Z"
   },
   {
    "duration": 104,
    "start_time": "2023-11-14T14:51:42.290Z"
   },
   {
    "duration": 149,
    "start_time": "2023-11-14T14:51:42.397Z"
   },
   {
    "duration": 500,
    "start_time": "2023-11-14T14:51:42.548Z"
   },
   {
    "duration": 522,
    "start_time": "2023-11-14T14:51:43.049Z"
   },
   {
    "duration": 37,
    "start_time": "2023-11-14T14:51:43.573Z"
   },
   {
    "duration": 39,
    "start_time": "2023-11-14T14:51:43.611Z"
   },
   {
    "duration": 17,
    "start_time": "2023-11-14T14:51:43.652Z"
   },
   {
    "duration": 3,
    "start_time": "2023-11-14T14:51:43.671Z"
   },
   {
    "duration": 291,
    "start_time": "2023-11-14T14:51:43.676Z"
   },
   {
    "duration": 614,
    "start_time": "2023-11-14T14:51:43.969Z"
   },
   {
    "duration": 64652,
    "start_time": "2023-11-14T14:51:44.584Z"
   },
   {
    "duration": 4136,
    "start_time": "2023-11-14T14:52:49.238Z"
   },
   {
    "duration": 277,
    "start_time": "2023-11-14T14:52:53.376Z"
   },
   {
    "duration": 106,
    "start_time": "2023-11-14T14:52:53.655Z"
   },
   {
    "duration": 157,
    "start_time": "2023-11-14T14:52:53.762Z"
   },
   {
    "duration": 27,
    "start_time": "2023-11-14T14:52:53.920Z"
   },
   {
    "duration": 207,
    "start_time": "2023-11-14T14:52:53.949Z"
   },
   {
    "duration": 22,
    "start_time": "2023-11-14T14:52:54.157Z"
   },
   {
    "duration": 56,
    "start_time": "2023-11-14T14:52:54.181Z"
   },
   {
    "duration": 22,
    "start_time": "2023-11-14T14:52:54.241Z"
   },
   {
    "duration": 151,
    "start_time": "2023-11-14T14:52:54.265Z"
   },
   {
    "duration": 23,
    "start_time": "2023-11-14T14:52:54.418Z"
   },
   {
    "duration": 26,
    "start_time": "2023-11-14T14:52:54.443Z"
   },
   {
    "duration": 36,
    "start_time": "2023-11-14T14:52:54.471Z"
   },
   {
    "duration": 102,
    "start_time": "2023-11-14T14:52:54.509Z"
   },
   {
    "duration": 29,
    "start_time": "2023-11-14T14:52:54.612Z"
   },
   {
    "duration": 33,
    "start_time": "2023-11-14T14:52:54.642Z"
   },
   {
    "duration": 23,
    "start_time": "2023-11-14T14:52:54.677Z"
   },
   {
    "duration": 102,
    "start_time": "2023-11-14T14:52:54.701Z"
   },
   {
    "duration": 86,
    "start_time": "2023-11-14T14:52:54.804Z"
   },
   {
    "duration": 25,
    "start_time": "2023-11-14T14:52:54.892Z"
   },
   {
    "duration": 204,
    "start_time": "2023-11-14T14:52:54.918Z"
   },
   {
    "duration": 100,
    "start_time": "2023-11-14T14:52:55.124Z"
   },
   {
    "duration": 820,
    "start_time": "2023-11-14T14:52:55.226Z"
   },
   {
    "duration": 16,
    "start_time": "2023-11-14T14:52:56.047Z"
   },
   {
    "duration": 10,
    "start_time": "2023-11-14T14:52:56.065Z"
   },
   {
    "duration": 12458,
    "start_time": "2023-11-14T14:52:56.077Z"
   },
   {
    "duration": 465956,
    "start_time": "2023-11-14T14:53:08.537Z"
   },
   {
    "duration": 2,
    "start_time": "2023-11-14T15:00:54.495Z"
   },
   {
    "duration": 18,
    "start_time": "2023-11-14T15:00:54.499Z"
   },
   {
    "duration": 124025,
    "start_time": "2023-11-14T15:00:54.518Z"
   },
   {
    "duration": 4,
    "start_time": "2023-11-14T15:02:58.545Z"
   },
   {
    "duration": 300688,
    "start_time": "2023-11-14T15:02:58.551Z"
   },
   {
    "duration": 54,
    "start_time": "2023-11-14T15:07:59.241Z"
   },
   {
    "duration": 13547,
    "start_time": "2023-11-14T15:07:59.297Z"
   },
   {
    "duration": 10,
    "start_time": "2023-11-14T15:38:30.764Z"
   },
   {
    "duration": 9,
    "start_time": "2023-11-14T15:38:35.972Z"
   },
   {
    "duration": 729596,
    "start_time": "2023-11-14T15:38:51.669Z"
   },
   {
    "duration": 10,
    "start_time": "2023-11-14T16:01:33.896Z"
   },
   {
    "duration": 539533,
    "start_time": "2023-11-14T16:01:52.977Z"
   },
   {
    "duration": 5258,
    "start_time": "2023-11-14T16:14:22.055Z"
   },
   {
    "duration": 2311,
    "start_time": "2023-11-14T16:14:27.315Z"
   },
   {
    "duration": 10,
    "start_time": "2023-11-14T16:14:29.628Z"
   },
   {
    "duration": 1029,
    "start_time": "2023-11-14T16:14:29.640Z"
   },
   {
    "duration": 24,
    "start_time": "2023-11-14T16:14:30.672Z"
   },
   {
    "duration": 58,
    "start_time": "2023-11-14T16:14:30.698Z"
   },
   {
    "duration": 88,
    "start_time": "2023-11-14T16:14:30.758Z"
   },
   {
    "duration": 228,
    "start_time": "2023-11-14T16:14:30.848Z"
   },
   {
    "duration": 124,
    "start_time": "2023-11-14T16:14:31.078Z"
   },
   {
    "duration": 156,
    "start_time": "2023-11-14T16:14:31.205Z"
   },
   {
    "duration": 544,
    "start_time": "2023-11-14T16:14:31.363Z"
   },
   {
    "duration": 531,
    "start_time": "2023-11-14T16:14:31.909Z"
   },
   {
    "duration": 38,
    "start_time": "2023-11-14T16:14:32.442Z"
   },
   {
    "duration": 61,
    "start_time": "2023-11-14T16:14:32.482Z"
   },
   {
    "duration": 59,
    "start_time": "2023-11-14T16:14:32.545Z"
   },
   {
    "duration": 23,
    "start_time": "2023-11-14T16:14:32.605Z"
   },
   {
    "duration": 318,
    "start_time": "2023-11-14T16:14:32.630Z"
   },
   {
    "duration": 675,
    "start_time": "2023-11-14T16:14:32.950Z"
   },
   {
    "duration": 65669,
    "start_time": "2023-11-14T16:14:33.627Z"
   },
   {
    "duration": 4446,
    "start_time": "2023-11-14T16:15:39.297Z"
   },
   {
    "duration": 293,
    "start_time": "2023-11-14T16:15:43.745Z"
   },
   {
    "duration": 106,
    "start_time": "2023-11-14T16:15:44.040Z"
   },
   {
    "duration": 173,
    "start_time": "2023-11-14T16:15:44.148Z"
   },
   {
    "duration": 30,
    "start_time": "2023-11-14T16:15:44.323Z"
   },
   {
    "duration": 234,
    "start_time": "2023-11-14T16:15:44.355Z"
   },
   {
    "duration": 25,
    "start_time": "2023-11-14T16:15:44.591Z"
   },
   {
    "duration": 59,
    "start_time": "2023-11-14T16:15:44.617Z"
   },
   {
    "duration": 24,
    "start_time": "2023-11-14T16:15:44.680Z"
   },
   {
    "duration": 151,
    "start_time": "2023-11-14T16:15:44.706Z"
   },
   {
    "duration": 22,
    "start_time": "2023-11-14T16:15:44.859Z"
   },
   {
    "duration": 46,
    "start_time": "2023-11-14T16:15:44.883Z"
   },
   {
    "duration": 35,
    "start_time": "2023-11-14T16:15:44.930Z"
   },
   {
    "duration": 112,
    "start_time": "2023-11-14T16:15:44.967Z"
   },
   {
    "duration": 61,
    "start_time": "2023-11-14T16:15:45.081Z"
   },
   {
    "duration": 39,
    "start_time": "2023-11-14T16:15:45.144Z"
   },
   {
    "duration": 27,
    "start_time": "2023-11-14T16:15:45.185Z"
   },
   {
    "duration": 120,
    "start_time": "2023-11-14T16:15:45.214Z"
   },
   {
    "duration": 80,
    "start_time": "2023-11-14T16:15:45.336Z"
   },
   {
    "duration": 38,
    "start_time": "2023-11-14T16:15:45.417Z"
   },
   {
    "duration": 201,
    "start_time": "2023-11-14T16:15:45.457Z"
   },
   {
    "duration": 104,
    "start_time": "2023-11-14T16:15:45.660Z"
   },
   {
    "duration": 895,
    "start_time": "2023-11-14T16:15:45.766Z"
   },
   {
    "duration": 18,
    "start_time": "2023-11-14T16:15:46.662Z"
   },
   {
    "duration": 10,
    "start_time": "2023-11-14T16:15:46.682Z"
   },
   {
    "duration": 14057,
    "start_time": "2023-11-14T16:15:46.694Z"
   },
   {
    "duration": 446776,
    "start_time": "2023-11-14T16:16:00.752Z"
   },
   {
    "duration": 608816,
    "start_time": "2023-11-14T16:23:27.529Z"
   },
   {
    "duration": 1090598,
    "start_time": "2023-11-14T16:33:36.347Z"
   },
   {
    "duration": 81899,
    "start_time": "2023-11-14T16:51:46.947Z"
   },
   {
    "duration": 101,
    "start_time": "2023-11-14T16:53:08.848Z"
   },
   {
    "duration": 0,
    "start_time": "2023-11-14T16:53:08.952Z"
   },
   {
    "duration": 0,
    "start_time": "2023-11-14T16:53:08.953Z"
   },
   {
    "duration": 0,
    "start_time": "2023-11-14T16:53:08.954Z"
   },
   {
    "duration": 0,
    "start_time": "2023-11-14T16:53:08.956Z"
   },
   {
    "duration": 3,
    "start_time": "2023-11-14T16:54:24.152Z"
   },
   {
    "duration": 491168,
    "start_time": "2023-11-14T16:54:25.168Z"
   },
   {
    "duration": 60,
    "start_time": "2023-11-14T17:02:36.339Z"
   },
   {
    "duration": 11036,
    "start_time": "2023-11-14T17:02:36.401Z"
   },
   {
    "duration": 5,
    "start_time": "2023-11-14T17:25:15.378Z"
   },
   {
    "duration": 857,
    "start_time": "2023-11-14T17:28:18.976Z"
   },
   {
    "duration": 50,
    "start_time": "2023-11-14T17:47:33.250Z"
   },
   {
    "duration": 2679,
    "start_time": "2023-11-14T17:47:44.259Z"
   },
   {
    "duration": 5103,
    "start_time": "2023-11-14T17:49:55.633Z"
   },
   {
    "duration": 2347,
    "start_time": "2023-11-14T17:50:00.738Z"
   },
   {
    "duration": 8,
    "start_time": "2023-11-14T17:50:03.087Z"
   },
   {
    "duration": 3033,
    "start_time": "2023-11-14T17:50:03.097Z"
   },
   {
    "duration": 21,
    "start_time": "2023-11-14T17:50:06.132Z"
   },
   {
    "duration": 6,
    "start_time": "2023-11-14T17:50:06.155Z"
   },
   {
    "duration": 4,
    "start_time": "2023-11-14T17:50:06.162Z"
   },
   {
    "duration": 147,
    "start_time": "2023-11-14T17:50:06.168Z"
   },
   {
    "duration": 94,
    "start_time": "2023-11-14T17:50:06.317Z"
   },
   {
    "duration": 145,
    "start_time": "2023-11-14T17:50:06.414Z"
   },
   {
    "duration": 494,
    "start_time": "2023-11-14T17:50:06.561Z"
   },
   {
    "duration": 521,
    "start_time": "2023-11-14T17:50:07.056Z"
   },
   {
    "duration": 41,
    "start_time": "2023-11-14T17:50:07.579Z"
   },
   {
    "duration": 41,
    "start_time": "2023-11-14T17:50:07.621Z"
   },
   {
    "duration": 14,
    "start_time": "2023-11-14T17:50:07.663Z"
   },
   {
    "duration": 260,
    "start_time": "2023-11-14T17:50:07.678Z"
   },
   {
    "duration": 597,
    "start_time": "2023-11-14T17:50:07.940Z"
   },
   {
    "duration": 61274,
    "start_time": "2023-11-14T17:50:08.538Z"
   },
   {
    "duration": 4141,
    "start_time": "2023-11-14T17:51:09.814Z"
   },
   {
    "duration": 271,
    "start_time": "2023-11-14T17:51:13.956Z"
   },
   {
    "duration": 96,
    "start_time": "2023-11-14T17:51:14.229Z"
   },
   {
    "duration": 155,
    "start_time": "2023-11-14T17:51:14.336Z"
   },
   {
    "duration": 23,
    "start_time": "2023-11-14T17:51:14.493Z"
   },
   {
    "duration": 219,
    "start_time": "2023-11-14T17:51:14.518Z"
   },
   {
    "duration": 21,
    "start_time": "2023-11-14T17:51:14.739Z"
   },
   {
    "duration": 79,
    "start_time": "2023-11-14T17:51:14.762Z"
   },
   {
    "duration": 27,
    "start_time": "2023-11-14T17:51:14.842Z"
   },
   {
    "duration": 144,
    "start_time": "2023-11-14T17:51:14.873Z"
   },
   {
    "duration": 21,
    "start_time": "2023-11-14T17:51:15.019Z"
   },
   {
    "duration": 43,
    "start_time": "2023-11-14T17:51:15.042Z"
   },
   {
    "duration": 31,
    "start_time": "2023-11-14T17:51:15.087Z"
   },
   {
    "duration": 124,
    "start_time": "2023-11-14T17:51:15.120Z"
   },
   {
    "duration": 43,
    "start_time": "2023-11-14T17:51:15.245Z"
   },
   {
    "duration": 34,
    "start_time": "2023-11-14T17:51:15.290Z"
   },
   {
    "duration": 111,
    "start_time": "2023-11-14T17:51:15.325Z"
   },
   {
    "duration": 0,
    "start_time": "2023-11-14T17:51:15.438Z"
   },
   {
    "duration": 0,
    "start_time": "2023-11-14T17:51:15.439Z"
   },
   {
    "duration": 0,
    "start_time": "2023-11-14T17:51:15.440Z"
   },
   {
    "duration": 0,
    "start_time": "2023-11-14T17:51:15.441Z"
   },
   {
    "duration": 0,
    "start_time": "2023-11-14T17:51:15.442Z"
   },
   {
    "duration": 1,
    "start_time": "2023-11-14T17:51:15.443Z"
   },
   {
    "duration": 0,
    "start_time": "2023-11-14T17:51:15.445Z"
   },
   {
    "duration": 0,
    "start_time": "2023-11-14T17:51:15.446Z"
   },
   {
    "duration": 0,
    "start_time": "2023-11-14T17:51:15.447Z"
   },
   {
    "duration": 0,
    "start_time": "2023-11-14T17:51:15.448Z"
   },
   {
    "duration": 0,
    "start_time": "2023-11-14T17:51:15.449Z"
   },
   {
    "duration": 0,
    "start_time": "2023-11-14T17:51:15.451Z"
   },
   {
    "duration": 0,
    "start_time": "2023-11-14T17:51:15.452Z"
   },
   {
    "duration": 0,
    "start_time": "2023-11-14T17:51:15.453Z"
   },
   {
    "duration": 0,
    "start_time": "2023-11-14T17:51:15.455Z"
   },
   {
    "duration": 0,
    "start_time": "2023-11-14T17:51:15.455Z"
   },
   {
    "duration": 0,
    "start_time": "2023-11-14T17:51:15.456Z"
   },
   {
    "duration": 0,
    "start_time": "2023-11-14T17:51:15.457Z"
   },
   {
    "duration": 0,
    "start_time": "2023-11-14T17:51:15.459Z"
   },
   {
    "duration": 5280,
    "start_time": "2023-11-14T17:53:18.582Z"
   },
   {
    "duration": 2110,
    "start_time": "2023-11-14T17:53:23.866Z"
   },
   {
    "duration": 9,
    "start_time": "2023-11-14T17:53:25.977Z"
   },
   {
    "duration": 994,
    "start_time": "2023-11-14T17:53:25.988Z"
   },
   {
    "duration": 22,
    "start_time": "2023-11-14T17:53:26.984Z"
   },
   {
    "duration": 30,
    "start_time": "2023-11-14T17:53:27.008Z"
   },
   {
    "duration": 17,
    "start_time": "2023-11-14T17:53:27.040Z"
   },
   {
    "duration": 167,
    "start_time": "2023-11-14T17:53:27.060Z"
   },
   {
    "duration": 95,
    "start_time": "2023-11-14T17:53:27.229Z"
   },
   {
    "duration": 166,
    "start_time": "2023-11-14T17:53:27.328Z"
   },
   {
    "duration": 510,
    "start_time": "2023-11-14T17:53:27.496Z"
   },
   {
    "duration": 479,
    "start_time": "2023-11-14T17:53:28.007Z"
   },
   {
    "duration": 37,
    "start_time": "2023-11-14T17:53:28.487Z"
   },
   {
    "duration": 49,
    "start_time": "2023-11-14T17:53:28.525Z"
   },
   {
    "duration": 10,
    "start_time": "2023-11-14T17:53:28.575Z"
   },
   {
    "duration": 271,
    "start_time": "2023-11-14T17:53:28.587Z"
   },
   {
    "duration": 625,
    "start_time": "2023-11-14T17:53:28.859Z"
   },
   {
    "duration": 61698,
    "start_time": "2023-11-14T17:53:29.486Z"
   },
   {
    "duration": 3960,
    "start_time": "2023-11-14T17:54:31.186Z"
   },
   {
    "duration": 275,
    "start_time": "2023-11-14T17:54:35.149Z"
   },
   {
    "duration": 97,
    "start_time": "2023-11-14T17:54:35.425Z"
   },
   {
    "duration": 168,
    "start_time": "2023-11-14T17:54:35.523Z"
   },
   {
    "duration": 22,
    "start_time": "2023-11-14T17:54:35.693Z"
   },
   {
    "duration": 202,
    "start_time": "2023-11-14T17:54:35.717Z"
   },
   {
    "duration": 26,
    "start_time": "2023-11-14T17:54:35.921Z"
   },
   {
    "duration": 44,
    "start_time": "2023-11-14T17:54:35.949Z"
   },
   {
    "duration": 21,
    "start_time": "2023-11-14T17:54:35.995Z"
   },
   {
    "duration": 140,
    "start_time": "2023-11-14T17:54:36.038Z"
   },
   {
    "duration": 22,
    "start_time": "2023-11-14T17:54:36.180Z"
   },
   {
    "duration": 35,
    "start_time": "2023-11-14T17:54:36.204Z"
   },
   {
    "duration": 25,
    "start_time": "2023-11-14T17:54:36.240Z"
   },
   {
    "duration": 99,
    "start_time": "2023-11-14T17:54:36.267Z"
   },
   {
    "duration": 32,
    "start_time": "2023-11-14T17:54:36.368Z"
   },
   {
    "duration": 52,
    "start_time": "2023-11-14T17:54:36.401Z"
   },
   {
    "duration": 22,
    "start_time": "2023-11-14T17:54:36.455Z"
   },
   {
    "duration": 89,
    "start_time": "2023-11-14T17:54:36.479Z"
   },
   {
    "duration": 84,
    "start_time": "2023-11-14T17:54:36.570Z"
   },
   {
    "duration": 23,
    "start_time": "2023-11-14T17:54:36.655Z"
   },
   {
    "duration": 187,
    "start_time": "2023-11-14T17:54:36.679Z"
   },
   {
    "duration": 111,
    "start_time": "2023-11-14T17:54:36.868Z"
   },
   {
    "duration": 902,
    "start_time": "2023-11-14T17:54:36.981Z"
   },
   {
    "duration": 16,
    "start_time": "2023-11-14T17:54:37.884Z"
   },
   {
    "duration": 8,
    "start_time": "2023-11-14T17:54:37.902Z"
   },
   {
    "duration": 15985,
    "start_time": "2023-11-14T17:54:37.912Z"
   },
   {
    "duration": 539224,
    "start_time": "2023-11-14T17:54:53.898Z"
   },
   {
    "duration": 481225,
    "start_time": "2023-11-14T18:03:53.124Z"
   },
   {
    "duration": 333396,
    "start_time": "2023-11-14T18:11:54.350Z"
   },
   {
    "duration": 107095,
    "start_time": "2023-11-14T18:17:27.748Z"
   },
   {
    "duration": 3,
    "start_time": "2023-11-14T18:19:14.845Z"
   },
   {
    "duration": 235003,
    "start_time": "2023-11-14T18:19:14.849Z"
   },
   {
    "duration": 122,
    "start_time": "2023-11-14T18:23:09.854Z"
   },
   {
    "duration": 14158,
    "start_time": "2023-11-14T18:23:09.978Z"
   },
   {
    "duration": 9,
    "start_time": "2023-11-14T18:23:24.138Z"
   },
   {
    "duration": 10568,
    "start_time": "2023-11-15T08:53:25.652Z"
   },
   {
    "duration": 2201,
    "start_time": "2023-11-15T08:53:36.222Z"
   },
   {
    "duration": 9,
    "start_time": "2023-11-15T08:53:43.746Z"
   },
   {
    "duration": 1091,
    "start_time": "2023-11-15T08:53:45.078Z"
   },
   {
    "duration": 22,
    "start_time": "2023-11-15T08:53:46.170Z"
   },
   {
    "duration": 2,
    "start_time": "2023-11-15T08:53:46.943Z"
   },
   {
    "duration": 2,
    "start_time": "2023-11-15T08:53:47.586Z"
   },
   {
    "duration": 138,
    "start_time": "2023-11-15T08:53:48.397Z"
   },
   {
    "duration": 91,
    "start_time": "2023-11-15T08:53:48.999Z"
   },
   {
    "duration": 136,
    "start_time": "2023-11-15T08:53:49.688Z"
   },
   {
    "duration": 405,
    "start_time": "2023-11-15T08:53:50.137Z"
   },
   {
    "duration": 437,
    "start_time": "2023-11-15T08:53:54.585Z"
   },
   {
    "duration": 34,
    "start_time": "2023-11-15T08:53:55.714Z"
   },
   {
    "duration": 28,
    "start_time": "2023-11-15T08:53:56.984Z"
   },
   {
    "duration": 3,
    "start_time": "2023-11-15T08:53:58.996Z"
   },
   {
    "duration": 229,
    "start_time": "2023-11-15T08:53:59.395Z"
   },
   {
    "duration": 617,
    "start_time": "2023-11-15T08:53:59.982Z"
   },
   {
    "duration": 61107,
    "start_time": "2023-11-15T08:54:07.019Z"
   },
   {
    "duration": 3897,
    "start_time": "2023-11-15T08:55:08.128Z"
   },
   {
    "duration": 262,
    "start_time": "2023-11-15T08:55:12.027Z"
   },
   {
    "duration": 96,
    "start_time": "2023-11-15T08:55:12.291Z"
   },
   {
    "duration": 143,
    "start_time": "2023-11-15T08:55:12.388Z"
   },
   {
    "duration": 27,
    "start_time": "2023-11-15T08:55:12.533Z"
   },
   {
    "duration": 201,
    "start_time": "2023-11-15T08:55:12.561Z"
   },
   {
    "duration": 22,
    "start_time": "2023-11-15T08:55:12.763Z"
   },
   {
    "duration": 56,
    "start_time": "2023-11-15T08:55:12.786Z"
   },
   {
    "duration": 24,
    "start_time": "2023-11-15T08:55:12.845Z"
   },
   {
    "duration": 155,
    "start_time": "2023-11-15T08:55:12.871Z"
   },
   {
    "duration": 26,
    "start_time": "2023-11-15T08:55:13.028Z"
   },
   {
    "duration": 32,
    "start_time": "2023-11-15T08:55:13.055Z"
   },
   {
    "duration": 23,
    "start_time": "2023-11-15T08:55:13.089Z"
   },
   {
    "duration": 106,
    "start_time": "2023-11-15T08:55:13.113Z"
   },
   {
    "duration": 32,
    "start_time": "2023-11-15T08:58:03.820Z"
   },
   {
    "duration": 21,
    "start_time": "2023-11-15T08:59:04.454Z"
   },
   {
    "duration": 1050,
    "start_time": "2023-11-15T08:59:32.134Z"
   },
   {
    "duration": 7,
    "start_time": "2023-11-15T09:00:16.635Z"
   },
   {
    "duration": 11,
    "start_time": "2023-11-15T09:00:29.187Z"
   },
   {
    "duration": 74,
    "start_time": "2023-11-15T09:02:51.462Z"
   },
   {
    "duration": 79,
    "start_time": "2023-11-15T09:03:12.673Z"
   },
   {
    "duration": 16,
    "start_time": "2023-11-15T09:03:18.534Z"
   },
   {
    "duration": 101,
    "start_time": "2023-11-15T09:03:26.411Z"
   },
   {
    "duration": 106,
    "start_time": "2023-11-15T09:03:41.055Z"
   },
   {
    "duration": 11,
    "start_time": "2023-11-15T09:05:52.095Z"
   },
   {
    "duration": 8,
    "start_time": "2023-11-15T09:06:03.409Z"
   },
   {
    "duration": 72,
    "start_time": "2023-11-15T09:06:08.857Z"
   },
   {
    "duration": 10,
    "start_time": "2023-11-15T09:06:17.106Z"
   },
   {
    "duration": 17,
    "start_time": "2023-11-15T09:06:36.485Z"
   },
   {
    "duration": 23,
    "start_time": "2023-11-15T09:09:40.826Z"
   },
   {
    "duration": 11,
    "start_time": "2023-11-15T09:12:22.585Z"
   },
   {
    "duration": 23,
    "start_time": "2023-11-15T09:12:34.329Z"
   },
   {
    "duration": 24,
    "start_time": "2023-11-15T09:12:37.975Z"
   },
   {
    "duration": 90,
    "start_time": "2023-11-15T09:12:40.029Z"
   },
   {
    "duration": 70,
    "start_time": "2023-11-15T09:12:46.236Z"
   },
   {
    "duration": 22,
    "start_time": "2023-11-15T09:12:48.058Z"
   },
   {
    "duration": 171,
    "start_time": "2023-11-15T09:12:49.279Z"
   },
   {
    "duration": 88,
    "start_time": "2023-11-15T09:12:51.006Z"
   },
   {
    "duration": 861,
    "start_time": "2023-11-15T09:13:03.299Z"
   },
   {
    "duration": 18,
    "start_time": "2023-11-15T09:13:04.162Z"
   },
   {
    "duration": 58,
    "start_time": "2023-11-15T09:13:36.542Z"
   },
   {
    "duration": 142,
    "start_time": "2023-11-15T09:13:38.318Z"
   },
   {
    "duration": 21,
    "start_time": "2023-11-15T09:13:39.747Z"
   },
   {
    "duration": 16,
    "start_time": "2023-11-15T09:13:53.878Z"
   },
   {
    "duration": 24,
    "start_time": "2023-11-15T09:14:01.494Z"
   },
   {
    "duration": 14,
    "start_time": "2023-11-15T09:14:24.587Z"
   },
   {
    "duration": 14183,
    "start_time": "2023-11-15T09:14:34.270Z"
   },
   {
    "duration": 551964,
    "start_time": "2023-11-15T09:22:05.791Z"
   },
   {
    "duration": 335200,
    "start_time": "2023-11-15T09:31:17.757Z"
   },
   {
    "duration": 5002,
    "start_time": "2023-11-15T09:48:53.604Z"
   },
   {
    "duration": 2126,
    "start_time": "2023-11-15T09:48:58.608Z"
   },
   {
    "duration": 8,
    "start_time": "2023-11-15T09:49:00.736Z"
   },
   {
    "duration": 949,
    "start_time": "2023-11-15T09:49:00.746Z"
   },
   {
    "duration": 22,
    "start_time": "2023-11-15T09:49:01.697Z"
   },
   {
    "duration": 33,
    "start_time": "2023-11-15T09:49:01.720Z"
   },
   {
    "duration": 31,
    "start_time": "2023-11-15T09:49:01.755Z"
   },
   {
    "duration": 165,
    "start_time": "2023-11-15T09:49:01.788Z"
   },
   {
    "duration": 88,
    "start_time": "2023-11-15T09:49:01.955Z"
   },
   {
    "duration": 143,
    "start_time": "2023-11-15T09:49:02.045Z"
   },
   {
    "duration": 449,
    "start_time": "2023-11-15T09:49:02.189Z"
   },
   {
    "duration": 486,
    "start_time": "2023-11-15T09:49:02.640Z"
   },
   {
    "duration": 39,
    "start_time": "2023-11-15T09:49:03.127Z"
   },
   {
    "duration": 33,
    "start_time": "2023-11-15T09:49:03.168Z"
   },
   {
    "duration": 3,
    "start_time": "2023-11-15T09:49:03.202Z"
   },
   {
    "duration": 235,
    "start_time": "2023-11-15T09:49:03.207Z"
   },
   {
    "duration": 597,
    "start_time": "2023-11-15T09:49:03.444Z"
   },
   {
    "duration": 60072,
    "start_time": "2023-11-15T09:49:04.042Z"
   },
   {
    "duration": 3876,
    "start_time": "2023-11-15T09:50:04.116Z"
   },
   {
    "duration": 262,
    "start_time": "2023-11-15T09:50:07.993Z"
   },
   {
    "duration": 97,
    "start_time": "2023-11-15T09:50:08.257Z"
   },
   {
    "duration": 147,
    "start_time": "2023-11-15T09:50:08.356Z"
   },
   {
    "duration": 21,
    "start_time": "2023-11-15T09:50:08.505Z"
   },
   {
    "duration": 215,
    "start_time": "2023-11-15T09:50:08.527Z"
   },
   {
    "duration": 21,
    "start_time": "2023-11-15T09:50:08.744Z"
   },
   {
    "duration": 62,
    "start_time": "2023-11-15T09:50:08.766Z"
   },
   {
    "duration": 30,
    "start_time": "2023-11-15T09:50:08.830Z"
   },
   {
    "duration": 138,
    "start_time": "2023-11-15T09:50:08.864Z"
   },
   {
    "duration": 21,
    "start_time": "2023-11-15T09:50:09.003Z"
   },
   {
    "duration": 29,
    "start_time": "2023-11-15T09:50:09.025Z"
   },
   {
    "duration": 22,
    "start_time": "2023-11-15T09:50:09.056Z"
   },
   {
    "duration": 98,
    "start_time": "2023-11-15T09:50:09.079Z"
   },
   {
    "duration": 38,
    "start_time": "2023-11-15T09:50:09.179Z"
   },
   {
    "duration": 11,
    "start_time": "2023-11-15T09:50:09.218Z"
   },
   {
    "duration": 24,
    "start_time": "2023-11-15T09:50:09.230Z"
   },
   {
    "duration": 32,
    "start_time": "2023-11-15T09:50:09.255Z"
   },
   {
    "duration": 21,
    "start_time": "2023-11-15T09:50:09.289Z"
   },
   {
    "duration": 109,
    "start_time": "2023-11-15T09:50:09.312Z"
   },
   {
    "duration": 93,
    "start_time": "2023-11-15T09:50:09.423Z"
   },
   {
    "duration": 34,
    "start_time": "2023-11-15T09:50:09.518Z"
   },
   {
    "duration": 176,
    "start_time": "2023-11-15T09:50:09.553Z"
   },
   {
    "duration": 79,
    "start_time": "2023-11-15T09:50:09.730Z"
   },
   {
    "duration": 772,
    "start_time": "2023-11-15T09:50:09.811Z"
   },
   {
    "duration": 15,
    "start_time": "2023-11-15T09:50:10.585Z"
   },
   {
    "duration": 10,
    "start_time": "2023-11-15T09:50:10.602Z"
   },
   {
    "duration": 13002,
    "start_time": "2023-11-15T09:50:10.614Z"
   },
   {
    "duration": 767988,
    "start_time": "2023-11-15T09:50:23.617Z"
   },
   {
    "duration": 1260443,
    "start_time": "2023-11-15T10:03:11.606Z"
   },
   {
    "duration": 196508,
    "start_time": "2023-11-15T10:24:12.051Z"
   },
   {
    "duration": 5359,
    "start_time": "2023-11-15T11:18:25.363Z"
   },
   {
    "duration": 3430,
    "start_time": "2023-11-15T11:18:30.725Z"
   },
   {
    "duration": 10,
    "start_time": "2023-11-15T11:18:34.157Z"
   },
   {
    "duration": 963,
    "start_time": "2023-11-15T11:18:34.170Z"
   },
   {
    "duration": 35,
    "start_time": "2023-11-15T11:18:35.135Z"
   },
   {
    "duration": 3,
    "start_time": "2023-11-15T11:18:35.173Z"
   },
   {
    "duration": 4,
    "start_time": "2023-11-15T11:18:35.178Z"
   },
   {
    "duration": 171,
    "start_time": "2023-11-15T11:18:35.183Z"
   },
   {
    "duration": 106,
    "start_time": "2023-11-15T11:18:35.356Z"
   },
   {
    "duration": 162,
    "start_time": "2023-11-15T11:18:35.465Z"
   },
   {
    "duration": 574,
    "start_time": "2023-11-15T11:18:35.629Z"
   },
   {
    "duration": 678,
    "start_time": "2023-11-15T11:18:36.205Z"
   },
   {
    "duration": 40,
    "start_time": "2023-11-15T11:18:36.885Z"
   },
   {
    "duration": 40,
    "start_time": "2023-11-15T11:18:36.926Z"
   },
   {
    "duration": 33,
    "start_time": "2023-11-15T11:18:36.968Z"
   },
   {
    "duration": 258,
    "start_time": "2023-11-15T11:18:37.003Z"
   },
   {
    "duration": 662,
    "start_time": "2023-11-15T11:18:37.262Z"
   },
   {
    "duration": 64462,
    "start_time": "2023-11-15T11:18:37.926Z"
   },
   {
    "duration": 4240,
    "start_time": "2023-11-15T11:19:42.411Z"
   },
   {
    "duration": 286,
    "start_time": "2023-11-15T11:19:46.653Z"
   },
   {
    "duration": 91,
    "start_time": "2023-11-15T11:19:46.942Z"
   },
   {
    "duration": 148,
    "start_time": "2023-11-15T11:19:47.043Z"
   },
   {
    "duration": 22,
    "start_time": "2023-11-15T11:19:47.193Z"
   },
   {
    "duration": 226,
    "start_time": "2023-11-15T11:19:47.217Z"
   },
   {
    "duration": 21,
    "start_time": "2023-11-15T11:19:47.445Z"
   },
   {
    "duration": 49,
    "start_time": "2023-11-15T11:19:47.468Z"
   },
   {
    "duration": 29,
    "start_time": "2023-11-15T11:19:47.519Z"
   },
   {
    "duration": 141,
    "start_time": "2023-11-15T11:19:47.552Z"
   },
   {
    "duration": 21,
    "start_time": "2023-11-15T11:19:47.695Z"
   },
   {
    "duration": 37,
    "start_time": "2023-11-15T11:19:47.718Z"
   },
   {
    "duration": 24,
    "start_time": "2023-11-15T11:19:47.757Z"
   },
   {
    "duration": 111,
    "start_time": "2023-11-15T11:19:47.782Z"
   },
   {
    "duration": 39,
    "start_time": "2023-11-15T11:19:47.895Z"
   },
   {
    "duration": 12,
    "start_time": "2023-11-15T11:19:47.942Z"
   },
   {
    "duration": 18,
    "start_time": "2023-11-15T11:19:47.956Z"
   },
   {
    "duration": 35,
    "start_time": "2023-11-15T11:19:47.975Z"
   },
   {
    "duration": 51,
    "start_time": "2023-11-15T11:19:48.012Z"
   },
   {
    "duration": 92,
    "start_time": "2023-11-15T11:19:48.064Z"
   },
   {
    "duration": 89,
    "start_time": "2023-11-15T11:19:48.158Z"
   },
   {
    "duration": 25,
    "start_time": "2023-11-15T11:19:48.249Z"
   },
   {
    "duration": 215,
    "start_time": "2023-11-15T11:19:48.275Z"
   },
   {
    "duration": 82,
    "start_time": "2023-11-15T11:19:48.492Z"
   },
   {
    "duration": 847,
    "start_time": "2023-11-15T11:19:48.575Z"
   },
   {
    "duration": 22,
    "start_time": "2023-11-15T11:19:49.424Z"
   },
   {
    "duration": 9,
    "start_time": "2023-11-15T11:19:49.448Z"
   },
   {
    "duration": 15455,
    "start_time": "2023-11-15T11:19:49.459Z"
   },
   {
    "duration": 720577,
    "start_time": "2023-11-15T11:20:04.916Z"
   },
   {
    "duration": 1692537,
    "start_time": "2023-11-15T11:32:05.494Z"
   },
   {
    "duration": 64853,
    "start_time": "2023-11-15T12:00:18.034Z"
   },
   {
    "duration": 5187,
    "start_time": "2023-11-15T12:05:04.007Z"
   },
   {
    "duration": 6,
    "start_time": "2023-11-15T12:05:32.691Z"
   },
   {
    "duration": 7,
    "start_time": "2023-11-15T12:05:33.707Z"
   },
   {
    "duration": 858,
    "start_time": "2023-11-15T12:05:34.768Z"
   },
   {
    "duration": 21,
    "start_time": "2023-11-15T12:05:35.629Z"
   },
   {
    "duration": 26,
    "start_time": "2023-11-15T12:05:35.652Z"
   },
   {
    "duration": 3,
    "start_time": "2023-11-15T12:05:35.702Z"
   },
   {
    "duration": 149,
    "start_time": "2023-11-15T12:05:36.422Z"
   },
   {
    "duration": 94,
    "start_time": "2023-11-15T12:05:36.669Z"
   },
   {
    "duration": 144,
    "start_time": "2023-11-15T12:05:36.939Z"
   },
   {
    "duration": 455,
    "start_time": "2023-11-15T12:05:37.325Z"
   },
   {
    "duration": 449,
    "start_time": "2023-11-15T12:05:40.064Z"
   },
   {
    "duration": 30,
    "start_time": "2023-11-15T12:05:40.515Z"
   },
   {
    "duration": 34,
    "start_time": "2023-11-15T12:05:41.423Z"
   },
   {
    "duration": 4,
    "start_time": "2023-11-15T12:05:46.279Z"
   },
   {
    "duration": 249,
    "start_time": "2023-11-15T12:05:46.583Z"
   },
   {
    "duration": 539,
    "start_time": "2023-11-15T12:05:47.609Z"
   },
   {
    "duration": 66987,
    "start_time": "2023-11-15T12:05:49.076Z"
   },
   {
    "duration": 4089,
    "start_time": "2023-11-15T12:06:56.064Z"
   },
   {
    "duration": 281,
    "start_time": "2023-11-15T12:07:00.155Z"
   },
   {
    "duration": 100,
    "start_time": "2023-11-15T12:07:00.443Z"
   },
   {
    "duration": 174,
    "start_time": "2023-11-15T12:07:00.545Z"
   },
   {
    "duration": 30,
    "start_time": "2023-11-15T12:07:00.721Z"
   },
   {
    "duration": 319,
    "start_time": "2023-11-15T12:07:00.753Z"
   },
   {
    "duration": 23,
    "start_time": "2023-11-15T12:07:01.074Z"
   },
   {
    "duration": 97,
    "start_time": "2023-11-15T12:07:01.099Z"
   },
   {
    "duration": 33,
    "start_time": "2023-11-15T12:07:01.200Z"
   },
   {
    "duration": 168,
    "start_time": "2023-11-15T12:07:01.234Z"
   },
   {
    "duration": 113,
    "start_time": "2023-11-15T12:07:01.403Z"
   },
   {
    "duration": 59,
    "start_time": "2023-11-15T12:07:01.518Z"
   },
   {
    "duration": 58,
    "start_time": "2023-11-15T12:07:01.579Z"
   },
   {
    "duration": 103,
    "start_time": "2023-11-15T12:07:01.639Z"
   },
   {
    "duration": 57,
    "start_time": "2023-11-15T12:07:01.744Z"
   },
   {
    "duration": 11,
    "start_time": "2023-11-15T12:07:01.803Z"
   },
   {
    "duration": 41,
    "start_time": "2023-11-15T12:07:01.816Z"
   },
   {
    "duration": 57,
    "start_time": "2023-11-15T12:07:01.858Z"
   },
   {
    "duration": 58,
    "start_time": "2023-11-15T12:07:01.916Z"
   },
   {
    "duration": 88,
    "start_time": "2023-11-15T12:07:01.975Z"
   },
   {
    "duration": 94,
    "start_time": "2023-11-15T12:07:32.552Z"
   },
   {
    "duration": 22,
    "start_time": "2023-11-15T12:07:33.204Z"
   },
   {
    "duration": 215,
    "start_time": "2023-11-15T12:07:33.469Z"
   },
   {
    "duration": 72,
    "start_time": "2023-11-15T12:07:34.057Z"
   },
   {
    "duration": 827,
    "start_time": "2023-11-15T12:07:39.515Z"
   },
   {
    "duration": 17,
    "start_time": "2023-11-15T12:07:40.344Z"
   },
   {
    "duration": 13,
    "start_time": "2023-11-15T12:07:44.622Z"
   },
   {
    "duration": 13959,
    "start_time": "2023-11-15T12:07:46.627Z"
   },
   {
    "duration": 600739,
    "start_time": "2023-11-15T12:08:10.488Z"
   },
   {
    "duration": 239159,
    "start_time": "2023-11-15T12:18:31.166Z"
   },
   {
    "duration": 12,
    "start_time": "2023-11-15T12:22:43.900Z"
   },
   {
    "duration": 524636,
    "start_time": "2023-11-15T12:23:26.320Z"
   },
   {
    "duration": 8,
    "start_time": "2023-11-15T12:32:16.570Z"
   },
   {
    "duration": 119612,
    "start_time": "2023-11-15T12:32:21.155Z"
   },
   {
    "duration": 4,
    "start_time": "2023-11-15T12:36:24.036Z"
   },
   {
    "duration": 4,
    "start_time": "2023-11-15T12:36:44.610Z"
   },
   {
    "duration": 23,
    "start_time": "2023-11-15T12:37:00.012Z"
   },
   {
    "duration": 5,
    "start_time": "2023-11-15T12:37:15.679Z"
   },
   {
    "duration": 4,
    "start_time": "2023-11-15T12:37:30.477Z"
   },
   {
    "duration": 3,
    "start_time": "2023-11-15T12:37:33.544Z"
   },
   {
    "duration": 1327189,
    "start_time": "2023-11-15T12:37:34.769Z"
   },
   {
    "duration": 5251,
    "start_time": "2023-11-15T13:29:37.940Z"
   },
   {
    "duration": 2188,
    "start_time": "2023-11-15T13:29:43.194Z"
   },
   {
    "duration": 9,
    "start_time": "2023-11-15T13:29:45.383Z"
   },
   {
    "duration": 957,
    "start_time": "2023-11-15T13:29:45.394Z"
   },
   {
    "duration": 24,
    "start_time": "2023-11-15T13:29:46.353Z"
   },
   {
    "duration": 3,
    "start_time": "2023-11-15T13:29:46.379Z"
   },
   {
    "duration": 10,
    "start_time": "2023-11-15T13:29:46.384Z"
   },
   {
    "duration": 191,
    "start_time": "2023-11-15T13:29:46.396Z"
   },
   {
    "duration": 96,
    "start_time": "2023-11-15T13:29:46.588Z"
   },
   {
    "duration": 147,
    "start_time": "2023-11-15T13:29:46.686Z"
   },
   {
    "duration": 458,
    "start_time": "2023-11-15T13:29:46.843Z"
   },
   {
    "duration": 535,
    "start_time": "2023-11-15T13:29:47.303Z"
   },
   {
    "duration": 39,
    "start_time": "2023-11-15T13:29:47.840Z"
   },
   {
    "duration": 58,
    "start_time": "2023-11-15T13:29:47.881Z"
   },
   {
    "duration": 14,
    "start_time": "2023-11-15T13:29:47.940Z"
   },
   {
    "duration": 250,
    "start_time": "2023-11-15T13:29:47.955Z"
   },
   {
    "duration": 610,
    "start_time": "2023-11-15T13:29:48.207Z"
   },
   {
    "duration": 64552,
    "start_time": "2023-11-15T13:29:48.818Z"
   },
   {
    "duration": 4120,
    "start_time": "2023-11-15T13:30:53.372Z"
   },
   {
    "duration": 287,
    "start_time": "2023-11-15T13:30:57.494Z"
   },
   {
    "duration": 119,
    "start_time": "2023-11-15T13:30:57.784Z"
   },
   {
    "duration": 166,
    "start_time": "2023-11-15T13:30:57.905Z"
   },
   {
    "duration": 23,
    "start_time": "2023-11-15T13:30:58.074Z"
   },
   {
    "duration": 218,
    "start_time": "2023-11-15T13:30:58.099Z"
   },
   {
    "duration": 27,
    "start_time": "2023-11-15T13:30:58.319Z"
   },
   {
    "duration": 41,
    "start_time": "2023-11-15T13:30:58.347Z"
   },
   {
    "duration": 23,
    "start_time": "2023-11-15T13:30:58.390Z"
   },
   {
    "duration": 144,
    "start_time": "2023-11-15T13:30:58.444Z"
   },
   {
    "duration": 22,
    "start_time": "2023-11-15T13:30:58.589Z"
   },
   {
    "duration": 35,
    "start_time": "2023-11-15T13:30:58.613Z"
   },
   {
    "duration": 29,
    "start_time": "2023-11-15T13:30:58.650Z"
   },
   {
    "duration": 116,
    "start_time": "2023-11-15T13:30:58.681Z"
   },
   {
    "duration": 48,
    "start_time": "2023-11-15T13:30:58.799Z"
   },
   {
    "duration": 12,
    "start_time": "2023-11-15T13:30:58.849Z"
   },
   {
    "duration": 20,
    "start_time": "2023-11-15T13:30:58.862Z"
   },
   {
    "duration": 34,
    "start_time": "2023-11-15T13:30:58.883Z"
   },
   {
    "duration": 67,
    "start_time": "2023-11-15T13:30:58.918Z"
   },
   {
    "duration": 127,
    "start_time": "2023-11-15T13:30:58.987Z"
   },
   {
    "duration": 87,
    "start_time": "2023-11-15T13:30:59.115Z"
   },
   {
    "duration": 24,
    "start_time": "2023-11-15T13:30:59.204Z"
   },
   {
    "duration": 187,
    "start_time": "2023-11-15T13:30:59.241Z"
   },
   {
    "duration": 74,
    "start_time": "2023-11-15T13:30:59.430Z"
   },
   {
    "duration": 861,
    "start_time": "2023-11-15T13:30:59.506Z"
   },
   {
    "duration": 18,
    "start_time": "2023-11-15T13:31:00.368Z"
   },
   {
    "duration": 42,
    "start_time": "2023-11-15T13:31:00.388Z"
   },
   {
    "duration": 21744,
    "start_time": "2023-11-15T13:31:00.432Z"
   },
   {
    "duration": 703144,
    "start_time": "2023-11-15T13:31:22.178Z"
   },
   {
    "duration": 3,
    "start_time": "2023-11-15T13:43:05.323Z"
   },
   {
    "duration": 8,
    "start_time": "2023-11-15T13:43:05.328Z"
   },
   {
    "duration": 7,
    "start_time": "2023-11-15T13:43:05.338Z"
   },
   {
    "duration": 4,
    "start_time": "2023-11-15T13:43:05.346Z"
   }
  ],
  "kernelspec": {
   "display_name": "Python 3 (ipykernel)",
   "language": "python",
   "name": "python3"
  },
  "language_info": {
   "codemirror_mode": {
    "name": "ipython",
    "version": 3
   },
   "file_extension": ".py",
   "mimetype": "text/x-python",
   "name": "python",
   "nbconvert_exporter": "python",
   "pygments_lexer": "ipython3",
   "version": "3.11.0"
  },
  "toc": {
   "base_numbering": 1,
   "nav_menu": {},
   "number_sections": true,
   "sideBar": true,
   "skip_h1_title": true,
   "title_cell": "Table of Contents",
   "title_sidebar": "Contents",
   "toc_cell": false,
   "toc_position": {
    "height": "calc(100% - 180px)",
    "left": "10px",
    "top": "150px",
    "width": "312px"
   },
   "toc_section_display": true,
   "toc_window_display": true
  }
 },
 "nbformat": 4,
 "nbformat_minor": 4
}
